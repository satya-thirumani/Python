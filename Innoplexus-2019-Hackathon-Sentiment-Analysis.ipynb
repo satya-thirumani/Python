{
  "nbformat": 4,
  "nbformat_minor": 0,
  "metadata": {
    "kernelspec": {
      "display_name": "Python 3",
      "language": "python",
      "name": "python3"
    },
    "language_info": {
      "name": "python",
      "version": "3.6.4",
      "mimetype": "text/x-python",
      "codemirror_mode": {
        "name": "ipython",
        "version": 3
      },
      "pygments_lexer": "ipython3",
      "nbconvert_exporter": "python",
      "file_extension": ".py"
    },
    "colab": {
      "name": "Innoplexus 2019.ipynb",
      "version": "0.3.2",
      "provenance": [],
      "collapsed_sections": []
    }
  },
  "cells": [
    {
      "cell_type": "markdown",
      "metadata": {
        "id": "XPMx5Xe29QlR",
        "colab_type": "text"
      },
      "source": [
        "# **Analytics Vidhya Innoplexus Hackathon 2019**\n",
        "\n",
        "Sentiment Analysis in Python with sklearn package\n",
        "\n",
        "# https://satya-python.blogspot.com/\n",
        "\n",
        "Jupyter Notebook in Google Colab\n"
      ]
    },
    {
      "cell_type": "code",
      "metadata": {
        "_uuid": "8f2839f25d086af736a60e9eeb907d3b93b6e0e5",
        "_cell_guid": "b1076dfc-b9ad-4769-8c92-a6c4dae69d19",
        "trusted": true,
        "id": "A-Xk_PcKcjwk",
        "colab_type": "code",
        "colab": {}
      },
      "source": [
        "#Importing required packages\n",
        "import numpy as np\n",
        "import pandas as pd\n",
        "import seaborn as sns\n",
        "import re\n",
        "\n",
        "from sklearn.model_selection import train_test_split\n",
        "from sklearn.svm import SVC\n",
        "from sklearn import metrics\n",
        "from sklearn.metrics import accuracy_score\n",
        "from sklearn.feature_extraction.text import CountVectorizer, TfidfVectorizer, HashingVectorizer, TfidfTransformer\n",
        "from sklearn.model_selection import GridSearchCV\n",
        "\n",
        "from google.colab import files\n",
        "\n",
        "import warnings\n",
        "warnings.filterwarnings('ignore')"
      ],
      "execution_count": 0,
      "outputs": []
    },
    {
      "cell_type": "markdown",
      "metadata": {
        "id": "bc_HR-8fSWBB",
        "colab_type": "text"
      },
      "source": [
        "## Reading Data"
      ]
    },
    {
      "cell_type": "code",
      "metadata": {
        "_cell_guid": "79c7e3d0-c299-4dcb-8224-4455121ee9b0",
        "_uuid": "d629ff2d2480ee46fbb7e2d37f6b5fab8052498a",
        "trusted": true,
        "id": "C6XbBMfGcjwn",
        "colab_type": "code",
        "colab": {}
      },
      "source": [
        "train = pd.read_csv(\"train.csv\")\n",
        "test = pd.read_csv(\"test.csv\")"
      ],
      "execution_count": 0,
      "outputs": []
    },
    {
      "cell_type": "markdown",
      "metadata": {
        "id": "IQgANrYFsXM8",
        "colab_type": "text"
      },
      "source": [
        "## EDA - Exploratory Data Analysis"
      ]
    },
    {
      "cell_type": "code",
      "metadata": {
        "id": "wdxBIu05g_Gd",
        "colab_type": "code",
        "outputId": "88225156-0399-4a41-b58a-62d2846e1a2b",
        "colab": {
          "base_uri": "https://localhost:8080/",
          "height": 170
        }
      },
      "source": [
        "train.info()"
      ],
      "execution_count": 5,
      "outputs": [
        {
          "output_type": "stream",
          "text": [
            "<class 'pandas.core.frame.DataFrame'>\n",
            "RangeIndex: 5279 entries, 0 to 5278\n",
            "Data columns (total 4 columns):\n",
            "unique_hash    5279 non-null object\n",
            "text           5279 non-null object\n",
            "drug           5279 non-null object\n",
            "sentiment      5279 non-null int64\n",
            "dtypes: int64(1), object(3)\n",
            "memory usage: 165.0+ KB\n"
          ],
          "name": "stdout"
        }
      ]
    },
    {
      "cell_type": "code",
      "metadata": {
        "trusted": true,
        "id": "oo14gnaBcjwp",
        "colab_type": "code",
        "outputId": "e6e6eb46-3020-4b34-868f-6db67ce8b36b",
        "colab": {
          "base_uri": "https://localhost:8080/",
          "height": 359
        }
      },
      "source": [
        "train.head(10)"
      ],
      "execution_count": 6,
      "outputs": [
        {
          "output_type": "execute_result",
          "data": {
            "text/html": [
              "<div>\n",
              "<style scoped>\n",
              "    .dataframe tbody tr th:only-of-type {\n",
              "        vertical-align: middle;\n",
              "    }\n",
              "\n",
              "    .dataframe tbody tr th {\n",
              "        vertical-align: top;\n",
              "    }\n",
              "\n",
              "    .dataframe thead th {\n",
              "        text-align: right;\n",
              "    }\n",
              "</style>\n",
              "<table border=\"1\" class=\"dataframe\">\n",
              "  <thead>\n",
              "    <tr style=\"text-align: right;\">\n",
              "      <th></th>\n",
              "      <th>unique_hash</th>\n",
              "      <th>text</th>\n",
              "      <th>drug</th>\n",
              "      <th>sentiment</th>\n",
              "    </tr>\n",
              "  </thead>\n",
              "  <tbody>\n",
              "    <tr>\n",
              "      <th>0</th>\n",
              "      <td>2e180be4c9214c1f5ab51fd8cc32bc80c9f612e0</td>\n",
              "      <td>Autoimmune diseases tend to come in clusters. ...</td>\n",
              "      <td>gilenya</td>\n",
              "      <td>2</td>\n",
              "    </tr>\n",
              "    <tr>\n",
              "      <th>1</th>\n",
              "      <td>9eba8f80e7e20f3a2f48685530748fbfa95943e4</td>\n",
              "      <td>I can completely understand why you’d want to ...</td>\n",
              "      <td>gilenya</td>\n",
              "      <td>2</td>\n",
              "    </tr>\n",
              "    <tr>\n",
              "      <th>2</th>\n",
              "      <td>fe809672251f6bd0d986e00380f48d047c7e7b76</td>\n",
              "      <td>Interesting that it only targets S1P-1/5 recep...</td>\n",
              "      <td>fingolimod</td>\n",
              "      <td>2</td>\n",
              "    </tr>\n",
              "    <tr>\n",
              "      <th>3</th>\n",
              "      <td>bd22104dfa9ec80db4099523e03fae7a52735eb6</td>\n",
              "      <td>Very interesting, grand merci. Now I wonder wh...</td>\n",
              "      <td>ocrevus</td>\n",
              "      <td>2</td>\n",
              "    </tr>\n",
              "    <tr>\n",
              "      <th>4</th>\n",
              "      <td>b227688381f9b25e5b65109dd00f7f895e838249</td>\n",
              "      <td>Hi everybody, My latest MRI results for Brain ...</td>\n",
              "      <td>gilenya</td>\n",
              "      <td>1</td>\n",
              "    </tr>\n",
              "    <tr>\n",
              "      <th>5</th>\n",
              "      <td>a043780c757966243779bf3c0d11bf6eef721971</td>\n",
              "      <td>I can’t give you advice about Lemtrada because...</td>\n",
              "      <td>cladribine</td>\n",
              "      <td>2</td>\n",
              "    </tr>\n",
              "    <tr>\n",
              "      <th>6</th>\n",
              "      <td>be5a13376933a7f9bbf8e801c31691092f63260a</td>\n",
              "      <td>Reply posted for JessZidek. Hi Jess Sorry to r...</td>\n",
              "      <td>humira</td>\n",
              "      <td>0</td>\n",
              "    </tr>\n",
              "    <tr>\n",
              "      <th>7</th>\n",
              "      <td>08c3c0c702fc97d290204b37798ac62005da5626</td>\n",
              "      <td>Well as expected my Neurologist wants me to st...</td>\n",
              "      <td>gilenya</td>\n",
              "      <td>2</td>\n",
              "    </tr>\n",
              "    <tr>\n",
              "      <th>8</th>\n",
              "      <td>8fd3d7ad80791c9343e5cf8a83bd1adf6577d516</td>\n",
              "      <td>Why do you think that FIngolimod was such a mi...</td>\n",
              "      <td>fingolimod</td>\n",
              "      <td>1</td>\n",
              "    </tr>\n",
              "    <tr>\n",
              "      <th>9</th>\n",
              "      <td>793c5af7cc8332df17eb602247d886fbd1c80f89</td>\n",
              "      <td>Thank you so much…I’m learning a lot here at G...</td>\n",
              "      <td>tagrisso</td>\n",
              "      <td>2</td>\n",
              "    </tr>\n",
              "  </tbody>\n",
              "</table>\n",
              "</div>"
            ],
            "text/plain": [
              "                                unique_hash  ... sentiment\n",
              "0  2e180be4c9214c1f5ab51fd8cc32bc80c9f612e0  ...         2\n",
              "1  9eba8f80e7e20f3a2f48685530748fbfa95943e4  ...         2\n",
              "2  fe809672251f6bd0d986e00380f48d047c7e7b76  ...         2\n",
              "3  bd22104dfa9ec80db4099523e03fae7a52735eb6  ...         2\n",
              "4  b227688381f9b25e5b65109dd00f7f895e838249  ...         1\n",
              "5  a043780c757966243779bf3c0d11bf6eef721971  ...         2\n",
              "6  be5a13376933a7f9bbf8e801c31691092f63260a  ...         0\n",
              "7  08c3c0c702fc97d290204b37798ac62005da5626  ...         2\n",
              "8  8fd3d7ad80791c9343e5cf8a83bd1adf6577d516  ...         1\n",
              "9  793c5af7cc8332df17eb602247d886fbd1c80f89  ...         2\n",
              "\n",
              "[10 rows x 4 columns]"
            ]
          },
          "metadata": {
            "tags": []
          },
          "execution_count": 6
        }
      ]
    },
    {
      "cell_type": "code",
      "metadata": {
        "id": "d0hPPosmTpYM",
        "colab_type": "code",
        "colab": {
          "base_uri": "https://localhost:8080/",
          "height": 102
        },
        "outputId": "8644820a-a1de-4f29-8f05-80b2d7d3167c"
      },
      "source": [
        "#Checking for NULL/missing values\n",
        "train.isnull().sum()"
      ],
      "execution_count": 7,
      "outputs": [
        {
          "output_type": "execute_result",
          "data": {
            "text/plain": [
              "unique_hash    0\n",
              "text           0\n",
              "drug           0\n",
              "sentiment      0\n",
              "dtype: int64"
            ]
          },
          "metadata": {
            "tags": []
          },
          "execution_count": 7
        }
      ]
    },
    {
      "cell_type": "code",
      "metadata": {
        "id": "vwkgyReVqdYR",
        "colab_type": "code",
        "colab": {}
      },
      "source": [
        "train['text_length'] = train['text'].apply(len)\n",
        "train['text'] = train['text'].map(lambda x: re.sub('\\\\n',' ',str(x)))\n",
        "train['text'] = train['text'].map(lambda x: re.sub(r'\\W',' ',str(x)))\n",
        "train['text'] = train['text'].map(lambda x: re.sub(r'\\s+[a-zA-Z]\\s+',' ',str(x)))\n",
        "train['text'] = train['text'].map(lambda x: re.sub(r'\\^[a-zA-Z]\\s+',' ',str(x)))\n",
        "train['text'] = train['text'].map(lambda x: re.sub(r'\\s+',' ',str(x)))\n",
        "train['text'] = train['text'].str.lower()"
      ],
      "execution_count": 0,
      "outputs": []
    },
    {
      "cell_type": "code",
      "metadata": {
        "id": "gTilXyOyIvPx",
        "colab_type": "code",
        "outputId": "8b91a552-b033-403f-9e06-d7d41f882141",
        "colab": {
          "base_uri": "https://localhost:8080/",
          "height": 187
        }
      },
      "source": [
        "#train = train[train.text_length < 40000]\n",
        "train.info()"
      ],
      "execution_count": 9,
      "outputs": [
        {
          "output_type": "stream",
          "text": [
            "<class 'pandas.core.frame.DataFrame'>\n",
            "RangeIndex: 5279 entries, 0 to 5278\n",
            "Data columns (total 5 columns):\n",
            "unique_hash    5279 non-null object\n",
            "text           5279 non-null object\n",
            "drug           5279 non-null object\n",
            "sentiment      5279 non-null int64\n",
            "text_length    5279 non-null int64\n",
            "dtypes: int64(2), object(3)\n",
            "memory usage: 206.3+ KB\n"
          ],
          "name": "stdout"
        }
      ]
    },
    {
      "cell_type": "code",
      "metadata": {
        "id": "nOFVjVA9DdAU",
        "colab_type": "code",
        "outputId": "96e1f6d6-542a-4549-a855-ad78e9d6f480",
        "colab": {
          "base_uri": "https://localhost:8080/",
          "height": 359
        }
      },
      "source": [
        "train.head(10)"
      ],
      "execution_count": 10,
      "outputs": [
        {
          "output_type": "execute_result",
          "data": {
            "text/html": [
              "<div>\n",
              "<style scoped>\n",
              "    .dataframe tbody tr th:only-of-type {\n",
              "        vertical-align: middle;\n",
              "    }\n",
              "\n",
              "    .dataframe tbody tr th {\n",
              "        vertical-align: top;\n",
              "    }\n",
              "\n",
              "    .dataframe thead th {\n",
              "        text-align: right;\n",
              "    }\n",
              "</style>\n",
              "<table border=\"1\" class=\"dataframe\">\n",
              "  <thead>\n",
              "    <tr style=\"text-align: right;\">\n",
              "      <th></th>\n",
              "      <th>unique_hash</th>\n",
              "      <th>text</th>\n",
              "      <th>drug</th>\n",
              "      <th>sentiment</th>\n",
              "      <th>text_length</th>\n",
              "    </tr>\n",
              "  </thead>\n",
              "  <tbody>\n",
              "    <tr>\n",
              "      <th>0</th>\n",
              "      <td>2e180be4c9214c1f5ab51fd8cc32bc80c9f612e0</td>\n",
              "      <td>autoimmune diseases tend to come in clusters a...</td>\n",
              "      <td>gilenya</td>\n",
              "      <td>2</td>\n",
              "      <td>404</td>\n",
              "    </tr>\n",
              "    <tr>\n",
              "      <th>1</th>\n",
              "      <td>9eba8f80e7e20f3a2f48685530748fbfa95943e4</td>\n",
              "      <td>i can completely understand why you want to tr...</td>\n",
              "      <td>gilenya</td>\n",
              "      <td>2</td>\n",
              "      <td>1184</td>\n",
              "    </tr>\n",
              "    <tr>\n",
              "      <th>2</th>\n",
              "      <td>fe809672251f6bd0d986e00380f48d047c7e7b76</td>\n",
              "      <td>interesting that it only targets s1p 1 5 recep...</td>\n",
              "      <td>fingolimod</td>\n",
              "      <td>2</td>\n",
              "      <td>780</td>\n",
              "    </tr>\n",
              "    <tr>\n",
              "      <th>3</th>\n",
              "      <td>bd22104dfa9ec80db4099523e03fae7a52735eb6</td>\n",
              "      <td>very interesting grand merci now wonder where ...</td>\n",
              "      <td>ocrevus</td>\n",
              "      <td>2</td>\n",
              "      <td>124</td>\n",
              "    </tr>\n",
              "    <tr>\n",
              "      <th>4</th>\n",
              "      <td>b227688381f9b25e5b65109dd00f7f895e838249</td>\n",
              "      <td>hi everybody my latest mri results for brain a...</td>\n",
              "      <td>gilenya</td>\n",
              "      <td>1</td>\n",
              "      <td>612</td>\n",
              "    </tr>\n",
              "    <tr>\n",
              "      <th>5</th>\n",
              "      <td>a043780c757966243779bf3c0d11bf6eef721971</td>\n",
              "      <td>i can give you advice about lemtrada because c...</td>\n",
              "      <td>cladribine</td>\n",
              "      <td>2</td>\n",
              "      <td>285</td>\n",
              "    </tr>\n",
              "    <tr>\n",
              "      <th>6</th>\n",
              "      <td>be5a13376933a7f9bbf8e801c31691092f63260a</td>\n",
              "      <td>reply posted for jesszidek hi jess sorry to re...</td>\n",
              "      <td>humira</td>\n",
              "      <td>0</td>\n",
              "      <td>755</td>\n",
              "    </tr>\n",
              "    <tr>\n",
              "      <th>7</th>\n",
              "      <td>08c3c0c702fc97d290204b37798ac62005da5626</td>\n",
              "      <td>well as expected my neurologist wants me to st...</td>\n",
              "      <td>gilenya</td>\n",
              "      <td>2</td>\n",
              "      <td>723</td>\n",
              "    </tr>\n",
              "    <tr>\n",
              "      <th>8</th>\n",
              "      <td>8fd3d7ad80791c9343e5cf8a83bd1adf6577d516</td>\n",
              "      <td>why do you think that fingolimod was such mise...</td>\n",
              "      <td>fingolimod</td>\n",
              "      <td>1</td>\n",
              "      <td>296</td>\n",
              "    </tr>\n",
              "    <tr>\n",
              "      <th>9</th>\n",
              "      <td>793c5af7cc8332df17eb602247d886fbd1c80f89</td>\n",
              "      <td>thank you so much m learning lot here at grace...</td>\n",
              "      <td>tagrisso</td>\n",
              "      <td>2</td>\n",
              "      <td>927</td>\n",
              "    </tr>\n",
              "  </tbody>\n",
              "</table>\n",
              "</div>"
            ],
            "text/plain": [
              "                                unique_hash  ... text_length\n",
              "0  2e180be4c9214c1f5ab51fd8cc32bc80c9f612e0  ...         404\n",
              "1  9eba8f80e7e20f3a2f48685530748fbfa95943e4  ...        1184\n",
              "2  fe809672251f6bd0d986e00380f48d047c7e7b76  ...         780\n",
              "3  bd22104dfa9ec80db4099523e03fae7a52735eb6  ...         124\n",
              "4  b227688381f9b25e5b65109dd00f7f895e838249  ...         612\n",
              "5  a043780c757966243779bf3c0d11bf6eef721971  ...         285\n",
              "6  be5a13376933a7f9bbf8e801c31691092f63260a  ...         755\n",
              "7  08c3c0c702fc97d290204b37798ac62005da5626  ...         723\n",
              "8  8fd3d7ad80791c9343e5cf8a83bd1adf6577d516  ...         296\n",
              "9  793c5af7cc8332df17eb602247d886fbd1c80f89  ...         927\n",
              "\n",
              "[10 rows x 5 columns]"
            ]
          },
          "metadata": {
            "tags": []
          },
          "execution_count": 10
        }
      ]
    },
    {
      "cell_type": "code",
      "metadata": {
        "id": "NFadpPskIYge",
        "colab_type": "code",
        "outputId": "df9059a7-21ff-4735-8696-94f95567e02b",
        "colab": {
          "base_uri": "https://localhost:8080/",
          "height": 170
        }
      },
      "source": [
        "train.text_length.describe()"
      ],
      "execution_count": 11,
      "outputs": [
        {
          "output_type": "execute_result",
          "data": {
            "text/plain": [
              "count      5279.000000\n",
              "mean       2075.701080\n",
              "std        5075.540253\n",
              "min           6.000000\n",
              "25%         419.000000\n",
              "50%         807.000000\n",
              "75%        1706.000000\n",
              "max      127948.000000\n",
              "Name: text_length, dtype: float64"
            ]
          },
          "metadata": {
            "tags": []
          },
          "execution_count": 11
        }
      ]
    },
    {
      "cell_type": "code",
      "metadata": {
        "trusted": true,
        "id": "tFPW5RVccjwt",
        "colab_type": "code",
        "outputId": "00782e56-7ede-468c-95e0-b3203ae9f80b",
        "colab": {
          "base_uri": "https://localhost:8080/",
          "height": 153
        }
      },
      "source": [
        "test.info()"
      ],
      "execution_count": 12,
      "outputs": [
        {
          "output_type": "stream",
          "text": [
            "<class 'pandas.core.frame.DataFrame'>\n",
            "RangeIndex: 2924 entries, 0 to 2923\n",
            "Data columns (total 3 columns):\n",
            "unique_hash    2924 non-null object\n",
            "text           2924 non-null object\n",
            "drug           2924 non-null object\n",
            "dtypes: object(3)\n",
            "memory usage: 68.6+ KB\n"
          ],
          "name": "stdout"
        }
      ]
    },
    {
      "cell_type": "code",
      "metadata": {
        "trusted": true,
        "id": "QLoZdYqDcjwr",
        "colab_type": "code",
        "outputId": "2c9ddc09-a02e-4f58-b18c-b6cd8476f0a2",
        "colab": {
          "base_uri": "https://localhost:8080/",
          "height": 359
        }
      },
      "source": [
        "test.tail(10)"
      ],
      "execution_count": 13,
      "outputs": [
        {
          "output_type": "execute_result",
          "data": {
            "text/html": [
              "<div>\n",
              "<style scoped>\n",
              "    .dataframe tbody tr th:only-of-type {\n",
              "        vertical-align: middle;\n",
              "    }\n",
              "\n",
              "    .dataframe tbody tr th {\n",
              "        vertical-align: top;\n",
              "    }\n",
              "\n",
              "    .dataframe thead th {\n",
              "        text-align: right;\n",
              "    }\n",
              "</style>\n",
              "<table border=\"1\" class=\"dataframe\">\n",
              "  <thead>\n",
              "    <tr style=\"text-align: right;\">\n",
              "      <th></th>\n",
              "      <th>unique_hash</th>\n",
              "      <th>text</th>\n",
              "      <th>drug</th>\n",
              "    </tr>\n",
              "  </thead>\n",
              "  <tbody>\n",
              "    <tr>\n",
              "      <th>2914</th>\n",
              "      <td>04e2cede6d4f8fdf0f632c84bc991a9b5a9c6f94</td>\n",
              "      <td>Hello Dr Creelan thank you for your reply.  Si...</td>\n",
              "      <td>xalkori</td>\n",
              "    </tr>\n",
              "    <tr>\n",
              "      <th>2915</th>\n",
              "      <td>b6c5b383282b31dca327caee258565a6726a32bb</td>\n",
              "      <td>My mother participated in a trial for Pebroluz...</td>\n",
              "      <td>keytruda</td>\n",
              "    </tr>\n",
              "    <tr>\n",
              "      <th>2916</th>\n",
              "      <td>6a6cb6fed029f72bae04b62d9481be3476114b18</td>\n",
              "      <td>I was diagnosed with crohns disease in 2005 bu...</td>\n",
              "      <td>entyvio</td>\n",
              "    </tr>\n",
              "    <tr>\n",
              "      <th>2917</th>\n",
              "      <td>937fca3e61512aaf82764139d01830e569cd45ba</td>\n",
              "      <td>Hi, I was diagnosed on Monday with Lupus and t...</td>\n",
              "      <td>humira</td>\n",
              "    </tr>\n",
              "    <tr>\n",
              "      <th>2918</th>\n",
              "      <td>32e9eca022d634fff808646b97fd18bfd64523de</td>\n",
              "      <td>Hi,  I was sick recently and I think that was ...</td>\n",
              "      <td>tagrisso</td>\n",
              "    </tr>\n",
              "    <tr>\n",
              "      <th>2919</th>\n",
              "      <td>ac6e60bec9162ae66effd29a0dc9ad11ff966df6</td>\n",
              "      <td>Reply posted for Hippopostrous. We are sorry t...</td>\n",
              "      <td>remicade</td>\n",
              "    </tr>\n",
              "    <tr>\n",
              "      <th>2920</th>\n",
              "      <td>12afabb6210825308ead9894916abdfc912d7c43</td>\n",
              "      <td>Aw Lorraine That's crap. What a shame you've h...</td>\n",
              "      <td>gilenya</td>\n",
              "    </tr>\n",
              "    <tr>\n",
              "      <th>2921</th>\n",
              "      <td>021bb88c92a71229288304d691d53c3ff7004e4b</td>\n",
              "      <td>jskozio14\\n That sounds like nonsense to me.  ...</td>\n",
              "      <td>opdivo</td>\n",
              "    </tr>\n",
              "    <tr>\n",
              "      <th>2922</th>\n",
              "      <td>9936efcb83eded79fe9454df188edd7b96c6109e</td>\n",
              "      <td>It sounds like you're doing very well FG! I wo...</td>\n",
              "      <td>stelara</td>\n",
              "    </tr>\n",
              "    <tr>\n",
              "      <th>2923</th>\n",
              "      <td>05402df12d6769d7f38ab40e0b81464e65e1df0a</td>\n",
              "      <td>Hi @rambles too! It’s such a hard decision, is...</td>\n",
              "      <td>cladribine</td>\n",
              "    </tr>\n",
              "  </tbody>\n",
              "</table>\n",
              "</div>"
            ],
            "text/plain": [
              "                                   unique_hash  ...        drug\n",
              "2914  04e2cede6d4f8fdf0f632c84bc991a9b5a9c6f94  ...     xalkori\n",
              "2915  b6c5b383282b31dca327caee258565a6726a32bb  ...    keytruda\n",
              "2916  6a6cb6fed029f72bae04b62d9481be3476114b18  ...     entyvio\n",
              "2917  937fca3e61512aaf82764139d01830e569cd45ba  ...      humira\n",
              "2918  32e9eca022d634fff808646b97fd18bfd64523de  ...    tagrisso\n",
              "2919  ac6e60bec9162ae66effd29a0dc9ad11ff966df6  ...    remicade\n",
              "2920  12afabb6210825308ead9894916abdfc912d7c43  ...     gilenya\n",
              "2921  021bb88c92a71229288304d691d53c3ff7004e4b  ...      opdivo\n",
              "2922  9936efcb83eded79fe9454df188edd7b96c6109e  ...     stelara\n",
              "2923  05402df12d6769d7f38ab40e0b81464e65e1df0a  ...  cladribine\n",
              "\n",
              "[10 rows x 3 columns]"
            ]
          },
          "metadata": {
            "tags": []
          },
          "execution_count": 13
        }
      ]
    },
    {
      "cell_type": "code",
      "metadata": {
        "id": "d0mzSVv_7q8g",
        "colab_type": "code",
        "outputId": "39226f07-fa2d-4a1a-cd4a-bf3a94fedaf4",
        "colab": {
          "base_uri": "https://localhost:8080/",
          "height": 359
        }
      },
      "source": [
        "test['text'] = test['text'].map(lambda x: re.sub('\\\\n',' ',str(x)))\n",
        "test['text'] = test['text'].map(lambda x: re.sub(r'\\W',' ',str(x)))\n",
        "test['text'] = test['text'].map(lambda x: re.sub(r'\\s+[a-zA-Z]\\s+',' ',str(x)))\n",
        "test['text'] = test['text'].map(lambda x: re.sub(r'\\^[a-zA-Z]\\s+',' ',str(x)))\n",
        "test['text'] = test['text'].map(lambda x: re.sub(r'\\s+',' ',str(x)))\n",
        "test['text'] = test['text'].str.lower()\n",
        "\n",
        "test.tail(10)"
      ],
      "execution_count": 14,
      "outputs": [
        {
          "output_type": "execute_result",
          "data": {
            "text/html": [
              "<div>\n",
              "<style scoped>\n",
              "    .dataframe tbody tr th:only-of-type {\n",
              "        vertical-align: middle;\n",
              "    }\n",
              "\n",
              "    .dataframe tbody tr th {\n",
              "        vertical-align: top;\n",
              "    }\n",
              "\n",
              "    .dataframe thead th {\n",
              "        text-align: right;\n",
              "    }\n",
              "</style>\n",
              "<table border=\"1\" class=\"dataframe\">\n",
              "  <thead>\n",
              "    <tr style=\"text-align: right;\">\n",
              "      <th></th>\n",
              "      <th>unique_hash</th>\n",
              "      <th>text</th>\n",
              "      <th>drug</th>\n",
              "    </tr>\n",
              "  </thead>\n",
              "  <tbody>\n",
              "    <tr>\n",
              "      <th>2914</th>\n",
              "      <td>04e2cede6d4f8fdf0f632c84bc991a9b5a9c6f94</td>\n",
              "      <td>hello dr creelan thank you for your reply sinc...</td>\n",
              "      <td>xalkori</td>\n",
              "    </tr>\n",
              "    <tr>\n",
              "      <th>2915</th>\n",
              "      <td>b6c5b383282b31dca327caee258565a6726a32bb</td>\n",
              "      <td>my mother participated in trial for pebroluzim...</td>\n",
              "      <td>keytruda</td>\n",
              "    </tr>\n",
              "    <tr>\n",
              "      <th>2916</th>\n",
              "      <td>6a6cb6fed029f72bae04b62d9481be3476114b18</td>\n",
              "      <td>i was diagnosed with crohns disease in 2005 bu...</td>\n",
              "      <td>entyvio</td>\n",
              "    </tr>\n",
              "    <tr>\n",
              "      <th>2917</th>\n",
              "      <td>937fca3e61512aaf82764139d01830e569cd45ba</td>\n",
              "      <td>hi was diagnosed on monday with lupus and told...</td>\n",
              "      <td>humira</td>\n",
              "    </tr>\n",
              "    <tr>\n",
              "      <th>2918</th>\n",
              "      <td>32e9eca022d634fff808646b97fd18bfd64523de</td>\n",
              "      <td>hi was sick recently and think that was flu to...</td>\n",
              "      <td>tagrisso</td>\n",
              "    </tr>\n",
              "    <tr>\n",
              "      <th>2919</th>\n",
              "      <td>ac6e60bec9162ae66effd29a0dc9ad11ff966df6</td>\n",
              "      <td>reply posted for hippopostrous we are sorry to...</td>\n",
              "      <td>remicade</td>\n",
              "    </tr>\n",
              "    <tr>\n",
              "      <th>2920</th>\n",
              "      <td>12afabb6210825308ead9894916abdfc912d7c43</td>\n",
              "      <td>aw lorraine that crap what shame you ve had to...</td>\n",
              "      <td>gilenya</td>\n",
              "    </tr>\n",
              "    <tr>\n",
              "      <th>2921</th>\n",
              "      <td>021bb88c92a71229288304d691d53c3ff7004e4b</td>\n",
              "      <td>jskozio14 that sounds like nonsense to me expe...</td>\n",
              "      <td>opdivo</td>\n",
              "    </tr>\n",
              "    <tr>\n",
              "      <th>2922</th>\n",
              "      <td>9936efcb83eded79fe9454df188edd7b96c6109e</td>\n",
              "      <td>it sounds like you re doing very well fg would...</td>\n",
              "      <td>stelara</td>\n",
              "    </tr>\n",
              "    <tr>\n",
              "      <th>2923</th>\n",
              "      <td>05402df12d6769d7f38ab40e0b81464e65e1df0a</td>\n",
              "      <td>hi rambles too it such hard decision isn it my...</td>\n",
              "      <td>cladribine</td>\n",
              "    </tr>\n",
              "  </tbody>\n",
              "</table>\n",
              "</div>"
            ],
            "text/plain": [
              "                                   unique_hash  ...        drug\n",
              "2914  04e2cede6d4f8fdf0f632c84bc991a9b5a9c6f94  ...     xalkori\n",
              "2915  b6c5b383282b31dca327caee258565a6726a32bb  ...    keytruda\n",
              "2916  6a6cb6fed029f72bae04b62d9481be3476114b18  ...     entyvio\n",
              "2917  937fca3e61512aaf82764139d01830e569cd45ba  ...      humira\n",
              "2918  32e9eca022d634fff808646b97fd18bfd64523de  ...    tagrisso\n",
              "2919  ac6e60bec9162ae66effd29a0dc9ad11ff966df6  ...    remicade\n",
              "2920  12afabb6210825308ead9894916abdfc912d7c43  ...     gilenya\n",
              "2921  021bb88c92a71229288304d691d53c3ff7004e4b  ...      opdivo\n",
              "2922  9936efcb83eded79fe9454df188edd7b96c6109e  ...     stelara\n",
              "2923  05402df12d6769d7f38ab40e0b81464e65e1df0a  ...  cladribine\n",
              "\n",
              "[10 rows x 3 columns]"
            ]
          },
          "metadata": {
            "tags": []
          },
          "execution_count": 14
        }
      ]
    },
    {
      "cell_type": "markdown",
      "metadata": {
        "id": "95kqxe4o2jAR",
        "colab_type": "text"
      },
      "source": [
        "Sentiment can be clubbed into 3 major buckets - Positive, Negative and Neutral Sentiments.\n",
        "\n",
        "# **0-positive, 1-negative, 2-neutral**"
      ]
    },
    {
      "cell_type": "code",
      "metadata": {
        "trusted": true,
        "id": "thAdyuFWcjwv",
        "colab_type": "code",
        "outputId": "f6405f9d-364c-4396-fb63-48152a3796ad",
        "colab": {
          "base_uri": "https://localhost:8080/",
          "height": 300
        }
      },
      "source": [
        "sns.countplot(train[\"sentiment\"])"
      ],
      "execution_count": 15,
      "outputs": [
        {
          "output_type": "execute_result",
          "data": {
            "text/plain": [
              "<matplotlib.axes._subplots.AxesSubplot at 0x7f74f2aff2b0>"
            ]
          },
          "metadata": {
            "tags": []
          },
          "execution_count": 15
        },
        {
          "output_type": "display_data",
          "data": {
            "image/png": "[encoded data removed]",
            "text/plain": [
              "<Figure size 432x288 with 1 Axes>"
            ]
          },
          "metadata": {
            "tags": []
          }
        }
      ]
    },
    {
      "cell_type": "code",
      "metadata": {
        "id": "i4JFdNLy4oct",
        "colab_type": "code",
        "colab": {}
      },
      "source": [
        "#train2 = train.drop('sentiment', axis=1)\n",
        "target = train[\"sentiment\"]"
      ],
      "execution_count": 0,
      "outputs": []
    },
    {
      "cell_type": "code",
      "metadata": {
        "id": "vo31qGP54oo8",
        "colab_type": "code",
        "outputId": "2748bd14-c1e9-4796-98c3-b5930d25d41e",
        "colab": {
          "base_uri": "https://localhost:8080/",
          "height": 119
        }
      },
      "source": [
        "target.head()"
      ],
      "execution_count": 17,
      "outputs": [
        {
          "output_type": "execute_result",
          "data": {
            "text/plain": [
              "0    2\n",
              "1    2\n",
              "2    2\n",
              "3    2\n",
              "4    1\n",
              "Name: sentiment, dtype: int64"
            ]
          },
          "metadata": {
            "tags": []
          },
          "execution_count": 17
        }
      ]
    },
    {
      "cell_type": "code",
      "metadata": {
        "id": "rYjXQJLECYoy",
        "colab_type": "code",
        "colab": {}
      },
      "source": [
        "#x_train, x_val, y_train, y_val = train_test_split(train2, target, test_size=0.001, random_state=2019)"
      ],
      "execution_count": 0,
      "outputs": []
    },
    {
      "cell_type": "markdown",
      "metadata": {
        "id": "s3qxc46cq38Q",
        "colab_type": "text"
      },
      "source": [
        "## Vectorize"
      ]
    },
    {
      "cell_type": "code",
      "metadata": {
        "id": "alvAEQI2gsfi",
        "colab_type": "code",
        "outputId": "9382f329-bc6b-43a7-ecab-5af3c5da460f",
        "colab": {
          "base_uri": "https://localhost:8080/",
          "height": 34
        }
      },
      "source": [
        "# Convert all the text into vector form\n",
        "\n",
        "#vec = CountVectorizer(stop_words='english', ngram_range=(1,1), analyzer='word', token_pattern=r'\\w{1,}',min_df=4)\n",
        "vec = CountVectorizer(stop_words='english')\n",
        "#vec = TfidfVectorizer(stop_words='english', sublinear_tf=True, strip_accents='unicode', analyzer='char', token_pattern=r'\\w{1,}', ngram_range=(1, 1), max_features=3000)\n",
        "#vec = HashingVectorizer(n_features=20000)\n",
        "X_train_counts = vec.fit_transform(train['text'])\n",
        "\n",
        "# TF-IDF\n",
        "tfidf_transformer = TfidfTransformer()\n",
        "X_train_tfidf = tfidf_transformer.fit_transform(X_train_counts)\n",
        "X_train_tfidf.shape"
      ],
      "execution_count": 19,
      "outputs": [
        {
          "output_type": "execute_result",
          "data": {
            "text/plain": [
              "(5279, 40711)"
            ]
          },
          "metadata": {
            "tags": []
          },
          "execution_count": 19
        }
      ]
    },
    {
      "cell_type": "code",
      "metadata": {
        "id": "xos5XZhHLnjz",
        "colab_type": "code",
        "colab": {}
      },
      "source": [
        "#tfidf_transformer"
      ],
      "execution_count": 0,
      "outputs": []
    },
    {
      "cell_type": "code",
      "metadata": {
        "id": "TwVZDbxq8a_1",
        "colab_type": "code",
        "colab": {}
      },
      "source": [
        "# X_val_counts = vec.transform(x_val['text'])\n",
        "# X_val_tfidf = tfidf_transformer.transform(X_val_counts)\n",
        "# print(X_val_tfidf.shape)"
      ],
      "execution_count": 0,
      "outputs": []
    },
    {
      "cell_type": "code",
      "metadata": {
        "trusted": true,
        "id": "ngySgGzScjwz",
        "colab_type": "code",
        "outputId": "583399c6-a82e-42ae-fe62-67072e76ad63",
        "colab": {
          "base_uri": "https://localhost:8080/",
          "height": 34
        }
      },
      "source": [
        "X_test_counts = vec.transform(test['text'])\n",
        "X_test_tfidf = tfidf_transformer.transform(X_test_counts)\n",
        "print(X_test_tfidf.shape)"
      ],
      "execution_count": 22,
      "outputs": [
        {
          "output_type": "stream",
          "text": [
            "(2924, 40711)\n"
          ],
          "name": "stdout"
        }
      ]
    },
    {
      "cell_type": "markdown",
      "metadata": {
        "id": "-Y0ZFC6kUuHD",
        "colab_type": "text"
      },
      "source": [
        "\n",
        "## Different Machine Learning Models"
      ]
    },
    {
      "cell_type": "code",
      "metadata": {
        "id": "QwsseLsvlo3N",
        "colab_type": "code",
        "colab": {}
      },
      "source": [
        "#Random Forest\n",
        "# from sklearn.ensemble import RandomForestClassifier\n",
        "# clf_forest = RandomForestClassifier(random_state=2019,n_estimators=500).fit(X_train_tfidf, y_train)\n",
        "# y_pred_rf = clf_forest.predict(X_test_tfidf)\n",
        "# y_pred_rf"
      ],
      "execution_count": 0,
      "outputs": []
    },
    {
      "cell_type": "code",
      "metadata": {
        "id": "LSYhy502mvrw",
        "colab_type": "code",
        "colab": {}
      },
      "source": [
        "#Naive Bayes\n",
        "# from sklearn.naive_bayes import MultinomialNB\n",
        "# clf_nb = MultinomialNB().fit(X_train_tfidf, target)\n",
        "# y_pred_nb = clf_nb.predict(X_test_tfidf)\n",
        "# y_pred_nb"
      ],
      "execution_count": 0,
      "outputs": []
    },
    {
      "cell_type": "code",
      "metadata": {
        "id": "Dv2p4HQsjlyd",
        "colab_type": "code",
        "colab": {}
      },
      "source": [
        "#Ada Boost\n",
        "# from sklearn.ensemble import AdaBoostClassifier\n",
        "# clf_abc = AdaBoostClassifier(random_state=2019,n_estimators=50, learning_rate=2).fit(X_train_tfidf, y_train)\n",
        "# y_pred_abc = clf_abc.predict(X_test_tfidf)\n",
        "# y_pred_abc"
      ],
      "execution_count": 0,
      "outputs": []
    },
    {
      "cell_type": "code",
      "metadata": {
        "id": "24wCnThalWtC",
        "colab_type": "code",
        "colab": {}
      },
      "source": [
        "#Gradient Boosting\n",
        "# from sklearn.ensemble import GradientBoostingClassifier\n",
        "# clf_gbc = GradientBoostingClassifier(n_estimators=300,max_depth=5,random_state=2019).fit(X_train_tfidf, y_train)\n",
        "# y_pred_gbc = clf_gbc.predict(X_test_tfidf)\n",
        "# y_pred_gbc"
      ],
      "execution_count": 0,
      "outputs": []
    },
    {
      "cell_type": "code",
      "metadata": {
        "id": "fOAlWGLWnUDL",
        "colab_type": "code",
        "colab": {}
      },
      "source": [
        "#XG Boost Classifier\n",
        "# from xgboost import XGBClassifier\n",
        "# clf_xgb = XGBClassifier(random_state=2019, params = {'learning_rate': 0.2, 'max_depth': 9, 'n_estimators':300, 'subsample':0.6}).fit(X_train_tfidf, y_train)\n",
        "# y_pred_xgb = clf_xgb.predict(X_test_tfidf)\n",
        "# y_pred_xgb"
      ],
      "execution_count": 0,
      "outputs": []
    },
    {
      "cell_type": "code",
      "metadata": {
        "id": "8dvp_PsanGiv",
        "colab_type": "code",
        "colab": {}
      },
      "source": [
        "#Logistic Regression\n",
        "# from sklearn.linear_model import LogisticRegression\n",
        "# clf_log = LogisticRegression(random_state=2019, C=100000).fit(X_train_tfidf, y_train)\n",
        "# #clf_log = LogisticRegression(random_state=2019, solver='lbfgs', multi_class='multinomial',C=1e5).fit(X_train_tfidf, y_train)\n",
        "# y_pred_log = clf_log.predict(X_test_tfidf)\n",
        "# y_pred_log"
      ],
      "execution_count": 0,
      "outputs": []
    },
    {
      "cell_type": "code",
      "metadata": {
        "id": "JXbI4T0wG92O",
        "colab_type": "code",
        "colab": {}
      },
      "source": [
        "#Ridge Classifier\n",
        "# from sklearn.linear_model import RidgeClassifier\n",
        "# clf_rdg = RidgeClassifier(tol=1e+2, solver=\"sag\").fit(X_train_tfidf, y_train)\n",
        "# y_pred_rdg = clf_rdg.predict(X_test_tfidf)\n",
        "# y_pred_rdg"
      ],
      "execution_count": 0,
      "outputs": []
    },
    {
      "cell_type": "markdown",
      "metadata": {
        "id": "TZaONeyDZe77",
        "colab_type": "text"
      },
      "source": [
        "\n",
        "## Predict on test data"
      ]
    },
    {
      "cell_type": "code",
      "metadata": {
        "id": "sF7iT91Fd9c-",
        "colab_type": "code",
        "outputId": "dec00446-39f8-46d2-eb52-9c03e17d73b9",
        "colab": {
          "base_uri": "https://localhost:8080/",
          "height": 34
        }
      },
      "source": [
        "#KNN\n",
        "from sklearn.neighbors import KNeighborsClassifier\n",
        "clf_knn = KNeighborsClassifier().fit(X_train_tfidf, target)\n",
        "y_pred_knn = clf_knn.predict(X_test_tfidf)\n",
        "y_pred_knn"
      ],
      "execution_count": 30,
      "outputs": [
        {
          "output_type": "execute_result",
          "data": {
            "text/plain": [
              "array([2, 1, 2, ..., 2, 2, 2])"
            ]
          },
          "metadata": {
            "tags": []
          },
          "execution_count": 30
        }
      ]
    },
    {
      "cell_type": "code",
      "metadata": {
        "id": "kNGZSOlm0x0V",
        "colab_type": "code",
        "colab": {}
      },
      "source": [
        "# param_grid = dict(n_neighbors=list(range(1, 31)),weights=['uniform', 'distance'])\n",
        "# print(param_grid)\n",
        "# grid = GridSearchCV(clf_knn, param_grid, cv=10, scoring='accuracy')\n",
        "# grid.fit(X_train_tfidf, y_train)\n",
        "# print(grid.best_estimator_)\n",
        "# print(grid.best_params_)\n",
        "# print(grid.best_score_)"
      ],
      "execution_count": 0,
      "outputs": []
    },
    {
      "cell_type": "code",
      "metadata": {
        "id": "bCoofyyPrykN",
        "colab_type": "code",
        "colab": {}
      },
      "source": [
        "#accuracy_score(y_val, clf_knn.predict(X_val_tfidf))"
      ],
      "execution_count": 0,
      "outputs": []
    },
    {
      "cell_type": "markdown",
      "metadata": {
        "id": "udQCKYepZYP1",
        "colab_type": "text"
      },
      "source": [
        "## Submission"
      ]
    },
    {
      "cell_type": "code",
      "metadata": {
        "trusted": true,
        "id": "csK_3cbBcjxK",
        "colab_type": "code",
        "outputId": "b8e4f744-f8f8-4504-cb9c-56cefce4b150",
        "colab": {
          "base_uri": "https://localhost:8080/",
          "height": 85
        }
      },
      "source": [
        "submission = {}\n",
        "submission['unique_hash'] = test['unique_hash']\n",
        "submission['sentiment'] = y_pred_knn\n",
        "submission = pd.DataFrame(submission)\n",
        "submission = submission[['unique_hash', 'sentiment']]\n",
        "submission.to_csv(\"submisision.csv\", index=False)\n",
        "print(submission['sentiment'].value_counts())"
      ],
      "execution_count": 33,
      "outputs": [
        {
          "output_type": "stream",
          "text": [
            "2    2148\n",
            "1     501\n",
            "0     275\n",
            "Name: sentiment, dtype: int64\n"
          ],
          "name": "stdout"
        }
      ]
    },
    {
      "cell_type": "code",
      "metadata": {
        "trusted": true,
        "id": "n9UjCDwQcjxN",
        "colab_type": "code",
        "outputId": "999f5a5b-5db3-43f8-92f5-ec16bf6646b0",
        "colab": {
          "base_uri": "https://localhost:8080/",
          "height": 102
        }
      },
      "source": [
        "!ls -ltr"
      ],
      "execution_count": 34,
      "outputs": [
        {
          "output_type": "stream",
          "text": [
            "total 18284\n",
            "drwxr-xr-x 1 root root     4096 Aug  1 16:08 sample_data\n",
            "-rw-r--r-- 1 root root  7283428 Aug  3 11:53 test.csv\n",
            "-rw-r--r-- 1 root root 11297342 Aug  3 11:53 train.csv\n",
            "-rw-r--r-- 1 root root   125754 Aug  3 13:46 submisision.csv\n"
          ],
          "name": "stdout"
        }
      ]
    },
    {
      "cell_type": "code",
      "metadata": {
        "id": "lsYjKA9SFyha",
        "colab_type": "code",
        "colab": {}
      },
      "source": [
        "files.download('submisision.csv')"
      ],
      "execution_count": 0,
      "outputs": []
    },
    {
      "cell_type": "code",
      "metadata": {
        "id": "V2JjK1zNGOBX",
        "colab_type": "code",
        "colab": {}
      },
      "source": [
        ""
      ],
      "execution_count": 0,
      "outputs": []
    }
  ]
}