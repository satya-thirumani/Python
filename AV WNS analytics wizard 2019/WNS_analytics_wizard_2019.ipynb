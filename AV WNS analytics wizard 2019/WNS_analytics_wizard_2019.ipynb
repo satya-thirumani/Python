{
 "cells": [
  {
   "cell_type": "markdown",
   "metadata": {},
   "source": [
    "[![Open In Colab](https://colab.research.google.com/assets/colab-badge.svg)](https://github.com/satya-thirumani/Python/blob/master/AV%20WNS%20analytics%20wizard%202019/WNS_analytics_wizard_2019.ipynb)"
   ]
  },
  {
   "cell_type": "markdown",
   "metadata": {
    "colab_type": "text",
    "id": "ib0YmBaO_jVQ"
   },
   "source": [
    "# AV WNS Analytics Wizard 2019 Hackathon\n",
    "\n",
    "Analytics Vidhya - Ad Click Prediction Analysis in Python using sklearn package\n",
    "\n",
    "https://satya-python.blogspot.com/\n",
    "\n",
    "Jupyter Notebook in Google Colab"
   ]
  },
  {
   "cell_type": "code",
   "execution_count": 1,
   "metadata": {
    "colab": {},
    "colab_type": "code",
    "id": "mylBvt5Qz5h2"
   },
   "outputs": [
    {
     "name": "stderr",
     "output_type": "stream",
     "text": [
      "Using TensorFlow backend.\n"
     ]
    }
   ],
   "source": [
    "# Importing required packages\n",
    "\n",
    "import numpy as np\n",
    "import pandas as pd\n",
    "pd.set_option('display.max_columns', 50)\n",
    "\n",
    "import seaborn as sns\n",
    "import matplotlib.pyplot as plt\n",
    "\n",
    "import warnings\n",
    "warnings.filterwarnings('ignore')\n",
    "\n",
    "from sklearn.model_selection import train_test_split,GridSearchCV\n",
    "from sklearn.metrics import accuracy_score, f1_score, roc_auc_score,confusion_matrix,roc_curve,auc\n",
    "from sklearn.linear_model import LogisticRegression\n",
    "from sklearn.ensemble import RandomForestClassifier\n",
    "from sklearn.preprocessing import StandardScaler,MinMaxScaler,PolynomialFeatures\n",
    "from sklearn.decomposition import PCA\n",
    "from sklearn.neural_network import MLPClassifier\n",
    "\n",
    "from imblearn.over_sampling import SMOTE, ADASYN, SVMSMOTE\n",
    "from imblearn.under_sampling import TomekLinks"
   ]
  },
  {
   "cell_type": "markdown",
   "metadata": {
    "colab_type": "text",
    "id": "OWh01o7C_guF"
   },
   "source": [
    "# Loading Data"
   ]
  },
  {
   "cell_type": "code",
   "execution_count": 2,
   "metadata": {
    "colab": {
     "base_uri": "https://localhost:8080/"
    },
    "colab_type": "code",
    "id": "tZFGKSi1z9k4",
    "outputId": "a4651da6-2ca3-4928-ce56-6499ab17809c"
   },
   "outputs": [],
   "source": [
    "# from google.colab import files,drive\n",
    "# drive.mount('/content/drive')\n",
    "# %cd /content/drive/My\\ Drive/Analytics\\ Vidhya/wns-analytics-wizard-2019"
   ]
  },
  {
   "cell_type": "code",
   "execution_count": 3,
   "metadata": {
    "colab": {},
    "colab_type": "code",
    "id": "hCk-vl970EKc"
   },
   "outputs": [],
   "source": [
    "train = pd.read_csv(\"train.csv\")\n",
    "test = pd.read_csv(\"test.csv\")\n",
    "item_data = pd.read_csv(\"item_data.csv\")\n",
    "view_log = pd.read_csv(\"view_log.csv\")\n",
    "\n",
    "test_imp_ids = test[\"impression_id\"]"
   ]
  },
  {
   "cell_type": "markdown",
   "metadata": {
    "colab_type": "text",
    "id": "2KCBUH7F_xcw"
   },
   "source": [
    "# EDA - Exploratory Data Analysis"
   ]
  },
  {
   "cell_type": "code",
   "execution_count": 4,
   "metadata": {
    "colab": {
     "base_uri": "https://localhost:8080/"
    },
    "colab_type": "code",
    "id": "k5iv9iaTMFQR",
    "outputId": "c422951d-9083-4136-dedb-bbaf1fd793aa"
   },
   "outputs": [
    {
     "name": "stdout",
     "output_type": "stream",
     "text": [
      "Number of data points in train: 237609\n",
      "Number of features in train: 7\n",
      "Number of data points in test: 90675\n",
      "Number of features in test: 6\n"
     ]
    }
   ],
   "source": [
    "# Check number of features and data points in train and test\n",
    "print(\"Number of data points in train: %d\" % train.shape[0])\n",
    "print(\"Number of features in train: %d\" % train.shape[1])\n",
    "\n",
    "print(\"Number of data points in test: %d\" % test.shape[0])\n",
    "print(\"Number of features in test: %d\" % test.shape[1])"
   ]
  },
  {
   "cell_type": "code",
   "execution_count": 5,
   "metadata": {
    "colab": {
     "base_uri": "https://localhost:8080/"
    },
    "colab_type": "code",
    "id": "8na0ex3q-1u1",
    "outputId": "07a698ef-5a60-483c-dd46-7cf6c2f15426"
   },
   "outputs": [
    {
     "data": {
      "text/html": [
       "<div>\n",
       "<style scoped>\n",
       "    .dataframe tbody tr th:only-of-type {\n",
       "        vertical-align: middle;\n",
       "    }\n",
       "\n",
       "    .dataframe tbody tr th {\n",
       "        vertical-align: top;\n",
       "    }\n",
       "\n",
       "    .dataframe thead th {\n",
       "        text-align: right;\n",
       "    }\n",
       "</style>\n",
       "<table border=\"1\" class=\"dataframe\">\n",
       "  <thead>\n",
       "    <tr style=\"text-align: right;\">\n",
       "      <th></th>\n",
       "      <th>impression_id</th>\n",
       "      <th>impression_time</th>\n",
       "      <th>user_id</th>\n",
       "      <th>app_code</th>\n",
       "      <th>os_version</th>\n",
       "      <th>is_4G</th>\n",
       "      <th>is_click</th>\n",
       "    </tr>\n",
       "  </thead>\n",
       "  <tbody>\n",
       "    <tr>\n",
       "      <th>0</th>\n",
       "      <td>c4ca4238a0b923820dcc509a6f75849b</td>\n",
       "      <td>2018-11-15 00:00:00</td>\n",
       "      <td>87862</td>\n",
       "      <td>422</td>\n",
       "      <td>old</td>\n",
       "      <td>0</td>\n",
       "      <td>0</td>\n",
       "    </tr>\n",
       "    <tr>\n",
       "      <th>1</th>\n",
       "      <td>45c48cce2e2d7fbdea1afc51c7c6ad26</td>\n",
       "      <td>2018-11-15 00:01:00</td>\n",
       "      <td>63410</td>\n",
       "      <td>467</td>\n",
       "      <td>latest</td>\n",
       "      <td>1</td>\n",
       "      <td>1</td>\n",
       "    </tr>\n",
       "    <tr>\n",
       "      <th>2</th>\n",
       "      <td>70efdf2ec9b086079795c442636b55fb</td>\n",
       "      <td>2018-11-15 00:02:00</td>\n",
       "      <td>71748</td>\n",
       "      <td>259</td>\n",
       "      <td>intermediate</td>\n",
       "      <td>1</td>\n",
       "      <td>0</td>\n",
       "    </tr>\n",
       "    <tr>\n",
       "      <th>3</th>\n",
       "      <td>8e296a067a37563370ded05f5a3bf3ec</td>\n",
       "      <td>2018-11-15 00:02:00</td>\n",
       "      <td>69209</td>\n",
       "      <td>244</td>\n",
       "      <td>latest</td>\n",
       "      <td>1</td>\n",
       "      <td>0</td>\n",
       "    </tr>\n",
       "    <tr>\n",
       "      <th>4</th>\n",
       "      <td>182be0c5cdcd5072bb1864cdee4d3d6e</td>\n",
       "      <td>2018-11-15 00:02:00</td>\n",
       "      <td>62873</td>\n",
       "      <td>473</td>\n",
       "      <td>latest</td>\n",
       "      <td>0</td>\n",
       "      <td>0</td>\n",
       "    </tr>\n",
       "  </tbody>\n",
       "</table>\n",
       "</div>"
      ],
      "text/plain": [
       "                      impression_id      impression_time  user_id  app_code  \\\n",
       "0  c4ca4238a0b923820dcc509a6f75849b  2018-11-15 00:00:00    87862       422   \n",
       "1  45c48cce2e2d7fbdea1afc51c7c6ad26  2018-11-15 00:01:00    63410       467   \n",
       "2  70efdf2ec9b086079795c442636b55fb  2018-11-15 00:02:00    71748       259   \n",
       "3  8e296a067a37563370ded05f5a3bf3ec  2018-11-15 00:02:00    69209       244   \n",
       "4  182be0c5cdcd5072bb1864cdee4d3d6e  2018-11-15 00:02:00    62873       473   \n",
       "\n",
       "     os_version  is_4G  is_click  \n",
       "0           old      0         0  \n",
       "1        latest      1         1  \n",
       "2  intermediate      1         0  \n",
       "3        latest      1         0  \n",
       "4        latest      0         0  "
      ]
     },
     "execution_count": 5,
     "metadata": {},
     "output_type": "execute_result"
    }
   ],
   "source": [
    "train.head()"
   ]
  },
  {
   "cell_type": "code",
   "execution_count": 6,
   "metadata": {
    "colab": {
     "base_uri": "https://localhost:8080/"
    },
    "colab_type": "code",
    "id": "SlJQd5G__NsJ",
    "outputId": "b881460d-3abc-4efe-feff-c92486c9e5d0"
   },
   "outputs": [
    {
     "data": {
      "text/html": [
       "<div>\n",
       "<style scoped>\n",
       "    .dataframe tbody tr th:only-of-type {\n",
       "        vertical-align: middle;\n",
       "    }\n",
       "\n",
       "    .dataframe tbody tr th {\n",
       "        vertical-align: top;\n",
       "    }\n",
       "\n",
       "    .dataframe thead th {\n",
       "        text-align: right;\n",
       "    }\n",
       "</style>\n",
       "<table border=\"1\" class=\"dataframe\">\n",
       "  <thead>\n",
       "    <tr style=\"text-align: right;\">\n",
       "      <th></th>\n",
       "      <th>impression_id</th>\n",
       "      <th>impression_time</th>\n",
       "      <th>user_id</th>\n",
       "      <th>app_code</th>\n",
       "      <th>os_version</th>\n",
       "      <th>is_4G</th>\n",
       "    </tr>\n",
       "  </thead>\n",
       "  <tbody>\n",
       "    <tr>\n",
       "      <th>0</th>\n",
       "      <td>a9e7126a585a69a32bc7414e9d0c0ada</td>\n",
       "      <td>2018-12-13 07:44:00</td>\n",
       "      <td>44754</td>\n",
       "      <td>127</td>\n",
       "      <td>latest</td>\n",
       "      <td>1</td>\n",
       "    </tr>\n",
       "    <tr>\n",
       "      <th>1</th>\n",
       "      <td>caac14a5bf2ba283db7708bb34855760</td>\n",
       "      <td>2018-12-13 07:45:00</td>\n",
       "      <td>29656</td>\n",
       "      <td>44</td>\n",
       "      <td>latest</td>\n",
       "      <td>0</td>\n",
       "    </tr>\n",
       "    <tr>\n",
       "      <th>2</th>\n",
       "      <td>13f10ba306a19ce7bec2f3cae507b698</td>\n",
       "      <td>2018-12-13 07:46:00</td>\n",
       "      <td>25234</td>\n",
       "      <td>296</td>\n",
       "      <td>latest</td>\n",
       "      <td>1</td>\n",
       "    </tr>\n",
       "    <tr>\n",
       "      <th>3</th>\n",
       "      <td>39c4b4dc0e9701b55a0a4f072008fb3f</td>\n",
       "      <td>2018-12-13 07:47:00</td>\n",
       "      <td>22988</td>\n",
       "      <td>207</td>\n",
       "      <td>latest</td>\n",
       "      <td>1</td>\n",
       "    </tr>\n",
       "    <tr>\n",
       "      <th>4</th>\n",
       "      <td>bf5a572cca75f5fc67f4b14e58b11d70</td>\n",
       "      <td>2018-12-13 07:48:00</td>\n",
       "      <td>35431</td>\n",
       "      <td>242</td>\n",
       "      <td>latest</td>\n",
       "      <td>1</td>\n",
       "    </tr>\n",
       "  </tbody>\n",
       "</table>\n",
       "</div>"
      ],
      "text/plain": [
       "                      impression_id      impression_time  user_id  app_code  \\\n",
       "0  a9e7126a585a69a32bc7414e9d0c0ada  2018-12-13 07:44:00    44754       127   \n",
       "1  caac14a5bf2ba283db7708bb34855760  2018-12-13 07:45:00    29656        44   \n",
       "2  13f10ba306a19ce7bec2f3cae507b698  2018-12-13 07:46:00    25234       296   \n",
       "3  39c4b4dc0e9701b55a0a4f072008fb3f  2018-12-13 07:47:00    22988       207   \n",
       "4  bf5a572cca75f5fc67f4b14e58b11d70  2018-12-13 07:48:00    35431       242   \n",
       "\n",
       "  os_version  is_4G  \n",
       "0     latest      1  \n",
       "1     latest      0  \n",
       "2     latest      1  \n",
       "3     latest      1  \n",
       "4     latest      1  "
      ]
     },
     "execution_count": 6,
     "metadata": {},
     "output_type": "execute_result"
    }
   ],
   "source": [
    "test.head()"
   ]
  },
  {
   "cell_type": "code",
   "execution_count": 7,
   "metadata": {
    "colab": {
     "base_uri": "https://localhost:8080/"
    },
    "colab_type": "code",
    "id": "dlKCVYIKMVQl",
    "outputId": "a0d6e3ee-35a6-408c-dce9-c0a168caa832"
   },
   "outputs": [
    {
     "name": "stdout",
     "output_type": "stream",
     "text": [
      "<class 'pandas.core.frame.DataFrame'>\n",
      "RangeIndex: 237609 entries, 0 to 237608\n",
      "Data columns (total 7 columns):\n",
      "impression_id      237609 non-null object\n",
      "impression_time    237609 non-null object\n",
      "user_id            237609 non-null int64\n",
      "app_code           237609 non-null int64\n",
      "os_version         237609 non-null object\n",
      "is_4G              237609 non-null int64\n",
      "is_click           237609 non-null int64\n",
      "dtypes: int64(4), object(3)\n",
      "memory usage: 12.7+ MB\n"
     ]
    }
   ],
   "source": [
    "train.info()"
   ]
  },
  {
   "cell_type": "code",
   "execution_count": 8,
   "metadata": {
    "colab": {
     "base_uri": "https://localhost:8080/"
    },
    "colab_type": "code",
    "id": "PPWMJUeiMXEC",
    "outputId": "9ea86454-222c-425f-ff7a-c6d6b7763457"
   },
   "outputs": [
    {
     "name": "stdout",
     "output_type": "stream",
     "text": [
      "<class 'pandas.core.frame.DataFrame'>\n",
      "RangeIndex: 90675 entries, 0 to 90674\n",
      "Data columns (total 6 columns):\n",
      "impression_id      90675 non-null object\n",
      "impression_time    90675 non-null object\n",
      "user_id            90675 non-null int64\n",
      "app_code           90675 non-null int64\n",
      "os_version         90675 non-null object\n",
      "is_4G              90675 non-null int64\n",
      "dtypes: int64(3), object(3)\n",
      "memory usage: 4.2+ MB\n"
     ]
    }
   ],
   "source": [
    "test.info()"
   ]
  },
  {
   "cell_type": "code",
   "execution_count": 9,
   "metadata": {
    "colab": {},
    "colab_type": "code",
    "id": "bBxC-ne6Mj_i"
   },
   "outputs": [],
   "source": [
    "train['impression_time'] = pd.to_datetime(train['impression_time'])\n",
    "test['impression_time'] = pd.to_datetime(test['impression_time'])\n",
    "view_log['server_time'] = pd.to_datetime(view_log['server_time'])"
   ]
  },
  {
   "cell_type": "code",
   "execution_count": 10,
   "metadata": {
    "colab": {
     "base_uri": "https://localhost:8080/"
    },
    "colab_type": "code",
    "id": "rTpkgSo7_Rf2",
    "outputId": "6ad2f259-01d1-4b54-9cfc-a0f0114893bb"
   },
   "outputs": [
    {
     "name": "stdout",
     "output_type": "stream",
     "text": [
      "<class 'pandas.core.frame.DataFrame'>\n",
      "RangeIndex: 3118622 entries, 0 to 3118621\n",
      "Data columns (total 5 columns):\n",
      "server_time    datetime64[ns]\n",
      "device_type    object\n",
      "session_id     int64\n",
      "user_id        int64\n",
      "item_id        int64\n",
      "dtypes: datetime64[ns](1), int64(3), object(1)\n",
      "memory usage: 119.0+ MB\n"
     ]
    }
   ],
   "source": [
    "view_log.info()"
   ]
  },
  {
   "cell_type": "code",
   "execution_count": 11,
   "metadata": {
    "colab": {
     "base_uri": "https://localhost:8080/"
    },
    "colab_type": "code",
    "id": "ClBNo45DxHN-",
    "outputId": "68eaa000-6763-4e71-ff65-c3b98cb392ef"
   },
   "outputs": [
    {
     "data": {
      "text/html": [
       "<div>\n",
       "<style scoped>\n",
       "    .dataframe tbody tr th:only-of-type {\n",
       "        vertical-align: middle;\n",
       "    }\n",
       "\n",
       "    .dataframe tbody tr th {\n",
       "        vertical-align: top;\n",
       "    }\n",
       "\n",
       "    .dataframe thead th {\n",
       "        text-align: right;\n",
       "    }\n",
       "</style>\n",
       "<table border=\"1\" class=\"dataframe\">\n",
       "  <thead>\n",
       "    <tr style=\"text-align: right;\">\n",
       "      <th></th>\n",
       "      <th>server_time</th>\n",
       "      <th>device_type</th>\n",
       "      <th>session_id</th>\n",
       "      <th>user_id</th>\n",
       "      <th>item_id</th>\n",
       "    </tr>\n",
       "  </thead>\n",
       "  <tbody>\n",
       "    <tr>\n",
       "      <th>0</th>\n",
       "      <td>2018-10-15 08:58:00</td>\n",
       "      <td>android</td>\n",
       "      <td>112333</td>\n",
       "      <td>4557</td>\n",
       "      <td>32970</td>\n",
       "    </tr>\n",
       "    <tr>\n",
       "      <th>1</th>\n",
       "      <td>2018-10-15 08:58:00</td>\n",
       "      <td>android</td>\n",
       "      <td>503590</td>\n",
       "      <td>74788</td>\n",
       "      <td>7640</td>\n",
       "    </tr>\n",
       "    <tr>\n",
       "      <th>2</th>\n",
       "      <td>2018-10-15 08:58:00</td>\n",
       "      <td>android</td>\n",
       "      <td>573960</td>\n",
       "      <td>23628</td>\n",
       "      <td>128855</td>\n",
       "    </tr>\n",
       "    <tr>\n",
       "      <th>3</th>\n",
       "      <td>2018-10-15 08:58:00</td>\n",
       "      <td>android</td>\n",
       "      <td>121691</td>\n",
       "      <td>2430</td>\n",
       "      <td>12774</td>\n",
       "    </tr>\n",
       "    <tr>\n",
       "      <th>4</th>\n",
       "      <td>2018-10-15 08:58:00</td>\n",
       "      <td>android</td>\n",
       "      <td>218564</td>\n",
       "      <td>19227</td>\n",
       "      <td>28296</td>\n",
       "    </tr>\n",
       "  </tbody>\n",
       "</table>\n",
       "</div>"
      ],
      "text/plain": [
       "          server_time device_type  session_id  user_id  item_id\n",
       "0 2018-10-15 08:58:00     android      112333     4557    32970\n",
       "1 2018-10-15 08:58:00     android      503590    74788     7640\n",
       "2 2018-10-15 08:58:00     android      573960    23628   128855\n",
       "3 2018-10-15 08:58:00     android      121691     2430    12774\n",
       "4 2018-10-15 08:58:00     android      218564    19227    28296"
      ]
     },
     "execution_count": 11,
     "metadata": {},
     "output_type": "execute_result"
    }
   ],
   "source": [
    "view_log.head()"
   ]
  },
  {
   "cell_type": "code",
   "execution_count": 12,
   "metadata": {
    "colab": {
     "base_uri": "https://localhost:8080/"
    },
    "colab_type": "code",
    "id": "GLex5yz4_OuS",
    "outputId": "37cd078c-7ddf-4e3b-c513-3ace57f0529a"
   },
   "outputs": [
    {
     "name": "stdout",
     "output_type": "stream",
     "text": [
      "<class 'pandas.core.frame.DataFrame'>\n",
      "RangeIndex: 132761 entries, 0 to 132760\n",
      "Data columns (total 6 columns):\n",
      "item_id         132761 non-null int64\n",
      "item_price      132761 non-null int64\n",
      "category_1      132761 non-null int64\n",
      "category_2      132761 non-null int64\n",
      "category_3      132761 non-null int64\n",
      "product_type    132761 non-null int64\n",
      "dtypes: int64(6)\n",
      "memory usage: 6.1 MB\n"
     ]
    }
   ],
   "source": [
    "item_data.info()"
   ]
  },
  {
   "cell_type": "code",
   "execution_count": 13,
   "metadata": {
    "colab": {
     "base_uri": "https://localhost:8080/"
    },
    "colab_type": "code",
    "id": "RWFV58EWxHOC",
    "outputId": "c0ef86b9-bc4f-43c1-b114-0c6332030e95"
   },
   "outputs": [
    {
     "data": {
      "text/html": [
       "<div>\n",
       "<style scoped>\n",
       "    .dataframe tbody tr th:only-of-type {\n",
       "        vertical-align: middle;\n",
       "    }\n",
       "\n",
       "    .dataframe tbody tr th {\n",
       "        vertical-align: top;\n",
       "    }\n",
       "\n",
       "    .dataframe thead th {\n",
       "        text-align: right;\n",
       "    }\n",
       "</style>\n",
       "<table border=\"1\" class=\"dataframe\">\n",
       "  <thead>\n",
       "    <tr style=\"text-align: right;\">\n",
       "      <th></th>\n",
       "      <th>item_id</th>\n",
       "      <th>item_price</th>\n",
       "      <th>category_1</th>\n",
       "      <th>category_2</th>\n",
       "      <th>category_3</th>\n",
       "      <th>product_type</th>\n",
       "    </tr>\n",
       "  </thead>\n",
       "  <tbody>\n",
       "    <tr>\n",
       "      <th>0</th>\n",
       "      <td>26880</td>\n",
       "      <td>4602</td>\n",
       "      <td>11</td>\n",
       "      <td>35</td>\n",
       "      <td>20</td>\n",
       "      <td>3040</td>\n",
       "    </tr>\n",
       "    <tr>\n",
       "      <th>1</th>\n",
       "      <td>54939</td>\n",
       "      <td>3513</td>\n",
       "      <td>12</td>\n",
       "      <td>57</td>\n",
       "      <td>85</td>\n",
       "      <td>6822</td>\n",
       "    </tr>\n",
       "    <tr>\n",
       "      <th>2</th>\n",
       "      <td>40383</td>\n",
       "      <td>825</td>\n",
       "      <td>17</td>\n",
       "      <td>8</td>\n",
       "      <td>279</td>\n",
       "      <td>1619</td>\n",
       "    </tr>\n",
       "    <tr>\n",
       "      <th>3</th>\n",
       "      <td>8777</td>\n",
       "      <td>2355</td>\n",
       "      <td>13</td>\n",
       "      <td>58</td>\n",
       "      <td>189</td>\n",
       "      <td>5264</td>\n",
       "    </tr>\n",
       "    <tr>\n",
       "      <th>4</th>\n",
       "      <td>113705</td>\n",
       "      <td>1267</td>\n",
       "      <td>17</td>\n",
       "      <td>39</td>\n",
       "      <td>151</td>\n",
       "      <td>10239</td>\n",
       "    </tr>\n",
       "  </tbody>\n",
       "</table>\n",
       "</div>"
      ],
      "text/plain": [
       "   item_id  item_price  category_1  category_2  category_3  product_type\n",
       "0    26880        4602          11          35          20          3040\n",
       "1    54939        3513          12          57          85          6822\n",
       "2    40383         825          17           8         279          1619\n",
       "3     8777        2355          13          58         189          5264\n",
       "4   113705        1267          17          39         151         10239"
      ]
     },
     "execution_count": 13,
     "metadata": {},
     "output_type": "execute_result"
    }
   ],
   "source": [
    "item_data.head()"
   ]
  },
  {
   "cell_type": "code",
   "execution_count": 14,
   "metadata": {
    "colab": {
     "base_uri": "https://localhost:8080/"
    },
    "colab_type": "code",
    "id": "IqubR1BDM4-h",
    "outputId": "42b13214-a95d-459b-98cd-c71265e96531"
   },
   "outputs": [
    {
     "data": {
      "text/plain": [
       "impression_id      0\n",
       "impression_time    0\n",
       "user_id            0\n",
       "app_code           0\n",
       "os_version         0\n",
       "is_4G              0\n",
       "is_click           0\n",
       "dtype: int64"
      ]
     },
     "execution_count": 14,
     "metadata": {},
     "output_type": "execute_result"
    }
   ],
   "source": [
    "# Checking for NULL/missing values\n",
    "train.isnull().sum()"
   ]
  },
  {
   "cell_type": "code",
   "execution_count": 15,
   "metadata": {
    "colab": {
     "base_uri": "https://localhost:8080/"
    },
    "colab_type": "code",
    "id": "hpNW6PbR_TjG",
    "outputId": "5dee3f84-80eb-4aa5-920b-3db10605d7bd"
   },
   "outputs": [
    {
     "name": "stdout",
     "output_type": "stream",
     "text": [
      "0    226747\n",
      "1     10862\n",
      "Name: is_click, dtype: int64\n",
      "0    95.428624\n",
      "1     4.571376\n",
      "Name: is_click, dtype: float64\n",
      "\n"
     ]
    },
    {
     "data": {
      "text/plain": [
       "<matplotlib.axes._subplots.AxesSubplot at 0x1a3d7f3c18>"
      ]
     },
     "execution_count": 15,
     "metadata": {},
     "output_type": "execute_result"
    },
    {
     "data": {
      "image/png": "[encoded data removed]",
      "text/plain": [
       "<Figure size 432x288 with 1 Axes>"
      ]
     },
     "metadata": {
      "needs_background": "light"
     },
     "output_type": "display_data"
    }
   ],
   "source": [
    "# Univariate analysis\n",
    "print(train['is_click'].value_counts())\n",
    "print(train['is_click'].value_counts(normalize=True)*100)\n",
    "print()\n",
    "sns.countplot(train[\"is_click\"])"
   ]
  },
  {
   "cell_type": "code",
   "execution_count": 16,
   "metadata": {
    "colab": {
     "base_uri": "https://localhost:8080/"
    },
    "colab_type": "code",
    "id": "gTtacXgONbkr",
    "outputId": "c104d5d3-4b1d-433d-fe29-f0698f10204d"
   },
   "outputs": [
    {
     "name": "stdout",
     "output_type": "stream",
     "text": [
      "0    151758\n",
      "1     85851\n",
      "Name: is_4G, dtype: int64\n"
     ]
    },
    {
     "data": {
      "text/plain": [
       "<matplotlib.axes._subplots.AxesSubplot at 0x1a2f2bca20>"
      ]
     },
     "execution_count": 16,
     "metadata": {},
     "output_type": "execute_result"
    },
    {
     "data": {
      "image/png": "[encoded data removed]",
      "text/plain": [
       "<Figure size 432x288 with 1 Axes>"
      ]
     },
     "metadata": {
      "needs_background": "light"
     },
     "output_type": "display_data"
    }
   ],
   "source": [
    "print(train.is_4G.value_counts().sort_index())\n",
    "sns.countplot(train[\"is_4G\"])"
   ]
  },
  {
   "cell_type": "code",
   "execution_count": 17,
   "metadata": {
    "colab": {
     "base_uri": "https://localhost:8080/"
    },
    "colab_type": "code",
    "id": "eBLbhPAoPSOv",
    "outputId": "d4cc15e9-d7c7-4bdf-e5c6-8002e2c4e831"
   },
   "outputs": [
    {
     "name": "stdout",
     "output_type": "stream",
     "text": [
      "intermediate     55543\n",
      "latest          129216\n",
      "old              52850\n",
      "Name: os_version, dtype: int64\n"
     ]
    },
    {
     "data": {
      "text/plain": [
       "<matplotlib.axes._subplots.AxesSubplot at 0x1a3c839470>"
      ]
     },
     "execution_count": 17,
     "metadata": {},
     "output_type": "execute_result"
    },
    {
     "data": {
      "image/png": "[encoded data removed]",
      "text/plain": [
       "<Figure size 432x288 with 1 Axes>"
      ]
     },
     "metadata": {
      "needs_background": "light"
     },
     "output_type": "display_data"
    }
   ],
   "source": [
    "print(train.os_version.value_counts().sort_index())\n",
    "sns.countplot(train[\"os_version\"])"
   ]
  },
  {
   "cell_type": "code",
   "execution_count": 18,
   "metadata": {
    "colab": {
     "base_uri": "https://localhost:8080/"
    },
    "colab_type": "code",
    "id": "x7k540qFNmJI",
    "outputId": "1c20c754-635b-44e0-b14e-bf8c0dfd70b8"
   },
   "outputs": [
    {
     "data": {
      "text/plain": [
       "count    237609.000000\n",
       "mean        249.099971\n",
       "std         135.213609\n",
       "min           0.000000\n",
       "25%         163.000000\n",
       "50%         213.000000\n",
       "75%         385.000000\n",
       "max         522.000000\n",
       "Name: app_code, dtype: float64"
      ]
     },
     "execution_count": 18,
     "metadata": {},
     "output_type": "execute_result"
    }
   ],
   "source": [
    "train.app_code.describe()"
   ]
  },
  {
   "cell_type": "code",
   "execution_count": 19,
   "metadata": {
    "colab": {
     "base_uri": "https://localhost:8080/"
    },
    "colab_type": "code",
    "id": "MhG_8919N78U",
    "outputId": "ab2d63cc-c9a4-4d1d-adab-0df9edd30b6c"
   },
   "outputs": [
    {
     "data": {
      "text/plain": [
       "count    237609.000000\n",
       "mean      46454.526828\n",
       "std       26802.726666\n",
       "min           0.000000\n",
       "25%       23197.000000\n",
       "50%       46597.000000\n",
       "75%       69684.000000\n",
       "max       92586.000000\n",
       "Name: user_id, dtype: float64"
      ]
     },
     "execution_count": 19,
     "metadata": {},
     "output_type": "execute_result"
    }
   ],
   "source": [
    "train.user_id.describe()"
   ]
  },
  {
   "cell_type": "markdown",
   "metadata": {
    "colab_type": "text",
    "id": "psgAU1pK_7lZ"
   },
   "source": [
    "# Preparing Data"
   ]
  },
  {
   "cell_type": "code",
   "execution_count": 20,
   "metadata": {
    "colab": {
     "base_uri": "https://localhost:8080/"
    },
    "colab_type": "code",
    "id": "_91ifx4JxHOV",
    "outputId": "1fcbc471-478a-4e6a-a344-bc988696ee58"
   },
   "outputs": [
    {
     "data": {
      "text/html": [
       "<div>\n",
       "<style scoped>\n",
       "    .dataframe tbody tr th:only-of-type {\n",
       "        vertical-align: middle;\n",
       "    }\n",
       "\n",
       "    .dataframe tbody tr th {\n",
       "        vertical-align: top;\n",
       "    }\n",
       "\n",
       "    .dataframe thead th {\n",
       "        text-align: right;\n",
       "    }\n",
       "</style>\n",
       "<table border=\"1\" class=\"dataframe\">\n",
       "  <thead>\n",
       "    <tr style=\"text-align: right;\">\n",
       "      <th></th>\n",
       "      <th>server_time</th>\n",
       "      <th>device_type</th>\n",
       "      <th>session_id</th>\n",
       "      <th>user_id</th>\n",
       "      <th>item_id</th>\n",
       "      <th>item_price</th>\n",
       "      <th>category_1</th>\n",
       "      <th>category_2</th>\n",
       "      <th>category_3</th>\n",
       "      <th>product_type</th>\n",
       "    </tr>\n",
       "  </thead>\n",
       "  <tbody>\n",
       "    <tr>\n",
       "      <th>0</th>\n",
       "      <td>2018-10-15 08:58:00</td>\n",
       "      <td>android</td>\n",
       "      <td>112333</td>\n",
       "      <td>4557</td>\n",
       "      <td>32970</td>\n",
       "      <td>54685.0</td>\n",
       "      <td>16.0</td>\n",
       "      <td>56.0</td>\n",
       "      <td>253.0</td>\n",
       "      <td>3184.0</td>\n",
       "    </tr>\n",
       "    <tr>\n",
       "      <th>1</th>\n",
       "      <td>2018-10-15 08:58:00</td>\n",
       "      <td>android</td>\n",
       "      <td>503590</td>\n",
       "      <td>74788</td>\n",
       "      <td>7640</td>\n",
       "      <td>1376.0</td>\n",
       "      <td>7.0</td>\n",
       "      <td>71.0</td>\n",
       "      <td>228.0</td>\n",
       "      <td>545.0</td>\n",
       "    </tr>\n",
       "    <tr>\n",
       "      <th>2</th>\n",
       "      <td>2018-10-15 08:58:00</td>\n",
       "      <td>android</td>\n",
       "      <td>573960</td>\n",
       "      <td>23628</td>\n",
       "      <td>128855</td>\n",
       "      <td>4544.0</td>\n",
       "      <td>4.0</td>\n",
       "      <td>38.0</td>\n",
       "      <td>62.0</td>\n",
       "      <td>5609.0</td>\n",
       "    </tr>\n",
       "    <tr>\n",
       "      <th>3</th>\n",
       "      <td>2018-10-15 08:58:00</td>\n",
       "      <td>android</td>\n",
       "      <td>121691</td>\n",
       "      <td>2430</td>\n",
       "      <td>12774</td>\n",
       "      <td>904.0</td>\n",
       "      <td>17.0</td>\n",
       "      <td>39.0</td>\n",
       "      <td>252.0</td>\n",
       "      <td>2740.0</td>\n",
       "    </tr>\n",
       "    <tr>\n",
       "      <th>4</th>\n",
       "      <td>2018-10-15 08:58:00</td>\n",
       "      <td>android</td>\n",
       "      <td>218564</td>\n",
       "      <td>19227</td>\n",
       "      <td>28296</td>\n",
       "      <td>2304.0</td>\n",
       "      <td>12.0</td>\n",
       "      <td>57.0</td>\n",
       "      <td>54.0</td>\n",
       "      <td>7422.0</td>\n",
       "    </tr>\n",
       "  </tbody>\n",
       "</table>\n",
       "</div>"
      ],
      "text/plain": [
       "          server_time device_type  session_id  user_id  item_id  item_price  \\\n",
       "0 2018-10-15 08:58:00     android      112333     4557    32970     54685.0   \n",
       "1 2018-10-15 08:58:00     android      503590    74788     7640      1376.0   \n",
       "2 2018-10-15 08:58:00     android      573960    23628   128855      4544.0   \n",
       "3 2018-10-15 08:58:00     android      121691     2430    12774       904.0   \n",
       "4 2018-10-15 08:58:00     android      218564    19227    28296      2304.0   \n",
       "\n",
       "   category_1  category_2  category_3  product_type  \n",
       "0        16.0        56.0       253.0        3184.0  \n",
       "1         7.0        71.0       228.0         545.0  \n",
       "2         4.0        38.0        62.0        5609.0  \n",
       "3        17.0        39.0       252.0        2740.0  \n",
       "4        12.0        57.0        54.0        7422.0  "
      ]
     },
     "execution_count": 20,
     "metadata": {},
     "output_type": "execute_result"
    }
   ],
   "source": [
    "view_item_log = pd.merge(view_log, item_data, on='item_id', how='left')\n",
    "view_item_log.head()"
   ]
  },
  {
   "cell_type": "code",
   "execution_count": 21,
   "metadata": {},
   "outputs": [],
   "source": [
    "nb_view_hist = view_item_log.groupby('user_id').count()[['session_id']]\n",
    "nb_view_hist.columns = ['nb_view_hist']\n",
    "train = pd.merge(train, nb_view_hist, how= 'left', on= 'user_id')\n",
    "test = pd.merge(test, nb_view_hist, how= 'left', on= 'user_id')"
   ]
  },
  {
   "cell_type": "code",
   "execution_count": 22,
   "metadata": {},
   "outputs": [],
   "source": [
    "avg_item_price = view_item_log.groupby('user_id').mean()[['item_price']]\n",
    "avg_item_price.columns = ['avg_item_price']\n",
    "train = pd.merge(train, avg_item_price, how= 'left', on= 'user_id')\n",
    "test = pd.merge(test, avg_item_price, how= 'left', on= 'user_id')\n",
    "train['avg_item_price'] = train['avg_item_price'].fillna(train['avg_item_price'].median())\n",
    "test['avg_item_price'] = test['avg_item_price'].fillna(test['avg_item_price'].median())"
   ]
  },
  {
   "cell_type": "code",
   "execution_count": 23,
   "metadata": {},
   "outputs": [],
   "source": [
    "app_ad_cnt = train.groupby('app_code').agg({\"is_click\": \"count\"})\n",
    "app_ad_cnt.rename(columns={\"is_click\":\"ad_count\"},inplace=True)\n",
    "app_ad_cnt['app_code'] = app_ad_cnt.index\n",
    "app_ad_cnt['ad_pri'] = np.where( (app_ad_cnt['ad_count'] > 2000), 1, 0)\n",
    "app_ad_cnt.rename(columns={\"app_code\":\"app_code1\"},inplace=True)\n",
    "app_ad_cnt[\"click_sum\"] = train.groupby('app_code').agg({\"is_click\": \"sum\"})\n",
    "app_ad_cnt['ad_click'] = np.where( (app_ad_cnt['click_sum'] > 100), 1, 0)"
   ]
  },
  {
   "cell_type": "code",
   "execution_count": 24,
   "metadata": {},
   "outputs": [
    {
     "name": "stdout",
     "output_type": "stream",
     "text": [
      "<class 'pandas.core.frame.DataFrame'>\n",
      "Int64Index: 490 entries, 0 to 522\n",
      "Data columns (total 5 columns):\n",
      "ad_count     490 non-null int64\n",
      "app_code1    490 non-null int64\n",
      "ad_pri       490 non-null int64\n",
      "click_sum    490 non-null int64\n",
      "ad_click     490 non-null int64\n",
      "dtypes: int64(5)\n",
      "memory usage: 23.0 KB\n"
     ]
    }
   ],
   "source": [
    "app_ad_cnt.info()"
   ]
  },
  {
   "cell_type": "code",
   "execution_count": 25,
   "metadata": {},
   "outputs": [
    {
     "data": {
      "text/html": [
       "<div>\n",
       "<style scoped>\n",
       "    .dataframe tbody tr th:only-of-type {\n",
       "        vertical-align: middle;\n",
       "    }\n",
       "\n",
       "    .dataframe tbody tr th {\n",
       "        vertical-align: top;\n",
       "    }\n",
       "\n",
       "    .dataframe thead th {\n",
       "        text-align: right;\n",
       "    }\n",
       "</style>\n",
       "<table border=\"1\" class=\"dataframe\">\n",
       "  <thead>\n",
       "    <tr style=\"text-align: right;\">\n",
       "      <th></th>\n",
       "      <th>ad_count</th>\n",
       "      <th>app_code1</th>\n",
       "      <th>ad_pri</th>\n",
       "      <th>click_sum</th>\n",
       "      <th>ad_click</th>\n",
       "    </tr>\n",
       "    <tr>\n",
       "      <th>app_code</th>\n",
       "      <th></th>\n",
       "      <th></th>\n",
       "      <th></th>\n",
       "      <th></th>\n",
       "      <th></th>\n",
       "    </tr>\n",
       "  </thead>\n",
       "  <tbody>\n",
       "    <tr>\n",
       "      <th>290</th>\n",
       "      <td>53</td>\n",
       "      <td>290</td>\n",
       "      <td>0</td>\n",
       "      <td>2</td>\n",
       "      <td>0</td>\n",
       "    </tr>\n",
       "    <tr>\n",
       "      <th>160</th>\n",
       "      <td>3</td>\n",
       "      <td>160</td>\n",
       "      <td>0</td>\n",
       "      <td>0</td>\n",
       "      <td>0</td>\n",
       "    </tr>\n",
       "    <tr>\n",
       "      <th>176</th>\n",
       "      <td>71</td>\n",
       "      <td>176</td>\n",
       "      <td>0</td>\n",
       "      <td>12</td>\n",
       "      <td>0</td>\n",
       "    </tr>\n",
       "    <tr>\n",
       "      <th>491</th>\n",
       "      <td>437</td>\n",
       "      <td>491</td>\n",
       "      <td>0</td>\n",
       "      <td>16</td>\n",
       "      <td>0</td>\n",
       "    </tr>\n",
       "    <tr>\n",
       "      <th>319</th>\n",
       "      <td>643</td>\n",
       "      <td>319</td>\n",
       "      <td>0</td>\n",
       "      <td>16</td>\n",
       "      <td>0</td>\n",
       "    </tr>\n",
       "    <tr>\n",
       "      <th>208</th>\n",
       "      <td>1</td>\n",
       "      <td>208</td>\n",
       "      <td>0</td>\n",
       "      <td>0</td>\n",
       "      <td>0</td>\n",
       "    </tr>\n",
       "    <tr>\n",
       "      <th>291</th>\n",
       "      <td>192</td>\n",
       "      <td>291</td>\n",
       "      <td>0</td>\n",
       "      <td>10</td>\n",
       "      <td>0</td>\n",
       "    </tr>\n",
       "    <tr>\n",
       "      <th>236</th>\n",
       "      <td>6</td>\n",
       "      <td>236</td>\n",
       "      <td>0</td>\n",
       "      <td>0</td>\n",
       "      <td>0</td>\n",
       "    </tr>\n",
       "    <tr>\n",
       "      <th>265</th>\n",
       "      <td>1</td>\n",
       "      <td>265</td>\n",
       "      <td>0</td>\n",
       "      <td>0</td>\n",
       "      <td>0</td>\n",
       "    </tr>\n",
       "    <tr>\n",
       "      <th>178</th>\n",
       "      <td>257</td>\n",
       "      <td>178</td>\n",
       "      <td>0</td>\n",
       "      <td>9</td>\n",
       "      <td>0</td>\n",
       "    </tr>\n",
       "  </tbody>\n",
       "</table>\n",
       "</div>"
      ],
      "text/plain": [
       "          ad_count  app_code1  ad_pri  click_sum  ad_click\n",
       "app_code                                                  \n",
       "290             53        290       0          2         0\n",
       "160              3        160       0          0         0\n",
       "176             71        176       0         12         0\n",
       "491            437        491       0         16         0\n",
       "319            643        319       0         16         0\n",
       "208              1        208       0          0         0\n",
       "291            192        291       0         10         0\n",
       "236              6        236       0          0         0\n",
       "265              1        265       0          0         0\n",
       "178            257        178       0          9         0"
      ]
     },
     "execution_count": 25,
     "metadata": {},
     "output_type": "execute_result"
    }
   ],
   "source": [
    "app_ad_cnt.sample(10)"
   ]
  },
  {
   "cell_type": "code",
   "execution_count": 26,
   "metadata": {},
   "outputs": [],
   "source": [
    "train = pd.merge(train, app_ad_cnt, left_on=\"app_code\", right_on=\"app_code1\", how ='left')\n",
    "test = pd.merge(test, app_ad_cnt, left_on=\"app_code\", right_on=\"app_code1\", how ='left')"
   ]
  },
  {
   "cell_type": "code",
   "execution_count": 27,
   "metadata": {},
   "outputs": [],
   "source": [
    "test['ad_count'] = test['ad_count'].fillna(test['ad_count'].median())\n",
    "test['ad_pri'] = test['ad_pri'].fillna(test['ad_pri'].median())\n",
    "test['click_sum'] = test['click_sum'].fillna(test['click_sum'].median())\n",
    "test['ad_click'] = test['ad_click'].fillna(test['ad_click'].median())"
   ]
  },
  {
   "cell_type": "code",
   "execution_count": 28,
   "metadata": {
    "colab": {},
    "colab_type": "code",
    "id": "OuE30qqTOJPi"
   },
   "outputs": [],
   "source": [
    "train['impression_time_quarter'] = train['impression_time'].dt.quarter\n",
    "train['impression_time_year'] = train['impression_time'].dt.year\n",
    "train['impression_time_month'] = train['impression_time'].dt.month\n",
    "train['impression_time_day'] = train['impression_time'].dt.day\n",
    "train['impression_time_hour'] = train['impression_time'].dt.hour\n",
    "train['impression_time_dayofweek'] = train['impression_time'].dt.dayofweek\n",
    "train['impression_time_weekday'] = train['impression_time'].dt.weekday_name\n",
    "train['impression_time_is_weekend'] = np.where(train['impression_time'].dt.dayofweek.isin(['Sunday', 'Saturday']), 1,0)\n",
    "\n",
    "test['impression_time_quarter'] = test['impression_time'].dt.quarter\n",
    "test['impression_time_year'] = test['impression_time'].dt.year\n",
    "test['impression_time_month'] = test['impression_time'].dt.month\n",
    "test['impression_time_day'] = test['impression_time'].dt.day\n",
    "test['impression_time_hour'] = test['impression_time'].dt.hour\n",
    "test['impression_time_dayofweek'] = test['impression_time'].dt.dayofweek\n",
    "test['impression_time_weekday'] = test['impression_time'].dt.weekday_name\n",
    "test['impression_time_is_weekend'] = np.where(test['impression_time'].dt.dayofweek.isin(['Sunday', 'Saturday']), 1,0)"
   ]
  },
  {
   "cell_type": "code",
   "execution_count": 29,
   "metadata": {
    "colab": {
     "base_uri": "https://localhost:8080/"
    },
    "colab_type": "code",
    "id": "oKLIEW8ZOXYn",
    "outputId": "67100db4-7595-4af0-c241-8adbcbd37ead"
   },
   "outputs": [
    {
     "data": {
      "text/html": [
       "<div>\n",
       "<style scoped>\n",
       "    .dataframe tbody tr th:only-of-type {\n",
       "        vertical-align: middle;\n",
       "    }\n",
       "\n",
       "    .dataframe tbody tr th {\n",
       "        vertical-align: top;\n",
       "    }\n",
       "\n",
       "    .dataframe thead th {\n",
       "        text-align: right;\n",
       "    }\n",
       "</style>\n",
       "<table border=\"1\" class=\"dataframe\">\n",
       "  <thead>\n",
       "    <tr style=\"text-align: right;\">\n",
       "      <th></th>\n",
       "      <th>impression_id</th>\n",
       "      <th>impression_time</th>\n",
       "      <th>user_id</th>\n",
       "      <th>app_code</th>\n",
       "      <th>os_version</th>\n",
       "      <th>is_4G</th>\n",
       "      <th>is_click</th>\n",
       "      <th>nb_view_hist</th>\n",
       "      <th>avg_item_price</th>\n",
       "      <th>ad_count</th>\n",
       "      <th>app_code1</th>\n",
       "      <th>ad_pri</th>\n",
       "      <th>click_sum</th>\n",
       "      <th>ad_click</th>\n",
       "      <th>impression_time_quarter</th>\n",
       "      <th>impression_time_year</th>\n",
       "      <th>impression_time_month</th>\n",
       "      <th>impression_time_day</th>\n",
       "      <th>impression_time_hour</th>\n",
       "      <th>impression_time_dayofweek</th>\n",
       "      <th>impression_time_weekday</th>\n",
       "      <th>impression_time_is_weekend</th>\n",
       "    </tr>\n",
       "  </thead>\n",
       "  <tbody>\n",
       "    <tr>\n",
       "      <th>0</th>\n",
       "      <td>c4ca4238a0b923820dcc509a6f75849b</td>\n",
       "      <td>2018-11-15 00:00:00</td>\n",
       "      <td>87862</td>\n",
       "      <td>422</td>\n",
       "      <td>old</td>\n",
       "      <td>0</td>\n",
       "      <td>0</td>\n",
       "      <td>1</td>\n",
       "      <td>2350.000000</td>\n",
       "      <td>395</td>\n",
       "      <td>422</td>\n",
       "      <td>0</td>\n",
       "      <td>58</td>\n",
       "      <td>0</td>\n",
       "      <td>4</td>\n",
       "      <td>2018</td>\n",
       "      <td>11</td>\n",
       "      <td>15</td>\n",
       "      <td>0</td>\n",
       "      <td>3</td>\n",
       "      <td>Thursday</td>\n",
       "      <td>0</td>\n",
       "    </tr>\n",
       "    <tr>\n",
       "      <th>1</th>\n",
       "      <td>45c48cce2e2d7fbdea1afc51c7c6ad26</td>\n",
       "      <td>2018-11-15 00:01:00</td>\n",
       "      <td>63410</td>\n",
       "      <td>467</td>\n",
       "      <td>latest</td>\n",
       "      <td>1</td>\n",
       "      <td>1</td>\n",
       "      <td>12</td>\n",
       "      <td>4452.833333</td>\n",
       "      <td>422</td>\n",
       "      <td>467</td>\n",
       "      <td>0</td>\n",
       "      <td>26</td>\n",
       "      <td>0</td>\n",
       "      <td>4</td>\n",
       "      <td>2018</td>\n",
       "      <td>11</td>\n",
       "      <td>15</td>\n",
       "      <td>0</td>\n",
       "      <td>3</td>\n",
       "      <td>Thursday</td>\n",
       "      <td>0</td>\n",
       "    </tr>\n",
       "    <tr>\n",
       "      <th>2</th>\n",
       "      <td>70efdf2ec9b086079795c442636b55fb</td>\n",
       "      <td>2018-11-15 00:02:00</td>\n",
       "      <td>71748</td>\n",
       "      <td>259</td>\n",
       "      <td>intermediate</td>\n",
       "      <td>1</td>\n",
       "      <td>0</td>\n",
       "      <td>2</td>\n",
       "      <td>1598.500000</td>\n",
       "      <td>281</td>\n",
       "      <td>259</td>\n",
       "      <td>0</td>\n",
       "      <td>14</td>\n",
       "      <td>0</td>\n",
       "      <td>4</td>\n",
       "      <td>2018</td>\n",
       "      <td>11</td>\n",
       "      <td>15</td>\n",
       "      <td>0</td>\n",
       "      <td>3</td>\n",
       "      <td>Thursday</td>\n",
       "      <td>0</td>\n",
       "    </tr>\n",
       "    <tr>\n",
       "      <th>3</th>\n",
       "      <td>8e296a067a37563370ded05f5a3bf3ec</td>\n",
       "      <td>2018-11-15 00:02:00</td>\n",
       "      <td>69209</td>\n",
       "      <td>244</td>\n",
       "      <td>latest</td>\n",
       "      <td>1</td>\n",
       "      <td>0</td>\n",
       "      <td>18</td>\n",
       "      <td>9963.388889</td>\n",
       "      <td>4369</td>\n",
       "      <td>244</td>\n",
       "      <td>1</td>\n",
       "      <td>539</td>\n",
       "      <td>1</td>\n",
       "      <td>4</td>\n",
       "      <td>2018</td>\n",
       "      <td>11</td>\n",
       "      <td>15</td>\n",
       "      <td>0</td>\n",
       "      <td>3</td>\n",
       "      <td>Thursday</td>\n",
       "      <td>0</td>\n",
       "    </tr>\n",
       "    <tr>\n",
       "      <th>4</th>\n",
       "      <td>182be0c5cdcd5072bb1864cdee4d3d6e</td>\n",
       "      <td>2018-11-15 00:02:00</td>\n",
       "      <td>62873</td>\n",
       "      <td>473</td>\n",
       "      <td>latest</td>\n",
       "      <td>0</td>\n",
       "      <td>0</td>\n",
       "      <td>46</td>\n",
       "      <td>8618.934783</td>\n",
       "      <td>1235</td>\n",
       "      <td>473</td>\n",
       "      <td>0</td>\n",
       "      <td>62</td>\n",
       "      <td>0</td>\n",
       "      <td>4</td>\n",
       "      <td>2018</td>\n",
       "      <td>11</td>\n",
       "      <td>15</td>\n",
       "      <td>0</td>\n",
       "      <td>3</td>\n",
       "      <td>Thursday</td>\n",
       "      <td>0</td>\n",
       "    </tr>\n",
       "  </tbody>\n",
       "</table>\n",
       "</div>"
      ],
      "text/plain": [
       "                      impression_id     impression_time  user_id  app_code  \\\n",
       "0  c4ca4238a0b923820dcc509a6f75849b 2018-11-15 00:00:00    87862       422   \n",
       "1  45c48cce2e2d7fbdea1afc51c7c6ad26 2018-11-15 00:01:00    63410       467   \n",
       "2  70efdf2ec9b086079795c442636b55fb 2018-11-15 00:02:00    71748       259   \n",
       "3  8e296a067a37563370ded05f5a3bf3ec 2018-11-15 00:02:00    69209       244   \n",
       "4  182be0c5cdcd5072bb1864cdee4d3d6e 2018-11-15 00:02:00    62873       473   \n",
       "\n",
       "     os_version  is_4G  is_click  nb_view_hist  avg_item_price  ad_count  \\\n",
       "0           old      0         0             1     2350.000000       395   \n",
       "1        latest      1         1            12     4452.833333       422   \n",
       "2  intermediate      1         0             2     1598.500000       281   \n",
       "3        latest      1         0            18     9963.388889      4369   \n",
       "4        latest      0         0            46     8618.934783      1235   \n",
       "\n",
       "   app_code1  ad_pri  click_sum  ad_click  impression_time_quarter  \\\n",
       "0        422       0         58         0                        4   \n",
       "1        467       0         26         0                        4   \n",
       "2        259       0         14         0                        4   \n",
       "3        244       1        539         1                        4   \n",
       "4        473       0         62         0                        4   \n",
       "\n",
       "   impression_time_year  impression_time_month  impression_time_day  \\\n",
       "0                  2018                     11                   15   \n",
       "1                  2018                     11                   15   \n",
       "2                  2018                     11                   15   \n",
       "3                  2018                     11                   15   \n",
       "4                  2018                     11                   15   \n",
       "\n",
       "   impression_time_hour  impression_time_dayofweek impression_time_weekday  \\\n",
       "0                     0                          3                Thursday   \n",
       "1                     0                          3                Thursday   \n",
       "2                     0                          3                Thursday   \n",
       "3                     0                          3                Thursday   \n",
       "4                     0                          3                Thursday   \n",
       "\n",
       "   impression_time_is_weekend  \n",
       "0                           0  \n",
       "1                           0  \n",
       "2                           0  \n",
       "3                           0  \n",
       "4                           0  "
      ]
     },
     "execution_count": 29,
     "metadata": {},
     "output_type": "execute_result"
    }
   ],
   "source": [
    "train.head()"
   ]
  },
  {
   "cell_type": "code",
   "execution_count": 30,
   "metadata": {
    "colab": {
     "base_uri": "https://localhost:8080/"
    },
    "colab_type": "code",
    "id": "6z_kMB2WxHOp",
    "outputId": "4d449b54-3d17-4047-c769-607e28a00ef0"
   },
   "outputs": [
    {
     "data": {
      "text/plain": [
       "impression_id                 0\n",
       "impression_time               0\n",
       "user_id                       0\n",
       "app_code                      0\n",
       "os_version                    0\n",
       "is_4G                         0\n",
       "is_click                      0\n",
       "nb_view_hist                  0\n",
       "avg_item_price                0\n",
       "ad_count                      0\n",
       "app_code1                     0\n",
       "ad_pri                        0\n",
       "click_sum                     0\n",
       "ad_click                      0\n",
       "impression_time_quarter       0\n",
       "impression_time_year          0\n",
       "impression_time_month         0\n",
       "impression_time_day           0\n",
       "impression_time_hour          0\n",
       "impression_time_dayofweek     0\n",
       "impression_time_weekday       0\n",
       "impression_time_is_weekend    0\n",
       "dtype: int64"
      ]
     },
     "execution_count": 30,
     "metadata": {},
     "output_type": "execute_result"
    }
   ],
   "source": [
    "# Checking for NULL/missing values\n",
    "train.isnull().sum()"
   ]
  },
  {
   "cell_type": "code",
   "execution_count": 31,
   "metadata": {},
   "outputs": [
    {
     "data": {
      "text/plain": [
       "impression_id                  0\n",
       "impression_time                0\n",
       "user_id                        0\n",
       "app_code                       0\n",
       "os_version                     0\n",
       "is_4G                          0\n",
       "nb_view_hist                   0\n",
       "avg_item_price                 0\n",
       "ad_count                       0\n",
       "app_code1                     55\n",
       "ad_pri                         0\n",
       "click_sum                      0\n",
       "ad_click                       0\n",
       "impression_time_quarter        0\n",
       "impression_time_year           0\n",
       "impression_time_month          0\n",
       "impression_time_day            0\n",
       "impression_time_hour           0\n",
       "impression_time_dayofweek      0\n",
       "impression_time_weekday        0\n",
       "impression_time_is_weekend     0\n",
       "dtype: int64"
      ]
     },
     "execution_count": 31,
     "metadata": {},
     "output_type": "execute_result"
    }
   ],
   "source": [
    "test.isnull().sum()"
   ]
  },
  {
   "cell_type": "code",
   "execution_count": 32,
   "metadata": {
    "colab": {
     "base_uri": "https://localhost:8080/"
    },
    "colab_type": "code",
    "id": "n1fyH8AcxHOr",
    "outputId": "e3e9ed68-52ce-42c5-effd-9da5a900c6f3"
   },
   "outputs": [
    {
     "name": "stdout",
     "output_type": "stream",
     "text": [
      "<class 'pandas.core.frame.DataFrame'>\n",
      "Int64Index: 237609 entries, 0 to 237608\n",
      "Data columns (total 22 columns):\n",
      "impression_id                 237609 non-null object\n",
      "impression_time               237609 non-null datetime64[ns]\n",
      "user_id                       237609 non-null int64\n",
      "app_code                      237609 non-null int64\n",
      "os_version                    237609 non-null object\n",
      "is_4G                         237609 non-null int64\n",
      "is_click                      237609 non-null int64\n",
      "nb_view_hist                  237609 non-null int64\n",
      "avg_item_price                237609 non-null float64\n",
      "ad_count                      237609 non-null int64\n",
      "app_code1                     237609 non-null int64\n",
      "ad_pri                        237609 non-null int64\n",
      "click_sum                     237609 non-null int64\n",
      "ad_click                      237609 non-null int64\n",
      "impression_time_quarter       237609 non-null int64\n",
      "impression_time_year          237609 non-null int64\n",
      "impression_time_month         237609 non-null int64\n",
      "impression_time_day           237609 non-null int64\n",
      "impression_time_hour          237609 non-null int64\n",
      "impression_time_dayofweek     237609 non-null int64\n",
      "impression_time_weekday       237609 non-null object\n",
      "impression_time_is_weekend    237609 non-null int64\n",
      "dtypes: datetime64[ns](1), float64(1), int64(17), object(3)\n",
      "memory usage: 41.7+ MB\n"
     ]
    }
   ],
   "source": [
    "train.info()"
   ]
  },
  {
   "cell_type": "code",
   "execution_count": 33,
   "metadata": {},
   "outputs": [
    {
     "name": "stdout",
     "output_type": "stream",
     "text": [
      "<class 'pandas.core.frame.DataFrame'>\n",
      "Int64Index: 90675 entries, 0 to 90674\n",
      "Data columns (total 21 columns):\n",
      "impression_id                 90675 non-null object\n",
      "impression_time               90675 non-null datetime64[ns]\n",
      "user_id                       90675 non-null int64\n",
      "app_code                      90675 non-null int64\n",
      "os_version                    90675 non-null object\n",
      "is_4G                         90675 non-null int64\n",
      "nb_view_hist                  90675 non-null int64\n",
      "avg_item_price                90675 non-null float64\n",
      "ad_count                      90675 non-null float64\n",
      "app_code1                     90620 non-null float64\n",
      "ad_pri                        90675 non-null float64\n",
      "click_sum                     90675 non-null float64\n",
      "ad_click                      90675 non-null float64\n",
      "impression_time_quarter       90675 non-null int64\n",
      "impression_time_year          90675 non-null int64\n",
      "impression_time_month         90675 non-null int64\n",
      "impression_time_day           90675 non-null int64\n",
      "impression_time_hour          90675 non-null int64\n",
      "impression_time_dayofweek     90675 non-null int64\n",
      "impression_time_weekday       90675 non-null object\n",
      "impression_time_is_weekend    90675 non-null int64\n",
      "dtypes: datetime64[ns](1), float64(6), int64(11), object(3)\n",
      "memory usage: 15.2+ MB\n"
     ]
    }
   ],
   "source": [
    "test.info()"
   ]
  },
  {
   "cell_type": "code",
   "execution_count": 34,
   "metadata": {
    "colab": {},
    "colab_type": "code",
    "id": "VdPtFEkbAPWv"
   },
   "outputs": [],
   "source": [
    "train.drop([\"impression_id\",\"impression_time\",\"user_id\",\"app_code1\"], axis=1, inplace=True)\n",
    "test.drop([\"impression_id\",\"impression_time\",\"user_id\",\"app_code1\"], axis=1, inplace=True)"
   ]
  },
  {
   "cell_type": "code",
   "execution_count": 35,
   "metadata": {
    "colab": {
     "base_uri": "https://localhost:8080/"
    },
    "colab_type": "code",
    "id": "FQ_j-x_H_39Z",
    "outputId": "a9ce8933-7086-416d-aae0-6cbca1531c2d"
   },
   "outputs": [
    {
     "data": {
      "text/plain": [
       "['os_version', 'impression_time_weekday']"
      ]
     },
     "execution_count": 35,
     "metadata": {},
     "output_type": "execute_result"
    }
   ],
   "source": [
    "str_cols= train.loc[:, train.dtypes=='object'].columns.tolist()\n",
    "str_cols"
   ]
  },
  {
   "cell_type": "code",
   "execution_count": 36,
   "metadata": {
    "colab": {
     "base_uri": "https://localhost:8080/"
    },
    "colab_type": "code",
    "id": "kRqY-wCyAB0j",
    "outputId": "46437f17-f425-4aa0-b3ca-9590a6183efb"
   },
   "outputs": [
    {
     "data": {
      "text/html": [
       "<div>\n",
       "<style scoped>\n",
       "    .dataframe tbody tr th:only-of-type {\n",
       "        vertical-align: middle;\n",
       "    }\n",
       "\n",
       "    .dataframe tbody tr th {\n",
       "        vertical-align: top;\n",
       "    }\n",
       "\n",
       "    .dataframe thead th {\n",
       "        text-align: right;\n",
       "    }\n",
       "</style>\n",
       "<table border=\"1\" class=\"dataframe\">\n",
       "  <thead>\n",
       "    <tr style=\"text-align: right;\">\n",
       "      <th></th>\n",
       "      <th>app_code</th>\n",
       "      <th>os_version</th>\n",
       "      <th>is_4G</th>\n",
       "      <th>is_click</th>\n",
       "      <th>nb_view_hist</th>\n",
       "      <th>avg_item_price</th>\n",
       "      <th>ad_count</th>\n",
       "      <th>ad_pri</th>\n",
       "      <th>click_sum</th>\n",
       "      <th>ad_click</th>\n",
       "      <th>impression_time_quarter</th>\n",
       "      <th>impression_time_year</th>\n",
       "      <th>impression_time_month</th>\n",
       "      <th>impression_time_day</th>\n",
       "      <th>impression_time_hour</th>\n",
       "      <th>impression_time_dayofweek</th>\n",
       "      <th>impression_time_weekday</th>\n",
       "      <th>impression_time_is_weekend</th>\n",
       "    </tr>\n",
       "  </thead>\n",
       "  <tbody>\n",
       "    <tr>\n",
       "      <th>114559</th>\n",
       "      <td>371</td>\n",
       "      <td>latest</td>\n",
       "      <td>1</td>\n",
       "      <td>0</td>\n",
       "      <td>17</td>\n",
       "      <td>4594.705882</td>\n",
       "      <td>9343</td>\n",
       "      <td>1</td>\n",
       "      <td>687</td>\n",
       "      <td>1</td>\n",
       "      <td>4</td>\n",
       "      <td>2018</td>\n",
       "      <td>11</td>\n",
       "      <td>27</td>\n",
       "      <td>22</td>\n",
       "      <td>1</td>\n",
       "      <td>Tuesday</td>\n",
       "      <td>0</td>\n",
       "    </tr>\n",
       "    <tr>\n",
       "      <th>181810</th>\n",
       "      <td>129</td>\n",
       "      <td>latest</td>\n",
       "      <td>0</td>\n",
       "      <td>0</td>\n",
       "      <td>15</td>\n",
       "      <td>25906.266667</td>\n",
       "      <td>7050</td>\n",
       "      <td>1</td>\n",
       "      <td>335</td>\n",
       "      <td>1</td>\n",
       "      <td>4</td>\n",
       "      <td>2018</td>\n",
       "      <td>12</td>\n",
       "      <td>4</td>\n",
       "      <td>1</td>\n",
       "      <td>1</td>\n",
       "      <td>Tuesday</td>\n",
       "      <td>0</td>\n",
       "    </tr>\n",
       "    <tr>\n",
       "      <th>211021</th>\n",
       "      <td>190</td>\n",
       "      <td>old</td>\n",
       "      <td>0</td>\n",
       "      <td>0</td>\n",
       "      <td>108</td>\n",
       "      <td>6468.518519</td>\n",
       "      <td>17441</td>\n",
       "      <td>1</td>\n",
       "      <td>741</td>\n",
       "      <td>1</td>\n",
       "      <td>4</td>\n",
       "      <td>2018</td>\n",
       "      <td>12</td>\n",
       "      <td>6</td>\n",
       "      <td>20</td>\n",
       "      <td>3</td>\n",
       "      <td>Thursday</td>\n",
       "      <td>0</td>\n",
       "    </tr>\n",
       "    <tr>\n",
       "      <th>159550</th>\n",
       "      <td>207</td>\n",
       "      <td>latest</td>\n",
       "      <td>0</td>\n",
       "      <td>0</td>\n",
       "      <td>42</td>\n",
       "      <td>12245.500000</td>\n",
       "      <td>33788</td>\n",
       "      <td>1</td>\n",
       "      <td>482</td>\n",
       "      <td>1</td>\n",
       "      <td>4</td>\n",
       "      <td>2018</td>\n",
       "      <td>12</td>\n",
       "      <td>5</td>\n",
       "      <td>14</td>\n",
       "      <td>2</td>\n",
       "      <td>Wednesday</td>\n",
       "      <td>0</td>\n",
       "    </tr>\n",
       "    <tr>\n",
       "      <th>92502</th>\n",
       "      <td>127</td>\n",
       "      <td>latest</td>\n",
       "      <td>1</td>\n",
       "      <td>0</td>\n",
       "      <td>78</td>\n",
       "      <td>8513.269231</td>\n",
       "      <td>10851</td>\n",
       "      <td>1</td>\n",
       "      <td>577</td>\n",
       "      <td>1</td>\n",
       "      <td>4</td>\n",
       "      <td>2018</td>\n",
       "      <td>11</td>\n",
       "      <td>24</td>\n",
       "      <td>19</td>\n",
       "      <td>5</td>\n",
       "      <td>Saturday</td>\n",
       "      <td>0</td>\n",
       "    </tr>\n",
       "  </tbody>\n",
       "</table>\n",
       "</div>"
      ],
      "text/plain": [
       "        app_code os_version  is_4G  is_click  nb_view_hist  avg_item_price  \\\n",
       "114559       371     latest      1         0            17     4594.705882   \n",
       "181810       129     latest      0         0            15    25906.266667   \n",
       "211021       190        old      0         0           108     6468.518519   \n",
       "159550       207     latest      0         0            42    12245.500000   \n",
       "92502        127     latest      1         0            78     8513.269231   \n",
       "\n",
       "        ad_count  ad_pri  click_sum  ad_click  impression_time_quarter  \\\n",
       "114559      9343       1        687         1                        4   \n",
       "181810      7050       1        335         1                        4   \n",
       "211021     17441       1        741         1                        4   \n",
       "159550     33788       1        482         1                        4   \n",
       "92502      10851       1        577         1                        4   \n",
       "\n",
       "        impression_time_year  impression_time_month  impression_time_day  \\\n",
       "114559                  2018                     11                   27   \n",
       "181810                  2018                     12                    4   \n",
       "211021                  2018                     12                    6   \n",
       "159550                  2018                     12                    5   \n",
       "92502                   2018                     11                   24   \n",
       "\n",
       "        impression_time_hour  impression_time_dayofweek  \\\n",
       "114559                    22                          1   \n",
       "181810                     1                          1   \n",
       "211021                    20                          3   \n",
       "159550                    14                          2   \n",
       "92502                     19                          5   \n",
       "\n",
       "       impression_time_weekday  impression_time_is_weekend  \n",
       "114559                 Tuesday                           0  \n",
       "181810                 Tuesday                           0  \n",
       "211021                Thursday                           0  \n",
       "159550               Wednesday                           0  \n",
       "92502                 Saturday                           0  "
      ]
     },
     "execution_count": 36,
     "metadata": {},
     "output_type": "execute_result"
    }
   ],
   "source": [
    "train.sample(5)"
   ]
  },
  {
   "cell_type": "code",
   "execution_count": 37,
   "metadata": {
    "colab": {
     "base_uri": "https://localhost:8080/"
    },
    "colab_type": "code",
    "id": "Iy-jujqXAEsK",
    "outputId": "1d5476d5-8535-4a9e-9c70-60ea608f4764"
   },
   "outputs": [
    {
     "data": {
      "text/html": [
       "<div>\n",
       "<style scoped>\n",
       "    .dataframe tbody tr th:only-of-type {\n",
       "        vertical-align: middle;\n",
       "    }\n",
       "\n",
       "    .dataframe tbody tr th {\n",
       "        vertical-align: top;\n",
       "    }\n",
       "\n",
       "    .dataframe thead th {\n",
       "        text-align: right;\n",
       "    }\n",
       "</style>\n",
       "<table border=\"1\" class=\"dataframe\">\n",
       "  <thead>\n",
       "    <tr style=\"text-align: right;\">\n",
       "      <th></th>\n",
       "      <th>app_code</th>\n",
       "      <th>os_version</th>\n",
       "      <th>is_4G</th>\n",
       "      <th>nb_view_hist</th>\n",
       "      <th>avg_item_price</th>\n",
       "      <th>ad_count</th>\n",
       "      <th>ad_pri</th>\n",
       "      <th>click_sum</th>\n",
       "      <th>ad_click</th>\n",
       "      <th>impression_time_quarter</th>\n",
       "      <th>impression_time_year</th>\n",
       "      <th>impression_time_month</th>\n",
       "      <th>impression_time_day</th>\n",
       "      <th>impression_time_hour</th>\n",
       "      <th>impression_time_dayofweek</th>\n",
       "      <th>impression_time_weekday</th>\n",
       "      <th>impression_time_is_weekend</th>\n",
       "    </tr>\n",
       "  </thead>\n",
       "  <tbody>\n",
       "    <tr>\n",
       "      <th>8126</th>\n",
       "      <td>135</td>\n",
       "      <td>old</td>\n",
       "      <td>0</td>\n",
       "      <td>70</td>\n",
       "      <td>19826.671429</td>\n",
       "      <td>57.0</td>\n",
       "      <td>0.0</td>\n",
       "      <td>4.0</td>\n",
       "      <td>0.0</td>\n",
       "      <td>4</td>\n",
       "      <td>2018</td>\n",
       "      <td>12</td>\n",
       "      <td>13</td>\n",
       "      <td>19</td>\n",
       "      <td>3</td>\n",
       "      <td>Thursday</td>\n",
       "      <td>0</td>\n",
       "    </tr>\n",
       "    <tr>\n",
       "      <th>90151</th>\n",
       "      <td>386</td>\n",
       "      <td>latest</td>\n",
       "      <td>0</td>\n",
       "      <td>29</td>\n",
       "      <td>12071.344828</td>\n",
       "      <td>30706.0</td>\n",
       "      <td>1.0</td>\n",
       "      <td>248.0</td>\n",
       "      <td>1.0</td>\n",
       "      <td>4</td>\n",
       "      <td>2018</td>\n",
       "      <td>12</td>\n",
       "      <td>18</td>\n",
       "      <td>17</td>\n",
       "      <td>1</td>\n",
       "      <td>Tuesday</td>\n",
       "      <td>0</td>\n",
       "    </tr>\n",
       "    <tr>\n",
       "      <th>60508</th>\n",
       "      <td>190</td>\n",
       "      <td>old</td>\n",
       "      <td>0</td>\n",
       "      <td>95</td>\n",
       "      <td>6051.042105</td>\n",
       "      <td>17441.0</td>\n",
       "      <td>1.0</td>\n",
       "      <td>741.0</td>\n",
       "      <td>1.0</td>\n",
       "      <td>4</td>\n",
       "      <td>2018</td>\n",
       "      <td>12</td>\n",
       "      <td>16</td>\n",
       "      <td>14</td>\n",
       "      <td>6</td>\n",
       "      <td>Sunday</td>\n",
       "      <td>0</td>\n",
       "    </tr>\n",
       "    <tr>\n",
       "      <th>12315</th>\n",
       "      <td>190</td>\n",
       "      <td>latest</td>\n",
       "      <td>1</td>\n",
       "      <td>96</td>\n",
       "      <td>6253.020833</td>\n",
       "      <td>17441.0</td>\n",
       "      <td>1.0</td>\n",
       "      <td>741.0</td>\n",
       "      <td>1.0</td>\n",
       "      <td>4</td>\n",
       "      <td>2018</td>\n",
       "      <td>12</td>\n",
       "      <td>14</td>\n",
       "      <td>16</td>\n",
       "      <td>4</td>\n",
       "      <td>Friday</td>\n",
       "      <td>0</td>\n",
       "    </tr>\n",
       "    <tr>\n",
       "      <th>16492</th>\n",
       "      <td>207</td>\n",
       "      <td>latest</td>\n",
       "      <td>0</td>\n",
       "      <td>1</td>\n",
       "      <td>844.000000</td>\n",
       "      <td>33788.0</td>\n",
       "      <td>1.0</td>\n",
       "      <td>482.0</td>\n",
       "      <td>1.0</td>\n",
       "      <td>4</td>\n",
       "      <td>2018</td>\n",
       "      <td>12</td>\n",
       "      <td>13</td>\n",
       "      <td>6</td>\n",
       "      <td>3</td>\n",
       "      <td>Thursday</td>\n",
       "      <td>0</td>\n",
       "    </tr>\n",
       "  </tbody>\n",
       "</table>\n",
       "</div>"
      ],
      "text/plain": [
       "       app_code os_version  is_4G  nb_view_hist  avg_item_price  ad_count  \\\n",
       "8126        135        old      0            70    19826.671429      57.0   \n",
       "90151       386     latest      0            29    12071.344828   30706.0   \n",
       "60508       190        old      0            95     6051.042105   17441.0   \n",
       "12315       190     latest      1            96     6253.020833   17441.0   \n",
       "16492       207     latest      0             1      844.000000   33788.0   \n",
       "\n",
       "       ad_pri  click_sum  ad_click  impression_time_quarter  \\\n",
       "8126      0.0        4.0       0.0                        4   \n",
       "90151     1.0      248.0       1.0                        4   \n",
       "60508     1.0      741.0       1.0                        4   \n",
       "12315     1.0      741.0       1.0                        4   \n",
       "16492     1.0      482.0       1.0                        4   \n",
       "\n",
       "       impression_time_year  impression_time_month  impression_time_day  \\\n",
       "8126                   2018                     12                   13   \n",
       "90151                  2018                     12                   18   \n",
       "60508                  2018                     12                   16   \n",
       "12315                  2018                     12                   14   \n",
       "16492                  2018                     12                   13   \n",
       "\n",
       "       impression_time_hour  impression_time_dayofweek  \\\n",
       "8126                     19                          3   \n",
       "90151                    17                          1   \n",
       "60508                    14                          6   \n",
       "12315                    16                          4   \n",
       "16492                     6                          3   \n",
       "\n",
       "      impression_time_weekday  impression_time_is_weekend  \n",
       "8126                 Thursday                           0  \n",
       "90151                 Tuesday                           0  \n",
       "60508                  Sunday                           0  \n",
       "12315                  Friday                           0  \n",
       "16492                Thursday                           0  "
      ]
     },
     "execution_count": 37,
     "metadata": {},
     "output_type": "execute_result"
    }
   ],
   "source": [
    "test.sample(5)"
   ]
  },
  {
   "cell_type": "code",
   "execution_count": 38,
   "metadata": {
    "colab": {},
    "colab_type": "code",
    "id": "P_b_zZDl_9rd"
   },
   "outputs": [],
   "source": [
    "# One Hot Encoding\n",
    "train = pd.get_dummies(train, columns=str_cols, drop_first=True)\n",
    "test = pd.get_dummies(test, columns=str_cols, drop_first=True)"
   ]
  },
  {
   "cell_type": "code",
   "execution_count": 39,
   "metadata": {
    "colab": {
     "base_uri": "https://localhost:8080/"
    },
    "colab_type": "code",
    "id": "Dva8bykXAZDf",
    "outputId": "2241a21f-7501-413c-db3a-68256f439f71"
   },
   "outputs": [
    {
     "data": {
      "text/html": [
       "<div>\n",
       "<style scoped>\n",
       "    .dataframe tbody tr th:only-of-type {\n",
       "        vertical-align: middle;\n",
       "    }\n",
       "\n",
       "    .dataframe tbody tr th {\n",
       "        vertical-align: top;\n",
       "    }\n",
       "\n",
       "    .dataframe thead th {\n",
       "        text-align: right;\n",
       "    }\n",
       "</style>\n",
       "<table border=\"1\" class=\"dataframe\">\n",
       "  <thead>\n",
       "    <tr style=\"text-align: right;\">\n",
       "      <th></th>\n",
       "      <th>app_code</th>\n",
       "      <th>is_4G</th>\n",
       "      <th>is_click</th>\n",
       "      <th>nb_view_hist</th>\n",
       "      <th>avg_item_price</th>\n",
       "      <th>ad_count</th>\n",
       "      <th>ad_pri</th>\n",
       "      <th>click_sum</th>\n",
       "      <th>ad_click</th>\n",
       "      <th>impression_time_quarter</th>\n",
       "      <th>impression_time_year</th>\n",
       "      <th>impression_time_month</th>\n",
       "      <th>impression_time_day</th>\n",
       "      <th>impression_time_hour</th>\n",
       "      <th>impression_time_dayofweek</th>\n",
       "      <th>impression_time_is_weekend</th>\n",
       "      <th>os_version_latest</th>\n",
       "      <th>os_version_old</th>\n",
       "      <th>impression_time_weekday_Monday</th>\n",
       "      <th>impression_time_weekday_Saturday</th>\n",
       "      <th>impression_time_weekday_Sunday</th>\n",
       "      <th>impression_time_weekday_Thursday</th>\n",
       "      <th>impression_time_weekday_Tuesday</th>\n",
       "      <th>impression_time_weekday_Wednesday</th>\n",
       "    </tr>\n",
       "  </thead>\n",
       "  <tbody>\n",
       "    <tr>\n",
       "      <th>155597</th>\n",
       "      <td>151</td>\n",
       "      <td>1</td>\n",
       "      <td>0</td>\n",
       "      <td>17</td>\n",
       "      <td>12474.352941</td>\n",
       "      <td>2176</td>\n",
       "      <td>1</td>\n",
       "      <td>116</td>\n",
       "      <td>1</td>\n",
       "      <td>4</td>\n",
       "      <td>2018</td>\n",
       "      <td>12</td>\n",
       "      <td>4</td>\n",
       "      <td>19</td>\n",
       "      <td>1</td>\n",
       "      <td>0</td>\n",
       "      <td>1</td>\n",
       "      <td>0</td>\n",
       "      <td>0</td>\n",
       "      <td>0</td>\n",
       "      <td>0</td>\n",
       "      <td>0</td>\n",
       "      <td>1</td>\n",
       "      <td>0</td>\n",
       "    </tr>\n",
       "    <tr>\n",
       "      <th>107093</th>\n",
       "      <td>129</td>\n",
       "      <td>1</td>\n",
       "      <td>0</td>\n",
       "      <td>42</td>\n",
       "      <td>19463.619048</td>\n",
       "      <td>7050</td>\n",
       "      <td>1</td>\n",
       "      <td>335</td>\n",
       "      <td>1</td>\n",
       "      <td>4</td>\n",
       "      <td>2018</td>\n",
       "      <td>11</td>\n",
       "      <td>27</td>\n",
       "      <td>11</td>\n",
       "      <td>1</td>\n",
       "      <td>0</td>\n",
       "      <td>1</td>\n",
       "      <td>0</td>\n",
       "      <td>0</td>\n",
       "      <td>0</td>\n",
       "      <td>0</td>\n",
       "      <td>0</td>\n",
       "      <td>1</td>\n",
       "      <td>0</td>\n",
       "    </tr>\n",
       "    <tr>\n",
       "      <th>35696</th>\n",
       "      <td>386</td>\n",
       "      <td>0</td>\n",
       "      <td>0</td>\n",
       "      <td>29</td>\n",
       "      <td>14581.655172</td>\n",
       "      <td>30706</td>\n",
       "      <td>1</td>\n",
       "      <td>248</td>\n",
       "      <td>1</td>\n",
       "      <td>4</td>\n",
       "      <td>2018</td>\n",
       "      <td>11</td>\n",
       "      <td>17</td>\n",
       "      <td>18</td>\n",
       "      <td>5</td>\n",
       "      <td>0</td>\n",
       "      <td>0</td>\n",
       "      <td>0</td>\n",
       "      <td>0</td>\n",
       "      <td>1</td>\n",
       "      <td>0</td>\n",
       "      <td>0</td>\n",
       "      <td>0</td>\n",
       "      <td>0</td>\n",
       "    </tr>\n",
       "    <tr>\n",
       "      <th>154196</th>\n",
       "      <td>296</td>\n",
       "      <td>0</td>\n",
       "      <td>0</td>\n",
       "      <td>62</td>\n",
       "      <td>7062.129032</td>\n",
       "      <td>7453</td>\n",
       "      <td>1</td>\n",
       "      <td>574</td>\n",
       "      <td>1</td>\n",
       "      <td>4</td>\n",
       "      <td>2018</td>\n",
       "      <td>12</td>\n",
       "      <td>4</td>\n",
       "      <td>14</td>\n",
       "      <td>1</td>\n",
       "      <td>0</td>\n",
       "      <td>0</td>\n",
       "      <td>1</td>\n",
       "      <td>0</td>\n",
       "      <td>0</td>\n",
       "      <td>0</td>\n",
       "      <td>0</td>\n",
       "      <td>1</td>\n",
       "      <td>0</td>\n",
       "    </tr>\n",
       "    <tr>\n",
       "      <th>66339</th>\n",
       "      <td>463</td>\n",
       "      <td>0</td>\n",
       "      <td>0</td>\n",
       "      <td>3</td>\n",
       "      <td>6336.000000</td>\n",
       "      <td>2463</td>\n",
       "      <td>1</td>\n",
       "      <td>38</td>\n",
       "      <td>0</td>\n",
       "      <td>4</td>\n",
       "      <td>2018</td>\n",
       "      <td>11</td>\n",
       "      <td>26</td>\n",
       "      <td>23</td>\n",
       "      <td>0</td>\n",
       "      <td>0</td>\n",
       "      <td>1</td>\n",
       "      <td>0</td>\n",
       "      <td>1</td>\n",
       "      <td>0</td>\n",
       "      <td>0</td>\n",
       "      <td>0</td>\n",
       "      <td>0</td>\n",
       "      <td>0</td>\n",
       "    </tr>\n",
       "  </tbody>\n",
       "</table>\n",
       "</div>"
      ],
      "text/plain": [
       "        app_code  is_4G  is_click  nb_view_hist  avg_item_price  ad_count  \\\n",
       "155597       151      1         0            17    12474.352941      2176   \n",
       "107093       129      1         0            42    19463.619048      7050   \n",
       "35696        386      0         0            29    14581.655172     30706   \n",
       "154196       296      0         0            62     7062.129032      7453   \n",
       "66339        463      0         0             3     6336.000000      2463   \n",
       "\n",
       "        ad_pri  click_sum  ad_click  impression_time_quarter  \\\n",
       "155597       1        116         1                        4   \n",
       "107093       1        335         1                        4   \n",
       "35696        1        248         1                        4   \n",
       "154196       1        574         1                        4   \n",
       "66339        1         38         0                        4   \n",
       "\n",
       "        impression_time_year  impression_time_month  impression_time_day  \\\n",
       "155597                  2018                     12                    4   \n",
       "107093                  2018                     11                   27   \n",
       "35696                   2018                     11                   17   \n",
       "154196                  2018                     12                    4   \n",
       "66339                   2018                     11                   26   \n",
       "\n",
       "        impression_time_hour  impression_time_dayofweek  \\\n",
       "155597                    19                          1   \n",
       "107093                    11                          1   \n",
       "35696                     18                          5   \n",
       "154196                    14                          1   \n",
       "66339                     23                          0   \n",
       "\n",
       "        impression_time_is_weekend  os_version_latest  os_version_old  \\\n",
       "155597                           0                  1               0   \n",
       "107093                           0                  1               0   \n",
       "35696                            0                  0               0   \n",
       "154196                           0                  0               1   \n",
       "66339                            0                  1               0   \n",
       "\n",
       "        impression_time_weekday_Monday  impression_time_weekday_Saturday  \\\n",
       "155597                               0                                 0   \n",
       "107093                               0                                 0   \n",
       "35696                                0                                 1   \n",
       "154196                               0                                 0   \n",
       "66339                                1                                 0   \n",
       "\n",
       "        impression_time_weekday_Sunday  impression_time_weekday_Thursday  \\\n",
       "155597                               0                                 0   \n",
       "107093                               0                                 0   \n",
       "35696                                0                                 0   \n",
       "154196                               0                                 0   \n",
       "66339                                0                                 0   \n",
       "\n",
       "        impression_time_weekday_Tuesday  impression_time_weekday_Wednesday  \n",
       "155597                                1                                  0  \n",
       "107093                                1                                  0  \n",
       "35696                                 0                                  0  \n",
       "154196                                1                                  0  \n",
       "66339                                 0                                  0  "
      ]
     },
     "execution_count": 39,
     "metadata": {},
     "output_type": "execute_result"
    }
   ],
   "source": [
    "train.sample(5)"
   ]
  },
  {
   "cell_type": "code",
   "execution_count": 40,
   "metadata": {
    "colab": {
     "base_uri": "https://localhost:8080/"
    },
    "colab_type": "code",
    "id": "bGw1D5iYAH4w",
    "outputId": "064b2e3e-09d7-4646-b8ca-58cac9c86d39"
   },
   "outputs": [
    {
     "name": "stdout",
     "output_type": "stream",
     "text": [
      "ad_count                            -0.100841\n",
      "ad_pri                              -0.033485\n",
      "os_version_latest                   -0.021237\n",
      "ad_click                            -0.009470\n",
      "impression_time_weekday_Tuesday     -0.006173\n",
      "impression_time_day                 -0.005490\n",
      "app_code                            -0.005449\n",
      "is_4G                               -0.003464\n",
      "impression_time_weekday_Wednesday   -0.002211\n",
      "avg_item_price                      -0.001949\n",
      "Name: is_click, dtype: float64\n",
      "\n",
      "impression_time_weekday_Sunday      0.004250\n",
      "impression_time_weekday_Saturday    0.004461\n",
      "impression_time_dayofweek           0.005079\n",
      "click_sum                           0.007983\n",
      "os_version_old                      0.009159\n",
      "nb_view_hist                        0.046033\n",
      "is_click                            1.000000\n",
      "impression_time_quarter                  NaN\n",
      "impression_time_year                     NaN\n",
      "impression_time_is_weekend               NaN\n",
      "Name: is_click, dtype: float64\n"
     ]
    }
   ],
   "source": [
    "# Correlations between Features and Target\n",
    "# Find all correlations and sort \n",
    "correlations_data = train.corr()['is_click'].sort_values()\n",
    "\n",
    "# most negative correlations\n",
    "print(correlations_data.head(10))\n",
    "print()\n",
    "\n",
    "# most positive correlations\n",
    "print(correlations_data.tail(10))"
   ]
  },
  {
   "cell_type": "code",
   "execution_count": 41,
   "metadata": {
    "colab": {
     "base_uri": "https://localhost:8080/"
    },
    "colab_type": "code",
    "id": "KBdWA80yAaz9",
    "outputId": "e3fa7f71-9f3c-4d79-d238-992d80f46e21"
   },
   "outputs": [
    {
     "name": "stdout",
     "output_type": "stream",
     "text": [
      "0    95.428624\n",
      "1     4.571376\n",
      "Name: is_click, dtype: float64\n"
     ]
    }
   ],
   "source": [
    "train2 = train.drop(['is_click'], axis=1)\n",
    "target = train[\"is_click\"]\n",
    "print(train['is_click'].value_counts(normalize=True)*100)"
   ]
  },
  {
   "cell_type": "code",
   "execution_count": 42,
   "metadata": {
    "colab": {},
    "colab_type": "code",
    "id": "6iRkWeVMAlbt"
   },
   "outputs": [],
   "source": [
    "train2 = train2.loc[:, test.columns]"
   ]
  },
  {
   "cell_type": "code",
   "execution_count": 43,
   "metadata": {
    "colab": {
     "base_uri": "https://localhost:8080/"
    },
    "colab_type": "code",
    "id": "OgJSVK3zAnpL",
    "outputId": "c910c375-0907-41e3-b40d-04df4084e600"
   },
   "outputs": [
    {
     "data": {
      "text/html": [
       "<div>\n",
       "<style scoped>\n",
       "    .dataframe tbody tr th:only-of-type {\n",
       "        vertical-align: middle;\n",
       "    }\n",
       "\n",
       "    .dataframe tbody tr th {\n",
       "        vertical-align: top;\n",
       "    }\n",
       "\n",
       "    .dataframe thead th {\n",
       "        text-align: right;\n",
       "    }\n",
       "</style>\n",
       "<table border=\"1\" class=\"dataframe\">\n",
       "  <thead>\n",
       "    <tr style=\"text-align: right;\">\n",
       "      <th></th>\n",
       "      <th>app_code</th>\n",
       "      <th>is_4G</th>\n",
       "      <th>nb_view_hist</th>\n",
       "      <th>avg_item_price</th>\n",
       "      <th>ad_count</th>\n",
       "      <th>ad_pri</th>\n",
       "      <th>click_sum</th>\n",
       "      <th>ad_click</th>\n",
       "      <th>impression_time_quarter</th>\n",
       "      <th>impression_time_year</th>\n",
       "      <th>impression_time_month</th>\n",
       "      <th>impression_time_day</th>\n",
       "      <th>impression_time_hour</th>\n",
       "      <th>impression_time_dayofweek</th>\n",
       "      <th>impression_time_is_weekend</th>\n",
       "      <th>os_version_latest</th>\n",
       "      <th>os_version_old</th>\n",
       "      <th>impression_time_weekday_Monday</th>\n",
       "      <th>impression_time_weekday_Saturday</th>\n",
       "      <th>impression_time_weekday_Sunday</th>\n",
       "      <th>impression_time_weekday_Thursday</th>\n",
       "      <th>impression_time_weekday_Tuesday</th>\n",
       "      <th>impression_time_weekday_Wednesday</th>\n",
       "    </tr>\n",
       "  </thead>\n",
       "  <tbody>\n",
       "    <tr>\n",
       "      <th>0</th>\n",
       "      <td>422</td>\n",
       "      <td>0</td>\n",
       "      <td>1</td>\n",
       "      <td>2350.000000</td>\n",
       "      <td>395</td>\n",
       "      <td>0</td>\n",
       "      <td>58</td>\n",
       "      <td>0</td>\n",
       "      <td>4</td>\n",
       "      <td>2018</td>\n",
       "      <td>11</td>\n",
       "      <td>15</td>\n",
       "      <td>0</td>\n",
       "      <td>3</td>\n",
       "      <td>0</td>\n",
       "      <td>0</td>\n",
       "      <td>1</td>\n",
       "      <td>0</td>\n",
       "      <td>0</td>\n",
       "      <td>0</td>\n",
       "      <td>1</td>\n",
       "      <td>0</td>\n",
       "      <td>0</td>\n",
       "    </tr>\n",
       "    <tr>\n",
       "      <th>1</th>\n",
       "      <td>467</td>\n",
       "      <td>1</td>\n",
       "      <td>12</td>\n",
       "      <td>4452.833333</td>\n",
       "      <td>422</td>\n",
       "      <td>0</td>\n",
       "      <td>26</td>\n",
       "      <td>0</td>\n",
       "      <td>4</td>\n",
       "      <td>2018</td>\n",
       "      <td>11</td>\n",
       "      <td>15</td>\n",
       "      <td>0</td>\n",
       "      <td>3</td>\n",
       "      <td>0</td>\n",
       "      <td>1</td>\n",
       "      <td>0</td>\n",
       "      <td>0</td>\n",
       "      <td>0</td>\n",
       "      <td>0</td>\n",
       "      <td>1</td>\n",
       "      <td>0</td>\n",
       "      <td>0</td>\n",
       "    </tr>\n",
       "    <tr>\n",
       "      <th>2</th>\n",
       "      <td>259</td>\n",
       "      <td>1</td>\n",
       "      <td>2</td>\n",
       "      <td>1598.500000</td>\n",
       "      <td>281</td>\n",
       "      <td>0</td>\n",
       "      <td>14</td>\n",
       "      <td>0</td>\n",
       "      <td>4</td>\n",
       "      <td>2018</td>\n",
       "      <td>11</td>\n",
       "      <td>15</td>\n",
       "      <td>0</td>\n",
       "      <td>3</td>\n",
       "      <td>0</td>\n",
       "      <td>0</td>\n",
       "      <td>0</td>\n",
       "      <td>0</td>\n",
       "      <td>0</td>\n",
       "      <td>0</td>\n",
       "      <td>1</td>\n",
       "      <td>0</td>\n",
       "      <td>0</td>\n",
       "    </tr>\n",
       "    <tr>\n",
       "      <th>3</th>\n",
       "      <td>244</td>\n",
       "      <td>1</td>\n",
       "      <td>18</td>\n",
       "      <td>9963.388889</td>\n",
       "      <td>4369</td>\n",
       "      <td>1</td>\n",
       "      <td>539</td>\n",
       "      <td>1</td>\n",
       "      <td>4</td>\n",
       "      <td>2018</td>\n",
       "      <td>11</td>\n",
       "      <td>15</td>\n",
       "      <td>0</td>\n",
       "      <td>3</td>\n",
       "      <td>0</td>\n",
       "      <td>1</td>\n",
       "      <td>0</td>\n",
       "      <td>0</td>\n",
       "      <td>0</td>\n",
       "      <td>0</td>\n",
       "      <td>1</td>\n",
       "      <td>0</td>\n",
       "      <td>0</td>\n",
       "    </tr>\n",
       "    <tr>\n",
       "      <th>4</th>\n",
       "      <td>473</td>\n",
       "      <td>0</td>\n",
       "      <td>46</td>\n",
       "      <td>8618.934783</td>\n",
       "      <td>1235</td>\n",
       "      <td>0</td>\n",
       "      <td>62</td>\n",
       "      <td>0</td>\n",
       "      <td>4</td>\n",
       "      <td>2018</td>\n",
       "      <td>11</td>\n",
       "      <td>15</td>\n",
       "      <td>0</td>\n",
       "      <td>3</td>\n",
       "      <td>0</td>\n",
       "      <td>1</td>\n",
       "      <td>0</td>\n",
       "      <td>0</td>\n",
       "      <td>0</td>\n",
       "      <td>0</td>\n",
       "      <td>1</td>\n",
       "      <td>0</td>\n",
       "      <td>0</td>\n",
       "    </tr>\n",
       "  </tbody>\n",
       "</table>\n",
       "</div>"
      ],
      "text/plain": [
       "   app_code  is_4G  nb_view_hist  avg_item_price  ad_count  ad_pri  click_sum  \\\n",
       "0       422      0             1     2350.000000       395       0         58   \n",
       "1       467      1            12     4452.833333       422       0         26   \n",
       "2       259      1             2     1598.500000       281       0         14   \n",
       "3       244      1            18     9963.388889      4369       1        539   \n",
       "4       473      0            46     8618.934783      1235       0         62   \n",
       "\n",
       "   ad_click  impression_time_quarter  impression_time_year  \\\n",
       "0         0                        4                  2018   \n",
       "1         0                        4                  2018   \n",
       "2         0                        4                  2018   \n",
       "3         1                        4                  2018   \n",
       "4         0                        4                  2018   \n",
       "\n",
       "   impression_time_month  impression_time_day  impression_time_hour  \\\n",
       "0                     11                   15                     0   \n",
       "1                     11                   15                     0   \n",
       "2                     11                   15                     0   \n",
       "3                     11                   15                     0   \n",
       "4                     11                   15                     0   \n",
       "\n",
       "   impression_time_dayofweek  impression_time_is_weekend  os_version_latest  \\\n",
       "0                          3                           0                  0   \n",
       "1                          3                           0                  1   \n",
       "2                          3                           0                  0   \n",
       "3                          3                           0                  1   \n",
       "4                          3                           0                  1   \n",
       "\n",
       "   os_version_old  impression_time_weekday_Monday  \\\n",
       "0               1                               0   \n",
       "1               0                               0   \n",
       "2               0                               0   \n",
       "3               0                               0   \n",
       "4               0                               0   \n",
       "\n",
       "   impression_time_weekday_Saturday  impression_time_weekday_Sunday  \\\n",
       "0                                 0                               0   \n",
       "1                                 0                               0   \n",
       "2                                 0                               0   \n",
       "3                                 0                               0   \n",
       "4                                 0                               0   \n",
       "\n",
       "   impression_time_weekday_Thursday  impression_time_weekday_Tuesday  \\\n",
       "0                                 1                                0   \n",
       "1                                 1                                0   \n",
       "2                                 1                                0   \n",
       "3                                 1                                0   \n",
       "4                                 1                                0   \n",
       "\n",
       "   impression_time_weekday_Wednesday  \n",
       "0                                  0  \n",
       "1                                  0  \n",
       "2                                  0  \n",
       "3                                  0  \n",
       "4                                  0  "
      ]
     },
     "execution_count": 43,
     "metadata": {},
     "output_type": "execute_result"
    }
   ],
   "source": [
    "train2.head()"
   ]
  },
  {
   "cell_type": "code",
   "execution_count": 44,
   "metadata": {
    "colab": {
     "base_uri": "https://localhost:8080/"
    },
    "colab_type": "code",
    "id": "VQs1ssl9AqUN",
    "outputId": "16c61da7-21c6-4ca5-bfbf-a318d425a54c"
   },
   "outputs": [
    {
     "data": {
      "text/plain": [
       "0    0\n",
       "1    1\n",
       "2    0\n",
       "3    0\n",
       "4    0\n",
       "Name: is_click, dtype: int64"
      ]
     },
     "execution_count": 44,
     "metadata": {},
     "output_type": "execute_result"
    }
   ],
   "source": [
    "target.head()"
   ]
  },
  {
   "cell_type": "code",
   "execution_count": 45,
   "metadata": {
    "colab": {},
    "colab_type": "code",
    "id": "eO9PM0V3ibSJ"
   },
   "outputs": [
    {
     "name": "stdout",
     "output_type": "stream",
     "text": [
      "226747\n",
      "226747\n"
     ]
    },
    {
     "data": {
      "text/plain": [
       "226747"
      ]
     },
     "execution_count": 45,
     "metadata": {},
     "output_type": "execute_result"
    }
   ],
   "source": [
    "# Using SMOTE for Balancing Data\n",
    "sm = SMOTE(random_state=2019)\n",
    "\n",
    "# sm = ADASYN()\n",
    "\n",
    "# sm = SVMSMOTE(random_state=2019)\n",
    "\n",
    "train2, target = sm.fit_sample(train2, target.ravel())\n",
    "print (sum(target==0))\n",
    "print (sum(target==1))\n",
    "sum(target==1)\n",
    "\n",
    "# tl = TomekLinks()\n",
    "# train2, target = tl.fit_resample(train2, target)\n",
    "\n",
    "# print (sum(target==0))\n",
    "# print (sum(target==1))\n",
    "# sum(target==1)"
   ]
  },
  {
   "cell_type": "code",
   "execution_count": 46,
   "metadata": {
    "colab": {
     "base_uri": "https://localhost:8080/"
    },
    "colab_type": "code",
    "id": "JTPHuVEVRMCu",
    "outputId": "7686e1d9-2317-4a0f-d9ed-278dc0f06ae1"
   },
   "outputs": [
    {
     "name": "stdout",
     "output_type": "stream",
     "text": [
      "train2 shape: (453494, 300)\n"
     ]
    },
    {
     "data": {
      "text/plain": [
       "PolynomialFeatures(degree=2, include_bias=True, interaction_only=False,\n",
       "                   order='C')"
      ]
     },
     "execution_count": 46,
     "metadata": {},
     "output_type": "execute_result"
    }
   ],
   "source": [
    "poly = PolynomialFeatures(degree=2)\n",
    "train2 = poly.fit_transform(train2)\n",
    "test = poly.transform(test)\n",
    "print(\"train2 shape:\", train2.shape)\n",
    "poly"
   ]
  },
  {
   "cell_type": "code",
   "execution_count": 47,
   "metadata": {
    "colab": {
     "base_uri": "https://localhost:8080/"
    },
    "colab_type": "code",
    "id": "3ku51uEahBu9",
    "outputId": "37692616-e46e-4942-ad12-ac8e3ed930a6"
   },
   "outputs": [
    {
     "name": "stdout",
     "output_type": "stream",
     "text": [
      "train2 shape: (453494, 300)\n"
     ]
    },
    {
     "data": {
      "text/plain": [
       "PCA(copy=True, iterated_power='auto', n_components=None, random_state=2019,\n",
       "    svd_solver='auto', tol=0.0, whiten=False)"
      ]
     },
     "execution_count": 47,
     "metadata": {},
     "output_type": "execute_result"
    }
   ],
   "source": [
    "pca = PCA(random_state=2019)\n",
    "#pca = PCA(random_state=2019, n_components=100)\n",
    "train2 = pca.fit_transform(train2)\n",
    "test = pca.transform(test)\n",
    "print(\"train2 shape:\", train2.shape)\n",
    "pca"
   ]
  },
  {
   "cell_type": "code",
   "execution_count": 48,
   "metadata": {
    "colab": {
     "base_uri": "https://localhost:8080/"
    },
    "colab_type": "code",
    "id": "Wr7xcNrfPiXQ",
    "outputId": "edc2f6f0-adb9-4898-eb82-8ebe11142746"
   },
   "outputs": [
    {
     "name": "stdout",
     "output_type": "stream",
     "text": [
      "\n",
      " train2 shape: (453494, 300)\n"
     ]
    }
   ],
   "source": [
    "print(\"\\n train2 shape:\", train2.shape)\n",
    "#scaler = StandardScaler()\n",
    "scaler = MinMaxScaler()\n",
    "train2 = scaler.fit_transform(train2)\n",
    "test = scaler.transform(test)\n",
    "\n",
    "# SMOTE train2 shape: (453494, 16)"
   ]
  },
  {
   "cell_type": "code",
   "execution_count": 49,
   "metadata": {},
   "outputs": [
    {
     "data": {
      "text/plain": [
       "(90675, 300)"
      ]
     },
     "execution_count": 49,
     "metadata": {},
     "output_type": "execute_result"
    }
   ],
   "source": [
    "test.shape"
   ]
  },
  {
   "cell_type": "code",
   "execution_count": 50,
   "metadata": {
    "colab": {
     "base_uri": "https://localhost:8080/"
    },
    "colab_type": "code",
    "id": "VoAcJ6HrAsO1",
    "outputId": "d0ced45c-34b9-4895-f3c9-6825a5836b09"
   },
   "outputs": [
    {
     "name": "stdout",
     "output_type": "stream",
     "text": [
      "(317445, 300) (136049, 300)\n"
     ]
    }
   ],
   "source": [
    "x_train, x_val, y_train, y_val = train_test_split(train2, target, test_size=0.3, random_state=123)\n",
    "print(x_train.shape, x_val.shape)"
   ]
  },
  {
   "cell_type": "code",
   "execution_count": 51,
   "metadata": {
    "colab": {
     "base_uri": "https://localhost:8080/"
    },
    "colab_type": "code",
    "id": "mnrMeOiXQK-6",
    "outputId": "38d4afea-b182-4c98-c237-b9c6572f8fe7"
   },
   "outputs": [
    {
     "data": {
      "text/plain": [
       "array([[5.49168476e-04, 3.53194376e-01, 2.53332974e-01, ...,\n",
       "        3.91711079e-01, 6.96827080e-04, 3.89467638e-01],\n",
       "       [3.96552647e-05, 3.73743730e-01, 2.57624314e-01, ...,\n",
       "        3.91673547e-01, 6.92706981e-04, 3.89258136e-01],\n",
       "       [8.47737313e-03, 1.65362342e-01, 1.99430939e-01, ...,\n",
       "        3.91642461e-01, 6.74730552e-04, 3.89277129e-01],\n",
       "       ...,\n",
       "       [4.43843830e-04, 3.59386761e-01, 2.54285766e-01, ...,\n",
       "        3.91649397e-01, 7.18036876e-04, 3.89374594e-01],\n",
       "       [5.04339101e-04, 3.59123217e-01, 2.53918194e-01, ...,\n",
       "        3.91660196e-01, 6.71244806e-04, 3.89345836e-01],\n",
       "       [2.69392921e-04, 3.77149745e-01, 2.57446706e-01, ...,\n",
       "        3.91690587e-01, 7.44423257e-04, 3.89262465e-01]])"
      ]
     },
     "execution_count": 51,
     "metadata": {},
     "output_type": "execute_result"
    }
   ],
   "source": [
    "x_train"
   ]
  },
  {
   "cell_type": "markdown",
   "metadata": {
    "colab_type": "text",
    "id": "iWOy2oJ9A1KY"
   },
   "source": [
    "# Neural Networks / MLP"
   ]
  },
  {
   "cell_type": "code",
   "execution_count": 52,
   "metadata": {},
   "outputs": [],
   "source": [
    "import itertools\n",
    "\n",
    "def plot_confusion_matrix(model, normalize=False): # This function prints and plots the confusion matrix.\n",
    "    cm = confusion_matrix(y_val, model, labels=[0, 1])\n",
    "    classes=[\"Will Pay\", \"Will Default\"]\n",
    "    cmap = plt.cm.Blues\n",
    "    title = \"Confusion Matrix\"\n",
    "    if normalize:\n",
    "        cm = cm.astype('float') / cm.sum(axis=1)[:, np.newaxis]\n",
    "        cm = np.around(cm, decimals=3)\n",
    "    plt.imshow(cm, interpolation='nearest', cmap=cmap)\n",
    "    plt.title(title)\n",
    "    plt.colorbar()\n",
    "    tick_marks = np.arange(len(classes))\n",
    "    plt.xticks(tick_marks, classes, rotation=45)\n",
    "    plt.yticks(tick_marks, classes)\n",
    "    thresh = cm.max() / 2.\n",
    "    for i, j in itertools.product(range(cm.shape[0]), range(cm.shape[1])):\n",
    "        plt.text(j, i, cm[i, j],\n",
    "                 horizontalalignment=\"center\",\n",
    "                 color=\"white\" if cm[i, j] > thresh else \"black\")\n",
    "    plt.tight_layout()\n",
    "    plt.ylabel('True label')\n",
    "    plt.xlabel('Predicted label')"
   ]
  },
  {
   "cell_type": "code",
   "execution_count": 53,
   "metadata": {},
   "outputs": [],
   "source": [
    "# Receiver Operating Characteristic\n",
    "sns.set('talk', 'whitegrid', 'dark', font_scale=1, font='Ricty',rc={\"lines.linewidth\": 2, 'grid.linestyle': '--'})\n",
    "\n",
    "def plotAUC(truth, pred, lab):\n",
    "    fpr, tpr, _ = roc_curve(truth,pred)\n",
    "    roc_auc = auc(fpr, tpr)\n",
    "    lw = 2\n",
    "    c = (np.random.rand(), np.random.rand(), np.random.rand())\n",
    "    plt.plot(fpr, tpr, color= c,lw=lw, label= lab +'(AUC = %0.2f)' % roc_auc)\n",
    "    plt.plot([0, 1], [0, 1], color='navy', lw=lw, linestyle='--')\n",
    "    plt.xlim([0.0, 1.0])\n",
    "    plt.ylim([0.0, 1.0])\n",
    "    plt.xlabel('False Positive Rate')\n",
    "    plt.ylabel('True Positive Rate')\n",
    "    plt.title('ROC curve')\n",
    "    plt.legend(loc=\"lower right\")"
   ]
  },
  {
   "cell_type": "code",
   "execution_count": 54,
   "metadata": {},
   "outputs": [],
   "source": [
    "%timeit\n",
    "clf_NN = MLPClassifier(activation='tanh', alpha=0.0001, max_iter=500, hidden_layer_sizes=(150, 150, 150), random_state=2019, solver='sgd')\n",
    "clf_NN.fit(x_train, y_train)\n",
    "predict_NN = clf_NN.predict(x_val)\n",
    "predictproba_NN = clf_NN.predict_proba(x_val)[:,1]\n",
    "predict_NN\n",
    "y_pred = clf_NN.predict(test)"
   ]
  },
  {
   "cell_type": "code",
   "execution_count": 55,
   "metadata": {},
   "outputs": [
    {
     "data": {
      "text/plain": [
       "MLPClassifier(activation='tanh', alpha=0.0001, batch_size='auto', beta_1=0.9,\n",
       "              beta_2=0.999, early_stopping=False, epsilon=1e-08,\n",
       "              hidden_layer_sizes=(150, 150, 150), learning_rate='constant',\n",
       "              learning_rate_init=0.001, max_iter=500, momentum=0.9,\n",
       "              n_iter_no_change=10, nesterovs_momentum=True, power_t=0.5,\n",
       "              random_state=2019, shuffle=True, solver='sgd', tol=0.0001,\n",
       "              validation_fraction=0.1, verbose=False, warm_start=False)"
      ]
     },
     "execution_count": 55,
     "metadata": {},
     "output_type": "execute_result"
    }
   ],
   "source": [
    "clf_NN"
   ]
  },
  {
   "cell_type": "code",
   "execution_count": 56,
   "metadata": {},
   "outputs": [
    {
     "name": "stderr",
     "output_type": "stream",
     "text": [
      "findfont: Font family ['Ricty'] not found. Falling back to DejaVu Sans.\n",
      "findfont: Font family ['Ricty'] not found. Falling back to DejaVu Sans.\n"
     ]
    },
    {
     "name": "stdout",
     "output_type": "stream",
     "text": [
      "0.9423222515417239\n"
     ]
    },
    {
     "data": {
      "image/png": "[encoded data removed]",
      "text/plain": [
       "<Figure size 432x288 with 1 Axes>"
      ]
     },
     "metadata": {},
     "output_type": "display_data"
    },
    {
     "data": {
      "image/png": "[encoded data removed]",
      "text/plain": [
       "<Figure size 432x432 with 2 Axes>"
      ]
     },
     "metadata": {},
     "output_type": "display_data"
    }
   ],
   "source": [
    "NNAccuracy = accuracy_score(y_val, predict_NN)\n",
    "print(NNAccuracy)\n",
    "plotAUC(y_val, predictproba_NN, 'MLP')\n",
    "plt.show()\n",
    "plt.figure(figsize=(6,6))\n",
    "plot_confusion_matrix(predict_NN, normalize=True)\n",
    "plt.show()\n",
    "\n",
    "# ROC 0.962\n",
    "# AUC 0.98"
   ]
  },
  {
   "cell_type": "code",
   "execution_count": 57,
   "metadata": {},
   "outputs": [
    {
     "name": "stdout",
     "output_type": "stream",
     "text": [
      "0    90634\n",
      "1       41\n",
      "Name: is_click, dtype: int64\n"
     ]
    }
   ],
   "source": [
    "submission = pd.DataFrame(data = {\"impression_id\":test_imp_ids, \"is_click\":y_pred})\n",
    "submission.to_csv(\"submission.csv\", index=False)\n",
    "print(submission['is_click'].value_counts())"
   ]
  },
  {
   "cell_type": "code",
   "execution_count": 63,
   "metadata": {
    "colab": {
     "base_uri": "https://localhost:8080/",
     "height": 136
    },
    "colab_type": "code",
    "id": "Fpq4W4V8By5u",
    "outputId": "f77d87b5-b2a6-4189-f576-63de09b9929a"
   },
   "outputs": [
    {
     "name": "stdout",
     "output_type": "stream",
     "text": [
      "/Users/sthirumani/Desktop/Satya/Data Science/Analytics Vidhya/WNS-analytics-wizard-2019\r\n",
      "total 349808\r\n",
      "-rwxrwxrwx@ 1 sthirumani  staff                3346472 Aug 19 11:33 \u001b[31mitem_data.csv\u001b[m\u001b[m\r\n",
      "-rwxrwxrwx@ 1 sthirumani  staff              146595750 Aug 19 19:12 \u001b[31mview_log.csv\u001b[m\u001b[m\r\n",
      "-rw-r--r--@ 1 sthirumani  staff                6567193 Aug 20 17:02 test.csv\r\n",
      "-rw-r--r--@ 1 sthirumani  staff               17681346 Aug 20 17:02 train.csv\r\n",
      "drwxr-xr-x  4 sthirumani  CORP\\Domain Users        128 Aug 29 20:02 \u001b[34mold\u001b[m\u001b[m\r\n",
      "-rw-r--r--@ 1 sthirumani  CORP\\Domain Users     118174 Aug 31 10:41 WNS_analytics_wizard_2019_v3.ipynb\r\n",
      "-rw-r--r--@ 1 sthirumani  CORP\\Domain Users     371055 Aug 31 13:43 WNS_analytics_wizard_2019_v5.ipynb\r\n",
      "-rw-r--r--@ 1 sthirumani  CORP\\Domain Users    3173648 Sep  1 20:06 submission.csv\r\n",
      "-rw-r--r--@ 1 sthirumani  CORP\\Domain Users     210660 Sep  1 20:19 WNS_analytics_wizard_2019_v4.ipynb\r\n"
     ]
    }
   ],
   "source": [
    "!pwd; ls -ltr"
   ]
  },
  {
   "cell_type": "code",
   "execution_count": 59,
   "metadata": {
    "colab": {},
    "colab_type": "code",
    "id": "V44tbJvrBxdS"
   },
   "outputs": [],
   "source": [
    "#files.download('submission.csv')"
   ]
  },
  {
   "cell_type": "code",
   "execution_count": 60,
   "metadata": {
    "colab": {},
    "colab_type": "code",
    "id": "CQNzWVB6z_el"
   },
   "outputs": [],
   "source": [
    "# parameter_space = {\n",
    "#     'hidden_layer_sizes': [(50,50,50), (50,100,50), (100,)],\n",
    "#     'activation': ['tanh', 'relu'],\n",
    "#     'solver': ['sgd', 'adam'],\n",
    "#     'alpha': [0.0001, 0.05],\n",
    "#     'learning_rate': ['constant','adaptive'],\n",
    "# }\n",
    "# clf = GridSearchCV(clf_NN, parameter_space, n_jobs=-1, cv=3)"
   ]
  },
  {
   "cell_type": "code",
   "execution_count": 61,
   "metadata": {},
   "outputs": [],
   "source": [
    "# clf.fit(train2, target)\n",
    "# Y_pred_test = clf.predict(test)\n",
    "# Y_pred_test"
   ]
  },
  {
   "cell_type": "code",
   "execution_count": 62,
   "metadata": {},
   "outputs": [],
   "source": [
    "# clf.best_params_\n",
    "# # {'activation': 'tanh',\n",
    "# #  'alpha': 0.0001,\n",
    "# #  'hidden_layer_sizes': (50, 50, 50),\n",
    "# #  'learning_rate': 'constant',\n",
    "# #  'solver': 'sgd'}"
   ]
  },
  {
   "cell_type": "code",
   "execution_count": null,
   "metadata": {},
   "outputs": [],
   "source": []
  }
 ],
 "metadata": {
  "accelerator": "GPU",
  "colab": {
   "collapsed_sections": [
    "ib0YmBaO_jVQ",
    "OWh01o7C_guF",
    "2KCBUH7F_xcw",
    "psgAU1pK_7lZ"
   ],
   "machine_shape": "hm",
   "name": "WNS_analytics_wizard_2019_v3.ipynb",
   "provenance": [],
   "version": "0.3.2"
  },
  "kernelspec": {
   "display_name": "Python 3",
   "language": "python",
   "name": "python3"
  },
  "language_info": {
   "codemirror_mode": {
    "name": "ipython",
    "version": 3
   },
   "file_extension": ".py",
   "mimetype": "text/x-python",
   "name": "python",
   "nbconvert_exporter": "python",
   "pygments_lexer": "ipython3",
   "version": "3.7.3"
  }
 },
 "nbformat": 4,
 "nbformat_minor": 1
}
