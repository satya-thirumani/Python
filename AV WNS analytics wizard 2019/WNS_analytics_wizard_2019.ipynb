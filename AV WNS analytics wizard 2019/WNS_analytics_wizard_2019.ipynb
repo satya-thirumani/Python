{
  "nbformat": 4,
  "nbformat_minor": 0,
  "metadata": {
    "colab": {
      "name": "WNS-analytics-wizard-2019 v1.ipynb",
      "version": "0.3.2",
      "provenance": [],
      "collapsed_sections": []
    },
    "kernelspec": {
      "name": "python3",
      "display_name": "Python 3"
    }
  },
  "cells": [
    {
      "cell_type": "markdown",
      "metadata": {
        "id": "ib0YmBaO_jVQ",
        "colab_type": "text"
      },
      "source": [
        "# AV WNS Analytics Wizard 2019 Hackathon\n",
        "\n",
        "Analytics Vidhya - Click Prediction Analysis in Python using sklearn package\n",
        "\n",
        "https://satya-python.blogspot.com/\n",
        "\n",
        "Jupyter Notebook in Google Colab"
      ]
    },
    {
      "cell_type": "code",
      "metadata": {
        "id": "mylBvt5Qz5h2",
        "colab_type": "code",
        "colab": {}
      },
      "source": [
        "# Importing required packages\n",
        "\n",
        "import numpy as np\n",
        "import pandas as pd\n",
        "import seaborn as sns\n",
        "import matplotlib.pyplot as plt\n",
        "\n",
        "import warnings\n",
        "warnings.filterwarnings('ignore')\n",
        "\n",
        "from sklearn.model_selection import train_test_split\n",
        "from sklearn.metrics import accuracy_score, f1_score, roc_auc_score,confusion_matrix\n",
        "from sklearn.linear_model import LogisticRegression\n",
        "from sklearn.ensemble import RandomForestClassifier\n",
        "from sklearn.preprocessing import StandardScaler,MinMaxScaler,PolynomialFeatures\n",
        "from sklearn.decomposition import PCA"
      ],
      "execution_count": 0,
      "outputs": []
    },
    {
      "cell_type": "markdown",
      "metadata": {
        "id": "OWh01o7C_guF",
        "colab_type": "text"
      },
      "source": [
        "# Loading Data"
      ]
    },
    {
      "cell_type": "code",
      "metadata": {
        "id": "tZFGKSi1z9k4",
        "colab_type": "code",
        "outputId": "9ac3935c-8e1e-47a3-fdfd-bae9437602b7",
        "colab": {
          "base_uri": "https://localhost:8080/",
          "height": 139
        }
      },
      "source": [
        "from google.colab import files,drive\n",
        "drive.mount('/content/drive')\n",
        "%cd /content/drive/My\\ Drive/Analytics\\ Vidhya/wns-analytics-wizard-2019"
      ],
      "execution_count": 2,
      "outputs": [
        {
          "output_type": "stream",
          "text": [
            "Go to this URL in a browser: https://accounts.google.com/o/oauth2/auth?client_id=947318989803-6bn6qk8qdgf4n4g3pfee6491hc0brc4i.apps.googleusercontent.com&redirect_uri=urn%3Aietf%3Awg%3Aoauth%3A2.0%3Aoob&scope=email%20https%3A%2F%2Fwww.googleapis.com%2Fauth%2Fdocs.test%20https%3A%2F%2Fwww.googleapis.com%2Fauth%2Fdrive%20https%3A%2F%2Fwww.googleapis.com%2Fauth%2Fdrive.photos.readonly%20https%3A%2F%2Fwww.googleapis.com%2Fauth%2Fpeopleapi.readonly&response_type=code\n",
            "\n",
            "Enter your authorization code:\n",
            "··········\n",
            "Mounted at /content/drive\n",
            "/content/drive/My Drive/Analytics Vidhya/wns-analytics-wizard-2019\n"
          ],
          "name": "stdout"
        }
      ]
    },
    {
      "cell_type": "code",
      "metadata": {
        "id": "hCk-vl970EKc",
        "colab_type": "code",
        "colab": {}
      },
      "source": [
        "train = pd.read_csv(\"train.csv\")\n",
        "test = pd.read_csv(\"test.csv\")\n",
        "item_data = pd.read_csv(\"item_data.csv\")\n",
        "view_log = pd.read_csv(\"view_log.csv\")\n",
        "\n",
        "test_imp_ids = test[\"impression_id\"]"
      ],
      "execution_count": 0,
      "outputs": []
    },
    {
      "cell_type": "markdown",
      "metadata": {
        "id": "2KCBUH7F_xcw",
        "colab_type": "text"
      },
      "source": [
        "# EDA - Exploratory Data Analysis"
      ]
    },
    {
      "cell_type": "code",
      "metadata": {
        "id": "k5iv9iaTMFQR",
        "colab_type": "code",
        "outputId": "eaaa0472-5649-4a03-abb3-b1608d7eeb16",
        "colab": {
          "base_uri": "https://localhost:8080/",
          "height": 85
        }
      },
      "source": [
        "# Check number of features and data points in train and test\n",
        "print(\"Number of data points in train: %d\" % train.shape[0])\n",
        "print(\"Number of features in train: %d\" % train.shape[1])\n",
        "\n",
        "print(\"Number of data points in test: %d\" % test.shape[0])\n",
        "print(\"Number of features in test: %d\" % test.shape[1])"
      ],
      "execution_count": 4,
      "outputs": [
        {
          "output_type": "stream",
          "text": [
            "Number of data points in train: 237609\n",
            "Number of features in train: 7\n",
            "Number of data points in test: 90675\n",
            "Number of features in test: 6\n"
          ],
          "name": "stdout"
        }
      ]
    },
    {
      "cell_type": "code",
      "metadata": {
        "id": "8na0ex3q-1u1",
        "colab_type": "code",
        "outputId": "6ea03e99-0ca6-4348-e1bb-ece2184e0c9e",
        "colab": {
          "base_uri": "https://localhost:8080/",
          "height": 204
        }
      },
      "source": [
        "train.head()"
      ],
      "execution_count": 5,
      "outputs": [
        {
          "output_type": "execute_result",
          "data": {
            "text/html": [
              "<div>\n",
              "<style scoped>\n",
              "    .dataframe tbody tr th:only-of-type {\n",
              "        vertical-align: middle;\n",
              "    }\n",
              "\n",
              "    .dataframe tbody tr th {\n",
              "        vertical-align: top;\n",
              "    }\n",
              "\n",
              "    .dataframe thead th {\n",
              "        text-align: right;\n",
              "    }\n",
              "</style>\n",
              "<table border=\"1\" class=\"dataframe\">\n",
              "  <thead>\n",
              "    <tr style=\"text-align: right;\">\n",
              "      <th></th>\n",
              "      <th>impression_id</th>\n",
              "      <th>impression_time</th>\n",
              "      <th>user_id</th>\n",
              "      <th>app_code</th>\n",
              "      <th>os_version</th>\n",
              "      <th>is_4G</th>\n",
              "      <th>is_click</th>\n",
              "    </tr>\n",
              "  </thead>\n",
              "  <tbody>\n",
              "    <tr>\n",
              "      <th>0</th>\n",
              "      <td>c4ca4238a0b923820dcc509a6f75849b</td>\n",
              "      <td>2018-11-15 00:00:00</td>\n",
              "      <td>87862</td>\n",
              "      <td>422</td>\n",
              "      <td>old</td>\n",
              "      <td>0</td>\n",
              "      <td>0</td>\n",
              "    </tr>\n",
              "    <tr>\n",
              "      <th>1</th>\n",
              "      <td>45c48cce2e2d7fbdea1afc51c7c6ad26</td>\n",
              "      <td>2018-11-15 00:01:00</td>\n",
              "      <td>63410</td>\n",
              "      <td>467</td>\n",
              "      <td>latest</td>\n",
              "      <td>1</td>\n",
              "      <td>1</td>\n",
              "    </tr>\n",
              "    <tr>\n",
              "      <th>2</th>\n",
              "      <td>70efdf2ec9b086079795c442636b55fb</td>\n",
              "      <td>2018-11-15 00:02:00</td>\n",
              "      <td>71748</td>\n",
              "      <td>259</td>\n",
              "      <td>intermediate</td>\n",
              "      <td>1</td>\n",
              "      <td>0</td>\n",
              "    </tr>\n",
              "    <tr>\n",
              "      <th>3</th>\n",
              "      <td>8e296a067a37563370ded05f5a3bf3ec</td>\n",
              "      <td>2018-11-15 00:02:00</td>\n",
              "      <td>69209</td>\n",
              "      <td>244</td>\n",
              "      <td>latest</td>\n",
              "      <td>1</td>\n",
              "      <td>0</td>\n",
              "    </tr>\n",
              "    <tr>\n",
              "      <th>4</th>\n",
              "      <td>182be0c5cdcd5072bb1864cdee4d3d6e</td>\n",
              "      <td>2018-11-15 00:02:00</td>\n",
              "      <td>62873</td>\n",
              "      <td>473</td>\n",
              "      <td>latest</td>\n",
              "      <td>0</td>\n",
              "      <td>0</td>\n",
              "    </tr>\n",
              "  </tbody>\n",
              "</table>\n",
              "</div>"
            ],
            "text/plain": [
              "                      impression_id      impression_time  ...  is_4G  is_click\n",
              "0  c4ca4238a0b923820dcc509a6f75849b  2018-11-15 00:00:00  ...      0         0\n",
              "1  45c48cce2e2d7fbdea1afc51c7c6ad26  2018-11-15 00:01:00  ...      1         1\n",
              "2  70efdf2ec9b086079795c442636b55fb  2018-11-15 00:02:00  ...      1         0\n",
              "3  8e296a067a37563370ded05f5a3bf3ec  2018-11-15 00:02:00  ...      1         0\n",
              "4  182be0c5cdcd5072bb1864cdee4d3d6e  2018-11-15 00:02:00  ...      0         0\n",
              "\n",
              "[5 rows x 7 columns]"
            ]
          },
          "metadata": {
            "tags": []
          },
          "execution_count": 5
        }
      ]
    },
    {
      "cell_type": "code",
      "metadata": {
        "id": "SlJQd5G__NsJ",
        "colab_type": "code",
        "outputId": "a958ffb0-4f06-469f-95fb-0b6910905dbe",
        "colab": {
          "base_uri": "https://localhost:8080/",
          "height": 204
        }
      },
      "source": [
        "test.head()"
      ],
      "execution_count": 6,
      "outputs": [
        {
          "output_type": "execute_result",
          "data": {
            "text/html": [
              "<div>\n",
              "<style scoped>\n",
              "    .dataframe tbody tr th:only-of-type {\n",
              "        vertical-align: middle;\n",
              "    }\n",
              "\n",
              "    .dataframe tbody tr th {\n",
              "        vertical-align: top;\n",
              "    }\n",
              "\n",
              "    .dataframe thead th {\n",
              "        text-align: right;\n",
              "    }\n",
              "</style>\n",
              "<table border=\"1\" class=\"dataframe\">\n",
              "  <thead>\n",
              "    <tr style=\"text-align: right;\">\n",
              "      <th></th>\n",
              "      <th>impression_id</th>\n",
              "      <th>impression_time</th>\n",
              "      <th>user_id</th>\n",
              "      <th>app_code</th>\n",
              "      <th>os_version</th>\n",
              "      <th>is_4G</th>\n",
              "    </tr>\n",
              "  </thead>\n",
              "  <tbody>\n",
              "    <tr>\n",
              "      <th>0</th>\n",
              "      <td>a9e7126a585a69a32bc7414e9d0c0ada</td>\n",
              "      <td>2018-12-13 07:44:00</td>\n",
              "      <td>44754</td>\n",
              "      <td>127</td>\n",
              "      <td>latest</td>\n",
              "      <td>1</td>\n",
              "    </tr>\n",
              "    <tr>\n",
              "      <th>1</th>\n",
              "      <td>caac14a5bf2ba283db7708bb34855760</td>\n",
              "      <td>2018-12-13 07:45:00</td>\n",
              "      <td>29656</td>\n",
              "      <td>44</td>\n",
              "      <td>latest</td>\n",
              "      <td>0</td>\n",
              "    </tr>\n",
              "    <tr>\n",
              "      <th>2</th>\n",
              "      <td>13f10ba306a19ce7bec2f3cae507b698</td>\n",
              "      <td>2018-12-13 07:46:00</td>\n",
              "      <td>25234</td>\n",
              "      <td>296</td>\n",
              "      <td>latest</td>\n",
              "      <td>1</td>\n",
              "    </tr>\n",
              "    <tr>\n",
              "      <th>3</th>\n",
              "      <td>39c4b4dc0e9701b55a0a4f072008fb3f</td>\n",
              "      <td>2018-12-13 07:47:00</td>\n",
              "      <td>22988</td>\n",
              "      <td>207</td>\n",
              "      <td>latest</td>\n",
              "      <td>1</td>\n",
              "    </tr>\n",
              "    <tr>\n",
              "      <th>4</th>\n",
              "      <td>bf5a572cca75f5fc67f4b14e58b11d70</td>\n",
              "      <td>2018-12-13 07:48:00</td>\n",
              "      <td>35431</td>\n",
              "      <td>242</td>\n",
              "      <td>latest</td>\n",
              "      <td>1</td>\n",
              "    </tr>\n",
              "  </tbody>\n",
              "</table>\n",
              "</div>"
            ],
            "text/plain": [
              "                      impression_id      impression_time  ...  os_version  is_4G\n",
              "0  a9e7126a585a69a32bc7414e9d0c0ada  2018-12-13 07:44:00  ...      latest      1\n",
              "1  caac14a5bf2ba283db7708bb34855760  2018-12-13 07:45:00  ...      latest      0\n",
              "2  13f10ba306a19ce7bec2f3cae507b698  2018-12-13 07:46:00  ...      latest      1\n",
              "3  39c4b4dc0e9701b55a0a4f072008fb3f  2018-12-13 07:47:00  ...      latest      1\n",
              "4  bf5a572cca75f5fc67f4b14e58b11d70  2018-12-13 07:48:00  ...      latest      1\n",
              "\n",
              "[5 rows x 6 columns]"
            ]
          },
          "metadata": {
            "tags": []
          },
          "execution_count": 6
        }
      ]
    },
    {
      "cell_type": "code",
      "metadata": {
        "id": "GLex5yz4_OuS",
        "colab_type": "code",
        "outputId": "e8198a4e-8223-42b4-e068-30226262b784",
        "colab": {
          "base_uri": "https://localhost:8080/",
          "height": 204
        }
      },
      "source": [
        "item_data.head()"
      ],
      "execution_count": 7,
      "outputs": [
        {
          "output_type": "execute_result",
          "data": {
            "text/html": [
              "<div>\n",
              "<style scoped>\n",
              "    .dataframe tbody tr th:only-of-type {\n",
              "        vertical-align: middle;\n",
              "    }\n",
              "\n",
              "    .dataframe tbody tr th {\n",
              "        vertical-align: top;\n",
              "    }\n",
              "\n",
              "    .dataframe thead th {\n",
              "        text-align: right;\n",
              "    }\n",
              "</style>\n",
              "<table border=\"1\" class=\"dataframe\">\n",
              "  <thead>\n",
              "    <tr style=\"text-align: right;\">\n",
              "      <th></th>\n",
              "      <th>item_id</th>\n",
              "      <th>item_price</th>\n",
              "      <th>category_1</th>\n",
              "      <th>category_2</th>\n",
              "      <th>category_3</th>\n",
              "      <th>product_type</th>\n",
              "    </tr>\n",
              "  </thead>\n",
              "  <tbody>\n",
              "    <tr>\n",
              "      <th>0</th>\n",
              "      <td>26880</td>\n",
              "      <td>4602</td>\n",
              "      <td>11</td>\n",
              "      <td>35</td>\n",
              "      <td>20</td>\n",
              "      <td>3040</td>\n",
              "    </tr>\n",
              "    <tr>\n",
              "      <th>1</th>\n",
              "      <td>54939</td>\n",
              "      <td>3513</td>\n",
              "      <td>12</td>\n",
              "      <td>57</td>\n",
              "      <td>85</td>\n",
              "      <td>6822</td>\n",
              "    </tr>\n",
              "    <tr>\n",
              "      <th>2</th>\n",
              "      <td>40383</td>\n",
              "      <td>825</td>\n",
              "      <td>17</td>\n",
              "      <td>8</td>\n",
              "      <td>279</td>\n",
              "      <td>1619</td>\n",
              "    </tr>\n",
              "    <tr>\n",
              "      <th>3</th>\n",
              "      <td>8777</td>\n",
              "      <td>2355</td>\n",
              "      <td>13</td>\n",
              "      <td>58</td>\n",
              "      <td>189</td>\n",
              "      <td>5264</td>\n",
              "    </tr>\n",
              "    <tr>\n",
              "      <th>4</th>\n",
              "      <td>113705</td>\n",
              "      <td>1267</td>\n",
              "      <td>17</td>\n",
              "      <td>39</td>\n",
              "      <td>151</td>\n",
              "      <td>10239</td>\n",
              "    </tr>\n",
              "  </tbody>\n",
              "</table>\n",
              "</div>"
            ],
            "text/plain": [
              "   item_id  item_price  category_1  category_2  category_3  product_type\n",
              "0    26880        4602          11          35          20          3040\n",
              "1    54939        3513          12          57          85          6822\n",
              "2    40383         825          17           8         279          1619\n",
              "3     8777        2355          13          58         189          5264\n",
              "4   113705        1267          17          39         151         10239"
            ]
          },
          "metadata": {
            "tags": []
          },
          "execution_count": 7
        }
      ]
    },
    {
      "cell_type": "code",
      "metadata": {
        "id": "rTpkgSo7_Rf2",
        "colab_type": "code",
        "outputId": "49975691-e0a9-4cbb-b3ba-5ff0d8157c10",
        "colab": {
          "base_uri": "https://localhost:8080/",
          "height": 204
        }
      },
      "source": [
        "view_log.head()"
      ],
      "execution_count": 8,
      "outputs": [
        {
          "output_type": "execute_result",
          "data": {
            "text/html": [
              "<div>\n",
              "<style scoped>\n",
              "    .dataframe tbody tr th:only-of-type {\n",
              "        vertical-align: middle;\n",
              "    }\n",
              "\n",
              "    .dataframe tbody tr th {\n",
              "        vertical-align: top;\n",
              "    }\n",
              "\n",
              "    .dataframe thead th {\n",
              "        text-align: right;\n",
              "    }\n",
              "</style>\n",
              "<table border=\"1\" class=\"dataframe\">\n",
              "  <thead>\n",
              "    <tr style=\"text-align: right;\">\n",
              "      <th></th>\n",
              "      <th>server_time</th>\n",
              "      <th>device_type</th>\n",
              "      <th>session_id</th>\n",
              "      <th>user_id</th>\n",
              "      <th>item_id</th>\n",
              "    </tr>\n",
              "  </thead>\n",
              "  <tbody>\n",
              "    <tr>\n",
              "      <th>0</th>\n",
              "      <td>2018-10-15 08:58:00</td>\n",
              "      <td>android</td>\n",
              "      <td>112333</td>\n",
              "      <td>4557</td>\n",
              "      <td>32970</td>\n",
              "    </tr>\n",
              "    <tr>\n",
              "      <th>1</th>\n",
              "      <td>2018-10-15 08:58:00</td>\n",
              "      <td>android</td>\n",
              "      <td>503590</td>\n",
              "      <td>74788</td>\n",
              "      <td>7640</td>\n",
              "    </tr>\n",
              "    <tr>\n",
              "      <th>2</th>\n",
              "      <td>2018-10-15 08:58:00</td>\n",
              "      <td>android</td>\n",
              "      <td>573960</td>\n",
              "      <td>23628</td>\n",
              "      <td>128855</td>\n",
              "    </tr>\n",
              "    <tr>\n",
              "      <th>3</th>\n",
              "      <td>2018-10-15 08:58:00</td>\n",
              "      <td>android</td>\n",
              "      <td>121691</td>\n",
              "      <td>2430</td>\n",
              "      <td>12774</td>\n",
              "    </tr>\n",
              "    <tr>\n",
              "      <th>4</th>\n",
              "      <td>2018-10-15 08:58:00</td>\n",
              "      <td>android</td>\n",
              "      <td>218564</td>\n",
              "      <td>19227</td>\n",
              "      <td>28296</td>\n",
              "    </tr>\n",
              "  </tbody>\n",
              "</table>\n",
              "</div>"
            ],
            "text/plain": [
              "           server_time device_type  session_id  user_id  item_id\n",
              "0  2018-10-15 08:58:00     android      112333     4557    32970\n",
              "1  2018-10-15 08:58:00     android      503590    74788     7640\n",
              "2  2018-10-15 08:58:00     android      573960    23628   128855\n",
              "3  2018-10-15 08:58:00     android      121691     2430    12774\n",
              "4  2018-10-15 08:58:00     android      218564    19227    28296"
            ]
          },
          "metadata": {
            "tags": []
          },
          "execution_count": 8
        }
      ]
    },
    {
      "cell_type": "code",
      "metadata": {
        "id": "bBxC-ne6Mj_i",
        "colab_type": "code",
        "colab": {}
      },
      "source": [
        "train['impression_time'] = pd.to_datetime(train['impression_time'])\n",
        "test['impression_time'] = pd.to_datetime(test['impression_time'])"
      ],
      "execution_count": 0,
      "outputs": []
    },
    {
      "cell_type": "code",
      "metadata": {
        "id": "dlKCVYIKMVQl",
        "colab_type": "code",
        "outputId": "d20a4b1e-8125-4860-c7c8-d53370d445b4",
        "colab": {
          "base_uri": "https://localhost:8080/",
          "height": 221
        }
      },
      "source": [
        "train.info()"
      ],
      "execution_count": 10,
      "outputs": [
        {
          "output_type": "stream",
          "text": [
            "<class 'pandas.core.frame.DataFrame'>\n",
            "RangeIndex: 237609 entries, 0 to 237608\n",
            "Data columns (total 7 columns):\n",
            "impression_id      237609 non-null object\n",
            "impression_time    237609 non-null datetime64[ns]\n",
            "user_id            237609 non-null int64\n",
            "app_code           237609 non-null int64\n",
            "os_version         237609 non-null object\n",
            "is_4G              237609 non-null int64\n",
            "is_click           237609 non-null int64\n",
            "dtypes: datetime64[ns](1), int64(4), object(2)\n",
            "memory usage: 12.7+ MB\n"
          ],
          "name": "stdout"
        }
      ]
    },
    {
      "cell_type": "code",
      "metadata": {
        "id": "PPWMJUeiMXEC",
        "colab_type": "code",
        "outputId": "9cc6625c-48d4-4495-f42d-ec1c91d29ef1",
        "colab": {
          "base_uri": "https://localhost:8080/",
          "height": 204
        }
      },
      "source": [
        "test.info()"
      ],
      "execution_count": 11,
      "outputs": [
        {
          "output_type": "stream",
          "text": [
            "<class 'pandas.core.frame.DataFrame'>\n",
            "RangeIndex: 90675 entries, 0 to 90674\n",
            "Data columns (total 6 columns):\n",
            "impression_id      90675 non-null object\n",
            "impression_time    90675 non-null datetime64[ns]\n",
            "user_id            90675 non-null int64\n",
            "app_code           90675 non-null int64\n",
            "os_version         90675 non-null object\n",
            "is_4G              90675 non-null int64\n",
            "dtypes: datetime64[ns](1), int64(3), object(2)\n",
            "memory usage: 4.2+ MB\n"
          ],
          "name": "stdout"
        }
      ]
    },
    {
      "cell_type": "code",
      "metadata": {
        "id": "7MgptNBsLwxx",
        "colab_type": "code",
        "outputId": "30299ef5-158e-44b0-e578-1395324f0a43",
        "colab": {
          "base_uri": "https://localhost:8080/",
          "height": 204
        }
      },
      "source": [
        "item_data.info()"
      ],
      "execution_count": 12,
      "outputs": [
        {
          "output_type": "stream",
          "text": [
            "<class 'pandas.core.frame.DataFrame'>\n",
            "RangeIndex: 132761 entries, 0 to 132760\n",
            "Data columns (total 6 columns):\n",
            "item_id         132761 non-null int64\n",
            "item_price      132761 non-null int64\n",
            "category_1      132761 non-null int64\n",
            "category_2      132761 non-null int64\n",
            "category_3      132761 non-null int64\n",
            "product_type    132761 non-null int64\n",
            "dtypes: int64(6)\n",
            "memory usage: 6.1 MB\n"
          ],
          "name": "stdout"
        }
      ]
    },
    {
      "cell_type": "code",
      "metadata": {
        "id": "H8lCz_MJL5Aa",
        "colab_type": "code",
        "outputId": "5cd658d2-e4a8-489d-d8f9-92b6097c098c",
        "colab": {
          "base_uri": "https://localhost:8080/",
          "height": 187
        }
      },
      "source": [
        "view_log.info()"
      ],
      "execution_count": 13,
      "outputs": [
        {
          "output_type": "stream",
          "text": [
            "<class 'pandas.core.frame.DataFrame'>\n",
            "RangeIndex: 3118622 entries, 0 to 3118621\n",
            "Data columns (total 5 columns):\n",
            "server_time    object\n",
            "device_type    object\n",
            "session_id     int64\n",
            "user_id        int64\n",
            "item_id        int64\n",
            "dtypes: int64(3), object(2)\n",
            "memory usage: 119.0+ MB\n"
          ],
          "name": "stdout"
        }
      ]
    },
    {
      "cell_type": "code",
      "metadata": {
        "id": "IqubR1BDM4-h",
        "colab_type": "code",
        "outputId": "54941945-9f3d-4066-b1e9-b9296341374f",
        "colab": {
          "base_uri": "https://localhost:8080/",
          "height": 153
        }
      },
      "source": [
        "# Checking for NULL/missing values\n",
        "train.isnull().sum()"
      ],
      "execution_count": 14,
      "outputs": [
        {
          "output_type": "execute_result",
          "data": {
            "text/plain": [
              "impression_id      0\n",
              "impression_time    0\n",
              "user_id            0\n",
              "app_code           0\n",
              "os_version         0\n",
              "is_4G              0\n",
              "is_click           0\n",
              "dtype: int64"
            ]
          },
          "metadata": {
            "tags": []
          },
          "execution_count": 14
        }
      ]
    },
    {
      "cell_type": "code",
      "metadata": {
        "id": "iYycOBx0M_a3",
        "colab_type": "code",
        "outputId": "854defa7-621e-4ccf-886d-a4ccee6514ca",
        "colab": {
          "base_uri": "https://localhost:8080/",
          "height": 119
        }
      },
      "source": [
        "view_log.isnull().sum()"
      ],
      "execution_count": 15,
      "outputs": [
        {
          "output_type": "execute_result",
          "data": {
            "text/plain": [
              "server_time    0\n",
              "device_type    0\n",
              "session_id     0\n",
              "user_id        0\n",
              "item_id        0\n",
              "dtype: int64"
            ]
          },
          "metadata": {
            "tags": []
          },
          "execution_count": 15
        }
      ]
    },
    {
      "cell_type": "code",
      "metadata": {
        "id": "hpNW6PbR_TjG",
        "colab_type": "code",
        "outputId": "bdd7851a-56b4-4e5a-b5ba-82fe76a07def",
        "colab": {
          "base_uri": "https://localhost:8080/",
          "height": 420
        }
      },
      "source": [
        "print(train['is_click'].value_counts())\n",
        "print(train['is_click'].value_counts(normalize=True)*100)\n",
        "print()\n",
        "sns.countplot(train[\"is_click\"])"
      ],
      "execution_count": 16,
      "outputs": [
        {
          "output_type": "stream",
          "text": [
            "0    226747\n",
            "1     10862\n",
            "Name: is_click, dtype: int64\n",
            "0    95.428624\n",
            "1     4.571376\n",
            "Name: is_click, dtype: float64\n",
            "\n"
          ],
          "name": "stdout"
        },
        {
          "output_type": "execute_result",
          "data": {
            "text/plain": [
              "<matplotlib.axes._subplots.AxesSubplot at 0x7f65bb1a4a90>"
            ]
          },
          "metadata": {
            "tags": []
          },
          "execution_count": 16
        },
        {
          "output_type": "display_data",
          "data": {
            "image/png": "[encoded data removed]",
            "text/plain": [
              "<Figure size 432x288 with 1 Axes>"
            ]
          },
          "metadata": {
            "tags": []
          }
        }
      ]
    },
    {
      "cell_type": "code",
      "metadata": {
        "id": "gTtacXgONbkr",
        "colab_type": "code",
        "outputId": "bacc5f70-0783-48da-8749-581508c950b2",
        "colab": {
          "base_uri": "https://localhost:8080/",
          "height": 68
        }
      },
      "source": [
        "train.is_4G.value_counts().sort_index()"
      ],
      "execution_count": 17,
      "outputs": [
        {
          "output_type": "execute_result",
          "data": {
            "text/plain": [
              "0    151758\n",
              "1     85851\n",
              "Name: is_4G, dtype: int64"
            ]
          },
          "metadata": {
            "tags": []
          },
          "execution_count": 17
        }
      ]
    },
    {
      "cell_type": "code",
      "metadata": {
        "id": "wdd3DVQaNSfW",
        "colab_type": "code",
        "outputId": "7f7f1ec9-186d-4c6b-df2a-e378cf0cfd25",
        "colab": {
          "base_uri": "https://localhost:8080/",
          "height": 85
        }
      },
      "source": [
        "train.os_version.value_counts().sort_index()"
      ],
      "execution_count": 18,
      "outputs": [
        {
          "output_type": "execute_result",
          "data": {
            "text/plain": [
              "intermediate     55543\n",
              "latest          129216\n",
              "old              52850\n",
              "Name: os_version, dtype: int64"
            ]
          },
          "metadata": {
            "tags": []
          },
          "execution_count": 18
        }
      ]
    },
    {
      "cell_type": "code",
      "metadata": {
        "id": "x7k540qFNmJI",
        "colab_type": "code",
        "outputId": "2a65f12a-8b6a-46c0-b606-8814795c8625",
        "colab": {
          "base_uri": "https://localhost:8080/",
          "height": 170
        }
      },
      "source": [
        "train.app_code.describe()"
      ],
      "execution_count": 19,
      "outputs": [
        {
          "output_type": "execute_result",
          "data": {
            "text/plain": [
              "count    237609.000000\n",
              "mean        249.099971\n",
              "std         135.213609\n",
              "min           0.000000\n",
              "25%         163.000000\n",
              "50%         213.000000\n",
              "75%         385.000000\n",
              "max         522.000000\n",
              "Name: app_code, dtype: float64"
            ]
          },
          "metadata": {
            "tags": []
          },
          "execution_count": 19
        }
      ]
    },
    {
      "cell_type": "code",
      "metadata": {
        "id": "MhG_8919N78U",
        "colab_type": "code",
        "outputId": "67c9e4e7-0a67-4958-e1fe-de6899c61d14",
        "colab": {
          "base_uri": "https://localhost:8080/",
          "height": 170
        }
      },
      "source": [
        "train.user_id.describe()"
      ],
      "execution_count": 20,
      "outputs": [
        {
          "output_type": "execute_result",
          "data": {
            "text/plain": [
              "count    237609.000000\n",
              "mean      46454.526828\n",
              "std       26802.726666\n",
              "min           0.000000\n",
              "25%       23197.000000\n",
              "50%       46597.000000\n",
              "75%       69684.000000\n",
              "max       92586.000000\n",
              "Name: user_id, dtype: float64"
            ]
          },
          "metadata": {
            "tags": []
          },
          "execution_count": 20
        }
      ]
    },
    {
      "cell_type": "code",
      "metadata": {
        "id": "OuE30qqTOJPi",
        "colab_type": "code",
        "colab": {}
      },
      "source": [
        "train['impression_time_quarter'] = train['impression_time'].dt.quarter\n",
        "train['impression_time_month'] = train['impression_time'].dt.month\n",
        "train['impression_time_day'] = train['impression_time'].dt.day\n",
        "train['impression_time_dayofweek'] = train['impression_time'].dt.dayofweek\n",
        "train['impression_time_weekday'] = train['impression_time'].dt.weekday_name\n",
        "train['impression_time_is_weekend'] = np.where(train['impression_time'].dt.dayofweek.isin(['Sunday', 'Saturday']), 1,0)\n",
        "\n",
        "test['impression_time_quarter'] = test['impression_time'].dt.quarter\n",
        "test['impression_time_month'] = test['impression_time'].dt.month\n",
        "test['impression_time_day'] = test['impression_time'].dt.day\n",
        "test['impression_time_dayofweek'] = test['impression_time'].dt.dayofweek\n",
        "test['impression_time_weekday'] = test['impression_time'].dt.weekday_name\n",
        "test['impression_time_is_weekend'] = np.where(test['impression_time'].dt.dayofweek.isin(['Sunday', 'Saturday']), 1,0)"
      ],
      "execution_count": 0,
      "outputs": []
    },
    {
      "cell_type": "code",
      "metadata": {
        "id": "oKLIEW8ZOXYn",
        "colab_type": "code",
        "outputId": "ca116b47-b0f0-432a-acc5-ec23e36c3846",
        "colab": {
          "base_uri": "https://localhost:8080/",
          "height": 309
        }
      },
      "source": [
        "train.head()"
      ],
      "execution_count": 26,
      "outputs": [
        {
          "output_type": "execute_result",
          "data": {
            "text/html": [
              "<div>\n",
              "<style scoped>\n",
              "    .dataframe tbody tr th:only-of-type {\n",
              "        vertical-align: middle;\n",
              "    }\n",
              "\n",
              "    .dataframe tbody tr th {\n",
              "        vertical-align: top;\n",
              "    }\n",
              "\n",
              "    .dataframe thead th {\n",
              "        text-align: right;\n",
              "    }\n",
              "</style>\n",
              "<table border=\"1\" class=\"dataframe\">\n",
              "  <thead>\n",
              "    <tr style=\"text-align: right;\">\n",
              "      <th></th>\n",
              "      <th>impression_id</th>\n",
              "      <th>impression_time</th>\n",
              "      <th>user_id</th>\n",
              "      <th>app_code</th>\n",
              "      <th>os_version</th>\n",
              "      <th>is_4G</th>\n",
              "      <th>is_click</th>\n",
              "      <th>impression_time_quarter</th>\n",
              "      <th>impression_time_day</th>\n",
              "      <th>impression_time_dayofweek</th>\n",
              "      <th>impression_time_weekday</th>\n",
              "      <th>impression_time_is_weekend</th>\n",
              "      <th>impression_time_month</th>\n",
              "    </tr>\n",
              "  </thead>\n",
              "  <tbody>\n",
              "    <tr>\n",
              "      <th>0</th>\n",
              "      <td>c4ca4238a0b923820dcc509a6f75849b</td>\n",
              "      <td>2018-11-15 00:00:00</td>\n",
              "      <td>87862</td>\n",
              "      <td>422</td>\n",
              "      <td>old</td>\n",
              "      <td>0</td>\n",
              "      <td>0</td>\n",
              "      <td>4</td>\n",
              "      <td>15</td>\n",
              "      <td>3</td>\n",
              "      <td>Thursday</td>\n",
              "      <td>0</td>\n",
              "      <td>11</td>\n",
              "    </tr>\n",
              "    <tr>\n",
              "      <th>1</th>\n",
              "      <td>45c48cce2e2d7fbdea1afc51c7c6ad26</td>\n",
              "      <td>2018-11-15 00:01:00</td>\n",
              "      <td>63410</td>\n",
              "      <td>467</td>\n",
              "      <td>latest</td>\n",
              "      <td>1</td>\n",
              "      <td>1</td>\n",
              "      <td>4</td>\n",
              "      <td>15</td>\n",
              "      <td>3</td>\n",
              "      <td>Thursday</td>\n",
              "      <td>0</td>\n",
              "      <td>11</td>\n",
              "    </tr>\n",
              "    <tr>\n",
              "      <th>2</th>\n",
              "      <td>70efdf2ec9b086079795c442636b55fb</td>\n",
              "      <td>2018-11-15 00:02:00</td>\n",
              "      <td>71748</td>\n",
              "      <td>259</td>\n",
              "      <td>intermediate</td>\n",
              "      <td>1</td>\n",
              "      <td>0</td>\n",
              "      <td>4</td>\n",
              "      <td>15</td>\n",
              "      <td>3</td>\n",
              "      <td>Thursday</td>\n",
              "      <td>0</td>\n",
              "      <td>11</td>\n",
              "    </tr>\n",
              "    <tr>\n",
              "      <th>3</th>\n",
              "      <td>8e296a067a37563370ded05f5a3bf3ec</td>\n",
              "      <td>2018-11-15 00:02:00</td>\n",
              "      <td>69209</td>\n",
              "      <td>244</td>\n",
              "      <td>latest</td>\n",
              "      <td>1</td>\n",
              "      <td>0</td>\n",
              "      <td>4</td>\n",
              "      <td>15</td>\n",
              "      <td>3</td>\n",
              "      <td>Thursday</td>\n",
              "      <td>0</td>\n",
              "      <td>11</td>\n",
              "    </tr>\n",
              "    <tr>\n",
              "      <th>4</th>\n",
              "      <td>182be0c5cdcd5072bb1864cdee4d3d6e</td>\n",
              "      <td>2018-11-15 00:02:00</td>\n",
              "      <td>62873</td>\n",
              "      <td>473</td>\n",
              "      <td>latest</td>\n",
              "      <td>0</td>\n",
              "      <td>0</td>\n",
              "      <td>4</td>\n",
              "      <td>15</td>\n",
              "      <td>3</td>\n",
              "      <td>Thursday</td>\n",
              "      <td>0</td>\n",
              "      <td>11</td>\n",
              "    </tr>\n",
              "  </tbody>\n",
              "</table>\n",
              "</div>"
            ],
            "text/plain": [
              "                      impression_id  ... impression_time_month\n",
              "0  c4ca4238a0b923820dcc509a6f75849b  ...                    11\n",
              "1  45c48cce2e2d7fbdea1afc51c7c6ad26  ...                    11\n",
              "2  70efdf2ec9b086079795c442636b55fb  ...                    11\n",
              "3  8e296a067a37563370ded05f5a3bf3ec  ...                    11\n",
              "4  182be0c5cdcd5072bb1864cdee4d3d6e  ...                    11\n",
              "\n",
              "[5 rows x 13 columns]"
            ]
          },
          "metadata": {
            "tags": []
          },
          "execution_count": 26
        }
      ]
    },
    {
      "cell_type": "markdown",
      "metadata": {
        "id": "psgAU1pK_7lZ",
        "colab_type": "text"
      },
      "source": [
        "# Preparing Data"
      ]
    },
    {
      "cell_type": "code",
      "metadata": {
        "id": "VdPtFEkbAPWv",
        "colab_type": "code",
        "colab": {}
      },
      "source": [
        "train.drop([\"impression_id\",\"impression_time\",\"user_id\"], axis=1, inplace=True)\n",
        "test.drop([\"impression_id\",\"impression_time\",\"user_id\"], axis=1, inplace=True)"
      ],
      "execution_count": 0,
      "outputs": []
    },
    {
      "cell_type": "code",
      "metadata": {
        "id": "FQ_j-x_H_39Z",
        "colab_type": "code",
        "outputId": "74f2a7f8-66d0-440a-bb84-8ebf9a6a8257",
        "colab": {
          "base_uri": "https://localhost:8080/",
          "height": 34
        }
      },
      "source": [
        "str_cols= train.loc[:, train.dtypes=='object'].columns.tolist()\n",
        "str_cols"
      ],
      "execution_count": 28,
      "outputs": [
        {
          "output_type": "execute_result",
          "data": {
            "text/plain": [
              "['os_version', 'impression_time_weekday']"
            ]
          },
          "metadata": {
            "tags": []
          },
          "execution_count": 28
        }
      ]
    },
    {
      "cell_type": "code",
      "metadata": {
        "id": "kRqY-wCyAB0j",
        "colab_type": "code",
        "outputId": "29e5865a-af72-46d2-94ae-fbd2440d8322",
        "colab": {
          "base_uri": "https://localhost:8080/",
          "height": 224
        }
      },
      "source": [
        "train.sample(5)"
      ],
      "execution_count": 29,
      "outputs": [
        {
          "output_type": "execute_result",
          "data": {
            "text/html": [
              "<div>\n",
              "<style scoped>\n",
              "    .dataframe tbody tr th:only-of-type {\n",
              "        vertical-align: middle;\n",
              "    }\n",
              "\n",
              "    .dataframe tbody tr th {\n",
              "        vertical-align: top;\n",
              "    }\n",
              "\n",
              "    .dataframe thead th {\n",
              "        text-align: right;\n",
              "    }\n",
              "</style>\n",
              "<table border=\"1\" class=\"dataframe\">\n",
              "  <thead>\n",
              "    <tr style=\"text-align: right;\">\n",
              "      <th></th>\n",
              "      <th>app_code</th>\n",
              "      <th>os_version</th>\n",
              "      <th>is_4G</th>\n",
              "      <th>is_click</th>\n",
              "      <th>impression_time_quarter</th>\n",
              "      <th>impression_time_day</th>\n",
              "      <th>impression_time_dayofweek</th>\n",
              "      <th>impression_time_weekday</th>\n",
              "      <th>impression_time_is_weekend</th>\n",
              "      <th>impression_time_month</th>\n",
              "    </tr>\n",
              "  </thead>\n",
              "  <tbody>\n",
              "    <tr>\n",
              "      <th>21455</th>\n",
              "      <td>207</td>\n",
              "      <td>latest</td>\n",
              "      <td>1</td>\n",
              "      <td>0</td>\n",
              "      <td>4</td>\n",
              "      <td>20</td>\n",
              "      <td>1</td>\n",
              "      <td>Tuesday</td>\n",
              "      <td>0</td>\n",
              "      <td>11</td>\n",
              "    </tr>\n",
              "    <tr>\n",
              "      <th>105580</th>\n",
              "      <td>436</td>\n",
              "      <td>latest</td>\n",
              "      <td>0</td>\n",
              "      <td>0</td>\n",
              "      <td>4</td>\n",
              "      <td>30</td>\n",
              "      <td>4</td>\n",
              "      <td>Friday</td>\n",
              "      <td>0</td>\n",
              "      <td>11</td>\n",
              "    </tr>\n",
              "    <tr>\n",
              "      <th>57260</th>\n",
              "      <td>207</td>\n",
              "      <td>old</td>\n",
              "      <td>1</td>\n",
              "      <td>0</td>\n",
              "      <td>4</td>\n",
              "      <td>24</td>\n",
              "      <td>5</td>\n",
              "      <td>Saturday</td>\n",
              "      <td>0</td>\n",
              "      <td>11</td>\n",
              "    </tr>\n",
              "    <tr>\n",
              "      <th>163000</th>\n",
              "      <td>190</td>\n",
              "      <td>latest</td>\n",
              "      <td>0</td>\n",
              "      <td>0</td>\n",
              "      <td>4</td>\n",
              "      <td>1</td>\n",
              "      <td>5</td>\n",
              "      <td>Saturday</td>\n",
              "      <td>0</td>\n",
              "      <td>12</td>\n",
              "    </tr>\n",
              "    <tr>\n",
              "      <th>106117</th>\n",
              "      <td>5</td>\n",
              "      <td>latest</td>\n",
              "      <td>0</td>\n",
              "      <td>0</td>\n",
              "      <td>4</td>\n",
              "      <td>26</td>\n",
              "      <td>0</td>\n",
              "      <td>Monday</td>\n",
              "      <td>0</td>\n",
              "      <td>11</td>\n",
              "    </tr>\n",
              "  </tbody>\n",
              "</table>\n",
              "</div>"
            ],
            "text/plain": [
              "        app_code os_version  ...  impression_time_is_weekend  impression_time_month\n",
              "21455        207     latest  ...                           0                     11\n",
              "105580       436     latest  ...                           0                     11\n",
              "57260        207        old  ...                           0                     11\n",
              "163000       190     latest  ...                           0                     12\n",
              "106117         5     latest  ...                           0                     11\n",
              "\n",
              "[5 rows x 10 columns]"
            ]
          },
          "metadata": {
            "tags": []
          },
          "execution_count": 29
        }
      ]
    },
    {
      "cell_type": "code",
      "metadata": {
        "id": "Iy-jujqXAEsK",
        "colab_type": "code",
        "outputId": "535e687c-f271-44b7-9903-7e731ee057a5",
        "colab": {
          "base_uri": "https://localhost:8080/",
          "height": 224
        }
      },
      "source": [
        "test.sample(5)"
      ],
      "execution_count": 30,
      "outputs": [
        {
          "output_type": "execute_result",
          "data": {
            "text/html": [
              "<div>\n",
              "<style scoped>\n",
              "    .dataframe tbody tr th:only-of-type {\n",
              "        vertical-align: middle;\n",
              "    }\n",
              "\n",
              "    .dataframe tbody tr th {\n",
              "        vertical-align: top;\n",
              "    }\n",
              "\n",
              "    .dataframe thead th {\n",
              "        text-align: right;\n",
              "    }\n",
              "</style>\n",
              "<table border=\"1\" class=\"dataframe\">\n",
              "  <thead>\n",
              "    <tr style=\"text-align: right;\">\n",
              "      <th></th>\n",
              "      <th>app_code</th>\n",
              "      <th>os_version</th>\n",
              "      <th>is_4G</th>\n",
              "      <th>impression_time_quarter</th>\n",
              "      <th>impression_time_day</th>\n",
              "      <th>impression_time_dayofweek</th>\n",
              "      <th>impression_time_weekday</th>\n",
              "      <th>impression_time_is_weekend</th>\n",
              "      <th>impression_time_month</th>\n",
              "    </tr>\n",
              "  </thead>\n",
              "  <tbody>\n",
              "    <tr>\n",
              "      <th>85503</th>\n",
              "      <td>410</td>\n",
              "      <td>old</td>\n",
              "      <td>0</td>\n",
              "      <td>4</td>\n",
              "      <td>18</td>\n",
              "      <td>1</td>\n",
              "      <td>Tuesday</td>\n",
              "      <td>0</td>\n",
              "      <td>12</td>\n",
              "    </tr>\n",
              "    <tr>\n",
              "      <th>24108</th>\n",
              "      <td>392</td>\n",
              "      <td>old</td>\n",
              "      <td>0</td>\n",
              "      <td>4</td>\n",
              "      <td>13</td>\n",
              "      <td>3</td>\n",
              "      <td>Thursday</td>\n",
              "      <td>0</td>\n",
              "      <td>12</td>\n",
              "    </tr>\n",
              "    <tr>\n",
              "      <th>37481</th>\n",
              "      <td>169</td>\n",
              "      <td>intermediate</td>\n",
              "      <td>1</td>\n",
              "      <td>4</td>\n",
              "      <td>14</td>\n",
              "      <td>4</td>\n",
              "      <td>Friday</td>\n",
              "      <td>0</td>\n",
              "      <td>12</td>\n",
              "    </tr>\n",
              "    <tr>\n",
              "      <th>37390</th>\n",
              "      <td>190</td>\n",
              "      <td>intermediate</td>\n",
              "      <td>1</td>\n",
              "      <td>4</td>\n",
              "      <td>14</td>\n",
              "      <td>4</td>\n",
              "      <td>Friday</td>\n",
              "      <td>0</td>\n",
              "      <td>12</td>\n",
              "    </tr>\n",
              "    <tr>\n",
              "      <th>42377</th>\n",
              "      <td>38</td>\n",
              "      <td>latest</td>\n",
              "      <td>1</td>\n",
              "      <td>4</td>\n",
              "      <td>14</td>\n",
              "      <td>4</td>\n",
              "      <td>Friday</td>\n",
              "      <td>0</td>\n",
              "      <td>12</td>\n",
              "    </tr>\n",
              "  </tbody>\n",
              "</table>\n",
              "</div>"
            ],
            "text/plain": [
              "       app_code  ... impression_time_month\n",
              "85503       410  ...                    12\n",
              "24108       392  ...                    12\n",
              "37481       169  ...                    12\n",
              "37390       190  ...                    12\n",
              "42377        38  ...                    12\n",
              "\n",
              "[5 rows x 9 columns]"
            ]
          },
          "metadata": {
            "tags": []
          },
          "execution_count": 30
        }
      ]
    },
    {
      "cell_type": "code",
      "metadata": {
        "id": "bGw1D5iYAH4w",
        "colab_type": "code",
        "outputId": "ce239d8e-d3b9-4c01-acd1-e62c207bac03",
        "colab": {
          "base_uri": "https://localhost:8080/",
          "height": 340
        }
      },
      "source": [
        "# # Correlations between Features and Target\n",
        "\n",
        "# Find all correlations and sort \n",
        "correlations_data = train.corr()['is_click'].sort_values()\n",
        "\n",
        "# most negative correlations\n",
        "print(correlations_data.head(10))\n",
        "print()\n",
        "\n",
        "# most positive correlations\n",
        "print(correlations_data.tail(10))"
      ],
      "execution_count": 31,
      "outputs": [
        {
          "output_type": "stream",
          "text": [
            "impression_time_day          -0.005490\n",
            "app_code                     -0.005449\n",
            "is_4G                        -0.003464\n",
            "impression_time_month         0.002918\n",
            "impression_time_dayofweek     0.005079\n",
            "is_click                      1.000000\n",
            "impression_time_quarter            NaN\n",
            "impression_time_is_weekend         NaN\n",
            "Name: is_click, dtype: float64\n",
            "\n",
            "impression_time_day          -0.005490\n",
            "app_code                     -0.005449\n",
            "is_4G                        -0.003464\n",
            "impression_time_month         0.002918\n",
            "impression_time_dayofweek     0.005079\n",
            "is_click                      1.000000\n",
            "impression_time_quarter            NaN\n",
            "impression_time_is_weekend         NaN\n",
            "Name: is_click, dtype: float64\n"
          ],
          "name": "stdout"
        }
      ]
    },
    {
      "cell_type": "code",
      "metadata": {
        "id": "P_b_zZDl_9rd",
        "colab_type": "code",
        "colab": {}
      },
      "source": [
        "# One Hot Encoding\n",
        "train = pd.get_dummies(train, columns=str_cols, drop_first=True)\n",
        "test = pd.get_dummies(test, columns=str_cols, drop_first=True)"
      ],
      "execution_count": 0,
      "outputs": []
    },
    {
      "cell_type": "code",
      "metadata": {
        "id": "Dva8bykXAZDf",
        "colab_type": "code",
        "outputId": "1c3440cf-2e1c-499e-97d3-c7905a2ca0a8",
        "colab": {
          "base_uri": "https://localhost:8080/",
          "height": 224
        }
      },
      "source": [
        "train.sample(5)"
      ],
      "execution_count": 33,
      "outputs": [
        {
          "output_type": "execute_result",
          "data": {
            "text/html": [
              "<div>\n",
              "<style scoped>\n",
              "    .dataframe tbody tr th:only-of-type {\n",
              "        vertical-align: middle;\n",
              "    }\n",
              "\n",
              "    .dataframe tbody tr th {\n",
              "        vertical-align: top;\n",
              "    }\n",
              "\n",
              "    .dataframe thead th {\n",
              "        text-align: right;\n",
              "    }\n",
              "</style>\n",
              "<table border=\"1\" class=\"dataframe\">\n",
              "  <thead>\n",
              "    <tr style=\"text-align: right;\">\n",
              "      <th></th>\n",
              "      <th>app_code</th>\n",
              "      <th>is_4G</th>\n",
              "      <th>is_click</th>\n",
              "      <th>impression_time_quarter</th>\n",
              "      <th>impression_time_day</th>\n",
              "      <th>impression_time_dayofweek</th>\n",
              "      <th>impression_time_is_weekend</th>\n",
              "      <th>impression_time_month</th>\n",
              "      <th>os_version_latest</th>\n",
              "      <th>os_version_old</th>\n",
              "      <th>impression_time_weekday_Monday</th>\n",
              "      <th>impression_time_weekday_Saturday</th>\n",
              "      <th>impression_time_weekday_Sunday</th>\n",
              "      <th>impression_time_weekday_Thursday</th>\n",
              "      <th>impression_time_weekday_Tuesday</th>\n",
              "      <th>impression_time_weekday_Wednesday</th>\n",
              "    </tr>\n",
              "  </thead>\n",
              "  <tbody>\n",
              "    <tr>\n",
              "      <th>2920</th>\n",
              "      <td>32</td>\n",
              "      <td>0</td>\n",
              "      <td>0</td>\n",
              "      <td>4</td>\n",
              "      <td>15</td>\n",
              "      <td>3</td>\n",
              "      <td>0</td>\n",
              "      <td>11</td>\n",
              "      <td>1</td>\n",
              "      <td>0</td>\n",
              "      <td>0</td>\n",
              "      <td>0</td>\n",
              "      <td>0</td>\n",
              "      <td>1</td>\n",
              "      <td>0</td>\n",
              "      <td>0</td>\n",
              "    </tr>\n",
              "    <tr>\n",
              "      <th>68740</th>\n",
              "      <td>244</td>\n",
              "      <td>1</td>\n",
              "      <td>0</td>\n",
              "      <td>4</td>\n",
              "      <td>21</td>\n",
              "      <td>2</td>\n",
              "      <td>0</td>\n",
              "      <td>11</td>\n",
              "      <td>1</td>\n",
              "      <td>0</td>\n",
              "      <td>0</td>\n",
              "      <td>0</td>\n",
              "      <td>0</td>\n",
              "      <td>0</td>\n",
              "      <td>0</td>\n",
              "      <td>1</td>\n",
              "    </tr>\n",
              "    <tr>\n",
              "      <th>72319</th>\n",
              "      <td>44</td>\n",
              "      <td>0</td>\n",
              "      <td>0</td>\n",
              "      <td>4</td>\n",
              "      <td>21</td>\n",
              "      <td>2</td>\n",
              "      <td>0</td>\n",
              "      <td>11</td>\n",
              "      <td>1</td>\n",
              "      <td>0</td>\n",
              "      <td>0</td>\n",
              "      <td>0</td>\n",
              "      <td>0</td>\n",
              "      <td>0</td>\n",
              "      <td>0</td>\n",
              "      <td>1</td>\n",
              "    </tr>\n",
              "    <tr>\n",
              "      <th>103991</th>\n",
              "      <td>190</td>\n",
              "      <td>0</td>\n",
              "      <td>1</td>\n",
              "      <td>4</td>\n",
              "      <td>27</td>\n",
              "      <td>1</td>\n",
              "      <td>0</td>\n",
              "      <td>11</td>\n",
              "      <td>0</td>\n",
              "      <td>0</td>\n",
              "      <td>0</td>\n",
              "      <td>0</td>\n",
              "      <td>0</td>\n",
              "      <td>0</td>\n",
              "      <td>1</td>\n",
              "      <td>0</td>\n",
              "    </tr>\n",
              "    <tr>\n",
              "      <th>228603</th>\n",
              "      <td>5</td>\n",
              "      <td>0</td>\n",
              "      <td>0</td>\n",
              "      <td>4</td>\n",
              "      <td>10</td>\n",
              "      <td>0</td>\n",
              "      <td>0</td>\n",
              "      <td>12</td>\n",
              "      <td>0</td>\n",
              "      <td>0</td>\n",
              "      <td>1</td>\n",
              "      <td>0</td>\n",
              "      <td>0</td>\n",
              "      <td>0</td>\n",
              "      <td>0</td>\n",
              "      <td>0</td>\n",
              "    </tr>\n",
              "  </tbody>\n",
              "</table>\n",
              "</div>"
            ],
            "text/plain": [
              "        app_code  ...  impression_time_weekday_Wednesday\n",
              "2920          32  ...                                  0\n",
              "68740        244  ...                                  1\n",
              "72319         44  ...                                  1\n",
              "103991       190  ...                                  0\n",
              "228603         5  ...                                  0\n",
              "\n",
              "[5 rows x 16 columns]"
            ]
          },
          "metadata": {
            "tags": []
          },
          "execution_count": 33
        }
      ]
    },
    {
      "cell_type": "code",
      "metadata": {
        "id": "KBdWA80yAaz9",
        "colab_type": "code",
        "outputId": "2920fe90-02aa-4803-b285-69c1061b33ab",
        "colab": {
          "base_uri": "https://localhost:8080/",
          "height": 102
        }
      },
      "source": [
        "train2 = train.drop(['is_click'], axis=1)\n",
        "target = train[\"is_click\"]\n",
        "print(train['is_click'].value_counts(normalize=True)*100)\n",
        "print(\"\\n train2 shape:\", train2.shape)"
      ],
      "execution_count": 34,
      "outputs": [
        {
          "output_type": "stream",
          "text": [
            "0    95.428624\n",
            "1     4.571376\n",
            "Name: is_click, dtype: float64\n",
            "\n",
            " train2 shape: (237609, 15)\n"
          ],
          "name": "stdout"
        }
      ]
    },
    {
      "cell_type": "code",
      "metadata": {
        "id": "6iRkWeVMAlbt",
        "colab_type": "code",
        "colab": {}
      },
      "source": [
        "train2 = train2.loc[:, test.columns]"
      ],
      "execution_count": 0,
      "outputs": []
    },
    {
      "cell_type": "code",
      "metadata": {
        "id": "OgJSVK3zAnpL",
        "colab_type": "code",
        "outputId": "0ea9eafc-d5e1-40e6-9e8b-8904debfb8ea",
        "colab": {
          "base_uri": "https://localhost:8080/",
          "height": 224
        }
      },
      "source": [
        "train2.head()"
      ],
      "execution_count": 36,
      "outputs": [
        {
          "output_type": "execute_result",
          "data": {
            "text/html": [
              "<div>\n",
              "<style scoped>\n",
              "    .dataframe tbody tr th:only-of-type {\n",
              "        vertical-align: middle;\n",
              "    }\n",
              "\n",
              "    .dataframe tbody tr th {\n",
              "        vertical-align: top;\n",
              "    }\n",
              "\n",
              "    .dataframe thead th {\n",
              "        text-align: right;\n",
              "    }\n",
              "</style>\n",
              "<table border=\"1\" class=\"dataframe\">\n",
              "  <thead>\n",
              "    <tr style=\"text-align: right;\">\n",
              "      <th></th>\n",
              "      <th>app_code</th>\n",
              "      <th>is_4G</th>\n",
              "      <th>impression_time_quarter</th>\n",
              "      <th>impression_time_day</th>\n",
              "      <th>impression_time_dayofweek</th>\n",
              "      <th>impression_time_is_weekend</th>\n",
              "      <th>impression_time_month</th>\n",
              "      <th>os_version_latest</th>\n",
              "      <th>os_version_old</th>\n",
              "      <th>impression_time_weekday_Monday</th>\n",
              "      <th>impression_time_weekday_Saturday</th>\n",
              "      <th>impression_time_weekday_Sunday</th>\n",
              "      <th>impression_time_weekday_Thursday</th>\n",
              "      <th>impression_time_weekday_Tuesday</th>\n",
              "      <th>impression_time_weekday_Wednesday</th>\n",
              "    </tr>\n",
              "  </thead>\n",
              "  <tbody>\n",
              "    <tr>\n",
              "      <th>0</th>\n",
              "      <td>422</td>\n",
              "      <td>0</td>\n",
              "      <td>4</td>\n",
              "      <td>15</td>\n",
              "      <td>3</td>\n",
              "      <td>0</td>\n",
              "      <td>11</td>\n",
              "      <td>0</td>\n",
              "      <td>1</td>\n",
              "      <td>0</td>\n",
              "      <td>0</td>\n",
              "      <td>0</td>\n",
              "      <td>1</td>\n",
              "      <td>0</td>\n",
              "      <td>0</td>\n",
              "    </tr>\n",
              "    <tr>\n",
              "      <th>1</th>\n",
              "      <td>467</td>\n",
              "      <td>1</td>\n",
              "      <td>4</td>\n",
              "      <td>15</td>\n",
              "      <td>3</td>\n",
              "      <td>0</td>\n",
              "      <td>11</td>\n",
              "      <td>1</td>\n",
              "      <td>0</td>\n",
              "      <td>0</td>\n",
              "      <td>0</td>\n",
              "      <td>0</td>\n",
              "      <td>1</td>\n",
              "      <td>0</td>\n",
              "      <td>0</td>\n",
              "    </tr>\n",
              "    <tr>\n",
              "      <th>2</th>\n",
              "      <td>259</td>\n",
              "      <td>1</td>\n",
              "      <td>4</td>\n",
              "      <td>15</td>\n",
              "      <td>3</td>\n",
              "      <td>0</td>\n",
              "      <td>11</td>\n",
              "      <td>0</td>\n",
              "      <td>0</td>\n",
              "      <td>0</td>\n",
              "      <td>0</td>\n",
              "      <td>0</td>\n",
              "      <td>1</td>\n",
              "      <td>0</td>\n",
              "      <td>0</td>\n",
              "    </tr>\n",
              "    <tr>\n",
              "      <th>3</th>\n",
              "      <td>244</td>\n",
              "      <td>1</td>\n",
              "      <td>4</td>\n",
              "      <td>15</td>\n",
              "      <td>3</td>\n",
              "      <td>0</td>\n",
              "      <td>11</td>\n",
              "      <td>1</td>\n",
              "      <td>0</td>\n",
              "      <td>0</td>\n",
              "      <td>0</td>\n",
              "      <td>0</td>\n",
              "      <td>1</td>\n",
              "      <td>0</td>\n",
              "      <td>0</td>\n",
              "    </tr>\n",
              "    <tr>\n",
              "      <th>4</th>\n",
              "      <td>473</td>\n",
              "      <td>0</td>\n",
              "      <td>4</td>\n",
              "      <td>15</td>\n",
              "      <td>3</td>\n",
              "      <td>0</td>\n",
              "      <td>11</td>\n",
              "      <td>1</td>\n",
              "      <td>0</td>\n",
              "      <td>0</td>\n",
              "      <td>0</td>\n",
              "      <td>0</td>\n",
              "      <td>1</td>\n",
              "      <td>0</td>\n",
              "      <td>0</td>\n",
              "    </tr>\n",
              "  </tbody>\n",
              "</table>\n",
              "</div>"
            ],
            "text/plain": [
              "   app_code  ...  impression_time_weekday_Wednesday\n",
              "0       422  ...                                  0\n",
              "1       467  ...                                  0\n",
              "2       259  ...                                  0\n",
              "3       244  ...                                  0\n",
              "4       473  ...                                  0\n",
              "\n",
              "[5 rows x 15 columns]"
            ]
          },
          "metadata": {
            "tags": []
          },
          "execution_count": 36
        }
      ]
    },
    {
      "cell_type": "code",
      "metadata": {
        "id": "VQs1ssl9AqUN",
        "colab_type": "code",
        "outputId": "e227e9a4-afc2-44e7-eaca-c6a1511570f1",
        "colab": {
          "base_uri": "https://localhost:8080/",
          "height": 119
        }
      },
      "source": [
        "target.head()"
      ],
      "execution_count": 37,
      "outputs": [
        {
          "output_type": "execute_result",
          "data": {
            "text/plain": [
              "0    0\n",
              "1    1\n",
              "2    0\n",
              "3    0\n",
              "4    0\n",
              "Name: is_click, dtype: int64"
            ]
          },
          "metadata": {
            "tags": []
          },
          "execution_count": 37
        }
      ]
    },
    {
      "cell_type": "code",
      "metadata": {
        "id": "Wr7xcNrfPiXQ",
        "colab_type": "code",
        "colab": {}
      },
      "source": [
        "scaler = StandardScaler()\n",
        "train2 = scaler.fit_transform(train2)\n",
        "test = scaler.transform(test)"
      ],
      "execution_count": 0,
      "outputs": []
    },
    {
      "cell_type": "code",
      "metadata": {
        "id": "JTPHuVEVRMCu",
        "colab_type": "code",
        "outputId": "53ea1cc6-86e5-456f-8026-353b78442648",
        "colab": {
          "base_uri": "https://localhost:8080/",
          "height": 34
        }
      },
      "source": [
        "poly = PolynomialFeatures(degree=2)\n",
        "train2 = poly.fit_transform(train2)\n",
        "test = poly.transform(test)\n",
        "\n",
        "print(\"train2 shape:\", train2.shape)"
      ],
      "execution_count": 39,
      "outputs": [
        {
          "output_type": "stream",
          "text": [
            "train2 shape: (237609, 136)\n"
          ],
          "name": "stdout"
        }
      ]
    },
    {
      "cell_type": "code",
      "metadata": {
        "id": "VoAcJ6HrAsO1",
        "colab_type": "code",
        "outputId": "2a2a3299-0f2b-44b3-ac76-bef3e893fa51",
        "colab": {
          "base_uri": "https://localhost:8080/",
          "height": 34
        }
      },
      "source": [
        "x_train, x_val, y_train, y_val = train_test_split(train2, target, test_size=0.3, random_state=123)\n",
        "print(x_train.shape, x_val.shape)"
      ],
      "execution_count": 40,
      "outputs": [
        {
          "output_type": "stream",
          "text": [
            "(166326, 136) (71283, 136)\n"
          ],
          "name": "stdout"
        }
      ]
    },
    {
      "cell_type": "code",
      "metadata": {
        "id": "mnrMeOiXQK-6",
        "colab_type": "code",
        "outputId": "32f6968f-5c21-4bed-91b9-b18378875084",
        "colab": {
          "base_uri": "https://localhost:8080/",
          "height": 238
        }
      },
      "source": [
        "x_train"
      ],
      "execution_count": 41,
      "outputs": [
        {
          "output_type": "execute_result",
          "data": {
            "text/plain": [
              "array([[ 1.        ,  1.0124744 , -0.75213688, ...,  0.22691996,\n",
              "         0.1838242 ,  0.14891302],\n",
              "       [ 1.        , -0.88822586, -0.75213688, ...,  0.22691996,\n",
              "        -1.23444007,  6.71532942],\n",
              "       [ 1.        , -0.0525094 , -0.75213688, ...,  0.22691996,\n",
              "         0.1838242 ,  0.14891302],\n",
              "       ...,\n",
              "       [ 1.        , -1.60561078,  1.32954524, ...,  4.40684021,\n",
              "        -0.81008388,  0.14891302],\n",
              "       [ 1.        ,  0.90153858, -0.75213688, ...,  0.22691996,\n",
              "         0.1838242 ,  0.14891302],\n",
              "       [ 1.        , -0.31135963, -0.75213688, ...,  0.22691996,\n",
              "         0.1838242 ,  0.14891302]])"
            ]
          },
          "metadata": {
            "tags": []
          },
          "execution_count": 41
        }
      ]
    },
    {
      "cell_type": "markdown",
      "metadata": {
        "id": "iWOy2oJ9A1KY",
        "colab_type": "text"
      },
      "source": [
        "# ML"
      ]
    },
    {
      "cell_type": "code",
      "metadata": {
        "id": "RIfWuvJXAxph",
        "colab_type": "code",
        "outputId": "c2b8e3b9-761f-42f2-8a3f-0833676d4a50",
        "colab": {
          "base_uri": "https://localhost:8080/",
          "height": 85
        }
      },
      "source": [
        "# Logistic Regression\n",
        "for c in [0.1, 1, 5, 100]:\n",
        "    lr = LogisticRegression(random_state=2019, C=c).fit(x_train, y_train)\n",
        "    print (\"roc_auc_score for C=%s: %s\" % (c, roc_auc_score(y_val, lr.predict(x_val))))"
      ],
      "execution_count": 42,
      "outputs": [
        {
          "output_type": "stream",
          "text": [
            "roc_auc_score for C=0.1: 0.5\n",
            "roc_auc_score for C=1: 0.5\n",
            "roc_auc_score for C=5: 0.5\n",
            "roc_auc_score for C=100: 0.5\n"
          ],
          "name": "stdout"
        }
      ]
    },
    {
      "cell_type": "code",
      "metadata": {
        "id": "PYZu49USA4su",
        "colab_type": "code",
        "outputId": "a32e3a73-1a0a-4261-a96a-e61b6ef899ae",
        "colab": {
          "base_uri": "https://localhost:8080/",
          "height": 102
        }
      },
      "source": [
        "clf_log = LogisticRegression(random_state=2019).fit(x_train, y_train)\n",
        "clf_log"
      ],
      "execution_count": 43,
      "outputs": [
        {
          "output_type": "execute_result",
          "data": {
            "text/plain": [
              "LogisticRegression(C=1.0, class_weight=None, dual=False, fit_intercept=True,\n",
              "                   intercept_scaling=1, l1_ratio=None, max_iter=100,\n",
              "                   multi_class='warn', n_jobs=None, penalty='l2',\n",
              "                   random_state=2019, solver='warn', tol=0.0001, verbose=0,\n",
              "                   warm_start=False)"
            ]
          },
          "metadata": {
            "tags": []
          },
          "execution_count": 43
        }
      ]
    },
    {
      "cell_type": "code",
      "metadata": {
        "id": "hnsUZ9XmBHJC",
        "colab_type": "code",
        "colab": {}
      },
      "source": [
        "y_pred_val = clf_log.predict(x_val)"
      ],
      "execution_count": 0,
      "outputs": []
    },
    {
      "cell_type": "code",
      "metadata": {
        "id": "b-Oc27rQA-ja",
        "colab_type": "code",
        "outputId": "19cacfc5-f4d0-4fd9-942c-ecf07ae7b776",
        "colab": {
          "base_uri": "https://localhost:8080/",
          "height": 303
        }
      },
      "source": [
        "# Confusion Matrix\n",
        "cm = confusion_matrix(y_val, y_pred_val).T\n",
        "cm = cm.astype('float')/cm.sum(axis=0)\n",
        "ax = sns.heatmap(cm, annot=True, cmap='Blues');\n",
        "ax.set_xlabel('True Label',size=12)\n",
        "ax.set_ylabel('Predicted Label',size=12)"
      ],
      "execution_count": 45,
      "outputs": [
        {
          "output_type": "execute_result",
          "data": {
            "text/plain": [
              "Text(33.0, 0.5, 'Predicted Label')"
            ]
          },
          "metadata": {
            "tags": []
          },
          "execution_count": 45
        },
        {
          "output_type": "display_data",
          "data": {
            "image/png": "[encoded data removed]",
            "text/plain": [
              "<Figure size 432x288 with 2 Axes>"
            ]
          },
          "metadata": {
            "tags": []
          }
        }
      ]
    },
    {
      "cell_type": "code",
      "metadata": {
        "id": "9xExqwt6BDQw",
        "colab_type": "code",
        "outputId": "3f4b27a5-1368-467f-af97-dfd8328888b0",
        "colab": {
          "base_uri": "https://localhost:8080/",
          "height": 34
        }
      },
      "source": [
        "clf_log.fit(train2, target)\n",
        "y_pred = clf_log.predict(test)\n",
        "y_pred"
      ],
      "execution_count": 46,
      "outputs": [
        {
          "output_type": "execute_result",
          "data": {
            "text/plain": [
              "array([0, 0, 0, ..., 0, 0, 0])"
            ]
          },
          "metadata": {
            "tags": []
          },
          "execution_count": 46
        }
      ]
    },
    {
      "cell_type": "code",
      "metadata": {
        "id": "Gmk4Z-4mBLEh",
        "colab_type": "code",
        "outputId": "37a80f08-5f26-4312-cc36-ca7d54e1b467",
        "colab": {
          "base_uri": "https://localhost:8080/",
          "height": 51
        }
      },
      "source": [
        "submission = {}\n",
        "submission['impression_id'] = test_imp_ids\n",
        "submission['is_click'] = y_pred\n",
        "submission = pd.DataFrame(submission)\n",
        "submission = submission[['impression_id', 'is_click']]\n",
        "submission.to_csv(\"submission.csv\", index=False)\n",
        "print(submission['is_click'].value_counts())"
      ],
      "execution_count": 47,
      "outputs": [
        {
          "output_type": "stream",
          "text": [
            "0    90675\n",
            "Name: is_click, dtype: int64\n"
          ],
          "name": "stdout"
        }
      ]
    },
    {
      "cell_type": "code",
      "metadata": {
        "id": "Fpq4W4V8By5u",
        "colab_type": "code",
        "outputId": "342622a7-c3b5-4179-960f-c4dff8a739f4",
        "colab": {
          "base_uri": "https://localhost:8080/",
          "height": 136
        }
      },
      "source": [
        "!pwd; ls -ltr"
      ],
      "execution_count": 48,
      "outputs": [
        {
          "output_type": "stream",
          "text": [
            "/content/drive/My Drive/Analytics Vidhya/wns-analytics-wizard-2019\n",
            "total 173209\n",
            "-rw------- 1 root root   6567193 Aug 24 04:07 test.csv\n",
            "-rw------- 1 root root   3346472 Aug 24 04:07 item_data.csv\n",
            "-rw------- 1 root root  17681346 Aug 24 04:07 train.csv\n",
            "-rw------- 1 root root 146595750 Aug 24 04:12 view_log.csv\n",
            "-rw------- 1 root root   3173648 Aug 24 10:42 submission.csv\n"
          ],
          "name": "stdout"
        }
      ]
    },
    {
      "cell_type": "code",
      "metadata": {
        "id": "V44tbJvrBxdS",
        "colab_type": "code",
        "colab": {}
      },
      "source": [
        "files.download('submission.csv')"
      ],
      "execution_count": 0,
      "outputs": []
    },
    {
      "cell_type": "code",
      "metadata": {
        "id": "RALgyxkiBZVF",
        "colab_type": "code",
        "colab": {}
      },
      "source": [
        ""
      ],
      "execution_count": 0,
      "outputs": []
    }
  ]
}
