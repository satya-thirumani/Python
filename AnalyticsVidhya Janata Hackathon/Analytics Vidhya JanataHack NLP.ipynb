{
  "nbformat": 4,
  "nbformat_minor": 0,
  "metadata": {
    "colab": {
      "name": "JanataHack - NLP.ipynb",
      "provenance": [],
      "collapsed_sections": [
        "NF4XwN65KgN-"
      ],
      "machine_shape": "hm"
    },
    "kernelspec": {
      "name": "python3",
      "display_name": "Python 3"
    }
  },
  "cells": [
    {
      "cell_type": "markdown",
      "metadata": {
        "id": "UaRfpBVEFLVK",
        "colab_type": "text"
      },
      "source": [
        "# Analytics Vidhya - JanataHack - NLP\n",
        "\n",
        "---\n",
        "\n",
        "\n",
        "\n",
        "## https://satya-python.blogspot.com/\n",
        "\n",
        "###  To predict reviewer/user recommendation \n",
        "\n",
        "#### April 2020"
      ]
    },
    {
      "cell_type": "code",
      "metadata": {
        "id": "2pslXLIp0-FJ",
        "colab_type": "code",
        "outputId": "eed1a128-3696-4c4f-b295-2e1c9510a53b",
        "colab": {
          "base_uri": "https://localhost:8080/",
          "height": 52
        }
      },
      "source": [
        "import pandas as pd\n",
        "import numpy as np\n",
        "import seaborn as sns\n",
        "import re\n",
        "\n",
        "import warnings\n",
        "warnings.filterwarnings('ignore')\n",
        "\n",
        "pd.options.display.max_colwidth = 100\n",
        "pd.set_option('display.max_columns', 50)\n",
        "\n",
        "from sklearn.model_selection import train_test_split\n",
        "from sklearn.linear_model import LogisticRegression\n",
        "from sklearn.ensemble import RandomForestClassifier\n",
        "from sklearn.metrics import mean_squared_error, r2_score\n",
        "from sklearn.preprocessing import StandardScaler,QuantileTransformer\n",
        "from sklearn.feature_extraction.text import CountVectorizer, TfidfVectorizer, HashingVectorizer, TfidfTransformer\n"
      ],
      "execution_count": 1,
      "outputs": [
        {
          "output_type": "stream",
          "text": [
            "/usr/local/lib/python3.6/dist-packages/statsmodels/tools/_testing.py:19: FutureWarning: pandas.util.testing is deprecated. Use the functions in the public API at pandas.testing instead.\n",
            "  import pandas.util.testing as tm\n"
          ],
          "name": "stderr"
        }
      ]
    },
    {
      "cell_type": "code",
      "metadata": {
        "id": "ouekl9GeAdbs",
        "colab_type": "code",
        "outputId": "97b955f9-75bd-410d-d45e-822a52ed5fc8",
        "colab": {
          "base_uri": "https://localhost:8080/",
          "height": 52
        }
      },
      "source": [
        "import nltk\n",
        "nltk.download(\"stopwords\")\n",
        "\n",
        "from nltk import word_tokenize\n",
        "from nltk.corpus import stopwords\n",
        "stop_words = stopwords.words('english')\n",
        "\n",
        "def remove_stopwords(string):\n",
        "    word_list = [word.lower() for word in string.split()]\n",
        "    stopwords_list = list(stopwords.words(\"english\"))\n",
        "    for word in word_list:\n",
        "        if word in stopwords_list:\n",
        "            word_list.remove(word)\n",
        "    return ' '.join(word_list)\n"
      ],
      "execution_count": 2,
      "outputs": [
        {
          "output_type": "stream",
          "text": [
            "[nltk_data] Downloading package stopwords to /root/nltk_data...\n",
            "[nltk_data]   Package stopwords is already up-to-date!\n"
          ],
          "name": "stdout"
        }
      ]
    },
    {
      "cell_type": "markdown",
      "metadata": {
        "id": "m7vH5TFoFtWH",
        "colab_type": "text"
      },
      "source": [
        "# Loading Data"
      ]
    },
    {
      "cell_type": "code",
      "metadata": {
        "id": "OsjzOU_EFxec",
        "colab_type": "code",
        "outputId": "f8f79985-af26-4894-9ee5-c1141fb2e4c7",
        "colab": {
          "base_uri": "https://localhost:8080/",
          "height": 52
        }
      },
      "source": [
        "# For Google Colaboratory and Google Drive\n",
        "from google.colab import files,drive\n",
        "drive.mount('/content/drive')\n",
        "%cd /content/drive/'My Drive'/'Analytics Vidhya'/'JanataHack - NLP 2020'"
      ],
      "execution_count": 3,
      "outputs": [
        {
          "output_type": "stream",
          "text": [
            "Drive already mounted at /content/drive; to attempt to forcibly remount, call drive.mount(\"/content/drive\", force_remount=True).\n",
            "/content/drive/My Drive/Analytics Vidhya/JanataHack - NLP 2020\n"
          ],
          "name": "stdout"
        }
      ]
    },
    {
      "cell_type": "code",
      "metadata": {
        "id": "gy6y2ihPGBEh",
        "colab_type": "code",
        "outputId": "615c8750-43e7-43fc-f64a-286aef73e9dd",
        "colab": {
          "base_uri": "https://localhost:8080/",
          "height": 104
        }
      },
      "source": [
        "%ls -tlr"
      ],
      "execution_count": 4,
      "outputs": [
        {
          "output_type": "stream",
          "text": [
            "total 20377\n",
            "-rw------- 1 root root  6635220 Apr 17 06:16 test.csv\n",
            "-rw------- 1 root root 14034581 Apr 17 07:33 train.csv\n",
            "-rw------- 1 root root   132737 Apr 17 17:43 game_overview.csv\n",
            "-rw------- 1 root root    61858 Apr 18 02:04 submission.csv\n"
          ],
          "name": "stdout"
        }
      ]
    },
    {
      "cell_type": "code",
      "metadata": {
        "id": "3rSNGudl1Ejl",
        "colab_type": "code",
        "colab": {}
      },
      "source": [
        "train = pd.read_csv(\"train.csv\")\n",
        "test = pd.read_csv(\"test.csv\")\n",
        "test_review_ids = test[\"review_id\"]"
      ],
      "execution_count": 0,
      "outputs": []
    },
    {
      "cell_type": "markdown",
      "metadata": {
        "id": "9nbW6CHrG97P",
        "colab_type": "text"
      },
      "source": [
        "# EDA - Exploratory Data Analysis"
      ]
    },
    {
      "cell_type": "code",
      "metadata": {
        "id": "Anq2Oi0WHELS",
        "colab_type": "code",
        "outputId": "6564ea12-d6e6-4a17-acc5-af2282774cc5",
        "colab": {
          "base_uri": "https://localhost:8080/",
          "height": 86
        }
      },
      "source": [
        "# Check number of features and data points in train and test\n",
        "print(\"Number of data points in train: %d\" % train.shape[0])\n",
        "print(\"Number of features in train: %d\" % train.shape[1])\n",
        "\n",
        "print(\"Number of data points in test: %d\" % test.shape[0])\n",
        "print(\"Number of features in test: %d\" % test.shape[1])"
      ],
      "execution_count": 6,
      "outputs": [
        {
          "output_type": "stream",
          "text": [
            "Number of data points in train: 17494\n",
            "Number of features in train: 5\n",
            "Number of data points in test: 8045\n",
            "Number of features in test: 4\n"
          ],
          "name": "stdout"
        }
      ]
    },
    {
      "cell_type": "code",
      "metadata": {
        "id": "666bTRq-HIxe",
        "colab_type": "code",
        "outputId": "83cfb5cc-c703-48e8-8d1b-742734b8665e",
        "colab": {
          "base_uri": "https://localhost:8080/",
          "height": 225
        }
      },
      "source": [
        "train.info()"
      ],
      "execution_count": 7,
      "outputs": [
        {
          "output_type": "stream",
          "text": [
            "<class 'pandas.core.frame.DataFrame'>\n",
            "RangeIndex: 17494 entries, 0 to 17493\n",
            "Data columns (total 5 columns):\n",
            " #   Column           Non-Null Count  Dtype  \n",
            "---  ------           --------------  -----  \n",
            " 0   review_id        17494 non-null  int64  \n",
            " 1   title            17494 non-null  object \n",
            " 2   year             17316 non-null  float64\n",
            " 3   user_review      17494 non-null  object \n",
            " 4   user_suggestion  17494 non-null  int64  \n",
            "dtypes: float64(1), int64(2), object(2)\n",
            "memory usage: 683.5+ KB\n"
          ],
          "name": "stdout"
        }
      ]
    },
    {
      "cell_type": "code",
      "metadata": {
        "id": "HRiTvRvRSHnG",
        "colab_type": "code",
        "outputId": "9d4a7ba0-a224-4820-cb73-220d10173e5b",
        "colab": {
          "base_uri": "https://localhost:8080/",
          "height": 208
        }
      },
      "source": [
        "test.info()"
      ],
      "execution_count": 8,
      "outputs": [
        {
          "output_type": "stream",
          "text": [
            "<class 'pandas.core.frame.DataFrame'>\n",
            "RangeIndex: 8045 entries, 0 to 8044\n",
            "Data columns (total 4 columns):\n",
            " #   Column       Non-Null Count  Dtype  \n",
            "---  ------       --------------  -----  \n",
            " 0   review_id    8045 non-null   int64  \n",
            " 1   title        8045 non-null   object \n",
            " 2   year         7978 non-null   float64\n",
            " 3   user_review  8045 non-null   object \n",
            "dtypes: float64(1), int64(1), object(2)\n",
            "memory usage: 251.5+ KB\n"
          ],
          "name": "stdout"
        }
      ]
    },
    {
      "cell_type": "code",
      "metadata": {
        "id": "f6WIoW_K1MN0",
        "colab_type": "code",
        "outputId": "5f5cbbc1-35d4-4df7-8913-73e205eaa1bc",
        "colab": {
          "base_uri": "https://localhost:8080/",
          "height": 363
        }
      },
      "source": [
        "train.head(10)"
      ],
      "execution_count": 9,
      "outputs": [
        {
          "output_type": "execute_result",
          "data": {
            "text/html": [
              "<div>\n",
              "<style scoped>\n",
              "    .dataframe tbody tr th:only-of-type {\n",
              "        vertical-align: middle;\n",
              "    }\n",
              "\n",
              "    .dataframe tbody tr th {\n",
              "        vertical-align: top;\n",
              "    }\n",
              "\n",
              "    .dataframe thead th {\n",
              "        text-align: right;\n",
              "    }\n",
              "</style>\n",
              "<table border=\"1\" class=\"dataframe\">\n",
              "  <thead>\n",
              "    <tr style=\"text-align: right;\">\n",
              "      <th></th>\n",
              "      <th>review_id</th>\n",
              "      <th>title</th>\n",
              "      <th>year</th>\n",
              "      <th>user_review</th>\n",
              "      <th>user_suggestion</th>\n",
              "    </tr>\n",
              "  </thead>\n",
              "  <tbody>\n",
              "    <tr>\n",
              "      <th>0</th>\n",
              "      <td>1</td>\n",
              "      <td>Spooky's Jump Scare Mansion</td>\n",
              "      <td>2016.0</td>\n",
              "      <td>I'm scared and hearing creepy voices.  So I'll pause for a moment and write a review while I wai...</td>\n",
              "      <td>1</td>\n",
              "    </tr>\n",
              "    <tr>\n",
              "      <th>1</th>\n",
              "      <td>2</td>\n",
              "      <td>Spooky's Jump Scare Mansion</td>\n",
              "      <td>2016.0</td>\n",
              "      <td>Best game, more better than Sam Pepper's YouTube account. 10/10What you'll need to play:A comput...</td>\n",
              "      <td>1</td>\n",
              "    </tr>\n",
              "    <tr>\n",
              "      <th>2</th>\n",
              "      <td>3</td>\n",
              "      <td>Spooky's Jump Scare Mansion</td>\n",
              "      <td>2016.0</td>\n",
              "      <td>A littly iffy on the controls, but once you know how to play, very easy to master. I've made it ...</td>\n",
              "      <td>1</td>\n",
              "    </tr>\n",
              "    <tr>\n",
              "      <th>3</th>\n",
              "      <td>4</td>\n",
              "      <td>Spooky's Jump Scare Mansion</td>\n",
              "      <td>2015.0</td>\n",
              "      <td>Great game, fun and colorful and all that.A side note, though: When are we getting windowed mode...</td>\n",
              "      <td>1</td>\n",
              "    </tr>\n",
              "    <tr>\n",
              "      <th>4</th>\n",
              "      <td>5</td>\n",
              "      <td>Spooky's Jump Scare Mansion</td>\n",
              "      <td>2015.0</td>\n",
              "      <td>Not many games have the cute tag right next to the horror tag on Steam.I first played this game ...</td>\n",
              "      <td>1</td>\n",
              "    </tr>\n",
              "    <tr>\n",
              "      <th>5</th>\n",
              "      <td>6</td>\n",
              "      <td>Spooky's Jump Scare Mansion</td>\n",
              "      <td>2015.0</td>\n",
              "      <td>Early Access ReviewIt's pretty cute at first, but then later gets horrifying and it really does ...</td>\n",
              "      <td>1</td>\n",
              "    </tr>\n",
              "    <tr>\n",
              "      <th>6</th>\n",
              "      <td>7</td>\n",
              "      <td>Spooky's Jump Scare Mansion</td>\n",
              "      <td>2017.0</td>\n",
              "      <td>Great game. it's a cute little horror game that progressively gets darker and scarier. It has a ...</td>\n",
              "      <td>1</td>\n",
              "    </tr>\n",
              "    <tr>\n",
              "      <th>7</th>\n",
              "      <td>8</td>\n",
              "      <td>Spooky's Jump Scare Mansion</td>\n",
              "      <td>2015.0</td>\n",
              "      <td>Spooky's Jump Scare Mansion is a Free Retro maze game with jump scares and death.  It worked on ...</td>\n",
              "      <td>1</td>\n",
              "    </tr>\n",
              "    <tr>\n",
              "      <th>8</th>\n",
              "      <td>9</td>\n",
              "      <td>Spooky's Jump Scare Mansion</td>\n",
              "      <td>2015.0</td>\n",
              "      <td>Somewhere between light hearted, happy parody and being afraid of the dark lies Spooky's House o...</td>\n",
              "      <td>0</td>\n",
              "    </tr>\n",
              "    <tr>\n",
              "      <th>9</th>\n",
              "      <td>10</td>\n",
              "      <td>Spooky's Jump Scare Mansion</td>\n",
              "      <td>2015.0</td>\n",
              "      <td>This game with its cute little out of the wall pop-ups that scared the living light out of me I ...</td>\n",
              "      <td>1</td>\n",
              "    </tr>\n",
              "  </tbody>\n",
              "</table>\n",
              "</div>"
            ],
            "text/plain": [
              "   review_id                        title    year  \\\n",
              "0          1  Spooky's Jump Scare Mansion  2016.0   \n",
              "1          2  Spooky's Jump Scare Mansion  2016.0   \n",
              "2          3  Spooky's Jump Scare Mansion  2016.0   \n",
              "3          4  Spooky's Jump Scare Mansion  2015.0   \n",
              "4          5  Spooky's Jump Scare Mansion  2015.0   \n",
              "5          6  Spooky's Jump Scare Mansion  2015.0   \n",
              "6          7  Spooky's Jump Scare Mansion  2017.0   \n",
              "7          8  Spooky's Jump Scare Mansion  2015.0   \n",
              "8          9  Spooky's Jump Scare Mansion  2015.0   \n",
              "9         10  Spooky's Jump Scare Mansion  2015.0   \n",
              "\n",
              "                                                                                           user_review  \\\n",
              "0  I'm scared and hearing creepy voices.  So I'll pause for a moment and write a review while I wai...   \n",
              "1  Best game, more better than Sam Pepper's YouTube account. 10/10What you'll need to play:A comput...   \n",
              "2  A littly iffy on the controls, but once you know how to play, very easy to master. I've made it ...   \n",
              "3  Great game, fun and colorful and all that.A side note, though: When are we getting windowed mode...   \n",
              "4  Not many games have the cute tag right next to the horror tag on Steam.I first played this game ...   \n",
              "5  Early Access ReviewIt's pretty cute at first, but then later gets horrifying and it really does ...   \n",
              "6  Great game. it's a cute little horror game that progressively gets darker and scarier. It has a ...   \n",
              "7  Spooky's Jump Scare Mansion is a Free Retro maze game with jump scares and death.  It worked on ...   \n",
              "8  Somewhere between light hearted, happy parody and being afraid of the dark lies Spooky's House o...   \n",
              "9  This game with its cute little out of the wall pop-ups that scared the living light out of me I ...   \n",
              "\n",
              "   user_suggestion  \n",
              "0                1  \n",
              "1                1  \n",
              "2                1  \n",
              "3                1  \n",
              "4                1  \n",
              "5                1  \n",
              "6                1  \n",
              "7                1  \n",
              "8                0  \n",
              "9                1  "
            ]
          },
          "metadata": {
            "tags": []
          },
          "execution_count": 9
        }
      ]
    },
    {
      "cell_type": "code",
      "metadata": {
        "id": "VE1S8oe91PG6",
        "colab_type": "code",
        "outputId": "3d5cccfd-8a40-45bc-bfe1-fda1caf96240",
        "colab": {
          "base_uri": "https://localhost:8080/",
          "height": 363
        }
      },
      "source": [
        "test.head(10)"
      ],
      "execution_count": 10,
      "outputs": [
        {
          "output_type": "execute_result",
          "data": {
            "text/html": [
              "<div>\n",
              "<style scoped>\n",
              "    .dataframe tbody tr th:only-of-type {\n",
              "        vertical-align: middle;\n",
              "    }\n",
              "\n",
              "    .dataframe tbody tr th {\n",
              "        vertical-align: top;\n",
              "    }\n",
              "\n",
              "    .dataframe thead th {\n",
              "        text-align: right;\n",
              "    }\n",
              "</style>\n",
              "<table border=\"1\" class=\"dataframe\">\n",
              "  <thead>\n",
              "    <tr style=\"text-align: right;\">\n",
              "      <th></th>\n",
              "      <th>review_id</th>\n",
              "      <th>title</th>\n",
              "      <th>year</th>\n",
              "      <th>user_review</th>\n",
              "    </tr>\n",
              "  </thead>\n",
              "  <tbody>\n",
              "    <tr>\n",
              "      <th>0</th>\n",
              "      <td>1603</td>\n",
              "      <td>Counter-Strike: Global Offensive</td>\n",
              "      <td>2015.0</td>\n",
              "      <td>Nice graphics, new maps, weapons and models. But developers should listen to the customers a bit...</td>\n",
              "    </tr>\n",
              "    <tr>\n",
              "      <th>1</th>\n",
              "      <td>1604</td>\n",
              "      <td>Counter-Strike: Global Offensive</td>\n",
              "      <td>2018.0</td>\n",
              "      <td>I would not recommend getting into this at its current state. CSGO has hit rock bottom with Valv...</td>\n",
              "    </tr>\n",
              "    <tr>\n",
              "      <th>2</th>\n",
              "      <td>1605</td>\n",
              "      <td>Counter-Strike: Global Offensive</td>\n",
              "      <td>2018.0</td>\n",
              "      <td>Edit 11/12/18I have tried playing CS:GO recently and it has only dramatically gotten worse, now ...</td>\n",
              "    </tr>\n",
              "    <tr>\n",
              "      <th>3</th>\n",
              "      <td>1606</td>\n",
              "      <td>Counter-Strike: Global Offensive</td>\n",
              "      <td>2015.0</td>\n",
              "      <td>The game is great. But the community is the worst.If you're into a match with a russian, maybe i...</td>\n",
              "    </tr>\n",
              "    <tr>\n",
              "      <th>4</th>\n",
              "      <td>1607</td>\n",
              "      <td>Counter-Strike: Global Offensive</td>\n",
              "      <td>2015.0</td>\n",
              "      <td>I thank TrulyRazor for buying this for me a long time ago -- I insisted to him that I would not ...</td>\n",
              "    </tr>\n",
              "    <tr>\n",
              "      <th>5</th>\n",
              "      <td>1608</td>\n",
              "      <td>Counter-Strike: Global Offensive</td>\n",
              "      <td>2014.0</td>\n",
              "      <td>It is kind of hard to say I do not like the game after &gt; 1100 hours of gameplay. It is very addi...</td>\n",
              "    </tr>\n",
              "    <tr>\n",
              "      <th>6</th>\n",
              "      <td>1609</td>\n",
              "      <td>Counter-Strike: Global Offensive</td>\n",
              "      <td>2016.0</td>\n",
              "      <td>Since an old fan of Halo games i find, CS:GO a nice sequel to the franchise. You can jump with p...</td>\n",
              "    </tr>\n",
              "    <tr>\n",
              "      <th>7</th>\n",
              "      <td>1610</td>\n",
              "      <td>Counter-Strike: Global Offensive</td>\n",
              "      <td>2013.0</td>\n",
              "      <td>Hepimiz küçüklüğümüzde Counter Strike oyunlarından birini muhakkak oynamışızdır, Counter'ın yeni...</td>\n",
              "    </tr>\n",
              "    <tr>\n",
              "      <th>8</th>\n",
              "      <td>1611</td>\n",
              "      <td>Counter-Strike: Global Offensive</td>\n",
              "      <td>2015.0</td>\n",
              "      <td>Death is a great teacher. Failure in Counter-Strike: Global Offensive is, as it always has been ...</td>\n",
              "    </tr>\n",
              "    <tr>\n",
              "      <th>9</th>\n",
              "      <td>1612</td>\n",
              "      <td>Counter-Strike: Global Offensive</td>\n",
              "      <td>2015.0</td>\n",
              "      <td>One of the worst communities in gaming. Griefers, cheaters, squeaky kids, flamers... Theres ever...</td>\n",
              "    </tr>\n",
              "  </tbody>\n",
              "</table>\n",
              "</div>"
            ],
            "text/plain": [
              "   review_id                             title    year  \\\n",
              "0       1603  Counter-Strike: Global Offensive  2015.0   \n",
              "1       1604  Counter-Strike: Global Offensive  2018.0   \n",
              "2       1605  Counter-Strike: Global Offensive  2018.0   \n",
              "3       1606  Counter-Strike: Global Offensive  2015.0   \n",
              "4       1607  Counter-Strike: Global Offensive  2015.0   \n",
              "5       1608  Counter-Strike: Global Offensive  2014.0   \n",
              "6       1609  Counter-Strike: Global Offensive  2016.0   \n",
              "7       1610  Counter-Strike: Global Offensive  2013.0   \n",
              "8       1611  Counter-Strike: Global Offensive  2015.0   \n",
              "9       1612  Counter-Strike: Global Offensive  2015.0   \n",
              "\n",
              "                                                                                           user_review  \n",
              "0  Nice graphics, new maps, weapons and models. But developers should listen to the customers a bit...  \n",
              "1  I would not recommend getting into this at its current state. CSGO has hit rock bottom with Valv...  \n",
              "2  Edit 11/12/18I have tried playing CS:GO recently and it has only dramatically gotten worse, now ...  \n",
              "3  The game is great. But the community is the worst.If you're into a match with a russian, maybe i...  \n",
              "4  I thank TrulyRazor for buying this for me a long time ago -- I insisted to him that I would not ...  \n",
              "5  It is kind of hard to say I do not like the game after > 1100 hours of gameplay. It is very addi...  \n",
              "6  Since an old fan of Halo games i find, CS:GO a nice sequel to the franchise. You can jump with p...  \n",
              "7  Hepimiz küçüklüğümüzde Counter Strike oyunlarından birini muhakkak oynamışızdır, Counter'ın yeni...  \n",
              "8  Death is a great teacher. Failure in Counter-Strike: Global Offensive is, as it always has been ...  \n",
              "9  One of the worst communities in gaming. Griefers, cheaters, squeaky kids, flamers... Theres ever...  "
            ]
          },
          "metadata": {
            "tags": []
          },
          "execution_count": 10
        }
      ]
    },
    {
      "cell_type": "code",
      "metadata": {
        "id": "S8zHnusRIFR6",
        "colab_type": "code",
        "outputId": "0ef4ebbc-a73a-4b96-b229-db79ca9f00ca",
        "colab": {
          "base_uri": "https://localhost:8080/",
          "height": 121
        }
      },
      "source": [
        "train.nunique()"
      ],
      "execution_count": 11,
      "outputs": [
        {
          "output_type": "execute_result",
          "data": {
            "text/plain": [
              "review_id          17494\n",
              "title                 44\n",
              "year                   8\n",
              "user_review        17490\n",
              "user_suggestion        2\n",
              "dtype: int64"
            ]
          },
          "metadata": {
            "tags": []
          },
          "execution_count": 11
        }
      ]
    },
    {
      "cell_type": "code",
      "metadata": {
        "id": "S5dvkHKQIJG7",
        "colab_type": "code",
        "outputId": "dbc7e4f4-e9b9-41ef-a780-98dec1b47c1d",
        "colab": {
          "base_uri": "https://localhost:8080/",
          "height": 121
        }
      },
      "source": [
        "# Checking for NULL/missing values\n",
        "train.isnull().sum().sort_values(ascending=False).nlargest(20)"
      ],
      "execution_count": 12,
      "outputs": [
        {
          "output_type": "execute_result",
          "data": {
            "text/plain": [
              "year               178\n",
              "user_suggestion      0\n",
              "user_review          0\n",
              "title                0\n",
              "review_id            0\n",
              "dtype: int64"
            ]
          },
          "metadata": {
            "tags": []
          },
          "execution_count": 12
        }
      ]
    },
    {
      "cell_type": "code",
      "metadata": {
        "id": "gZaFf9AnIJPh",
        "colab_type": "code",
        "outputId": "caa1341b-de86-400c-a2a7-7982aaa9bfea",
        "colab": {
          "base_uri": "https://localhost:8080/",
          "height": 104
        }
      },
      "source": [
        "# Checking for NULL/missing values\n",
        "test.isnull().sum().sort_values(ascending=False).nlargest(20)"
      ],
      "execution_count": 13,
      "outputs": [
        {
          "output_type": "execute_result",
          "data": {
            "text/plain": [
              "year           67\n",
              "user_review     0\n",
              "title           0\n",
              "review_id       0\n",
              "dtype: int64"
            ]
          },
          "metadata": {
            "tags": []
          },
          "execution_count": 13
        }
      ]
    },
    {
      "cell_type": "code",
      "metadata": {
        "id": "cWvpS5so1j8-",
        "colab_type": "code",
        "outputId": "69cda5db-8d3c-4a67-c0fb-652d512f511c",
        "colab": {
          "base_uri": "https://localhost:8080/",
          "height": 799
        }
      },
      "source": [
        "train.title.value_counts().sort_values(ascending=False)"
      ],
      "execution_count": 14,
      "outputs": [
        {
          "output_type": "execute_result",
          "data": {
            "text/plain": [
              "Robocraft                                             842\n",
              "Eternal Card Game                                     791\n",
              "Heroes & Generals                                     745\n",
              "War Thunder                                           720\n",
              "Fractured Space                                       718\n",
              "Bless Online                                          712\n",
              "The Elder Scrolls®: Legends™                          565\n",
              "Neverwinter                                           546\n",
              "AdventureQuest 3D                                     519\n",
              "theHunter Classic                                     518\n",
              "Creativerse                                           492\n",
              "DCS World Steam Edition                               488\n",
              "Infestation: The New Z                                479\n",
              "Team Fortress 2                                       479\n",
              "PlanetSide 2                                          472\n",
              "Path of Exile                                         458\n",
              "SMITE®                                                454\n",
              "Fallout Shelter                                       447\n",
              "Realm Royale                                          442\n",
              "Trove                                                 430\n",
              "Ring of Elysium                                       419\n",
              "RaceRoom Racing Experience                            416\n",
              "Brawlhalla                                            410\n",
              "Dota 2                                                405\n",
              "Cuisine Royale                                        399\n",
              "Yu-Gi-Oh! Duel Links                                  399\n",
              "Spooky's Jump Scare Mansion                           362\n",
              "Elsword                                               342\n",
              "Realm of the Mad God                                  340\n",
              "World of Tanks Blitz                                  327\n",
              "WARMODE                                               300\n",
              "World of Guns: Gun Disassembly                        293\n",
              "Black Squad                                           288\n",
              "School of Dragons                                     268\n",
              "Bloons TD Battles                                     233\n",
              "Sakura Clicker                                        222\n",
              "Business Tour - Board Game with Online Multiplayer    191\n",
              "Realm Grinder                                         155\n",
              "Crusaders of the Lost Idols                           132\n",
              "EverQuest II                                           69\n",
              "Dreadnought                                            60\n",
              "Freestyle 2: Street Basketball                         57\n",
              "Shop Heroes                                            52\n",
              "Tactical Monsters Rumble Arena                         38\n",
              "Name: title, dtype: int64"
            ]
          },
          "metadata": {
            "tags": []
          },
          "execution_count": 14
        }
      ]
    },
    {
      "cell_type": "code",
      "metadata": {
        "id": "_Ao48E5n10xF",
        "colab_type": "code",
        "outputId": "b0ac8bf2-2cf7-48eb-c155-d970688c2a26",
        "colab": {
          "base_uri": "https://localhost:8080/",
          "height": 173
        }
      },
      "source": [
        "train.year.value_counts().sort_values(ascending=False)"
      ],
      "execution_count": 15,
      "outputs": [
        {
          "output_type": "execute_result",
          "data": {
            "text/plain": [
              "2018.0    4822\n",
              "2016.0    4226\n",
              "2017.0    3890\n",
              "2015.0    2460\n",
              "2014.0    1499\n",
              "2013.0     340\n",
              "2012.0      65\n",
              "2011.0      14\n",
              "Name: year, dtype: int64"
            ]
          },
          "metadata": {
            "tags": []
          },
          "execution_count": 15
        }
      ]
    },
    {
      "cell_type": "code",
      "metadata": {
        "id": "z9nRRy_e2q46",
        "colab_type": "code",
        "outputId": "41aac872-4c4b-4952-b2d1-250060c54269",
        "colab": {
          "base_uri": "https://localhost:8080/",
          "height": 69
        }
      },
      "source": [
        "train.user_suggestion.value_counts().sort_values()"
      ],
      "execution_count": 16,
      "outputs": [
        {
          "output_type": "execute_result",
          "data": {
            "text/plain": [
              "0    7526\n",
              "1    9968\n",
              "Name: user_suggestion, dtype: int64"
            ]
          },
          "metadata": {
            "tags": []
          },
          "execution_count": 16
        }
      ]
    },
    {
      "cell_type": "markdown",
      "metadata": {
        "id": "OMAvGM-gIREg",
        "colab_type": "text"
      },
      "source": [
        "# Preparing Data"
      ]
    },
    {
      "cell_type": "code",
      "metadata": {
        "id": "_irQS20QXfe0",
        "colab_type": "code",
        "colab": {}
      },
      "source": [
        "train['title'] = train['title'].astype(str)\n",
        "test['title'] = test['title'].astype(str)\n",
        "train['title'] = train['title'].str.lower()\n",
        "test['title'] = test['title'].str.lower()\n",
        "\n",
        "train['user_review'] = train['user_review'].astype(str)\n",
        "test['user_review'] = test['user_review'].astype(str)\n",
        "train['user_review'] = train['user_review'].str.lower()\n",
        "test['user_review'] = test['user_review'].str.lower()"
      ],
      "execution_count": 0,
      "outputs": []
    },
    {
      "cell_type": "code",
      "metadata": {
        "id": "5AfehhC7IybZ",
        "colab_type": "code",
        "outputId": "c276da44-3dc6-4956-8739-6600925277a2",
        "colab": {
          "base_uri": "https://localhost:8080/",
          "height": 225
        }
      },
      "source": [
        "train.info()"
      ],
      "execution_count": 18,
      "outputs": [
        {
          "output_type": "stream",
          "text": [
            "<class 'pandas.core.frame.DataFrame'>\n",
            "RangeIndex: 17494 entries, 0 to 17493\n",
            "Data columns (total 5 columns):\n",
            " #   Column           Non-Null Count  Dtype  \n",
            "---  ------           --------------  -----  \n",
            " 0   review_id        17494 non-null  int64  \n",
            " 1   title            17494 non-null  object \n",
            " 2   year             17316 non-null  float64\n",
            " 3   user_review      17494 non-null  object \n",
            " 4   user_suggestion  17494 non-null  int64  \n",
            "dtypes: float64(1), int64(2), object(2)\n",
            "memory usage: 683.5+ KB\n"
          ],
          "name": "stdout"
        }
      ]
    },
    {
      "cell_type": "code",
      "metadata": {
        "id": "guVcI3PeCRAU",
        "colab_type": "code",
        "outputId": "9112824e-97b8-49cd-d0f1-98558fcdb93e",
        "colab": {
          "base_uri": "https://localhost:8080/",
          "height": 206
        }
      },
      "source": [
        "train.head()"
      ],
      "execution_count": 19,
      "outputs": [
        {
          "output_type": "execute_result",
          "data": {
            "text/html": [
              "<div>\n",
              "<style scoped>\n",
              "    .dataframe tbody tr th:only-of-type {\n",
              "        vertical-align: middle;\n",
              "    }\n",
              "\n",
              "    .dataframe tbody tr th {\n",
              "        vertical-align: top;\n",
              "    }\n",
              "\n",
              "    .dataframe thead th {\n",
              "        text-align: right;\n",
              "    }\n",
              "</style>\n",
              "<table border=\"1\" class=\"dataframe\">\n",
              "  <thead>\n",
              "    <tr style=\"text-align: right;\">\n",
              "      <th></th>\n",
              "      <th>review_id</th>\n",
              "      <th>title</th>\n",
              "      <th>year</th>\n",
              "      <th>user_review</th>\n",
              "      <th>user_suggestion</th>\n",
              "    </tr>\n",
              "  </thead>\n",
              "  <tbody>\n",
              "    <tr>\n",
              "      <th>0</th>\n",
              "      <td>1</td>\n",
              "      <td>spooky's jump scare mansion</td>\n",
              "      <td>2016.0</td>\n",
              "      <td>i'm scared and hearing creepy voices.  so i'll pause for a moment and write a review while i wai...</td>\n",
              "      <td>1</td>\n",
              "    </tr>\n",
              "    <tr>\n",
              "      <th>1</th>\n",
              "      <td>2</td>\n",
              "      <td>spooky's jump scare mansion</td>\n",
              "      <td>2016.0</td>\n",
              "      <td>best game, more better than sam pepper's youtube account. 10/10what you'll need to play:a comput...</td>\n",
              "      <td>1</td>\n",
              "    </tr>\n",
              "    <tr>\n",
              "      <th>2</th>\n",
              "      <td>3</td>\n",
              "      <td>spooky's jump scare mansion</td>\n",
              "      <td>2016.0</td>\n",
              "      <td>a littly iffy on the controls, but once you know how to play, very easy to master. i've made it ...</td>\n",
              "      <td>1</td>\n",
              "    </tr>\n",
              "    <tr>\n",
              "      <th>3</th>\n",
              "      <td>4</td>\n",
              "      <td>spooky's jump scare mansion</td>\n",
              "      <td>2015.0</td>\n",
              "      <td>great game, fun and colorful and all that.a side note, though: when are we getting windowed mode...</td>\n",
              "      <td>1</td>\n",
              "    </tr>\n",
              "    <tr>\n",
              "      <th>4</th>\n",
              "      <td>5</td>\n",
              "      <td>spooky's jump scare mansion</td>\n",
              "      <td>2015.0</td>\n",
              "      <td>not many games have the cute tag right next to the horror tag on steam.i first played this game ...</td>\n",
              "      <td>1</td>\n",
              "    </tr>\n",
              "  </tbody>\n",
              "</table>\n",
              "</div>"
            ],
            "text/plain": [
              "   review_id                        title    year  \\\n",
              "0          1  spooky's jump scare mansion  2016.0   \n",
              "1          2  spooky's jump scare mansion  2016.0   \n",
              "2          3  spooky's jump scare mansion  2016.0   \n",
              "3          4  spooky's jump scare mansion  2015.0   \n",
              "4          5  spooky's jump scare mansion  2015.0   \n",
              "\n",
              "                                                                                           user_review  \\\n",
              "0  i'm scared and hearing creepy voices.  so i'll pause for a moment and write a review while i wai...   \n",
              "1  best game, more better than sam pepper's youtube account. 10/10what you'll need to play:a comput...   \n",
              "2  a littly iffy on the controls, but once you know how to play, very easy to master. i've made it ...   \n",
              "3  great game, fun and colorful and all that.a side note, though: when are we getting windowed mode...   \n",
              "4  not many games have the cute tag right next to the horror tag on steam.i first played this game ...   \n",
              "\n",
              "   user_suggestion  \n",
              "0                1  \n",
              "1                1  \n",
              "2                1  \n",
              "3                1  \n",
              "4                1  "
            ]
          },
          "metadata": {
            "tags": []
          },
          "execution_count": 19
        }
      ]
    },
    {
      "cell_type": "code",
      "metadata": {
        "id": "bmxcA_wmCLBR",
        "colab_type": "code",
        "outputId": "0c27a748-a814-46f0-d0a2-b8c001ee7e9a",
        "colab": {
          "base_uri": "https://localhost:8080/",
          "height": 363
        }
      },
      "source": [
        "train['review_length'] = train['user_review'].apply(len)\n",
        "train['user_review'] = train['user_review'].str.lower()\n",
        "\n",
        "train['user_review'] = train['user_review'].map(lambda x: re.sub('\\\\n',' ',str(x)))\n",
        "train['user_review'] = train['user_review'].map(lambda x: re.sub(r'\\W',' ',str(x)))\n",
        "train['user_review'] = train['user_review'].map(lambda x: re.sub(r'https\\s+|www.\\s+',r'', str(x)))\n",
        "train['user_review'] = train['user_review'].map(lambda x: re.sub(r'http\\s+|www.\\s+',r'', str(x)))\n",
        "train['user_review'] = train['user_review'].map(lambda x: re.sub(r'\\s+[a-zA-Z]\\s+',' ',str(x)))\n",
        "train['user_review'] = train['user_review'].map(lambda x: re.sub(r'\\^[a-zA-Z]\\s+',' ',str(x)))\n",
        "train['user_review'] = train['user_review'].map(lambda x: re.sub(r'\\s+',' ',str(x)))\n",
        "\n",
        "train['user_review'] = train['user_review'].map(lambda x: re.sub(r\"\\’\", \"\\'\", str(x)))\n",
        "train['user_review'] = train['user_review'].map(lambda x: re.sub(r\"won\\'t\", \"will not\", str(x)))\n",
        "train['user_review'] = train['user_review'].map(lambda x: re.sub(r\"can\\'t\", \"can not\", str(x)))\n",
        "train['user_review'] = train['user_review'].map(lambda x: re.sub(r\"don\\'t\", \"do not\", str(x)))\n",
        "train['user_review'] = train['user_review'].map(lambda x: re.sub(r\"dont\", \"do not\", str(x)))\n",
        "train['user_review'] = train['user_review'].map(lambda x: re.sub(r\"n\\’t\", \" not\", str(x)))\n",
        "train['user_review'] = train['user_review'].map(lambda x: re.sub(r\"n\\'t\", \" not\", str(x)))\n",
        "train['user_review'] = train['user_review'].map(lambda x: re.sub(r\"\\'re\", \" are\", str(x)))\n",
        "train['user_review'] = train['user_review'].map(lambda x: re.sub(r\"\\'s\", \" is\", str(x)))\n",
        "train['user_review'] = train['user_review'].map(lambda x: re.sub(r\"\\’d\", \" would\", str(x)))\n",
        "train['user_review'] = train['user_review'].map(lambda x: re.sub(r\"\\d\", \" would\", str(x)))\n",
        "train['user_review'] = train['user_review'].map(lambda x: re.sub(r\"\\'ll\", \" will\", str(x)))\n",
        "train['user_review'] = train['user_review'].map(lambda x: re.sub(r\"\\'t\", \" not\", str(x)))\n",
        "train['user_review'] = train['user_review'].map(lambda x: re.sub(r\"\\'ve\", \" have\", str(x)))\n",
        "train['user_review'] = train['user_review'].map(lambda x: re.sub(r\"\\'m\", \" am\", str(x)))\n",
        "train['user_review'] = train['user_review'].map(lambda x: re.sub(r\"\\n\", \"\", str(x)))\n",
        "train['user_review'] = train['user_review'].map(lambda x: re.sub(r\"\\r\", \"\", str(x)))\n",
        "train['user_review'] = train['user_review'].map(lambda x: re.sub(r\"[0-9]\", \"digit\", str(x)))\n",
        "train['user_review'] = train['user_review'].map(lambda x: re.sub(r\"\\'\", \"\", str(x)))\n",
        "train['user_review'] = train['user_review'].map(lambda x: re.sub(r\"\\\"\", \"\", str(x)))\n",
        "train['user_review'] = train['user_review'].map(lambda x: re.sub(r'[?|!|\\'|\"|#]',r'', str(x)))\n",
        "train['user_review'] = train['user_review'].map(lambda x: re.sub(r'[.|,|)|(|\\|/]',r' ', str(x)))\n",
        "train['user_review'] = train['user_review'].apply(lambda x: remove_stopwords(x))\n",
        "train.head(10)"
      ],
      "execution_count": 20,
      "outputs": [
        {
          "output_type": "execute_result",
          "data": {
            "text/html": [
              "<div>\n",
              "<style scoped>\n",
              "    .dataframe tbody tr th:only-of-type {\n",
              "        vertical-align: middle;\n",
              "    }\n",
              "\n",
              "    .dataframe tbody tr th {\n",
              "        vertical-align: top;\n",
              "    }\n",
              "\n",
              "    .dataframe thead th {\n",
              "        text-align: right;\n",
              "    }\n",
              "</style>\n",
              "<table border=\"1\" class=\"dataframe\">\n",
              "  <thead>\n",
              "    <tr style=\"text-align: right;\">\n",
              "      <th></th>\n",
              "      <th>review_id</th>\n",
              "      <th>title</th>\n",
              "      <th>year</th>\n",
              "      <th>user_review</th>\n",
              "      <th>user_suggestion</th>\n",
              "      <th>review_length</th>\n",
              "    </tr>\n",
              "  </thead>\n",
              "  <tbody>\n",
              "    <tr>\n",
              "      <th>0</th>\n",
              "      <td>1</td>\n",
              "      <td>spooky's jump scare mansion</td>\n",
              "      <td>2016.0</td>\n",
              "      <td>scared hearing creepy voices pause moment write review wait heart beat return atleast somewhat c...</td>\n",
              "      <td>1</td>\n",
              "      <td>710</td>\n",
              "    </tr>\n",
              "    <tr>\n",
              "      <th>1</th>\n",
              "      <td>2</td>\n",
              "      <td>spooky's jump scare mansion</td>\n",
              "      <td>2016.0</td>\n",
              "      <td>best game better sam pepper youtube account would would would wouldwhat ll need play computersom...</td>\n",
              "      <td>1</td>\n",
              "      <td>335</td>\n",
              "    </tr>\n",
              "    <tr>\n",
              "      <th>2</th>\n",
              "      <td>3</td>\n",
              "      <td>spooky's jump scare mansion</td>\n",
              "      <td>2016.0</td>\n",
              "      <td>littly iffy the controls know play easy master made floor would would would would but due to cer...</td>\n",
              "      <td>1</td>\n",
              "      <td>397</td>\n",
              "    </tr>\n",
              "    <tr>\n",
              "      <th>3</th>\n",
              "      <td>4</td>\n",
              "      <td>spooky's jump scare mansion</td>\n",
              "      <td>2015.0</td>\n",
              "      <td>great game fun colorful all side note though are getting windowed mode computer hates fullscreen...</td>\n",
              "      <td>1</td>\n",
              "      <td>280</td>\n",
              "    </tr>\n",
              "    <tr>\n",
              "      <th>4</th>\n",
              "      <td>5</td>\n",
              "      <td>spooky's jump scare mansion</td>\n",
              "      <td>2015.0</td>\n",
              "      <td>many games cute tag right next horror tag steam first played game late would would would would c...</td>\n",
              "      <td>1</td>\n",
              "      <td>334</td>\n",
              "    </tr>\n",
              "    <tr>\n",
              "      <th>5</th>\n",
              "      <td>6</td>\n",
              "      <td>spooky's jump scare mansion</td>\n",
              "      <td>2015.0</td>\n",
              "      <td>early access reviewit pretty cute first then later gets horrifying it really jumpscare specimen ...</td>\n",
              "      <td>1</td>\n",
              "      <td>209</td>\n",
              "    </tr>\n",
              "    <tr>\n",
              "      <th>6</th>\n",
              "      <td>7</td>\n",
              "      <td>spooky's jump scare mansion</td>\n",
              "      <td>2017.0</td>\n",
              "      <td>great game a cute little horror game progressively gets darker scarier has sense humor ve played...</td>\n",
              "      <td>1</td>\n",
              "      <td>198</td>\n",
              "    </tr>\n",
              "    <tr>\n",
              "      <th>7</th>\n",
              "      <td>8</td>\n",
              "      <td>spooky's jump scare mansion</td>\n",
              "      <td>2015.0</td>\n",
              "      <td>spooky jump scare mansion free retro maze game jump scares death worked win would would looked o...</td>\n",
              "      <td>1</td>\n",
              "      <td>917</td>\n",
              "    </tr>\n",
              "    <tr>\n",
              "      <th>8</th>\n",
              "      <td>9</td>\n",
              "      <td>spooky's jump scare mansion</td>\n",
              "      <td>2015.0</td>\n",
              "      <td>somewhere light hearted happy parody afraid dark lies spooky house jump scares tasked daunting d...</td>\n",
              "      <td>0</td>\n",
              "      <td>5217</td>\n",
              "    </tr>\n",
              "    <tr>\n",
              "      <th>9</th>\n",
              "      <td>10</td>\n",
              "      <td>spooky's jump scare mansion</td>\n",
              "      <td>2015.0</td>\n",
              "      <td>game its cute little of wall pop ups scared living light of like much played lately this very go...</td>\n",
              "      <td>1</td>\n",
              "      <td>304</td>\n",
              "    </tr>\n",
              "  </tbody>\n",
              "</table>\n",
              "</div>"
            ],
            "text/plain": [
              "   review_id                        title    year  \\\n",
              "0          1  spooky's jump scare mansion  2016.0   \n",
              "1          2  spooky's jump scare mansion  2016.0   \n",
              "2          3  spooky's jump scare mansion  2016.0   \n",
              "3          4  spooky's jump scare mansion  2015.0   \n",
              "4          5  spooky's jump scare mansion  2015.0   \n",
              "5          6  spooky's jump scare mansion  2015.0   \n",
              "6          7  spooky's jump scare mansion  2017.0   \n",
              "7          8  spooky's jump scare mansion  2015.0   \n",
              "8          9  spooky's jump scare mansion  2015.0   \n",
              "9         10  spooky's jump scare mansion  2015.0   \n",
              "\n",
              "                                                                                           user_review  \\\n",
              "0  scared hearing creepy voices pause moment write review wait heart beat return atleast somewhat c...   \n",
              "1  best game better sam pepper youtube account would would would wouldwhat ll need play computersom...   \n",
              "2  littly iffy the controls know play easy master made floor would would would would but due to cer...   \n",
              "3  great game fun colorful all side note though are getting windowed mode computer hates fullscreen...   \n",
              "4  many games cute tag right next horror tag steam first played game late would would would would c...   \n",
              "5  early access reviewit pretty cute first then later gets horrifying it really jumpscare specimen ...   \n",
              "6  great game a cute little horror game progressively gets darker scarier has sense humor ve played...   \n",
              "7  spooky jump scare mansion free retro maze game jump scares death worked win would would looked o...   \n",
              "8  somewhere light hearted happy parody afraid dark lies spooky house jump scares tasked daunting d...   \n",
              "9  game its cute little of wall pop ups scared living light of like much played lately this very go...   \n",
              "\n",
              "   user_suggestion  review_length  \n",
              "0                1            710  \n",
              "1                1            335  \n",
              "2                1            397  \n",
              "3                1            280  \n",
              "4                1            334  \n",
              "5                1            209  \n",
              "6                1            198  \n",
              "7                1            917  \n",
              "8                0           5217  \n",
              "9                1            304  "
            ]
          },
          "metadata": {
            "tags": []
          },
          "execution_count": 20
        }
      ]
    },
    {
      "cell_type": "code",
      "metadata": {
        "id": "seLlHLfXDo3d",
        "colab_type": "code",
        "outputId": "b61e33f0-51b4-40c6-e0e0-725a2f3a24d2",
        "colab": {
          "base_uri": "https://localhost:8080/",
          "height": 363
        }
      },
      "source": [
        "test['review_length'] = test['user_review'].apply(len)\n",
        "test['user_review'] = test['user_review'].str.lower()\n",
        "\n",
        "test['user_review'] = test['user_review'].map(lambda x: re.sub('\\\\n',' ',str(x)))\n",
        "test['user_review'] = test['user_review'].map(lambda x: re.sub(r'\\W',' ',str(x)))\n",
        "test['user_review'] = test['user_review'].map(lambda x: re.sub(r'https\\s+|www.\\s+',r'', str(x)))\n",
        "test['user_review'] = test['user_review'].map(lambda x: re.sub(r'http\\s+|www.\\s+',r'', str(x)))\n",
        "test['user_review'] = test['user_review'].map(lambda x: re.sub(r'\\s+[a-zA-Z]\\s+',' ',str(x)))\n",
        "test['user_review'] = test['user_review'].map(lambda x: re.sub(r'\\^[a-zA-Z]\\s+',' ',str(x)))\n",
        "test['user_review'] = test['user_review'].map(lambda x: re.sub(r'\\s+',' ',str(x)))\n",
        "\n",
        "test['user_review'] = test['user_review'].map(lambda x: re.sub(r\"\\’\", \"\\'\", str(x)))\n",
        "test['user_review'] = test['user_review'].map(lambda x: re.sub(r\"won\\'t\", \"will not\", str(x)))\n",
        "test['user_review'] = test['user_review'].map(lambda x: re.sub(r\"can\\'t\", \"can not\", str(x)))\n",
        "test['user_review'] = test['user_review'].map(lambda x: re.sub(r\"don\\'t\", \"do not\", str(x)))\n",
        "test['user_review'] = test['user_review'].map(lambda x: re.sub(r\"dont\", \"do not\", str(x)))\n",
        "test['user_review'] = test['user_review'].map(lambda x: re.sub(r\"n\\’t\", \" not\", str(x)))\n",
        "test['user_review'] = test['user_review'].map(lambda x: re.sub(r\"n\\'t\", \" not\", str(x)))\n",
        "test['user_review'] = test['user_review'].map(lambda x: re.sub(r\"\\'re\", \" are\", str(x)))\n",
        "test['user_review'] = test['user_review'].map(lambda x: re.sub(r\"\\'s\", \" is\", str(x)))\n",
        "test['user_review'] = test['user_review'].map(lambda x: re.sub(r\"\\’d\", \" would\", str(x)))\n",
        "test['user_review'] = test['user_review'].map(lambda x: re.sub(r\"\\d\", \" would\", str(x)))\n",
        "test['user_review'] = test['user_review'].map(lambda x: re.sub(r\"\\'ll\", \" will\", str(x)))\n",
        "test['user_review'] = test['user_review'].map(lambda x: re.sub(r\"\\'t\", \" not\", str(x)))\n",
        "test['user_review'] = test['user_review'].map(lambda x: re.sub(r\"\\'ve\", \" have\", str(x)))\n",
        "test['user_review'] = test['user_review'].map(lambda x: re.sub(r\"\\'m\", \" am\", str(x)))\n",
        "test['user_review'] = test['user_review'].map(lambda x: re.sub(r\"\\n\", \"\", str(x)))\n",
        "test['user_review'] = test['user_review'].map(lambda x: re.sub(r\"\\r\", \"\", str(x)))\n",
        "test['user_review'] = test['user_review'].map(lambda x: re.sub(r\"[0-9]\", \"digit\", str(x)))\n",
        "test['user_review'] = test['user_review'].map(lambda x: re.sub(r\"\\'\", \"\", str(x)))\n",
        "test['user_review'] = test['user_review'].map(lambda x: re.sub(r\"\\\"\", \"\", str(x)))\n",
        "test['user_review'] = test['user_review'].map(lambda x: re.sub(r'[?|!|\\'|\"|#]',r'', str(x)))\n",
        "test['user_review'] = test['user_review'].map(lambda x: re.sub(r'[.|,|)|(|\\|/]',r' ', str(x)))\n",
        "test['user_review'] = test['user_review'].apply(lambda x: remove_stopwords(x))\n",
        "test.head(10)"
      ],
      "execution_count": 21,
      "outputs": [
        {
          "output_type": "execute_result",
          "data": {
            "text/html": [
              "<div>\n",
              "<style scoped>\n",
              "    .dataframe tbody tr th:only-of-type {\n",
              "        vertical-align: middle;\n",
              "    }\n",
              "\n",
              "    .dataframe tbody tr th {\n",
              "        vertical-align: top;\n",
              "    }\n",
              "\n",
              "    .dataframe thead th {\n",
              "        text-align: right;\n",
              "    }\n",
              "</style>\n",
              "<table border=\"1\" class=\"dataframe\">\n",
              "  <thead>\n",
              "    <tr style=\"text-align: right;\">\n",
              "      <th></th>\n",
              "      <th>review_id</th>\n",
              "      <th>title</th>\n",
              "      <th>year</th>\n",
              "      <th>user_review</th>\n",
              "      <th>review_length</th>\n",
              "    </tr>\n",
              "  </thead>\n",
              "  <tbody>\n",
              "    <tr>\n",
              "      <th>0</th>\n",
              "      <td>1603</td>\n",
              "      <td>counter-strike: global offensive</td>\n",
              "      <td>2015.0</td>\n",
              "      <td>nice graphics new maps weapons models developers listen customers bit developers focused much th...</td>\n",
              "      <td>433</td>\n",
              "    </tr>\n",
              "    <tr>\n",
              "      <th>1</th>\n",
              "      <td>1604</td>\n",
              "      <td>counter-strike: global offensive</td>\n",
              "      <td>2018.0</td>\n",
              "      <td>would recommend getting its current state csgo hit rock bottom valve missed promises game changi...</td>\n",
              "      <td>944</td>\n",
              "    </tr>\n",
              "    <tr>\n",
              "      <th>2</th>\n",
              "      <td>1605</td>\n",
              "      <td>counter-strike: global offensive</td>\n",
              "      <td>2018.0</td>\n",
              "      <td>edit would would would would would wouldi tried playing cs go recently only dramatically gotten ...</td>\n",
              "      <td>3048</td>\n",
              "    </tr>\n",
              "    <tr>\n",
              "      <th>3</th>\n",
              "      <td>1606</td>\n",
              "      <td>counter-strike: global offensive</td>\n",
              "      <td>2015.0</td>\n",
              "      <td>game great community worst into match russian maybe fine the times but there bunch of them expec...</td>\n",
              "      <td>377</td>\n",
              "    </tr>\n",
              "    <tr>\n",
              "      <th>4</th>\n",
              "      <td>1607</td>\n",
              "      <td>counter-strike: global offensive</td>\n",
              "      <td>2015.0</td>\n",
              "      <td>thank trulyrazor buying long time ago insisted him would play seems wrong around always known pe...</td>\n",
              "      <td>5666</td>\n",
              "    </tr>\n",
              "    <tr>\n",
              "      <th>5</th>\n",
              "      <td>1608</td>\n",
              "      <td>counter-strike: global offensive</td>\n",
              "      <td>2014.0</td>\n",
              "      <td>kind hard say like game would would would would hours gameplay addictive love game fact skill ma...</td>\n",
              "      <td>2804</td>\n",
              "    </tr>\n",
              "    <tr>\n",
              "      <th>6</th>\n",
              "      <td>1609</td>\n",
              "      <td>counter-strike: global offensive</td>\n",
              "      <td>2016.0</td>\n",
              "      <td>since old fan halo games find cs go nice sequel franchise can jump p would would awp ak make hea...</td>\n",
              "      <td>677</td>\n",
              "    </tr>\n",
              "    <tr>\n",
              "      <th>7</th>\n",
              "      <td>1610</td>\n",
              "      <td>counter-strike: global offensive</td>\n",
              "      <td>2013.0</td>\n",
              "      <td>hepimiz küçüklüğümüzde counter strike oyunlarından birini muhakkak oynamışızdır counter ın yenil...</td>\n",
              "      <td>997</td>\n",
              "    </tr>\n",
              "    <tr>\n",
              "      <th>8</th>\n",
              "      <td>1611</td>\n",
              "      <td>counter-strike: global offensive</td>\n",
              "      <td>2015.0</td>\n",
              "      <td>death great teacher failure counter strike global offensive always been series greatest way lear...</td>\n",
              "      <td>5292</td>\n",
              "    </tr>\n",
              "    <tr>\n",
              "      <th>9</th>\n",
              "      <td>1612</td>\n",
              "      <td>counter-strike: global offensive</td>\n",
              "      <td>2015.0</td>\n",
              "      <td>one worst communities gaming griefers cheaters squeaky kids flamers theres every type could poss...</td>\n",
              "      <td>1544</td>\n",
              "    </tr>\n",
              "  </tbody>\n",
              "</table>\n",
              "</div>"
            ],
            "text/plain": [
              "   review_id                             title    year  \\\n",
              "0       1603  counter-strike: global offensive  2015.0   \n",
              "1       1604  counter-strike: global offensive  2018.0   \n",
              "2       1605  counter-strike: global offensive  2018.0   \n",
              "3       1606  counter-strike: global offensive  2015.0   \n",
              "4       1607  counter-strike: global offensive  2015.0   \n",
              "5       1608  counter-strike: global offensive  2014.0   \n",
              "6       1609  counter-strike: global offensive  2016.0   \n",
              "7       1610  counter-strike: global offensive  2013.0   \n",
              "8       1611  counter-strike: global offensive  2015.0   \n",
              "9       1612  counter-strike: global offensive  2015.0   \n",
              "\n",
              "                                                                                           user_review  \\\n",
              "0  nice graphics new maps weapons models developers listen customers bit developers focused much th...   \n",
              "1  would recommend getting its current state csgo hit rock bottom valve missed promises game changi...   \n",
              "2  edit would would would would would wouldi tried playing cs go recently only dramatically gotten ...   \n",
              "3  game great community worst into match russian maybe fine the times but there bunch of them expec...   \n",
              "4  thank trulyrazor buying long time ago insisted him would play seems wrong around always known pe...   \n",
              "5  kind hard say like game would would would would hours gameplay addictive love game fact skill ma...   \n",
              "6  since old fan halo games find cs go nice sequel franchise can jump p would would awp ak make hea...   \n",
              "7  hepimiz küçüklüğümüzde counter strike oyunlarından birini muhakkak oynamışızdır counter ın yenil...   \n",
              "8  death great teacher failure counter strike global offensive always been series greatest way lear...   \n",
              "9  one worst communities gaming griefers cheaters squeaky kids flamers theres every type could poss...   \n",
              "\n",
              "   review_length  \n",
              "0            433  \n",
              "1            944  \n",
              "2           3048  \n",
              "3            377  \n",
              "4           5666  \n",
              "5           2804  \n",
              "6            677  \n",
              "7            997  \n",
              "8           5292  \n",
              "9           1544  "
            ]
          },
          "metadata": {
            "tags": []
          },
          "execution_count": 21
        }
      ]
    },
    {
      "cell_type": "code",
      "metadata": {
        "id": "X01GL6qv1_WY",
        "colab_type": "code",
        "colab": {}
      },
      "source": [
        "target = train[\"user_suggestion\"]\n",
        "train2 = train.drop(['user_suggestion'], axis=1)\n",
        "\n",
        "x_train, x_val, y_train, y_val = train_test_split(train2, target, test_size=0.3, random_state=2019)"
      ],
      "execution_count": 0,
      "outputs": []
    },
    {
      "cell_type": "code",
      "metadata": {
        "id": "0kJ3ujBm-MLV",
        "colab_type": "code",
        "colab": {
          "base_uri": "https://localhost:8080/",
          "height": 206
        },
        "outputId": "8dedd085-ab52-4915-e3dc-9321732d217e"
      },
      "source": [
        "train2.head()"
      ],
      "execution_count": 23,
      "outputs": [
        {
          "output_type": "execute_result",
          "data": {
            "text/html": [
              "<div>\n",
              "<style scoped>\n",
              "    .dataframe tbody tr th:only-of-type {\n",
              "        vertical-align: middle;\n",
              "    }\n",
              "\n",
              "    .dataframe tbody tr th {\n",
              "        vertical-align: top;\n",
              "    }\n",
              "\n",
              "    .dataframe thead th {\n",
              "        text-align: right;\n",
              "    }\n",
              "</style>\n",
              "<table border=\"1\" class=\"dataframe\">\n",
              "  <thead>\n",
              "    <tr style=\"text-align: right;\">\n",
              "      <th></th>\n",
              "      <th>review_id</th>\n",
              "      <th>title</th>\n",
              "      <th>year</th>\n",
              "      <th>user_review</th>\n",
              "      <th>review_length</th>\n",
              "    </tr>\n",
              "  </thead>\n",
              "  <tbody>\n",
              "    <tr>\n",
              "      <th>0</th>\n",
              "      <td>1</td>\n",
              "      <td>spooky's jump scare mansion</td>\n",
              "      <td>2016.0</td>\n",
              "      <td>scared hearing creepy voices pause moment write review wait heart beat return atleast somewhat c...</td>\n",
              "      <td>710</td>\n",
              "    </tr>\n",
              "    <tr>\n",
              "      <th>1</th>\n",
              "      <td>2</td>\n",
              "      <td>spooky's jump scare mansion</td>\n",
              "      <td>2016.0</td>\n",
              "      <td>best game better sam pepper youtube account would would would wouldwhat ll need play computersom...</td>\n",
              "      <td>335</td>\n",
              "    </tr>\n",
              "    <tr>\n",
              "      <th>2</th>\n",
              "      <td>3</td>\n",
              "      <td>spooky's jump scare mansion</td>\n",
              "      <td>2016.0</td>\n",
              "      <td>littly iffy the controls know play easy master made floor would would would would but due to cer...</td>\n",
              "      <td>397</td>\n",
              "    </tr>\n",
              "    <tr>\n",
              "      <th>3</th>\n",
              "      <td>4</td>\n",
              "      <td>spooky's jump scare mansion</td>\n",
              "      <td>2015.0</td>\n",
              "      <td>great game fun colorful all side note though are getting windowed mode computer hates fullscreen...</td>\n",
              "      <td>280</td>\n",
              "    </tr>\n",
              "    <tr>\n",
              "      <th>4</th>\n",
              "      <td>5</td>\n",
              "      <td>spooky's jump scare mansion</td>\n",
              "      <td>2015.0</td>\n",
              "      <td>many games cute tag right next horror tag steam first played game late would would would would c...</td>\n",
              "      <td>334</td>\n",
              "    </tr>\n",
              "  </tbody>\n",
              "</table>\n",
              "</div>"
            ],
            "text/plain": [
              "   review_id                        title    year  \\\n",
              "0          1  spooky's jump scare mansion  2016.0   \n",
              "1          2  spooky's jump scare mansion  2016.0   \n",
              "2          3  spooky's jump scare mansion  2016.0   \n",
              "3          4  spooky's jump scare mansion  2015.0   \n",
              "4          5  spooky's jump scare mansion  2015.0   \n",
              "\n",
              "                                                                                           user_review  \\\n",
              "0  scared hearing creepy voices pause moment write review wait heart beat return atleast somewhat c...   \n",
              "1  best game better sam pepper youtube account would would would wouldwhat ll need play computersom...   \n",
              "2  littly iffy the controls know play easy master made floor would would would would but due to cer...   \n",
              "3  great game fun colorful all side note though are getting windowed mode computer hates fullscreen...   \n",
              "4  many games cute tag right next horror tag steam first played game late would would would would c...   \n",
              "\n",
              "   review_length  \n",
              "0            710  \n",
              "1            335  \n",
              "2            397  \n",
              "3            280  \n",
              "4            334  "
            ]
          },
          "metadata": {
            "tags": []
          },
          "execution_count": 23
        }
      ]
    },
    {
      "cell_type": "code",
      "metadata": {
        "id": "BH8U_2cB-OoE",
        "colab_type": "code",
        "colab": {
          "base_uri": "https://localhost:8080/",
          "height": 206
        },
        "outputId": "b8b989f2-e779-4d34-b203-038e88665936"
      },
      "source": [
        "test.head()"
      ],
      "execution_count": 24,
      "outputs": [
        {
          "output_type": "execute_result",
          "data": {
            "text/html": [
              "<div>\n",
              "<style scoped>\n",
              "    .dataframe tbody tr th:only-of-type {\n",
              "        vertical-align: middle;\n",
              "    }\n",
              "\n",
              "    .dataframe tbody tr th {\n",
              "        vertical-align: top;\n",
              "    }\n",
              "\n",
              "    .dataframe thead th {\n",
              "        text-align: right;\n",
              "    }\n",
              "</style>\n",
              "<table border=\"1\" class=\"dataframe\">\n",
              "  <thead>\n",
              "    <tr style=\"text-align: right;\">\n",
              "      <th></th>\n",
              "      <th>review_id</th>\n",
              "      <th>title</th>\n",
              "      <th>year</th>\n",
              "      <th>user_review</th>\n",
              "      <th>review_length</th>\n",
              "    </tr>\n",
              "  </thead>\n",
              "  <tbody>\n",
              "    <tr>\n",
              "      <th>0</th>\n",
              "      <td>1603</td>\n",
              "      <td>counter-strike: global offensive</td>\n",
              "      <td>2015.0</td>\n",
              "      <td>nice graphics new maps weapons models developers listen customers bit developers focused much th...</td>\n",
              "      <td>433</td>\n",
              "    </tr>\n",
              "    <tr>\n",
              "      <th>1</th>\n",
              "      <td>1604</td>\n",
              "      <td>counter-strike: global offensive</td>\n",
              "      <td>2018.0</td>\n",
              "      <td>would recommend getting its current state csgo hit rock bottom valve missed promises game changi...</td>\n",
              "      <td>944</td>\n",
              "    </tr>\n",
              "    <tr>\n",
              "      <th>2</th>\n",
              "      <td>1605</td>\n",
              "      <td>counter-strike: global offensive</td>\n",
              "      <td>2018.0</td>\n",
              "      <td>edit would would would would would wouldi tried playing cs go recently only dramatically gotten ...</td>\n",
              "      <td>3048</td>\n",
              "    </tr>\n",
              "    <tr>\n",
              "      <th>3</th>\n",
              "      <td>1606</td>\n",
              "      <td>counter-strike: global offensive</td>\n",
              "      <td>2015.0</td>\n",
              "      <td>game great community worst into match russian maybe fine the times but there bunch of them expec...</td>\n",
              "      <td>377</td>\n",
              "    </tr>\n",
              "    <tr>\n",
              "      <th>4</th>\n",
              "      <td>1607</td>\n",
              "      <td>counter-strike: global offensive</td>\n",
              "      <td>2015.0</td>\n",
              "      <td>thank trulyrazor buying long time ago insisted him would play seems wrong around always known pe...</td>\n",
              "      <td>5666</td>\n",
              "    </tr>\n",
              "  </tbody>\n",
              "</table>\n",
              "</div>"
            ],
            "text/plain": [
              "   review_id                             title    year  \\\n",
              "0       1603  counter-strike: global offensive  2015.0   \n",
              "1       1604  counter-strike: global offensive  2018.0   \n",
              "2       1605  counter-strike: global offensive  2018.0   \n",
              "3       1606  counter-strike: global offensive  2015.0   \n",
              "4       1607  counter-strike: global offensive  2015.0   \n",
              "\n",
              "                                                                                           user_review  \\\n",
              "0  nice graphics new maps weapons models developers listen customers bit developers focused much th...   \n",
              "1  would recommend getting its current state csgo hit rock bottom valve missed promises game changi...   \n",
              "2  edit would would would would would wouldi tried playing cs go recently only dramatically gotten ...   \n",
              "3  game great community worst into match russian maybe fine the times but there bunch of them expec...   \n",
              "4  thank trulyrazor buying long time ago insisted him would play seems wrong around always known pe...   \n",
              "\n",
              "   review_length  \n",
              "0            433  \n",
              "1            944  \n",
              "2           3048  \n",
              "3            377  \n",
              "4           5666  "
            ]
          },
          "metadata": {
            "tags": []
          },
          "execution_count": 24
        }
      ]
    },
    {
      "cell_type": "code",
      "metadata": {
        "id": "xtIehxUVGAUY",
        "colab_type": "code",
        "colab": {}
      },
      "source": [
        "# Convert all the text into vector form\n",
        "\n",
        "vec = CountVectorizer()\n",
        "#vec = CountVectorizer(stop_words='english', binary=True)\n",
        "#vec = CountVectorizer(stop_words='english', ngram_range=(1,10), analyzer='char', token_pattern=r'\\w{1,}', min_df=4)\n",
        "#vec = CountVectorizer(stop_words='english', ngram_range=(1,4), analyzer='char', min_df=4)\n",
        "#vec = CountVectorizer(analyzer='word',token_pattern=r'\\w{1,}', ngram_range=(1, 4), stop_words = 'english')\n",
        "\n",
        "#vec = TfidfVectorizer(stop_words='english')\n",
        "#vec = TfidfVectorizer(stop_words='english', sublinear_tf=True, strip_accents='unicode', analyzer='char', token_pattern=r'\\w{1,}', ngram_range=(1, 9), max_features=2000000)\n",
        "#vec = TfidfVectorizer(ngram_range=(1,5), min_df=3, stop_words='english', max_df=0.9, strip_accents='unicode', use_idf=1, smooth_idf=1, sublinear_tf=1 )\n",
        "#vec = TfidfVectorizer(min_df=3, max_features=None, strip_accents='unicode', analyzer='word',token_pattern=r'\\w{1,}', ngram_range=(1, 4), use_idf=1,smooth_idf=1,sublinear_tf=1, stop_words = 'english')\n",
        "\n",
        "#vec = HashingVectorizer()"
      ],
      "execution_count": 0,
      "outputs": []
    },
    {
      "cell_type": "code",
      "metadata": {
        "id": "i0TZP31hfIUO",
        "colab_type": "code",
        "outputId": "9e1038a1-6be5-4356-aa3e-ace9f062853e",
        "colab": {
          "base_uri": "https://localhost:8080/",
          "height": 34
        }
      },
      "source": [
        "#X_train_counts = vec.fit_transform(x_train['user_review'])\n",
        "X_train_counts = vec.fit_transform(train['user_review'])\n",
        "\n",
        "# TF-IDF\n",
        "tfidf_transformer = TfidfTransformer()\n",
        "X_train_tfidf = tfidf_transformer.fit_transform(X_train_counts)\n",
        "X_train_tfidf.shape\n",
        "\n",
        "#(32165, 54566)"
      ],
      "execution_count": 26,
      "outputs": [
        {
          "output_type": "execute_result",
          "data": {
            "text/plain": [
              "(17494, 51616)"
            ]
          },
          "metadata": {
            "tags": []
          },
          "execution_count": 26
        }
      ]
    },
    {
      "cell_type": "code",
      "metadata": {
        "id": "YA8Th-X1GEs_",
        "colab_type": "code",
        "outputId": "4921e25c-0b1e-4fc5-8499-0c3bc37b316b",
        "colab": {
          "base_uri": "https://localhost:8080/",
          "height": 34
        }
      },
      "source": [
        "X_val_counts = vec.transform(x_val['user_review'])\n",
        "X_val_tfidf = tfidf_transformer.transform(X_val_counts)\n",
        "print(X_val_tfidf.shape)"
      ],
      "execution_count": 27,
      "outputs": [
        {
          "output_type": "stream",
          "text": [
            "(5249, 51616)\n"
          ],
          "name": "stdout"
        }
      ]
    },
    {
      "cell_type": "code",
      "metadata": {
        "id": "3urVP26tGGqn",
        "colab_type": "code",
        "outputId": "14e57574-eb11-489b-b02d-d622f98b3576",
        "colab": {
          "base_uri": "https://localhost:8080/",
          "height": 34
        }
      },
      "source": [
        "test_counts = vec.transform(test['user_review'])\n",
        "test_tfidf = tfidf_transformer.transform(test_counts)\n",
        "print(test_tfidf.shape)"
      ],
      "execution_count": 28,
      "outputs": [
        {
          "output_type": "stream",
          "text": [
            "(8045, 51616)\n"
          ],
          "name": "stdout"
        }
      ]
    },
    {
      "cell_type": "markdown",
      "metadata": {
        "id": "NF4XwN65KgN-",
        "colab_type": "text"
      },
      "source": [
        "# Machine Learning Algorithms\n",
        "\n",
        "# Logistic Regression"
      ]
    },
    {
      "cell_type": "code",
      "metadata": {
        "id": "e7NamV5d3xMQ",
        "colab_type": "code",
        "colab": {
          "base_uri": "https://localhost:8080/",
          "height": 104
        },
        "outputId": "a10f3751-20f4-473d-ae81-25d7dd5e2fd9"
      },
      "source": [
        "lnreg = LogisticRegression()\n",
        "\n",
        "lnreg.fit(X_train_tfidf, target)\n",
        "#lnreg.fit(x_train, y_train)"
      ],
      "execution_count": 29,
      "outputs": [
        {
          "output_type": "execute_result",
          "data": {
            "text/plain": [
              "LogisticRegression(C=1.0, class_weight=None, dual=False, fit_intercept=True,\n",
              "                   intercept_scaling=1, l1_ratio=None, max_iter=100,\n",
              "                   multi_class='auto', n_jobs=None, penalty='l2',\n",
              "                   random_state=None, solver='lbfgs', tol=0.0001, verbose=0,\n",
              "                   warm_start=False)"
            ]
          },
          "metadata": {
            "tags": []
          },
          "execution_count": 29
        }
      ]
    },
    {
      "cell_type": "code",
      "metadata": {
        "id": "_fW4OHriA8f9",
        "colab_type": "code",
        "colab": {
          "base_uri": "https://localhost:8080/",
          "height": 34
        },
        "outputId": "c1274966-7897-4a28-f2c1-212fb7704764"
      },
      "source": [
        "y_pred_ln = lnreg.predict(X_val_tfidf)\n",
        "y_pred_ln"
      ],
      "execution_count": 30,
      "outputs": [
        {
          "output_type": "execute_result",
          "data": {
            "text/plain": [
              "array([1, 0, 1, ..., 1, 1, 1])"
            ]
          },
          "metadata": {
            "tags": []
          },
          "execution_count": 30
        }
      ]
    },
    {
      "cell_type": "code",
      "metadata": {
        "id": "KwO6kqKK33Xn",
        "colab_type": "code",
        "colab": {
          "base_uri": "https://localhost:8080/",
          "height": 52
        },
        "outputId": "656bdba9-4958-4cb3-d68d-5141b3173f6c"
      },
      "source": [
        "score = np.sqrt(mean_squared_error(y_val, y_pred_ln))\n",
        "print('RMSE score: %.2f' % score)\n",
        "print('Variance score: %.2f' % r2_score(y_val, y_pred_ln))\n",
        "# RMSE score: 0.30\n",
        "# Variance score: 0.62"
      ],
      "execution_count": 31,
      "outputs": [
        {
          "output_type": "stream",
          "text": [
            "RMSE score: 0.30\n",
            "Variance score: 0.62\n"
          ],
          "name": "stdout"
        }
      ]
    },
    {
      "cell_type": "code",
      "metadata": {
        "id": "HYGkUgn931Rr",
        "colab_type": "code",
        "colab": {
          "base_uri": "https://localhost:8080/",
          "height": 34
        },
        "outputId": "2e1dfda2-910d-4afc-e21b-92edb3cd9000"
      },
      "source": [
        "y_pred_ln = lnreg.predict(test_tfidf)\n",
        "y_pred_ln"
      ],
      "execution_count": 32,
      "outputs": [
        {
          "output_type": "execute_result",
          "data": {
            "text/plain": [
              "array([0, 0, 0, ..., 0, 1, 1])"
            ]
          },
          "metadata": {
            "tags": []
          },
          "execution_count": 32
        }
      ]
    },
    {
      "cell_type": "code",
      "metadata": {
        "id": "8l7reUkt35oo",
        "colab_type": "code",
        "colab": {
          "base_uri": "https://localhost:8080/",
          "height": 69
        },
        "outputId": "5372ccb5-3d37-443c-9159-3dd25658d1c9"
      },
      "source": [
        "submission = pd.DataFrame(data = {\"review_id\":test_review_ids, \"user_suggestion\":y_pred_ln})\n",
        "submission.to_csv(\"submission.csv\", index=False)\n",
        "print(submission['user_suggestion'].value_counts())"
      ],
      "execution_count": 33,
      "outputs": [
        {
          "output_type": "stream",
          "text": [
            "1    4753\n",
            "0    3292\n",
            "Name: user_suggestion, dtype: int64\n"
          ],
          "name": "stdout"
        }
      ]
    },
    {
      "cell_type": "markdown",
      "metadata": {
        "id": "_NHTKFPILn6N",
        "colab_type": "text"
      },
      "source": [
        "# Random Forest"
      ]
    },
    {
      "cell_type": "code",
      "metadata": {
        "id": "oRY5whj6taXf",
        "colab_type": "code",
        "outputId": "9fc291b0-a0e9-44fc-bda5-4a2a4a3d3ed6",
        "colab": {
          "base_uri": "https://localhost:8080/",
          "height": 52
        }
      },
      "source": [
        "rf = RandomForestClassifier(n_estimators=200, random_state = 2020, verbose=1).fit(X_train_tfidf, target)\n",
        "#rf = RandomForestClassifier(n_estimators=100, random_state = 2020, verbose=1).fit(X_train_tfidf, y_train)"
      ],
      "execution_count": 34,
      "outputs": [
        {
          "output_type": "stream",
          "text": [
            "[Parallel(n_jobs=1)]: Using backend SequentialBackend with 1 concurrent workers.\n",
            "[Parallel(n_jobs=1)]: Done 200 out of 200 | elapsed:  1.2min finished\n"
          ],
          "name": "stderr"
        }
      ]
    },
    {
      "cell_type": "code",
      "metadata": {
        "id": "8DDNSux05mY7",
        "colab_type": "code",
        "outputId": "3a9375d3-84b2-46be-a5db-b72252d9f4b5",
        "colab": {
          "base_uri": "https://localhost:8080/",
          "height": 69
        }
      },
      "source": [
        "y_pred_rf = rf.predict(X_val_tfidf)\n",
        "y_pred_rf"
      ],
      "execution_count": 35,
      "outputs": [
        {
          "output_type": "stream",
          "text": [
            "[Parallel(n_jobs=1)]: Using backend SequentialBackend with 1 concurrent workers.\n",
            "[Parallel(n_jobs=1)]: Done 200 out of 200 | elapsed:    0.7s finished\n"
          ],
          "name": "stderr"
        },
        {
          "output_type": "execute_result",
          "data": {
            "text/plain": [
              "array([1, 0, 1, ..., 1, 1, 1])"
            ]
          },
          "metadata": {
            "tags": []
          },
          "execution_count": 35
        }
      ]
    },
    {
      "cell_type": "code",
      "metadata": {
        "id": "vb6XvsI45p10",
        "colab_type": "code",
        "outputId": "90b48f93-399a-435a-8722-d83517ab77a1",
        "colab": {
          "base_uri": "https://localhost:8080/",
          "height": 69
        }
      },
      "source": [
        "score=rf.score(X_train_tfidf, target)\n",
        "#score=rf.score(X_train_tfidf, y_train)\n",
        "score\n",
        "\n",
        "# 0.9928546930376129"
      ],
      "execution_count": 36,
      "outputs": [
        {
          "output_type": "stream",
          "text": [
            "[Parallel(n_jobs=1)]: Using backend SequentialBackend with 1 concurrent workers.\n",
            "[Parallel(n_jobs=1)]: Done 200 out of 200 | elapsed:    2.2s finished\n"
          ],
          "name": "stderr"
        },
        {
          "output_type": "execute_result",
          "data": {
            "text/plain": [
              "0.9998285126329027"
            ]
          },
          "metadata": {
            "tags": []
          },
          "execution_count": 36
        }
      ]
    },
    {
      "cell_type": "code",
      "metadata": {
        "id": "UFNU1--T58to",
        "colab_type": "code",
        "outputId": "3feff0c4-53c5-49f2-d8bd-263921d5299d",
        "colab": {
          "base_uri": "https://localhost:8080/",
          "height": 69
        }
      },
      "source": [
        "y_pred_rf = rf.predict(test_tfidf)\n",
        "y_pred_rf"
      ],
      "execution_count": 37,
      "outputs": [
        {
          "output_type": "stream",
          "text": [
            "[Parallel(n_jobs=1)]: Using backend SequentialBackend with 1 concurrent workers.\n",
            "[Parallel(n_jobs=1)]: Done 200 out of 200 | elapsed:    1.1s finished\n"
          ],
          "name": "stderr"
        },
        {
          "output_type": "execute_result",
          "data": {
            "text/plain": [
              "array([1, 0, 0, ..., 1, 1, 0])"
            ]
          },
          "metadata": {
            "tags": []
          },
          "execution_count": 37
        }
      ]
    },
    {
      "cell_type": "code",
      "metadata": {
        "id": "XvgWnJsG37TA",
        "colab_type": "code",
        "outputId": "b859431d-2734-4b61-d0c9-7e9e4dcdf142",
        "colab": {
          "base_uri": "https://localhost:8080/",
          "height": 69
        }
      },
      "source": [
        "submission = pd.DataFrame(data = {\"review_id\":test_review_ids, \"user_suggestion\":y_pred_rf})\n",
        "submission.to_csv(\"submission.csv\", index=False)\n",
        "print(submission['user_suggestion'].value_counts())"
      ],
      "execution_count": 38,
      "outputs": [
        {
          "output_type": "stream",
          "text": [
            "1    5384\n",
            "0    2661\n",
            "Name: user_suggestion, dtype: int64\n"
          ],
          "name": "stdout"
        }
      ]
    },
    {
      "cell_type": "code",
      "metadata": {
        "id": "ApF42u_F85pa",
        "colab_type": "code",
        "colab": {
          "base_uri": "https://localhost:8080/",
          "height": 121
        },
        "outputId": "155768ad-4a40-47bb-cf9a-c3a213f9480e"
      },
      "source": [
        "!pwd; ls -ltr\n",
        "files.download('submission.csv')"
      ],
      "execution_count": 0,
      "outputs": [
        {
          "output_type": "stream",
          "text": [
            "/content/drive/My Drive/Analytics Vidhya/JanataHack - NLP 2020\n",
            "total 20377\n",
            "-rw------- 1 root root  6635220 Apr 17 06:16 test.csv\n",
            "-rw------- 1 root root 14034581 Apr 17 07:33 train.csv\n",
            "-rw------- 1 root root   132737 Apr 17 17:43 game_overview.csv\n",
            "-rw------- 1 root root    61858 Apr 18 02:10 submission.csv\n"
          ],
          "name": "stdout"
        }
      ]
    },
    {
      "cell_type": "code",
      "metadata": {
        "id": "k8qvDirGRAMi",
        "colab_type": "code",
        "colab": {}
      },
      "source": [
        ""
      ],
      "execution_count": 0,
      "outputs": []
    }
  ]
}