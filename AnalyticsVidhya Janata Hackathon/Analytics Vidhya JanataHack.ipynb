{
  "nbformat": 4,
  "nbformat_minor": 0,
  "metadata": {
    "colab": {
      "name": "JanataHack_v3.ipynb",
      "provenance": [],
      "collapsed_sections": [],
      "machine_shape": "hm"
    },
    "kernelspec": {
      "name": "python3",
      "display_name": "Python 3"
    },
    "language_info": {
      "codemirror_mode": {
        "name": "ipython",
        "version": 3
      },
      "file_extension": ".py",
      "mimetype": "text/x-python",
      "name": "python",
      "nbconvert_exporter": "python",
      "pygments_lexer": "ipython3",
      "version": "3.7.3"
    }
  },
  "cells": [
    {
      "cell_type": "markdown",
      "metadata": {
        "id": "dNILYdE08epc",
        "colab_type": "text"
      },
      "source": [
        "[![Open In Colab](https://colab.research.google.com/assets/colab-badge.svg)](https://colab.research.google.com/github/satya-thirumani/Python/blob/master/AnalyticsVidhya%20Janata%20Hackathon/Analytics%20Vidhya%20JanataHack.ipynb)"
      ]
    },
    {
      "cell_type": "markdown",
      "metadata": {
        "colab_type": "text",
        "id": "AnL6TLA4xpjc"
      },
      "source": [
        "# Analytics Vidhya - JanataHack (Janata Hackathon)\n",
        "\n",
        "---\n",
        "\n",
        "\n",
        "\n",
        "## https://satya-python.blogspot.com/\n",
        "\n",
        "###  To predict gender of e-commerce’s participants from their product viewing records.\n",
        "\n",
        "#### April 2020"
      ]
    },
    {
      "cell_type": "code",
      "metadata": {
        "colab_type": "code",
        "id": "WXqkWWEtuR_f",
        "colab": {
          "base_uri": "https://localhost:8080/",
          "height": 51
        },
        "outputId": "83d5db13-a6cd-42aa-f425-171d6cf1e38f"
      },
      "source": [
        "# Importing required packages\n",
        "\n",
        "import numpy as np\n",
        "import pandas as pd\n",
        "pd.set_option('display.max_columns', 50)\n",
        "pd.options.display.max_colwidth = 100\n",
        "\n",
        "import seaborn as sns\n",
        "import matplotlib.pyplot as plt\n",
        "from datetime import timedelta\n",
        "from tqdm import tqdm\n",
        "import re\n",
        "\n",
        "import warnings\n",
        "warnings.filterwarnings('ignore')\n",
        "\n",
        "from sklearn.model_selection import train_test_split,GridSearchCV\n",
        "from sklearn.metrics import accuracy_score,f1_score,roc_auc_score,confusion_matrix,roc_curve,auc\n",
        "from sklearn.linear_model import LogisticRegression\n",
        "from sklearn.ensemble import RandomForestClassifier\n",
        "from sklearn.preprocessing import StandardScaler,MinMaxScaler,MaxAbsScaler,RobustScaler,PolynomialFeatures,QuantileTransformer,PowerTransformer\n",
        "from sklearn.decomposition import PCA"
      ],
      "execution_count": 1,
      "outputs": [
        {
          "output_type": "stream",
          "text": [
            "/usr/local/lib/python3.6/dist-packages/statsmodels/tools/_testing.py:19: FutureWarning: pandas.util.testing is deprecated. Use the functions in the public API at pandas.testing instead.\n",
            "  import pandas.util.testing as tm\n"
          ],
          "name": "stderr"
        }
      ]
    },
    {
      "cell_type": "markdown",
      "metadata": {
        "colab_type": "text",
        "id": "T7Yg_foy7L5s"
      },
      "source": [
        "# Loading Data"
      ]
    },
    {
      "cell_type": "code",
      "metadata": {
        "colab_type": "code",
        "id": "fGWDXuM2up6n",
        "outputId": "94d46200-20ae-40e4-ad73-f6fb3f969036",
        "colab": {
          "base_uri": "https://localhost:8080/",
          "height": 139
        }
      },
      "source": [
        "# For Google Colaboratory and Google Drive\n",
        "from google.colab import files,drive\n",
        "drive.mount('/content/drive')\n",
        "%cd /content/drive/'My Drive'/'Analytics Vidhya'/JanataHack"
      ],
      "execution_count": 2,
      "outputs": [
        {
          "output_type": "stream",
          "text": [
            "Go to this URL in a browser: https://accounts.google.com/o/oauth2/auth?client_id=947318989803-6bn6qk8qdgf4n4g3pfee6491hc0brc4i.apps.googleusercontent.com&redirect_uri=urn%3aietf%3awg%3aoauth%3a2.0%3aoob&response_type=code&scope=email%20https%3a%2f%2fwww.googleapis.com%2fauth%2fdocs.test%20https%3a%2f%2fwww.googleapis.com%2fauth%2fdrive%20https%3a%2f%2fwww.googleapis.com%2fauth%2fdrive.photos.readonly%20https%3a%2f%2fwww.googleapis.com%2fauth%2fpeopleapi.readonly\n",
            "\n",
            "Enter your authorization code:\n",
            "··········\n",
            "Mounted at /content/drive\n",
            "/content/drive/My Drive/Analytics Vidhya/JanataHack\n"
          ],
          "name": "stdout"
        }
      ]
    },
    {
      "cell_type": "code",
      "metadata": {
        "id": "XAHL0HLF9I4X",
        "colab_type": "code",
        "outputId": "7cf3c921-f268-4e62-9a82-40f7d2fd8270",
        "colab": {
          "base_uri": "https://localhost:8080/",
          "height": 85
        }
      },
      "source": [
        "ls -tlr"
      ],
      "execution_count": 3,
      "outputs": [
        {
          "output_type": "stream",
          "text": [
            "total 1627\n",
            "-rw------- 1 root root 1138290 Apr 10 08:23 train.csv\n",
            "-rw------- 1 root root  465312 Apr 10 08:23 test.csv\n",
            "-rw------- 1 root root   61832 Apr 12 16:26 submission.csv\n"
          ],
          "name": "stdout"
        }
      ]
    },
    {
      "cell_type": "code",
      "metadata": {
        "colab_type": "code",
        "id": "8hApXYn6uq36",
        "colab": {}
      },
      "source": [
        "train = pd.read_csv(\"train.csv\")\n",
        "test = pd.read_csv(\"test.csv\")\n",
        "test_ids = test[\"session_id\"]"
      ],
      "execution_count": 0,
      "outputs": []
    },
    {
      "cell_type": "markdown",
      "metadata": {
        "colab_type": "text",
        "id": "psJRySle4z72"
      },
      "source": [
        "# EDA - Exploratory Data Analysis"
      ]
    },
    {
      "cell_type": "code",
      "metadata": {
        "colab_type": "code",
        "id": "fKSs6cp08LUT",
        "outputId": "09e6efd6-89cb-4756-9b2b-93e58657d698",
        "colab": {
          "base_uri": "https://localhost:8080/",
          "height": 85
        }
      },
      "source": [
        "# Check number of features and data points in train and test\n",
        "print(\"Number of data points in train: %d\" % train.shape[0])\n",
        "print(\"Number of features in train: %d\" % train.shape[1])\n",
        "\n",
        "print(\"Number of data points in test: %d\" % test.shape[0])\n",
        "print(\"Number of features in test: %d\" % test.shape[1])"
      ],
      "execution_count": 5,
      "outputs": [
        {
          "output_type": "stream",
          "text": [
            "Number of data points in train: 10500\n",
            "Number of features in train: 5\n",
            "Number of data points in test: 4500\n",
            "Number of features in test: 4\n"
          ],
          "name": "stdout"
        }
      ]
    },
    {
      "cell_type": "code",
      "metadata": {
        "colab_type": "code",
        "id": "LibJs4GcwGKN",
        "outputId": "2e3423e2-e192-4ac1-a5da-2658c143a632",
        "colab": {
          "base_uri": "https://localhost:8080/",
          "height": 221
        }
      },
      "source": [
        "train.info()"
      ],
      "execution_count": 6,
      "outputs": [
        {
          "output_type": "stream",
          "text": [
            "<class 'pandas.core.frame.DataFrame'>\n",
            "RangeIndex: 10500 entries, 0 to 10499\n",
            "Data columns (total 5 columns):\n",
            " #   Column       Non-Null Count  Dtype \n",
            "---  ------       --------------  ----- \n",
            " 0   session_id   10500 non-null  object\n",
            " 1   startTime    10500 non-null  object\n",
            " 2   endTime      10500 non-null  object\n",
            " 3   ProductList  10500 non-null  object\n",
            " 4   gender       10500 non-null  object\n",
            "dtypes: object(5)\n",
            "memory usage: 410.3+ KB\n"
          ],
          "name": "stdout"
        }
      ]
    },
    {
      "cell_type": "code",
      "metadata": {
        "colab_type": "code",
        "id": "DZdPyRl9um-M",
        "outputId": "394d336b-371e-42f1-b680-dce68422db23",
        "colab": {
          "base_uri": "https://localhost:8080/",
          "height": 204
        }
      },
      "source": [
        "train.head()"
      ],
      "execution_count": 7,
      "outputs": [
        {
          "output_type": "execute_result",
          "data": {
            "text/html": [
              "<div>\n",
              "<style scoped>\n",
              "    .dataframe tbody tr th:only-of-type {\n",
              "        vertical-align: middle;\n",
              "    }\n",
              "\n",
              "    .dataframe tbody tr th {\n",
              "        vertical-align: top;\n",
              "    }\n",
              "\n",
              "    .dataframe thead th {\n",
              "        text-align: right;\n",
              "    }\n",
              "</style>\n",
              "<table border=\"1\" class=\"dataframe\">\n",
              "  <thead>\n",
              "    <tr style=\"text-align: right;\">\n",
              "      <th></th>\n",
              "      <th>session_id</th>\n",
              "      <th>startTime</th>\n",
              "      <th>endTime</th>\n",
              "      <th>ProductList</th>\n",
              "      <th>gender</th>\n",
              "    </tr>\n",
              "  </thead>\n",
              "  <tbody>\n",
              "    <tr>\n",
              "      <th>0</th>\n",
              "      <td>u16159</td>\n",
              "      <td>15/12/14 18:11</td>\n",
              "      <td>15/12/14 18:12</td>\n",
              "      <td>A00002/B00003/C00006/D28435/;A00002/B00003/C00006/D02554/;A00002/B00003/C00006/D28436/;A00002/B0...</td>\n",
              "      <td>female</td>\n",
              "    </tr>\n",
              "    <tr>\n",
              "      <th>1</th>\n",
              "      <td>u10253</td>\n",
              "      <td>16/12/14 14:35</td>\n",
              "      <td>16/12/14 14:41</td>\n",
              "      <td>A00001/B00009/C00031/D29404/;A00001/B00009/C00031/D02617/;A00001/B00009/C00031/D29407/;A00001/B0...</td>\n",
              "      <td>male</td>\n",
              "    </tr>\n",
              "    <tr>\n",
              "      <th>2</th>\n",
              "      <td>u19037</td>\n",
              "      <td>01/12/14 15:58</td>\n",
              "      <td>01/12/14 15:58</td>\n",
              "      <td>A00002/B00001/C00020/D16944/</td>\n",
              "      <td>female</td>\n",
              "    </tr>\n",
              "    <tr>\n",
              "      <th>3</th>\n",
              "      <td>u14556</td>\n",
              "      <td>23/11/14 2:57</td>\n",
              "      <td>23/11/14 3:00</td>\n",
              "      <td>A00002/B00004/C00018/D10284/;A00002/B00004/C00018/D10285/;A00002/B00004/C00018/D10286/</td>\n",
              "      <td>female</td>\n",
              "    </tr>\n",
              "    <tr>\n",
              "      <th>4</th>\n",
              "      <td>u24295</td>\n",
              "      <td>17/12/14 16:44</td>\n",
              "      <td>17/12/14 16:46</td>\n",
              "      <td>A00001/B00001/C00012/D30805/;A00001/B00001/C00012/D30806/</td>\n",
              "      <td>male</td>\n",
              "    </tr>\n",
              "  </tbody>\n",
              "</table>\n",
              "</div>"
            ],
            "text/plain": [
              "  session_id       startTime         endTime  \\\n",
              "0     u16159  15/12/14 18:11  15/12/14 18:12   \n",
              "1     u10253  16/12/14 14:35  16/12/14 14:41   \n",
              "2     u19037  01/12/14 15:58  01/12/14 15:58   \n",
              "3     u14556   23/11/14 2:57   23/11/14 3:00   \n",
              "4     u24295  17/12/14 16:44  17/12/14 16:46   \n",
              "\n",
              "                                                                                           ProductList  \\\n",
              "0  A00002/B00003/C00006/D28435/;A00002/B00003/C00006/D02554/;A00002/B00003/C00006/D28436/;A00002/B0...   \n",
              "1  A00001/B00009/C00031/D29404/;A00001/B00009/C00031/D02617/;A00001/B00009/C00031/D29407/;A00001/B0...   \n",
              "2                                                                         A00002/B00001/C00020/D16944/   \n",
              "3               A00002/B00004/C00018/D10284/;A00002/B00004/C00018/D10285/;A00002/B00004/C00018/D10286/   \n",
              "4                                            A00001/B00001/C00012/D30805/;A00001/B00001/C00012/D30806/   \n",
              "\n",
              "   gender  \n",
              "0  female  \n",
              "1    male  \n",
              "2  female  \n",
              "3  female  \n",
              "4    male  "
            ]
          },
          "metadata": {
            "tags": []
          },
          "execution_count": 7
        }
      ]
    },
    {
      "cell_type": "code",
      "metadata": {
        "colab_type": "code",
        "id": "E4MuooizxHsX",
        "outputId": "b1f8e493-f41b-4e16-ea0a-7dd061c0e776",
        "colab": {
          "base_uri": "https://localhost:8080/",
          "height": 204
        }
      },
      "source": [
        "test.head()"
      ],
      "execution_count": 8,
      "outputs": [
        {
          "output_type": "execute_result",
          "data": {
            "text/html": [
              "<div>\n",
              "<style scoped>\n",
              "    .dataframe tbody tr th:only-of-type {\n",
              "        vertical-align: middle;\n",
              "    }\n",
              "\n",
              "    .dataframe tbody tr th {\n",
              "        vertical-align: top;\n",
              "    }\n",
              "\n",
              "    .dataframe thead th {\n",
              "        text-align: right;\n",
              "    }\n",
              "</style>\n",
              "<table border=\"1\" class=\"dataframe\">\n",
              "  <thead>\n",
              "    <tr style=\"text-align: right;\">\n",
              "      <th></th>\n",
              "      <th>session_id</th>\n",
              "      <th>startTime</th>\n",
              "      <th>endTime</th>\n",
              "      <th>ProductList</th>\n",
              "    </tr>\n",
              "  </thead>\n",
              "  <tbody>\n",
              "    <tr>\n",
              "      <th>0</th>\n",
              "      <td>u12112</td>\n",
              "      <td>08/12/14 13:36</td>\n",
              "      <td>08/12/14 13:36</td>\n",
              "      <td>A00002/B00003/C00006/D19956/</td>\n",
              "    </tr>\n",
              "    <tr>\n",
              "      <th>1</th>\n",
              "      <td>u19725</td>\n",
              "      <td>19/12/14 13:52</td>\n",
              "      <td>19/12/14 13:52</td>\n",
              "      <td>A00002/B00005/C00067/D02026/</td>\n",
              "    </tr>\n",
              "    <tr>\n",
              "      <th>2</th>\n",
              "      <td>u11795</td>\n",
              "      <td>01/12/14 10:44</td>\n",
              "      <td>01/12/14 10:44</td>\n",
              "      <td>A00002/B00002/C00004/D12538/</td>\n",
              "    </tr>\n",
              "    <tr>\n",
              "      <th>3</th>\n",
              "      <td>u22639</td>\n",
              "      <td>08/12/14 20:19</td>\n",
              "      <td>08/12/14 20:22</td>\n",
              "      <td>A00002/B00003/C00079/D22781/;A00002/B00003/C00079/D22782/;A00002/B00003/C00079/D19325/;A00002/B0...</td>\n",
              "    </tr>\n",
              "    <tr>\n",
              "      <th>4</th>\n",
              "      <td>u18034</td>\n",
              "      <td>15/12/14 19:33</td>\n",
              "      <td>15/12/14 19:33</td>\n",
              "      <td>A00002/B00001/C00010/D23419/</td>\n",
              "    </tr>\n",
              "  </tbody>\n",
              "</table>\n",
              "</div>"
            ],
            "text/plain": [
              "  session_id       startTime         endTime  \\\n",
              "0     u12112  08/12/14 13:36  08/12/14 13:36   \n",
              "1     u19725  19/12/14 13:52  19/12/14 13:52   \n",
              "2     u11795  01/12/14 10:44  01/12/14 10:44   \n",
              "3     u22639  08/12/14 20:19  08/12/14 20:22   \n",
              "4     u18034  15/12/14 19:33  15/12/14 19:33   \n",
              "\n",
              "                                                                                           ProductList  \n",
              "0                                                                         A00002/B00003/C00006/D19956/  \n",
              "1                                                                         A00002/B00005/C00067/D02026/  \n",
              "2                                                                         A00002/B00002/C00004/D12538/  \n",
              "3  A00002/B00003/C00079/D22781/;A00002/B00003/C00079/D22782/;A00002/B00003/C00079/D19325/;A00002/B0...  \n",
              "4                                                                         A00002/B00001/C00010/D23419/  "
            ]
          },
          "metadata": {
            "tags": []
          },
          "execution_count": 8
        }
      ]
    },
    {
      "cell_type": "code",
      "metadata": {
        "id": "r3X5dSxcFqbF",
        "colab_type": "code",
        "colab": {}
      },
      "source": [
        "train['startTime'] = pd.to_datetime(train['startTime'], format='%d/%m/%y %H:%M')\n",
        "test['startTime'] = pd.to_datetime(test['startTime'], format='%d/%m/%y %H:%M')\n",
        "train['endTime'] = pd.to_datetime(train['endTime'], format='%d/%m/%y %H:%M')\n",
        "test['endTime'] = pd.to_datetime(test['endTime'], format='%d/%m/%y %H:%M')"
      ],
      "execution_count": 0,
      "outputs": []
    },
    {
      "cell_type": "code",
      "metadata": {
        "id": "58SQugZATrON",
        "colab_type": "code",
        "outputId": "886659f1-798a-4972-ca6e-a5bd72b0c9a5",
        "colab": {
          "base_uri": "https://localhost:8080/",
          "height": 204
        }
      },
      "source": [
        "train.head()"
      ],
      "execution_count": 10,
      "outputs": [
        {
          "output_type": "execute_result",
          "data": {
            "text/html": [
              "<div>\n",
              "<style scoped>\n",
              "    .dataframe tbody tr th:only-of-type {\n",
              "        vertical-align: middle;\n",
              "    }\n",
              "\n",
              "    .dataframe tbody tr th {\n",
              "        vertical-align: top;\n",
              "    }\n",
              "\n",
              "    .dataframe thead th {\n",
              "        text-align: right;\n",
              "    }\n",
              "</style>\n",
              "<table border=\"1\" class=\"dataframe\">\n",
              "  <thead>\n",
              "    <tr style=\"text-align: right;\">\n",
              "      <th></th>\n",
              "      <th>session_id</th>\n",
              "      <th>startTime</th>\n",
              "      <th>endTime</th>\n",
              "      <th>ProductList</th>\n",
              "      <th>gender</th>\n",
              "    </tr>\n",
              "  </thead>\n",
              "  <tbody>\n",
              "    <tr>\n",
              "      <th>0</th>\n",
              "      <td>u16159</td>\n",
              "      <td>2014-12-15 18:11:00</td>\n",
              "      <td>2014-12-15 18:12:00</td>\n",
              "      <td>A00002/B00003/C00006/D28435/;A00002/B00003/C00006/D02554/;A00002/B00003/C00006/D28436/;A00002/B0...</td>\n",
              "      <td>female</td>\n",
              "    </tr>\n",
              "    <tr>\n",
              "      <th>1</th>\n",
              "      <td>u10253</td>\n",
              "      <td>2014-12-16 14:35:00</td>\n",
              "      <td>2014-12-16 14:41:00</td>\n",
              "      <td>A00001/B00009/C00031/D29404/;A00001/B00009/C00031/D02617/;A00001/B00009/C00031/D29407/;A00001/B0...</td>\n",
              "      <td>male</td>\n",
              "    </tr>\n",
              "    <tr>\n",
              "      <th>2</th>\n",
              "      <td>u19037</td>\n",
              "      <td>2014-12-01 15:58:00</td>\n",
              "      <td>2014-12-01 15:58:00</td>\n",
              "      <td>A00002/B00001/C00020/D16944/</td>\n",
              "      <td>female</td>\n",
              "    </tr>\n",
              "    <tr>\n",
              "      <th>3</th>\n",
              "      <td>u14556</td>\n",
              "      <td>2014-11-23 02:57:00</td>\n",
              "      <td>2014-11-23 03:00:00</td>\n",
              "      <td>A00002/B00004/C00018/D10284/;A00002/B00004/C00018/D10285/;A00002/B00004/C00018/D10286/</td>\n",
              "      <td>female</td>\n",
              "    </tr>\n",
              "    <tr>\n",
              "      <th>4</th>\n",
              "      <td>u24295</td>\n",
              "      <td>2014-12-17 16:44:00</td>\n",
              "      <td>2014-12-17 16:46:00</td>\n",
              "      <td>A00001/B00001/C00012/D30805/;A00001/B00001/C00012/D30806/</td>\n",
              "      <td>male</td>\n",
              "    </tr>\n",
              "  </tbody>\n",
              "</table>\n",
              "</div>"
            ],
            "text/plain": [
              "  session_id           startTime             endTime  \\\n",
              "0     u16159 2014-12-15 18:11:00 2014-12-15 18:12:00   \n",
              "1     u10253 2014-12-16 14:35:00 2014-12-16 14:41:00   \n",
              "2     u19037 2014-12-01 15:58:00 2014-12-01 15:58:00   \n",
              "3     u14556 2014-11-23 02:57:00 2014-11-23 03:00:00   \n",
              "4     u24295 2014-12-17 16:44:00 2014-12-17 16:46:00   \n",
              "\n",
              "                                                                                           ProductList  \\\n",
              "0  A00002/B00003/C00006/D28435/;A00002/B00003/C00006/D02554/;A00002/B00003/C00006/D28436/;A00002/B0...   \n",
              "1  A00001/B00009/C00031/D29404/;A00001/B00009/C00031/D02617/;A00001/B00009/C00031/D29407/;A00001/B0...   \n",
              "2                                                                         A00002/B00001/C00020/D16944/   \n",
              "3               A00002/B00004/C00018/D10284/;A00002/B00004/C00018/D10285/;A00002/B00004/C00018/D10286/   \n",
              "4                                            A00001/B00001/C00012/D30805/;A00001/B00001/C00012/D30806/   \n",
              "\n",
              "   gender  \n",
              "0  female  \n",
              "1    male  \n",
              "2  female  \n",
              "3  female  \n",
              "4    male  "
            ]
          },
          "metadata": {
            "tags": []
          },
          "execution_count": 10
        }
      ]
    },
    {
      "cell_type": "code",
      "metadata": {
        "colab_type": "code",
        "id": "ORfYrzN3xWMs",
        "outputId": "a6f0f3e7-7bd0-42fb-f6a9-8772182bebc0",
        "colab": {
          "base_uri": "https://localhost:8080/",
          "height": 204
        }
      },
      "source": [
        "test.info()"
      ],
      "execution_count": 11,
      "outputs": [
        {
          "output_type": "stream",
          "text": [
            "<class 'pandas.core.frame.DataFrame'>\n",
            "RangeIndex: 4500 entries, 0 to 4499\n",
            "Data columns (total 4 columns):\n",
            " #   Column       Non-Null Count  Dtype         \n",
            "---  ------       --------------  -----         \n",
            " 0   session_id   4500 non-null   object        \n",
            " 1   startTime    4500 non-null   datetime64[ns]\n",
            " 2   endTime      4500 non-null   datetime64[ns]\n",
            " 3   ProductList  4500 non-null   object        \n",
            "dtypes: datetime64[ns](2), object(2)\n",
            "memory usage: 140.8+ KB\n"
          ],
          "name": "stdout"
        }
      ]
    },
    {
      "cell_type": "code",
      "metadata": {
        "id": "HI3Igb5BZx_7",
        "colab_type": "code",
        "outputId": "b1f04bd1-814e-49db-d24d-dbddce871f3b",
        "colab": {
          "base_uri": "https://localhost:8080/",
          "height": 119
        }
      },
      "source": [
        "train.nunique()"
      ],
      "execution_count": 12,
      "outputs": [
        {
          "output_type": "execute_result",
          "data": {
            "text/plain": [
              "session_id     10500\n",
              "startTime       8815\n",
              "endTime         8803\n",
              "ProductList     9402\n",
              "gender             2\n",
              "dtype: int64"
            ]
          },
          "metadata": {
            "tags": []
          },
          "execution_count": 12
        }
      ]
    },
    {
      "cell_type": "code",
      "metadata": {
        "colab_type": "code",
        "id": "ofrC2rH2x5nP",
        "outputId": "dcd20899-f5a4-4ea5-eb89-4a09bef61aa9",
        "colab": {
          "base_uri": "https://localhost:8080/",
          "height": 119
        }
      },
      "source": [
        "# Checking for NULL/missing values\n",
        "train.isnull().sum().sort_values(ascending=False).nlargest(20)"
      ],
      "execution_count": 13,
      "outputs": [
        {
          "output_type": "execute_result",
          "data": {
            "text/plain": [
              "gender         0\n",
              "ProductList    0\n",
              "endTime        0\n",
              "startTime      0\n",
              "session_id     0\n",
              "dtype: int64"
            ]
          },
          "metadata": {
            "tags": []
          },
          "execution_count": 13
        }
      ]
    },
    {
      "cell_type": "code",
      "metadata": {
        "colab_type": "code",
        "id": "6wcHb3vmy6GH",
        "outputId": "21da779e-6d50-4236-d249-5d9402506d80",
        "colab": {
          "base_uri": "https://localhost:8080/",
          "height": 102
        }
      },
      "source": [
        "# Checking for NULL/missing values\n",
        "test.isnull().sum().sort_values(ascending=False).nlargest(20)"
      ],
      "execution_count": 14,
      "outputs": [
        {
          "output_type": "execute_result",
          "data": {
            "text/plain": [
              "ProductList    0\n",
              "endTime        0\n",
              "startTime      0\n",
              "session_id     0\n",
              "dtype: int64"
            ]
          },
          "metadata": {
            "tags": []
          },
          "execution_count": 14
        }
      ]
    },
    {
      "cell_type": "code",
      "metadata": {
        "colab_type": "code",
        "id": "31nJQ1FNy75M",
        "outputId": "518e3f5a-d6bd-48f8-ef4e-6d189ab8facb",
        "colab": {
          "base_uri": "https://localhost:8080/",
          "height": 432
        }
      },
      "source": [
        "print(train['gender'].value_counts())\n",
        "print()\n",
        "print(train['gender'].value_counts(normalize=True)*100)\n",
        "print()\n",
        "sns.countplot(train[\"gender\"])"
      ],
      "execution_count": 15,
      "outputs": [
        {
          "output_type": "stream",
          "text": [
            "female    8192\n",
            "male      2308\n",
            "Name: gender, dtype: int64\n",
            "\n",
            "female    78.019048\n",
            "male      21.980952\n",
            "Name: gender, dtype: float64\n",
            "\n"
          ],
          "name": "stdout"
        },
        {
          "output_type": "execute_result",
          "data": {
            "text/plain": [
              "<matplotlib.axes._subplots.AxesSubplot at 0x7f9cb859e0f0>"
            ]
          },
          "metadata": {
            "tags": []
          },
          "execution_count": 15
        },
        {
          "output_type": "display_data",
          "data": {
            "image/png": "[encoded data removed]",
            "text/plain": [
              "<Figure size 432x288 with 1 Axes>"
            ]
          },
          "metadata": {
            "tags": [],
            "needs_background": "light"
          }
        }
      ]
    },
    {
      "cell_type": "markdown",
      "metadata": {
        "colab_type": "text",
        "id": "QAPd0_IL8uq4"
      },
      "source": [
        "# Preparing Data"
      ]
    },
    {
      "cell_type": "code",
      "metadata": {
        "colab_type": "code",
        "id": "ortYPiib-ZOb",
        "outputId": "ef9c7466-9f6c-4480-ea86-56c86d78c4f5",
        "colab": {
          "base_uri": "https://localhost:8080/",
          "height": 204
        }
      },
      "source": [
        "train.sample(5)"
      ],
      "execution_count": 16,
      "outputs": [
        {
          "output_type": "execute_result",
          "data": {
            "text/html": [
              "<div>\n",
              "<style scoped>\n",
              "    .dataframe tbody tr th:only-of-type {\n",
              "        vertical-align: middle;\n",
              "    }\n",
              "\n",
              "    .dataframe tbody tr th {\n",
              "        vertical-align: top;\n",
              "    }\n",
              "\n",
              "    .dataframe thead th {\n",
              "        text-align: right;\n",
              "    }\n",
              "</style>\n",
              "<table border=\"1\" class=\"dataframe\">\n",
              "  <thead>\n",
              "    <tr style=\"text-align: right;\">\n",
              "      <th></th>\n",
              "      <th>session_id</th>\n",
              "      <th>startTime</th>\n",
              "      <th>endTime</th>\n",
              "      <th>ProductList</th>\n",
              "      <th>gender</th>\n",
              "    </tr>\n",
              "  </thead>\n",
              "  <tbody>\n",
              "    <tr>\n",
              "      <th>5051</th>\n",
              "      <td>u16700</td>\n",
              "      <td>2014-12-18 16:11:00</td>\n",
              "      <td>2014-12-18 16:12:00</td>\n",
              "      <td>A00002/B00002/C00011/D31935/;A00002/B00002/C00002/D17770/</td>\n",
              "      <td>female</td>\n",
              "    </tr>\n",
              "    <tr>\n",
              "      <th>6155</th>\n",
              "      <td>u22127</td>\n",
              "      <td>2014-12-07 18:21:00</td>\n",
              "      <td>2014-12-07 18:22:00</td>\n",
              "      <td>A00002/B00003/C00014/D00738/;A00001/B00001/C00019/D05339/</td>\n",
              "      <td>male</td>\n",
              "    </tr>\n",
              "    <tr>\n",
              "      <th>10190</th>\n",
              "      <td>u13273</td>\n",
              "      <td>2014-12-08 19:05:00</td>\n",
              "      <td>2014-12-08 19:05:00</td>\n",
              "      <td>A00002/B00005/C00057/D05868/</td>\n",
              "      <td>male</td>\n",
              "    </tr>\n",
              "    <tr>\n",
              "      <th>2408</th>\n",
              "      <td>u24697</td>\n",
              "      <td>2014-12-19 16:06:00</td>\n",
              "      <td>2014-12-19 16:09:00</td>\n",
              "      <td>A00002/B00002/C00004/D25751/;A00002/B00002/C00004/D07128/;A00002/B00002/C00004/D08384/;A00002/B0...</td>\n",
              "      <td>female</td>\n",
              "    </tr>\n",
              "    <tr>\n",
              "      <th>251</th>\n",
              "      <td>u17761</td>\n",
              "      <td>2014-11-29 20:11:00</td>\n",
              "      <td>2014-11-29 20:14:00</td>\n",
              "      <td>A00002/B00002/C00002/D00976/;A00002/B00002/C00002/D00550/;A00002/B00002/C00002/D06058/;A00002/B0...</td>\n",
              "      <td>female</td>\n",
              "    </tr>\n",
              "  </tbody>\n",
              "</table>\n",
              "</div>"
            ],
            "text/plain": [
              "      session_id           startTime             endTime  \\\n",
              "5051      u16700 2014-12-18 16:11:00 2014-12-18 16:12:00   \n",
              "6155      u22127 2014-12-07 18:21:00 2014-12-07 18:22:00   \n",
              "10190     u13273 2014-12-08 19:05:00 2014-12-08 19:05:00   \n",
              "2408      u24697 2014-12-19 16:06:00 2014-12-19 16:09:00   \n",
              "251       u17761 2014-11-29 20:11:00 2014-11-29 20:14:00   \n",
              "\n",
              "                                                                                               ProductList  \\\n",
              "5051                                             A00002/B00002/C00011/D31935/;A00002/B00002/C00002/D17770/   \n",
              "6155                                             A00002/B00003/C00014/D00738/;A00001/B00001/C00019/D05339/   \n",
              "10190                                                                         A00002/B00005/C00057/D05868/   \n",
              "2408   A00002/B00002/C00004/D25751/;A00002/B00002/C00004/D07128/;A00002/B00002/C00004/D08384/;A00002/B0...   \n",
              "251    A00002/B00002/C00002/D00976/;A00002/B00002/C00002/D00550/;A00002/B00002/C00002/D06058/;A00002/B0...   \n",
              "\n",
              "       gender  \n",
              "5051   female  \n",
              "6155     male  \n",
              "10190    male  \n",
              "2408   female  \n",
              "251    female  "
            ]
          },
          "metadata": {
            "tags": []
          },
          "execution_count": 16
        }
      ]
    },
    {
      "cell_type": "code",
      "metadata": {
        "colab_type": "code",
        "id": "CnIcp7hc-eK8",
        "outputId": "656c1c64-0c1a-4d81-f333-58b089be45bd",
        "colab": {
          "base_uri": "https://localhost:8080/",
          "height": 204
        }
      },
      "source": [
        "test.sample(5)"
      ],
      "execution_count": 17,
      "outputs": [
        {
          "output_type": "execute_result",
          "data": {
            "text/html": [
              "<div>\n",
              "<style scoped>\n",
              "    .dataframe tbody tr th:only-of-type {\n",
              "        vertical-align: middle;\n",
              "    }\n",
              "\n",
              "    .dataframe tbody tr th {\n",
              "        vertical-align: top;\n",
              "    }\n",
              "\n",
              "    .dataframe thead th {\n",
              "        text-align: right;\n",
              "    }\n",
              "</style>\n",
              "<table border=\"1\" class=\"dataframe\">\n",
              "  <thead>\n",
              "    <tr style=\"text-align: right;\">\n",
              "      <th></th>\n",
              "      <th>session_id</th>\n",
              "      <th>startTime</th>\n",
              "      <th>endTime</th>\n",
              "      <th>ProductList</th>\n",
              "    </tr>\n",
              "  </thead>\n",
              "  <tbody>\n",
              "    <tr>\n",
              "      <th>888</th>\n",
              "      <td>u18676</td>\n",
              "      <td>2014-12-02 10:24:00</td>\n",
              "      <td>2014-12-02 10:27:00</td>\n",
              "      <td>A00002/B00007/C00021/D17754/;A00002/B00007/C00021/D12122/;A00002/B00007/C00021/D17766/;A00002/B0...</td>\n",
              "    </tr>\n",
              "    <tr>\n",
              "      <th>2122</th>\n",
              "      <td>u17616</td>\n",
              "      <td>2014-12-06 17:22:00</td>\n",
              "      <td>2014-12-06 21:36:00</td>\n",
              "      <td>A00002/B00002/C00002/D20132/;A00002/B00002/C00002/D00499/;A00002/B00002/C00002/D20364/;A00002/B0...</td>\n",
              "    </tr>\n",
              "    <tr>\n",
              "      <th>3941</th>\n",
              "      <td>u19882</td>\n",
              "      <td>2014-11-29 20:48:00</td>\n",
              "      <td>2014-11-29 20:48:00</td>\n",
              "      <td>A00005/B00032/C00094/D01681/</td>\n",
              "    </tr>\n",
              "    <tr>\n",
              "      <th>1321</th>\n",
              "      <td>u15153</td>\n",
              "      <td>2014-11-27 09:31:00</td>\n",
              "      <td>2014-11-27 09:33:00</td>\n",
              "      <td>A00002/B00017/C00045/D13762/;A00002/B00017/C00045/D00137/;A00002/B00002/C00007/D03929/</td>\n",
              "    </tr>\n",
              "    <tr>\n",
              "      <th>1631</th>\n",
              "      <td>u12979</td>\n",
              "      <td>2014-12-05 19:16:00</td>\n",
              "      <td>2014-12-05 19:16:00</td>\n",
              "      <td>A00001/B00037/C00135/D18404/</td>\n",
              "    </tr>\n",
              "  </tbody>\n",
              "</table>\n",
              "</div>"
            ],
            "text/plain": [
              "     session_id           startTime             endTime  \\\n",
              "888      u18676 2014-12-02 10:24:00 2014-12-02 10:27:00   \n",
              "2122     u17616 2014-12-06 17:22:00 2014-12-06 21:36:00   \n",
              "3941     u19882 2014-11-29 20:48:00 2014-11-29 20:48:00   \n",
              "1321     u15153 2014-11-27 09:31:00 2014-11-27 09:33:00   \n",
              "1631     u12979 2014-12-05 19:16:00 2014-12-05 19:16:00   \n",
              "\n",
              "                                                                                              ProductList  \n",
              "888   A00002/B00007/C00021/D17754/;A00002/B00007/C00021/D12122/;A00002/B00007/C00021/D17766/;A00002/B0...  \n",
              "2122  A00002/B00002/C00002/D20132/;A00002/B00002/C00002/D00499/;A00002/B00002/C00002/D20364/;A00002/B0...  \n",
              "3941                                                                         A00005/B00032/C00094/D01681/  \n",
              "1321               A00002/B00017/C00045/D13762/;A00002/B00017/C00045/D00137/;A00002/B00002/C00007/D03929/  \n",
              "1631                                                                         A00001/B00037/C00135/D18404/  "
            ]
          },
          "metadata": {
            "tags": []
          },
          "execution_count": 17
        }
      ]
    },
    {
      "cell_type": "code",
      "metadata": {
        "id": "iDgb2VUBUS-T",
        "colab_type": "code",
        "colab": {}
      },
      "source": [
        "train['startTime_year'] = train['startTime'].dt.year\n",
        "train['startTime_month'] = train['startTime'].dt.month\n",
        "train['startTime_day'] = train['startTime'].dt.day\n",
        "train['startTime_hour'] = train['startTime'].dt.hour\n",
        "train['startTime_min'] = train['startTime'].dt.minute\n",
        "train['startTime_quarter'] = train['startTime'].dt.quarter\n",
        "train['startTime_Dayofweek'] = train['startTime'].dt.dayofweek\n",
        "train['startTime_Dayweek'] = train['startTime'].dt.day_name()\n",
        "train['startTime_is_weekend'] = np.where(train['startTime'].dt.dayofweek.isin(['Sunday', 'Saturday']), 1,0)\n",
        "train['duration'] = round((train['endTime'] - train['startTime'])/timedelta(minutes=1),0)\n",
        "\n",
        "test['startTime_year'] = test['startTime'].dt.year\n",
        "test['startTime_month'] = test['startTime'].dt.month\n",
        "test['startTime_day'] = test['startTime'].dt.day\n",
        "test['startTime_hour'] = test['startTime'].dt.hour\n",
        "test['startTime_min'] = test['startTime'].dt.minute\n",
        "test['startTime_quarter'] = test['startTime'].dt.quarter\n",
        "test['startTime_Dayofweek'] = test['startTime'].dt.dayofweek\n",
        "test['startTime_Dayweek'] = test['startTime'].dt.day_name()\n",
        "test['startTime_is_weekend'] = np.where(test['startTime'].dt.dayofweek.isin(['Sunday', 'Saturday']), 1,0)\n",
        "test['duration'] = round((test['endTime'] - test['startTime'])/timedelta(minutes=1),0)"
      ],
      "execution_count": 0,
      "outputs": []
    },
    {
      "cell_type": "code",
      "metadata": {
        "id": "DaJDaX9O6UP8",
        "colab_type": "code",
        "colab": {}
      },
      "source": [
        "train['duration'] = train['duration'].astype('int64')\n",
        "test['duration'] = test['duration'].astype('int64')"
      ],
      "execution_count": 0,
      "outputs": []
    },
    {
      "cell_type": "code",
      "metadata": {
        "id": "-toJ2UehVFZm",
        "colab_type": "code",
        "outputId": "22fc11fd-4108-492b-8f06-441bf5efdb82",
        "colab": {
          "base_uri": "https://localhost:8080/",
          "height": 394
        }
      },
      "source": [
        "train.head(5)"
      ],
      "execution_count": 20,
      "outputs": [
        {
          "output_type": "execute_result",
          "data": {
            "text/html": [
              "<div>\n",
              "<style scoped>\n",
              "    .dataframe tbody tr th:only-of-type {\n",
              "        vertical-align: middle;\n",
              "    }\n",
              "\n",
              "    .dataframe tbody tr th {\n",
              "        vertical-align: top;\n",
              "    }\n",
              "\n",
              "    .dataframe thead th {\n",
              "        text-align: right;\n",
              "    }\n",
              "</style>\n",
              "<table border=\"1\" class=\"dataframe\">\n",
              "  <thead>\n",
              "    <tr style=\"text-align: right;\">\n",
              "      <th></th>\n",
              "      <th>session_id</th>\n",
              "      <th>startTime</th>\n",
              "      <th>endTime</th>\n",
              "      <th>ProductList</th>\n",
              "      <th>gender</th>\n",
              "      <th>startTime_year</th>\n",
              "      <th>startTime_month</th>\n",
              "      <th>startTime_day</th>\n",
              "      <th>startTime_hour</th>\n",
              "      <th>startTime_min</th>\n",
              "      <th>startTime_quarter</th>\n",
              "      <th>startTime_Dayofweek</th>\n",
              "      <th>startTime_Dayweek</th>\n",
              "      <th>startTime_is_weekend</th>\n",
              "      <th>duration</th>\n",
              "    </tr>\n",
              "  </thead>\n",
              "  <tbody>\n",
              "    <tr>\n",
              "      <th>0</th>\n",
              "      <td>u16159</td>\n",
              "      <td>2014-12-15 18:11:00</td>\n",
              "      <td>2014-12-15 18:12:00</td>\n",
              "      <td>A00002/B00003/C00006/D28435/;A00002/B00003/C00006/D02554/;A00002/B00003/C00006/D28436/;A00002/B0...</td>\n",
              "      <td>female</td>\n",
              "      <td>2014</td>\n",
              "      <td>12</td>\n",
              "      <td>15</td>\n",
              "      <td>18</td>\n",
              "      <td>11</td>\n",
              "      <td>4</td>\n",
              "      <td>0</td>\n",
              "      <td>Monday</td>\n",
              "      <td>0</td>\n",
              "      <td>1</td>\n",
              "    </tr>\n",
              "    <tr>\n",
              "      <th>1</th>\n",
              "      <td>u10253</td>\n",
              "      <td>2014-12-16 14:35:00</td>\n",
              "      <td>2014-12-16 14:41:00</td>\n",
              "      <td>A00001/B00009/C00031/D29404/;A00001/B00009/C00031/D02617/;A00001/B00009/C00031/D29407/;A00001/B0...</td>\n",
              "      <td>male</td>\n",
              "      <td>2014</td>\n",
              "      <td>12</td>\n",
              "      <td>16</td>\n",
              "      <td>14</td>\n",
              "      <td>35</td>\n",
              "      <td>4</td>\n",
              "      <td>1</td>\n",
              "      <td>Tuesday</td>\n",
              "      <td>0</td>\n",
              "      <td>6</td>\n",
              "    </tr>\n",
              "    <tr>\n",
              "      <th>2</th>\n",
              "      <td>u19037</td>\n",
              "      <td>2014-12-01 15:58:00</td>\n",
              "      <td>2014-12-01 15:58:00</td>\n",
              "      <td>A00002/B00001/C00020/D16944/</td>\n",
              "      <td>female</td>\n",
              "      <td>2014</td>\n",
              "      <td>12</td>\n",
              "      <td>1</td>\n",
              "      <td>15</td>\n",
              "      <td>58</td>\n",
              "      <td>4</td>\n",
              "      <td>0</td>\n",
              "      <td>Monday</td>\n",
              "      <td>0</td>\n",
              "      <td>0</td>\n",
              "    </tr>\n",
              "    <tr>\n",
              "      <th>3</th>\n",
              "      <td>u14556</td>\n",
              "      <td>2014-11-23 02:57:00</td>\n",
              "      <td>2014-11-23 03:00:00</td>\n",
              "      <td>A00002/B00004/C00018/D10284/;A00002/B00004/C00018/D10285/;A00002/B00004/C00018/D10286/</td>\n",
              "      <td>female</td>\n",
              "      <td>2014</td>\n",
              "      <td>11</td>\n",
              "      <td>23</td>\n",
              "      <td>2</td>\n",
              "      <td>57</td>\n",
              "      <td>4</td>\n",
              "      <td>6</td>\n",
              "      <td>Sunday</td>\n",
              "      <td>0</td>\n",
              "      <td>3</td>\n",
              "    </tr>\n",
              "    <tr>\n",
              "      <th>4</th>\n",
              "      <td>u24295</td>\n",
              "      <td>2014-12-17 16:44:00</td>\n",
              "      <td>2014-12-17 16:46:00</td>\n",
              "      <td>A00001/B00001/C00012/D30805/;A00001/B00001/C00012/D30806/</td>\n",
              "      <td>male</td>\n",
              "      <td>2014</td>\n",
              "      <td>12</td>\n",
              "      <td>17</td>\n",
              "      <td>16</td>\n",
              "      <td>44</td>\n",
              "      <td>4</td>\n",
              "      <td>2</td>\n",
              "      <td>Wednesday</td>\n",
              "      <td>0</td>\n",
              "      <td>2</td>\n",
              "    </tr>\n",
              "  </tbody>\n",
              "</table>\n",
              "</div>"
            ],
            "text/plain": [
              "  session_id           startTime             endTime  \\\n",
              "0     u16159 2014-12-15 18:11:00 2014-12-15 18:12:00   \n",
              "1     u10253 2014-12-16 14:35:00 2014-12-16 14:41:00   \n",
              "2     u19037 2014-12-01 15:58:00 2014-12-01 15:58:00   \n",
              "3     u14556 2014-11-23 02:57:00 2014-11-23 03:00:00   \n",
              "4     u24295 2014-12-17 16:44:00 2014-12-17 16:46:00   \n",
              "\n",
              "                                                                                           ProductList  \\\n",
              "0  A00002/B00003/C00006/D28435/;A00002/B00003/C00006/D02554/;A00002/B00003/C00006/D28436/;A00002/B0...   \n",
              "1  A00001/B00009/C00031/D29404/;A00001/B00009/C00031/D02617/;A00001/B00009/C00031/D29407/;A00001/B0...   \n",
              "2                                                                         A00002/B00001/C00020/D16944/   \n",
              "3               A00002/B00004/C00018/D10284/;A00002/B00004/C00018/D10285/;A00002/B00004/C00018/D10286/   \n",
              "4                                            A00001/B00001/C00012/D30805/;A00001/B00001/C00012/D30806/   \n",
              "\n",
              "   gender  startTime_year  startTime_month  startTime_day  startTime_hour  \\\n",
              "0  female            2014               12             15              18   \n",
              "1    male            2014               12             16              14   \n",
              "2  female            2014               12              1              15   \n",
              "3  female            2014               11             23               2   \n",
              "4    male            2014               12             17              16   \n",
              "\n",
              "   startTime_min  startTime_quarter  startTime_Dayofweek startTime_Dayweek  \\\n",
              "0             11                  4                    0            Monday   \n",
              "1             35                  4                    1           Tuesday   \n",
              "2             58                  4                    0            Monday   \n",
              "3             57                  4                    6            Sunday   \n",
              "4             44                  4                    2         Wednesday   \n",
              "\n",
              "   startTime_is_weekend  duration  \n",
              "0                     0         1  \n",
              "1                     0         6  \n",
              "2                     0         0  \n",
              "3                     0         3  \n",
              "4                     0         2  "
            ]
          },
          "metadata": {
            "tags": []
          },
          "execution_count": 20
        }
      ]
    },
    {
      "cell_type": "code",
      "metadata": {
        "id": "WwKTiS3hTvT5",
        "colab_type": "code",
        "colab": {}
      },
      "source": [
        "# products=pd.DataFrame([ x.split(';') for x in train['ProductList'].tolist() ])[0]\n",
        "# train['category'] = pd.DataFrame([x.split('/') for x in products.tolist()])[0]\n",
        "# train['sub_category'] = pd.DataFrame([x.split('/') for x in products.tolist()])[1]\n",
        "# train['sub_sub_category'] = pd.DataFrame([x.split('/') for x in products.tolist()])[2]\n",
        "# train['product'] = pd.DataFrame([x.split('/') for x in products.tolist()])[3]\n",
        "\n",
        "train['unique_categories'] = train['ProductList'].apply(lambda x: list(set(re.findall(r'A[0-9]+',x)))).apply(';'.join)\n",
        "train['unique_sub_categories'] = train['ProductList'].apply(lambda x: list(set(re.findall(r'B[0-9]+',x)))).apply(';'.join)\n",
        "train['unique_sub_sub_categories'] = train['ProductList'].apply(lambda x: list(set(re.findall(r'C[0-9]+',x)))).apply(';'.join)\n",
        "train['unique_products'] = train['ProductList'].apply(lambda x: list(set(re.findall(r'D[0-9]+',x)))).apply(';'.join)"
      ],
      "execution_count": 0,
      "outputs": []
    },
    {
      "cell_type": "code",
      "metadata": {
        "id": "_Y1NlYV6Viom",
        "colab_type": "code",
        "colab": {}
      },
      "source": [
        "# products=pd.DataFrame([ x.split(';') for x in test['ProductList'].tolist() ])[0]\n",
        "# test['category'] = pd.DataFrame([x.split('/') for x in products.tolist()])[0]\n",
        "# test['sub_category'] = pd.DataFrame([x.split('/') for x in products.tolist()])[1]\n",
        "# test['sub_sub_category'] = pd.DataFrame([x.split('/') for x in products.tolist()])[2]\n",
        "# test['product'] = pd.DataFrame([x.split('/') for x in products.tolist()])[3]\n",
        "\n",
        "test['unique_categories'] = test['ProductList'].apply(lambda x: list(set(re.findall(r'A[0-9]+',x)))).apply(';'.join)\n",
        "test['unique_sub_categories'] = test['ProductList'].apply(lambda x: list(set(re.findall(r'B[0-9]+',x)))).apply(';'.join)\n",
        "test['unique_sub_sub_categories'] = test['ProductList'].apply(lambda x: list(set(re.findall(r'C[0-9]+',x)))).apply(';'.join)\n",
        "test['unique_products'] = test['ProductList'].apply(lambda x: list(set(re.findall(r'D[0-9]+',x)))).apply(';'.join)"
      ],
      "execution_count": 0,
      "outputs": []
    },
    {
      "cell_type": "code",
      "metadata": {
        "id": "cicP_i5zagHT",
        "colab_type": "code",
        "colab": {}
      },
      "source": [
        "train['num_product']  = train['ProductList'].apply(lambda s : s.count(';')+1)\n",
        "test['num_product']  = test['ProductList'].apply(lambda s : s.count(';')+1)"
      ],
      "execution_count": 0,
      "outputs": []
    },
    {
      "cell_type": "code",
      "metadata": {
        "id": "AexIm2A6WjAe",
        "colab_type": "code",
        "outputId": "91acdf7e-1f64-4f5c-f90d-4ef79e6054da",
        "colab": {
          "base_uri": "https://localhost:8080/",
          "height": 394
        }
      },
      "source": [
        "train.tail()"
      ],
      "execution_count": 24,
      "outputs": [
        {
          "output_type": "execute_result",
          "data": {
            "text/html": [
              "<div>\n",
              "<style scoped>\n",
              "    .dataframe tbody tr th:only-of-type {\n",
              "        vertical-align: middle;\n",
              "    }\n",
              "\n",
              "    .dataframe tbody tr th {\n",
              "        vertical-align: top;\n",
              "    }\n",
              "\n",
              "    .dataframe thead th {\n",
              "        text-align: right;\n",
              "    }\n",
              "</style>\n",
              "<table border=\"1\" class=\"dataframe\">\n",
              "  <thead>\n",
              "    <tr style=\"text-align: right;\">\n",
              "      <th></th>\n",
              "      <th>session_id</th>\n",
              "      <th>startTime</th>\n",
              "      <th>endTime</th>\n",
              "      <th>ProductList</th>\n",
              "      <th>gender</th>\n",
              "      <th>startTime_year</th>\n",
              "      <th>startTime_month</th>\n",
              "      <th>startTime_day</th>\n",
              "      <th>startTime_hour</th>\n",
              "      <th>startTime_min</th>\n",
              "      <th>startTime_quarter</th>\n",
              "      <th>startTime_Dayofweek</th>\n",
              "      <th>startTime_Dayweek</th>\n",
              "      <th>startTime_is_weekend</th>\n",
              "      <th>duration</th>\n",
              "      <th>unique_categories</th>\n",
              "      <th>unique_sub_categories</th>\n",
              "      <th>unique_sub_sub_categories</th>\n",
              "      <th>unique_products</th>\n",
              "      <th>num_product</th>\n",
              "    </tr>\n",
              "  </thead>\n",
              "  <tbody>\n",
              "    <tr>\n",
              "      <th>10495</th>\n",
              "      <td>u15442</td>\n",
              "      <td>2014-11-18 07:39:00</td>\n",
              "      <td>2014-11-18 07:42:00</td>\n",
              "      <td>A00002/B00002/C00007/D06407/;A00002/B00002/C00007/D06409/</td>\n",
              "      <td>female</td>\n",
              "      <td>2014</td>\n",
              "      <td>11</td>\n",
              "      <td>18</td>\n",
              "      <td>7</td>\n",
              "      <td>39</td>\n",
              "      <td>4</td>\n",
              "      <td>1</td>\n",
              "      <td>Tuesday</td>\n",
              "      <td>0</td>\n",
              "      <td>3</td>\n",
              "      <td>A00002</td>\n",
              "      <td>B00002</td>\n",
              "      <td>C00007</td>\n",
              "      <td>D06409;D06407</td>\n",
              "      <td>2</td>\n",
              "    </tr>\n",
              "    <tr>\n",
              "      <th>10496</th>\n",
              "      <td>u17986</td>\n",
              "      <td>2014-11-25 15:16:00</td>\n",
              "      <td>2014-11-25 15:16:00</td>\n",
              "      <td>A00006/B00030/C00334/D11660/</td>\n",
              "      <td>female</td>\n",
              "      <td>2014</td>\n",
              "      <td>11</td>\n",
              "      <td>25</td>\n",
              "      <td>15</td>\n",
              "      <td>16</td>\n",
              "      <td>4</td>\n",
              "      <td>1</td>\n",
              "      <td>Tuesday</td>\n",
              "      <td>0</td>\n",
              "      <td>0</td>\n",
              "      <td>A00006</td>\n",
              "      <td>B00030</td>\n",
              "      <td>C00334</td>\n",
              "      <td>D11660</td>\n",
              "      <td>1</td>\n",
              "    </tr>\n",
              "    <tr>\n",
              "      <th>10497</th>\n",
              "      <td>u22508</td>\n",
              "      <td>2014-12-09 10:11:00</td>\n",
              "      <td>2014-12-09 10:11:00</td>\n",
              "      <td>A00002/B00002/C00007/D18028/</td>\n",
              "      <td>female</td>\n",
              "      <td>2014</td>\n",
              "      <td>12</td>\n",
              "      <td>9</td>\n",
              "      <td>10</td>\n",
              "      <td>11</td>\n",
              "      <td>4</td>\n",
              "      <td>1</td>\n",
              "      <td>Tuesday</td>\n",
              "      <td>0</td>\n",
              "      <td>0</td>\n",
              "      <td>A00002</td>\n",
              "      <td>B00002</td>\n",
              "      <td>C00007</td>\n",
              "      <td>D18028</td>\n",
              "      <td>1</td>\n",
              "    </tr>\n",
              "    <tr>\n",
              "      <th>10498</th>\n",
              "      <td>u17087</td>\n",
              "      <td>2014-11-22 11:27:00</td>\n",
              "      <td>2014-11-22 11:27:00</td>\n",
              "      <td>A00003/B00012/C00131/D09453/;A00003/B00012/C00073/D09454/</td>\n",
              "      <td>female</td>\n",
              "      <td>2014</td>\n",
              "      <td>11</td>\n",
              "      <td>22</td>\n",
              "      <td>11</td>\n",
              "      <td>27</td>\n",
              "      <td>4</td>\n",
              "      <td>5</td>\n",
              "      <td>Saturday</td>\n",
              "      <td>0</td>\n",
              "      <td>0</td>\n",
              "      <td>A00003</td>\n",
              "      <td>B00012</td>\n",
              "      <td>C00131;C00073</td>\n",
              "      <td>D09454;D09453</td>\n",
              "      <td>2</td>\n",
              "    </tr>\n",
              "    <tr>\n",
              "      <th>10499</th>\n",
              "      <td>u23137</td>\n",
              "      <td>2014-12-19 03:11:00</td>\n",
              "      <td>2014-12-19 03:19:00</td>\n",
              "      <td>A00002/B00001/C00010/D02309/;A00002/B00002/C00002/D32450/;A00002/B00001/C00059/D21254/;A00003/B0...</td>\n",
              "      <td>female</td>\n",
              "      <td>2014</td>\n",
              "      <td>12</td>\n",
              "      <td>19</td>\n",
              "      <td>3</td>\n",
              "      <td>11</td>\n",
              "      <td>4</td>\n",
              "      <td>4</td>\n",
              "      <td>Friday</td>\n",
              "      <td>0</td>\n",
              "      <td>8</td>\n",
              "      <td>A00002;A00003</td>\n",
              "      <td>B00002;B00004;B00001</td>\n",
              "      <td>C00059;C00010;C00002;C00089</td>\n",
              "      <td>D02309;D18619;D32450;D21254</td>\n",
              "      <td>4</td>\n",
              "    </tr>\n",
              "  </tbody>\n",
              "</table>\n",
              "</div>"
            ],
            "text/plain": [
              "      session_id           startTime             endTime  \\\n",
              "10495     u15442 2014-11-18 07:39:00 2014-11-18 07:42:00   \n",
              "10496     u17986 2014-11-25 15:16:00 2014-11-25 15:16:00   \n",
              "10497     u22508 2014-12-09 10:11:00 2014-12-09 10:11:00   \n",
              "10498     u17087 2014-11-22 11:27:00 2014-11-22 11:27:00   \n",
              "10499     u23137 2014-12-19 03:11:00 2014-12-19 03:19:00   \n",
              "\n",
              "                                                                                               ProductList  \\\n",
              "10495                                            A00002/B00002/C00007/D06407/;A00002/B00002/C00007/D06409/   \n",
              "10496                                                                         A00006/B00030/C00334/D11660/   \n",
              "10497                                                                         A00002/B00002/C00007/D18028/   \n",
              "10498                                            A00003/B00012/C00131/D09453/;A00003/B00012/C00073/D09454/   \n",
              "10499  A00002/B00001/C00010/D02309/;A00002/B00002/C00002/D32450/;A00002/B00001/C00059/D21254/;A00003/B0...   \n",
              "\n",
              "       gender  startTime_year  startTime_month  startTime_day  startTime_hour  \\\n",
              "10495  female            2014               11             18               7   \n",
              "10496  female            2014               11             25              15   \n",
              "10497  female            2014               12              9              10   \n",
              "10498  female            2014               11             22              11   \n",
              "10499  female            2014               12             19               3   \n",
              "\n",
              "       startTime_min  startTime_quarter  startTime_Dayofweek  \\\n",
              "10495             39                  4                    1   \n",
              "10496             16                  4                    1   \n",
              "10497             11                  4                    1   \n",
              "10498             27                  4                    5   \n",
              "10499             11                  4                    4   \n",
              "\n",
              "      startTime_Dayweek  startTime_is_weekend  duration unique_categories  \\\n",
              "10495           Tuesday                     0         3            A00002   \n",
              "10496           Tuesday                     0         0            A00006   \n",
              "10497           Tuesday                     0         0            A00002   \n",
              "10498          Saturday                     0         0            A00003   \n",
              "10499            Friday                     0         8     A00002;A00003   \n",
              "\n",
              "      unique_sub_categories    unique_sub_sub_categories  \\\n",
              "10495                B00002                       C00007   \n",
              "10496                B00030                       C00334   \n",
              "10497                B00002                       C00007   \n",
              "10498                B00012                C00131;C00073   \n",
              "10499  B00002;B00004;B00001  C00059;C00010;C00002;C00089   \n",
              "\n",
              "                   unique_products  num_product  \n",
              "10495                D06409;D06407            2  \n",
              "10496                       D11660            1  \n",
              "10497                       D18028            1  \n",
              "10498                D09454;D09453            2  \n",
              "10499  D02309;D18619;D32450;D21254            4  "
            ]
          },
          "metadata": {
            "tags": []
          },
          "execution_count": 24
        }
      ]
    },
    {
      "cell_type": "code",
      "metadata": {
        "id": "FE5uZDvE6ZAR",
        "colab_type": "code",
        "outputId": "557902ad-c47a-4353-9f56-5eec8c8e6c47",
        "colab": {
          "base_uri": "https://localhost:8080/",
          "height": 935
        }
      },
      "source": [
        "# Unique Categories\n",
        "train.unique_categories.value_counts().sort_index()"
      ],
      "execution_count": 25,
      "outputs": [
        {
          "output_type": "execute_result",
          "data": {
            "text/plain": [
              "A00001                  1482\n",
              "A00001;A00002;A00004       1\n",
              "A00001;A00003             12\n",
              "A00001;A00004              2\n",
              "A00001;A00005              9\n",
              "A00001;A00010              8\n",
              "A00002                  6559\n",
              "A00002;A00001            134\n",
              "A00002;A00001;A00003       1\n",
              "A00002;A00003            129\n",
              "A00002;A00004              5\n",
              "A00002;A00004;A00003       2\n",
              "A00002;A00004;A00005       2\n",
              "A00002;A00005             32\n",
              "A00002;A00005;A00003       1\n",
              "A00002;A00005;A00010       1\n",
              "A00002;A00010              2\n",
              "A00003                  1502\n",
              "A00004                   130\n",
              "A00004;A00001              2\n",
              "A00004;A00002;A00001       1\n",
              "A00004;A00003              1\n",
              "A00005                   182\n",
              "A00005;A00003              1\n",
              "A00006                    95\n",
              "A00006;A00001              5\n",
              "A00006;A00002             14\n",
              "A00006;A00003              1\n",
              "A00006;A00005              2\n",
              "A00006;A00007;A00002       1\n",
              "A00006;A00010              1\n",
              "A00007                    25\n",
              "A00007;A00001              1\n",
              "A00007;A00003              1\n",
              "A00007;A00004              1\n",
              "A00008                    20\n",
              "A00008;A00001              1\n",
              "A00008;A00002              2\n",
              "A00008;A00002;A00004       1\n",
              "A00009                    23\n",
              "A00009;A00001              1\n",
              "A00009;A00002              1\n",
              "A00009;A00002;A00003       1\n",
              "A00009;A00003              3\n",
              "A00009;A00005              2\n",
              "A00010                    39\n",
              "A00010;A00003              4\n",
              "A00011                    42\n",
              "A00011;A00001              1\n",
              "A00011;A00002              8\n",
              "A00011;A00003              1\n",
              "A00011;A00004              1\n",
              "A00011;A00005              1\n",
              "Name: unique_categories, dtype: int64"
            ]
          },
          "metadata": {
            "tags": []
          },
          "execution_count": 25
        }
      ]
    },
    {
      "cell_type": "code",
      "metadata": {
        "id": "_rvgI7pl9Pvr",
        "colab_type": "code",
        "outputId": "fbe5686d-825d-4459-b1a9-ebe64b298f07",
        "colab": {
          "base_uri": "https://localhost:8080/",
          "height": 221
        }
      },
      "source": [
        "# Unique Products\n",
        "train['unique_products'].value_counts().sort_values(ascending=False)"
      ],
      "execution_count": 26,
      "outputs": [
        {
          "output_type": "execute_result",
          "data": {
            "text/plain": [
              "D00266                  25\n",
              "D20430                  23\n",
              "D00232                  19\n",
              "D19326                  19\n",
              "D21690                  18\n",
              "                        ..\n",
              "D20324                   1\n",
              "D15989;D00034            1\n",
              "D12276;D12278;D12279     1\n",
              "D04665                   1\n",
              "D12538                   1\n",
              "Name: unique_products, Length: 9384, dtype: int64"
            ]
          },
          "metadata": {
            "tags": []
          },
          "execution_count": 26
        }
      ]
    },
    {
      "cell_type": "code",
      "metadata": {
        "id": "KnUBAaUH_YZA",
        "colab_type": "code",
        "colab": {}
      },
      "source": [
        "target = train[\"gender\"]\n",
        "train = train.drop(['gender','session_id','startTime','endTime','ProductList'], axis=1)\n",
        "test = test.drop(['session_id','startTime','endTime','ProductList'], axis=1)"
      ],
      "execution_count": 0,
      "outputs": []
    },
    {
      "cell_type": "code",
      "metadata": {
        "colab_type": "code",
        "id": "RYyb5j4580fi",
        "colab": {}
      },
      "source": [
        "data = pd.concat([train, test])"
      ],
      "execution_count": 0,
      "outputs": []
    },
    {
      "cell_type": "code",
      "metadata": {
        "id": "FLNQTBWQH2RQ",
        "colab_type": "code",
        "outputId": "24854bac-3274-4b4d-a7ee-1f15bd3b7c88",
        "colab": {
          "base_uri": "https://localhost:8080/",
          "height": 391
        }
      },
      "source": [
        "data.info()"
      ],
      "execution_count": 29,
      "outputs": [
        {
          "output_type": "stream",
          "text": [
            "<class 'pandas.core.frame.DataFrame'>\n",
            "Int64Index: 15000 entries, 0 to 4499\n",
            "Data columns (total 15 columns):\n",
            " #   Column                     Non-Null Count  Dtype \n",
            "---  ------                     --------------  ----- \n",
            " 0   startTime_year             15000 non-null  int64 \n",
            " 1   startTime_month            15000 non-null  int64 \n",
            " 2   startTime_day              15000 non-null  int64 \n",
            " 3   startTime_hour             15000 non-null  int64 \n",
            " 4   startTime_min              15000 non-null  int64 \n",
            " 5   startTime_quarter          15000 non-null  int64 \n",
            " 6   startTime_Dayofweek        15000 non-null  int64 \n",
            " 7   startTime_Dayweek          15000 non-null  object\n",
            " 8   startTime_is_weekend       15000 non-null  int64 \n",
            " 9   duration                   15000 non-null  int64 \n",
            " 10  unique_categories          15000 non-null  object\n",
            " 11  unique_sub_categories      15000 non-null  object\n",
            " 12  unique_sub_sub_categories  15000 non-null  object\n",
            " 13  unique_products            15000 non-null  object\n",
            " 14  num_product                15000 non-null  int64 \n",
            "dtypes: int64(10), object(5)\n",
            "memory usage: 1.8+ MB\n"
          ],
          "name": "stdout"
        }
      ]
    },
    {
      "cell_type": "code",
      "metadata": {
        "id": "zH1zIeY-_iZM",
        "colab_type": "code",
        "outputId": "75d109ff-ca5b-4e78-fff8-f2ad779e7f17",
        "colab": {
          "base_uri": "https://localhost:8080/",
          "height": 379
        }
      },
      "source": [
        "data.head(10)"
      ],
      "execution_count": 30,
      "outputs": [
        {
          "output_type": "execute_result",
          "data": {
            "text/html": [
              "<div>\n",
              "<style scoped>\n",
              "    .dataframe tbody tr th:only-of-type {\n",
              "        vertical-align: middle;\n",
              "    }\n",
              "\n",
              "    .dataframe tbody tr th {\n",
              "        vertical-align: top;\n",
              "    }\n",
              "\n",
              "    .dataframe thead th {\n",
              "        text-align: right;\n",
              "    }\n",
              "</style>\n",
              "<table border=\"1\" class=\"dataframe\">\n",
              "  <thead>\n",
              "    <tr style=\"text-align: right;\">\n",
              "      <th></th>\n",
              "      <th>startTime_year</th>\n",
              "      <th>startTime_month</th>\n",
              "      <th>startTime_day</th>\n",
              "      <th>startTime_hour</th>\n",
              "      <th>startTime_min</th>\n",
              "      <th>startTime_quarter</th>\n",
              "      <th>startTime_Dayofweek</th>\n",
              "      <th>startTime_Dayweek</th>\n",
              "      <th>startTime_is_weekend</th>\n",
              "      <th>duration</th>\n",
              "      <th>unique_categories</th>\n",
              "      <th>unique_sub_categories</th>\n",
              "      <th>unique_sub_sub_categories</th>\n",
              "      <th>unique_products</th>\n",
              "      <th>num_product</th>\n",
              "    </tr>\n",
              "  </thead>\n",
              "  <tbody>\n",
              "    <tr>\n",
              "      <th>0</th>\n",
              "      <td>2014</td>\n",
              "      <td>12</td>\n",
              "      <td>15</td>\n",
              "      <td>18</td>\n",
              "      <td>11</td>\n",
              "      <td>4</td>\n",
              "      <td>0</td>\n",
              "      <td>Monday</td>\n",
              "      <td>0</td>\n",
              "      <td>1</td>\n",
              "      <td>A00002</td>\n",
              "      <td>B00003</td>\n",
              "      <td>C00006</td>\n",
              "      <td>D28437;D28435;D02554;D28436</td>\n",
              "      <td>4</td>\n",
              "    </tr>\n",
              "    <tr>\n",
              "      <th>1</th>\n",
              "      <td>2014</td>\n",
              "      <td>12</td>\n",
              "      <td>16</td>\n",
              "      <td>14</td>\n",
              "      <td>35</td>\n",
              "      <td>4</td>\n",
              "      <td>1</td>\n",
              "      <td>Tuesday</td>\n",
              "      <td>0</td>\n",
              "      <td>6</td>\n",
              "      <td>A00001</td>\n",
              "      <td>B00009</td>\n",
              "      <td>C00031</td>\n",
              "      <td>D25444;D29404;D29410;D29418;D29411;D02617;D29407</td>\n",
              "      <td>7</td>\n",
              "    </tr>\n",
              "    <tr>\n",
              "      <th>2</th>\n",
              "      <td>2014</td>\n",
              "      <td>12</td>\n",
              "      <td>1</td>\n",
              "      <td>15</td>\n",
              "      <td>58</td>\n",
              "      <td>4</td>\n",
              "      <td>0</td>\n",
              "      <td>Monday</td>\n",
              "      <td>0</td>\n",
              "      <td>0</td>\n",
              "      <td>A00002</td>\n",
              "      <td>B00001</td>\n",
              "      <td>C00020</td>\n",
              "      <td>D16944</td>\n",
              "      <td>1</td>\n",
              "    </tr>\n",
              "    <tr>\n",
              "      <th>3</th>\n",
              "      <td>2014</td>\n",
              "      <td>11</td>\n",
              "      <td>23</td>\n",
              "      <td>2</td>\n",
              "      <td>57</td>\n",
              "      <td>4</td>\n",
              "      <td>6</td>\n",
              "      <td>Sunday</td>\n",
              "      <td>0</td>\n",
              "      <td>3</td>\n",
              "      <td>A00002</td>\n",
              "      <td>B00004</td>\n",
              "      <td>C00018</td>\n",
              "      <td>D10286;D10285;D10284</td>\n",
              "      <td>3</td>\n",
              "    </tr>\n",
              "    <tr>\n",
              "      <th>4</th>\n",
              "      <td>2014</td>\n",
              "      <td>12</td>\n",
              "      <td>17</td>\n",
              "      <td>16</td>\n",
              "      <td>44</td>\n",
              "      <td>4</td>\n",
              "      <td>2</td>\n",
              "      <td>Wednesday</td>\n",
              "      <td>0</td>\n",
              "      <td>2</td>\n",
              "      <td>A00001</td>\n",
              "      <td>B00001</td>\n",
              "      <td>C00012</td>\n",
              "      <td>D30805;D30806</td>\n",
              "      <td>2</td>\n",
              "    </tr>\n",
              "    <tr>\n",
              "      <th>5</th>\n",
              "      <td>2014</td>\n",
              "      <td>12</td>\n",
              "      <td>12</td>\n",
              "      <td>15</td>\n",
              "      <td>31</td>\n",
              "      <td>4</td>\n",
              "      <td>4</td>\n",
              "      <td>Friday</td>\n",
              "      <td>0</td>\n",
              "      <td>0</td>\n",
              "      <td>A00002</td>\n",
              "      <td>B00002</td>\n",
              "      <td>C00081</td>\n",
              "      <td>D25039</td>\n",
              "      <td>1</td>\n",
              "    </tr>\n",
              "    <tr>\n",
              "      <th>6</th>\n",
              "      <td>2014</td>\n",
              "      <td>12</td>\n",
              "      <td>5</td>\n",
              "      <td>19</td>\n",
              "      <td>33</td>\n",
              "      <td>4</td>\n",
              "      <td>4</td>\n",
              "      <td>Friday</td>\n",
              "      <td>0</td>\n",
              "      <td>1</td>\n",
              "      <td>A00002</td>\n",
              "      <td>B00011</td>\n",
              "      <td>C00180;C00114</td>\n",
              "      <td>D18459;D18487</td>\n",
              "      <td>2</td>\n",
              "    </tr>\n",
              "    <tr>\n",
              "      <th>7</th>\n",
              "      <td>2014</td>\n",
              "      <td>12</td>\n",
              "      <td>9</td>\n",
              "      <td>16</td>\n",
              "      <td>2</td>\n",
              "      <td>4</td>\n",
              "      <td>1</td>\n",
              "      <td>Tuesday</td>\n",
              "      <td>0</td>\n",
              "      <td>4</td>\n",
              "      <td>A00002</td>\n",
              "      <td>B00002;B00001</td>\n",
              "      <td>C00059;C00002</td>\n",
              "      <td>D15254;D02063;D00900</td>\n",
              "      <td>3</td>\n",
              "    </tr>\n",
              "    <tr>\n",
              "      <th>8</th>\n",
              "      <td>2014</td>\n",
              "      <td>11</td>\n",
              "      <td>25</td>\n",
              "      <td>11</td>\n",
              "      <td>55</td>\n",
              "      <td>4</td>\n",
              "      <td>1</td>\n",
              "      <td>Tuesday</td>\n",
              "      <td>0</td>\n",
              "      <td>0</td>\n",
              "      <td>A00002</td>\n",
              "      <td>B00001</td>\n",
              "      <td>C00010</td>\n",
              "      <td>D06129</td>\n",
              "      <td>1</td>\n",
              "    </tr>\n",
              "    <tr>\n",
              "      <th>9</th>\n",
              "      <td>2014</td>\n",
              "      <td>12</td>\n",
              "      <td>6</td>\n",
              "      <td>16</td>\n",
              "      <td>16</td>\n",
              "      <td>4</td>\n",
              "      <td>5</td>\n",
              "      <td>Saturday</td>\n",
              "      <td>0</td>\n",
              "      <td>1</td>\n",
              "      <td>A00002</td>\n",
              "      <td>B00002;B00001</td>\n",
              "      <td>C00010;C00112</td>\n",
              "      <td>D12841;D20047</td>\n",
              "      <td>2</td>\n",
              "    </tr>\n",
              "  </tbody>\n",
              "</table>\n",
              "</div>"
            ],
            "text/plain": [
              "   startTime_year  startTime_month  startTime_day  startTime_hour  \\\n",
              "0            2014               12             15              18   \n",
              "1            2014               12             16              14   \n",
              "2            2014               12              1              15   \n",
              "3            2014               11             23               2   \n",
              "4            2014               12             17              16   \n",
              "5            2014               12             12              15   \n",
              "6            2014               12              5              19   \n",
              "7            2014               12              9              16   \n",
              "8            2014               11             25              11   \n",
              "9            2014               12              6              16   \n",
              "\n",
              "   startTime_min  startTime_quarter  startTime_Dayofweek startTime_Dayweek  \\\n",
              "0             11                  4                    0            Monday   \n",
              "1             35                  4                    1           Tuesday   \n",
              "2             58                  4                    0            Monday   \n",
              "3             57                  4                    6            Sunday   \n",
              "4             44                  4                    2         Wednesday   \n",
              "5             31                  4                    4            Friday   \n",
              "6             33                  4                    4            Friday   \n",
              "7              2                  4                    1           Tuesday   \n",
              "8             55                  4                    1           Tuesday   \n",
              "9             16                  4                    5          Saturday   \n",
              "\n",
              "   startTime_is_weekend  duration unique_categories unique_sub_categories  \\\n",
              "0                     0         1            A00002                B00003   \n",
              "1                     0         6            A00001                B00009   \n",
              "2                     0         0            A00002                B00001   \n",
              "3                     0         3            A00002                B00004   \n",
              "4                     0         2            A00001                B00001   \n",
              "5                     0         0            A00002                B00002   \n",
              "6                     0         1            A00002                B00011   \n",
              "7                     0         4            A00002         B00002;B00001   \n",
              "8                     0         0            A00002                B00001   \n",
              "9                     0         1            A00002         B00002;B00001   \n",
              "\n",
              "  unique_sub_sub_categories                                   unique_products  \\\n",
              "0                    C00006                       D28437;D28435;D02554;D28436   \n",
              "1                    C00031  D25444;D29404;D29410;D29418;D29411;D02617;D29407   \n",
              "2                    C00020                                            D16944   \n",
              "3                    C00018                              D10286;D10285;D10284   \n",
              "4                    C00012                                     D30805;D30806   \n",
              "5                    C00081                                            D25039   \n",
              "6             C00180;C00114                                     D18459;D18487   \n",
              "7             C00059;C00002                              D15254;D02063;D00900   \n",
              "8                    C00010                                            D06129   \n",
              "9             C00010;C00112                                     D12841;D20047   \n",
              "\n",
              "   num_product  \n",
              "0            4  \n",
              "1            7  \n",
              "2            1  \n",
              "3            3  \n",
              "4            2  \n",
              "5            1  \n",
              "6            2  \n",
              "7            3  \n",
              "8            1  \n",
              "9            2  "
            ]
          },
          "metadata": {
            "tags": []
          },
          "execution_count": 30
        }
      ]
    },
    {
      "cell_type": "code",
      "metadata": {
        "colab_type": "code",
        "id": "4pBgkwJp-S6r",
        "colab": {}
      },
      "source": [
        "# # One Hot Encoding\n",
        "dummies = pd.get_dummies(data, columns=data.columns, drop_first=True)\n",
        "train2 = dummies.iloc[:train.shape[0], :]\n",
        "test = dummies.iloc[train.shape[0]:, :]"
      ],
      "execution_count": 0,
      "outputs": []
    },
    {
      "cell_type": "code",
      "metadata": {
        "colab_type": "code",
        "id": "yJCUWMm3sfRr",
        "outputId": "38b182b2-c51d-440c-fcfc-4fc3a0c4e1c5",
        "colab": {
          "base_uri": "https://localhost:8080/",
          "height": 253
        }
      },
      "source": [
        "train2.head()"
      ],
      "execution_count": 32,
      "outputs": [
        {
          "output_type": "execute_result",
          "data": {
            "text/html": [
              "<div>\n",
              "<style scoped>\n",
              "    .dataframe tbody tr th:only-of-type {\n",
              "        vertical-align: middle;\n",
              "    }\n",
              "\n",
              "    .dataframe tbody tr th {\n",
              "        vertical-align: top;\n",
              "    }\n",
              "\n",
              "    .dataframe thead th {\n",
              "        text-align: right;\n",
              "    }\n",
              "</style>\n",
              "<table border=\"1\" class=\"dataframe\">\n",
              "  <thead>\n",
              "    <tr style=\"text-align: right;\">\n",
              "      <th></th>\n",
              "      <th>startTime_month_12</th>\n",
              "      <th>startTime_day_2</th>\n",
              "      <th>startTime_day_3</th>\n",
              "      <th>startTime_day_5</th>\n",
              "      <th>startTime_day_6</th>\n",
              "      <th>startTime_day_7</th>\n",
              "      <th>startTime_day_8</th>\n",
              "      <th>startTime_day_9</th>\n",
              "      <th>startTime_day_12</th>\n",
              "      <th>startTime_day_13</th>\n",
              "      <th>startTime_day_14</th>\n",
              "      <th>startTime_day_15</th>\n",
              "      <th>startTime_day_16</th>\n",
              "      <th>startTime_day_17</th>\n",
              "      <th>startTime_day_18</th>\n",
              "      <th>startTime_day_19</th>\n",
              "      <th>startTime_day_20</th>\n",
              "      <th>startTime_day_21</th>\n",
              "      <th>startTime_day_22</th>\n",
              "      <th>startTime_day_23</th>\n",
              "      <th>startTime_day_25</th>\n",
              "      <th>startTime_day_26</th>\n",
              "      <th>startTime_day_27</th>\n",
              "      <th>startTime_day_28</th>\n",
              "      <th>startTime_day_29</th>\n",
              "      <th>...</th>\n",
              "      <th>num_product_9</th>\n",
              "      <th>num_product_10</th>\n",
              "      <th>num_product_11</th>\n",
              "      <th>num_product_12</th>\n",
              "      <th>num_product_13</th>\n",
              "      <th>num_product_14</th>\n",
              "      <th>num_product_15</th>\n",
              "      <th>num_product_16</th>\n",
              "      <th>num_product_17</th>\n",
              "      <th>num_product_18</th>\n",
              "      <th>num_product_19</th>\n",
              "      <th>num_product_20</th>\n",
              "      <th>num_product_21</th>\n",
              "      <th>num_product_22</th>\n",
              "      <th>num_product_23</th>\n",
              "      <th>num_product_24</th>\n",
              "      <th>num_product_25</th>\n",
              "      <th>num_product_27</th>\n",
              "      <th>num_product_28</th>\n",
              "      <th>num_product_29</th>\n",
              "      <th>num_product_30</th>\n",
              "      <th>num_product_31</th>\n",
              "      <th>num_product_35</th>\n",
              "      <th>num_product_36</th>\n",
              "      <th>num_product_43</th>\n",
              "    </tr>\n",
              "  </thead>\n",
              "  <tbody>\n",
              "    <tr>\n",
              "      <th>0</th>\n",
              "      <td>1</td>\n",
              "      <td>0</td>\n",
              "      <td>0</td>\n",
              "      <td>0</td>\n",
              "      <td>0</td>\n",
              "      <td>0</td>\n",
              "      <td>0</td>\n",
              "      <td>0</td>\n",
              "      <td>0</td>\n",
              "      <td>0</td>\n",
              "      <td>0</td>\n",
              "      <td>1</td>\n",
              "      <td>0</td>\n",
              "      <td>0</td>\n",
              "      <td>0</td>\n",
              "      <td>0</td>\n",
              "      <td>0</td>\n",
              "      <td>0</td>\n",
              "      <td>0</td>\n",
              "      <td>0</td>\n",
              "      <td>0</td>\n",
              "      <td>0</td>\n",
              "      <td>0</td>\n",
              "      <td>0</td>\n",
              "      <td>0</td>\n",
              "      <td>...</td>\n",
              "      <td>0</td>\n",
              "      <td>0</td>\n",
              "      <td>0</td>\n",
              "      <td>0</td>\n",
              "      <td>0</td>\n",
              "      <td>0</td>\n",
              "      <td>0</td>\n",
              "      <td>0</td>\n",
              "      <td>0</td>\n",
              "      <td>0</td>\n",
              "      <td>0</td>\n",
              "      <td>0</td>\n",
              "      <td>0</td>\n",
              "      <td>0</td>\n",
              "      <td>0</td>\n",
              "      <td>0</td>\n",
              "      <td>0</td>\n",
              "      <td>0</td>\n",
              "      <td>0</td>\n",
              "      <td>0</td>\n",
              "      <td>0</td>\n",
              "      <td>0</td>\n",
              "      <td>0</td>\n",
              "      <td>0</td>\n",
              "      <td>0</td>\n",
              "    </tr>\n",
              "    <tr>\n",
              "      <th>1</th>\n",
              "      <td>1</td>\n",
              "      <td>0</td>\n",
              "      <td>0</td>\n",
              "      <td>0</td>\n",
              "      <td>0</td>\n",
              "      <td>0</td>\n",
              "      <td>0</td>\n",
              "      <td>0</td>\n",
              "      <td>0</td>\n",
              "      <td>0</td>\n",
              "      <td>0</td>\n",
              "      <td>0</td>\n",
              "      <td>1</td>\n",
              "      <td>0</td>\n",
              "      <td>0</td>\n",
              "      <td>0</td>\n",
              "      <td>0</td>\n",
              "      <td>0</td>\n",
              "      <td>0</td>\n",
              "      <td>0</td>\n",
              "      <td>0</td>\n",
              "      <td>0</td>\n",
              "      <td>0</td>\n",
              "      <td>0</td>\n",
              "      <td>0</td>\n",
              "      <td>...</td>\n",
              "      <td>0</td>\n",
              "      <td>0</td>\n",
              "      <td>0</td>\n",
              "      <td>0</td>\n",
              "      <td>0</td>\n",
              "      <td>0</td>\n",
              "      <td>0</td>\n",
              "      <td>0</td>\n",
              "      <td>0</td>\n",
              "      <td>0</td>\n",
              "      <td>0</td>\n",
              "      <td>0</td>\n",
              "      <td>0</td>\n",
              "      <td>0</td>\n",
              "      <td>0</td>\n",
              "      <td>0</td>\n",
              "      <td>0</td>\n",
              "      <td>0</td>\n",
              "      <td>0</td>\n",
              "      <td>0</td>\n",
              "      <td>0</td>\n",
              "      <td>0</td>\n",
              "      <td>0</td>\n",
              "      <td>0</td>\n",
              "      <td>0</td>\n",
              "    </tr>\n",
              "    <tr>\n",
              "      <th>2</th>\n",
              "      <td>1</td>\n",
              "      <td>0</td>\n",
              "      <td>0</td>\n",
              "      <td>0</td>\n",
              "      <td>0</td>\n",
              "      <td>0</td>\n",
              "      <td>0</td>\n",
              "      <td>0</td>\n",
              "      <td>0</td>\n",
              "      <td>0</td>\n",
              "      <td>0</td>\n",
              "      <td>0</td>\n",
              "      <td>0</td>\n",
              "      <td>0</td>\n",
              "      <td>0</td>\n",
              "      <td>0</td>\n",
              "      <td>0</td>\n",
              "      <td>0</td>\n",
              "      <td>0</td>\n",
              "      <td>0</td>\n",
              "      <td>0</td>\n",
              "      <td>0</td>\n",
              "      <td>0</td>\n",
              "      <td>0</td>\n",
              "      <td>0</td>\n",
              "      <td>...</td>\n",
              "      <td>0</td>\n",
              "      <td>0</td>\n",
              "      <td>0</td>\n",
              "      <td>0</td>\n",
              "      <td>0</td>\n",
              "      <td>0</td>\n",
              "      <td>0</td>\n",
              "      <td>0</td>\n",
              "      <td>0</td>\n",
              "      <td>0</td>\n",
              "      <td>0</td>\n",
              "      <td>0</td>\n",
              "      <td>0</td>\n",
              "      <td>0</td>\n",
              "      <td>0</td>\n",
              "      <td>0</td>\n",
              "      <td>0</td>\n",
              "      <td>0</td>\n",
              "      <td>0</td>\n",
              "      <td>0</td>\n",
              "      <td>0</td>\n",
              "      <td>0</td>\n",
              "      <td>0</td>\n",
              "      <td>0</td>\n",
              "      <td>0</td>\n",
              "    </tr>\n",
              "    <tr>\n",
              "      <th>3</th>\n",
              "      <td>0</td>\n",
              "      <td>0</td>\n",
              "      <td>0</td>\n",
              "      <td>0</td>\n",
              "      <td>0</td>\n",
              "      <td>0</td>\n",
              "      <td>0</td>\n",
              "      <td>0</td>\n",
              "      <td>0</td>\n",
              "      <td>0</td>\n",
              "      <td>0</td>\n",
              "      <td>0</td>\n",
              "      <td>0</td>\n",
              "      <td>0</td>\n",
              "      <td>0</td>\n",
              "      <td>0</td>\n",
              "      <td>0</td>\n",
              "      <td>0</td>\n",
              "      <td>0</td>\n",
              "      <td>1</td>\n",
              "      <td>0</td>\n",
              "      <td>0</td>\n",
              "      <td>0</td>\n",
              "      <td>0</td>\n",
              "      <td>0</td>\n",
              "      <td>...</td>\n",
              "      <td>0</td>\n",
              "      <td>0</td>\n",
              "      <td>0</td>\n",
              "      <td>0</td>\n",
              "      <td>0</td>\n",
              "      <td>0</td>\n",
              "      <td>0</td>\n",
              "      <td>0</td>\n",
              "      <td>0</td>\n",
              "      <td>0</td>\n",
              "      <td>0</td>\n",
              "      <td>0</td>\n",
              "      <td>0</td>\n",
              "      <td>0</td>\n",
              "      <td>0</td>\n",
              "      <td>0</td>\n",
              "      <td>0</td>\n",
              "      <td>0</td>\n",
              "      <td>0</td>\n",
              "      <td>0</td>\n",
              "      <td>0</td>\n",
              "      <td>0</td>\n",
              "      <td>0</td>\n",
              "      <td>0</td>\n",
              "      <td>0</td>\n",
              "    </tr>\n",
              "    <tr>\n",
              "      <th>4</th>\n",
              "      <td>1</td>\n",
              "      <td>0</td>\n",
              "      <td>0</td>\n",
              "      <td>0</td>\n",
              "      <td>0</td>\n",
              "      <td>0</td>\n",
              "      <td>0</td>\n",
              "      <td>0</td>\n",
              "      <td>0</td>\n",
              "      <td>0</td>\n",
              "      <td>0</td>\n",
              "      <td>0</td>\n",
              "      <td>0</td>\n",
              "      <td>1</td>\n",
              "      <td>0</td>\n",
              "      <td>0</td>\n",
              "      <td>0</td>\n",
              "      <td>0</td>\n",
              "      <td>0</td>\n",
              "      <td>0</td>\n",
              "      <td>0</td>\n",
              "      <td>0</td>\n",
              "      <td>0</td>\n",
              "      <td>0</td>\n",
              "      <td>0</td>\n",
              "      <td>...</td>\n",
              "      <td>0</td>\n",
              "      <td>0</td>\n",
              "      <td>0</td>\n",
              "      <td>0</td>\n",
              "      <td>0</td>\n",
              "      <td>0</td>\n",
              "      <td>0</td>\n",
              "      <td>0</td>\n",
              "      <td>0</td>\n",
              "      <td>0</td>\n",
              "      <td>0</td>\n",
              "      <td>0</td>\n",
              "      <td>0</td>\n",
              "      <td>0</td>\n",
              "      <td>0</td>\n",
              "      <td>0</td>\n",
              "      <td>0</td>\n",
              "      <td>0</td>\n",
              "      <td>0</td>\n",
              "      <td>0</td>\n",
              "      <td>0</td>\n",
              "      <td>0</td>\n",
              "      <td>0</td>\n",
              "      <td>0</td>\n",
              "      <td>0</td>\n",
              "    </tr>\n",
              "  </tbody>\n",
              "</table>\n",
              "<p>5 rows × 16374 columns</p>\n",
              "</div>"
            ],
            "text/plain": [
              "   startTime_month_12  startTime_day_2  startTime_day_3  startTime_day_5  \\\n",
              "0                   1                0                0                0   \n",
              "1                   1                0                0                0   \n",
              "2                   1                0                0                0   \n",
              "3                   0                0                0                0   \n",
              "4                   1                0                0                0   \n",
              "\n",
              "   startTime_day_6  startTime_day_7  startTime_day_8  startTime_day_9  \\\n",
              "0                0                0                0                0   \n",
              "1                0                0                0                0   \n",
              "2                0                0                0                0   \n",
              "3                0                0                0                0   \n",
              "4                0                0                0                0   \n",
              "\n",
              "   startTime_day_12  startTime_day_13  startTime_day_14  startTime_day_15  \\\n",
              "0                 0                 0                 0                 1   \n",
              "1                 0                 0                 0                 0   \n",
              "2                 0                 0                 0                 0   \n",
              "3                 0                 0                 0                 0   \n",
              "4                 0                 0                 0                 0   \n",
              "\n",
              "   startTime_day_16  startTime_day_17  startTime_day_18  startTime_day_19  \\\n",
              "0                 0                 0                 0                 0   \n",
              "1                 1                 0                 0                 0   \n",
              "2                 0                 0                 0                 0   \n",
              "3                 0                 0                 0                 0   \n",
              "4                 0                 1                 0                 0   \n",
              "\n",
              "   startTime_day_20  startTime_day_21  startTime_day_22  startTime_day_23  \\\n",
              "0                 0                 0                 0                 0   \n",
              "1                 0                 0                 0                 0   \n",
              "2                 0                 0                 0                 0   \n",
              "3                 0                 0                 0                 1   \n",
              "4                 0                 0                 0                 0   \n",
              "\n",
              "   startTime_day_25  startTime_day_26  startTime_day_27  startTime_day_28  \\\n",
              "0                 0                 0                 0                 0   \n",
              "1                 0                 0                 0                 0   \n",
              "2                 0                 0                 0                 0   \n",
              "3                 0                 0                 0                 0   \n",
              "4                 0                 0                 0                 0   \n",
              "\n",
              "   startTime_day_29  ...  num_product_9  num_product_10  num_product_11  \\\n",
              "0                 0  ...              0               0               0   \n",
              "1                 0  ...              0               0               0   \n",
              "2                 0  ...              0               0               0   \n",
              "3                 0  ...              0               0               0   \n",
              "4                 0  ...              0               0               0   \n",
              "\n",
              "   num_product_12  num_product_13  num_product_14  num_product_15  \\\n",
              "0               0               0               0               0   \n",
              "1               0               0               0               0   \n",
              "2               0               0               0               0   \n",
              "3               0               0               0               0   \n",
              "4               0               0               0               0   \n",
              "\n",
              "   num_product_16  num_product_17  num_product_18  num_product_19  \\\n",
              "0               0               0               0               0   \n",
              "1               0               0               0               0   \n",
              "2               0               0               0               0   \n",
              "3               0               0               0               0   \n",
              "4               0               0               0               0   \n",
              "\n",
              "   num_product_20  num_product_21  num_product_22  num_product_23  \\\n",
              "0               0               0               0               0   \n",
              "1               0               0               0               0   \n",
              "2               0               0               0               0   \n",
              "3               0               0               0               0   \n",
              "4               0               0               0               0   \n",
              "\n",
              "   num_product_24  num_product_25  num_product_27  num_product_28  \\\n",
              "0               0               0               0               0   \n",
              "1               0               0               0               0   \n",
              "2               0               0               0               0   \n",
              "3               0               0               0               0   \n",
              "4               0               0               0               0   \n",
              "\n",
              "   num_product_29  num_product_30  num_product_31  num_product_35  \\\n",
              "0               0               0               0               0   \n",
              "1               0               0               0               0   \n",
              "2               0               0               0               0   \n",
              "3               0               0               0               0   \n",
              "4               0               0               0               0   \n",
              "\n",
              "   num_product_36  num_product_43  \n",
              "0               0               0  \n",
              "1               0               0  \n",
              "2               0               0  \n",
              "3               0               0  \n",
              "4               0               0  \n",
              "\n",
              "[5 rows x 16374 columns]"
            ]
          },
          "metadata": {
            "tags": []
          },
          "execution_count": 32
        }
      ]
    },
    {
      "cell_type": "code",
      "metadata": {
        "colab_type": "code",
        "id": "piOamW3lqNYy",
        "colab": {}
      },
      "source": [
        "# Using SMOTE for Balancing Data\n",
        "# from imblearn.over_sampling import SMOTE\n",
        "# sm = SMOTE(random_state=2020)\n",
        "\n",
        "# from imblearn.over_sampling import ADASYN\n",
        "# sm = ADASYN()\n",
        "\n",
        "# from imblearn.over_sampling import SVMSMOTE\n",
        "# sm = SVMSMOTE(random_state=2020)\n",
        "\n",
        "# from imblearn.combine import SMOTETomek\n",
        "# sm = SMOTETomek(ratio='auto')\n",
        "\n",
        "# from imblearn.combine import SMOTEENN\n",
        "# sm = SMOTEENN(random_state=2020)\n",
        "\n",
        "# train2, target = sm.fit_sample(train2, target.ravel())\n",
        "\n",
        "# from collections import Counter\n",
        "# print('Resampled dataset shape %s' % Counter(target))\n",
        "\n",
        "# from imblearn.under_sampling import NearMiss\n",
        "# nr = NearMiss()\n",
        "# train2, target = nr.fit_sample(train2, target.ravel())\n",
        "# np.bincount(target)"
      ],
      "execution_count": 0,
      "outputs": []
    },
    {
      "cell_type": "code",
      "metadata": {
        "colab_type": "code",
        "id": "VVd836hfqlUH",
        "outputId": "bf731fb9-59e6-42d6-e0af-d101c4e718cc",
        "colab": {
          "base_uri": "https://localhost:8080/",
          "height": 34
        }
      },
      "source": [
        "print(train2.shape, target.shape)\n",
        "\n",
        "# (10500, 11842) (10500,)"
      ],
      "execution_count": 34,
      "outputs": [
        {
          "output_type": "stream",
          "text": [
            "(10500, 16374) (10500,)\n"
          ],
          "name": "stdout"
        }
      ]
    },
    {
      "cell_type": "code",
      "metadata": {
        "colab_type": "code",
        "id": "8UY5PA3W_jMI",
        "colab": {}
      },
      "source": [
        "# Scaling Data\n",
        "scaler = StandardScaler()\n",
        "#scaler = MinMaxScaler()\n",
        "train2 = scaler.fit_transform(train2)\n",
        "test = scaler.transform(test)"
      ],
      "execution_count": 0,
      "outputs": []
    },
    {
      "cell_type": "code",
      "metadata": {
        "colab_type": "code",
        "id": "SLYmuctNHYhq",
        "colab": {
          "base_uri": "https://localhost:8080/",
          "height": 34
        },
        "outputId": "cac94424-ad78-4b3f-d252-c3dc2ba00f3e"
      },
      "source": [
        "poly = PolynomialFeatures(degree=1)\n",
        "train2 = poly.fit_transform(train2)\n",
        "test = poly.transform(test)\n",
        "poly\n",
        "print(\"train2 shape:\", train2.shape)\n",
        "\n",
        "# train2 shape: (10500, 11843)"
      ],
      "execution_count": 36,
      "outputs": [
        {
          "output_type": "stream",
          "text": [
            "train2 shape: (10500, 16375)\n"
          ],
          "name": "stdout"
        }
      ]
    },
    {
      "cell_type": "code",
      "metadata": {
        "colab_type": "code",
        "id": "BdtsaO5DIMmp",
        "colab": {}
      },
      "source": [
        "# pca = PCA(random_state=2020)\n",
        "# #pca = PCA(random_state=2020, n_components=5000)\n",
        "# train2 = pca.fit_transform(train2)\n",
        "# test = pca.transform(test)\n",
        "# pca"
      ],
      "execution_count": 0,
      "outputs": []
    },
    {
      "cell_type": "code",
      "metadata": {
        "colab_type": "code",
        "id": "CJU4a8FDIsAo",
        "outputId": "211fbea3-2d3d-499a-d1f7-e178b0396014",
        "colab": {
          "base_uri": "https://localhost:8080/",
          "height": 238
        }
      },
      "source": [
        "train2"
      ],
      "execution_count": 38,
      "outputs": [
        {
          "output_type": "execute_result",
          "data": {
            "text/plain": [
              "array([[ 1.        ,  0.78446454, -0.11582613, ..., -0.00975947,\n",
              "        -0.01380263,  0.        ],\n",
              "       [ 1.        ,  0.78446454, -0.11582613, ..., -0.00975947,\n",
              "        -0.01380263,  0.        ],\n",
              "       [ 1.        ,  0.78446454, -0.11582613, ..., -0.00975947,\n",
              "        -0.01380263,  0.        ],\n",
              "       ...,\n",
              "       [ 1.        ,  0.78446454, -0.11582613, ..., -0.00975947,\n",
              "        -0.01380263,  0.        ],\n",
              "       [ 1.        , -1.27475488, -0.11582613, ..., -0.00975947,\n",
              "        -0.01380263,  0.        ],\n",
              "       [ 1.        ,  0.78446454, -0.11582613, ..., -0.00975947,\n",
              "        -0.01380263,  0.        ]])"
            ]
          },
          "metadata": {
            "tags": []
          },
          "execution_count": 38
        }
      ]
    },
    {
      "cell_type": "code",
      "metadata": {
        "colab_type": "code",
        "id": "Z0C_zsNmzh69",
        "outputId": "c2d95750-b44c-4ebe-c27a-b63787eecbbd",
        "colab": {
          "base_uri": "https://localhost:8080/",
          "height": 34
        }
      },
      "source": [
        "x_train, x_val, y_train, y_val = train_test_split(train2, target, test_size=0.3, random_state=2020)\n",
        "print(x_train.shape, x_val.shape)\n",
        "\n",
        "#(7350, 11843) (3150, 11843)"
      ],
      "execution_count": 39,
      "outputs": [
        {
          "output_type": "stream",
          "text": [
            "(7350, 16375) (3150, 16375)\n"
          ],
          "name": "stdout"
        }
      ]
    },
    {
      "cell_type": "code",
      "metadata": {
        "colab_type": "code",
        "id": "rZTrsJ1Nz10K",
        "outputId": "53f6edc2-87ff-46be-ebb6-be8a707caf79",
        "colab": {
          "base_uri": "https://localhost:8080/",
          "height": 238
        }
      },
      "source": [
        "x_train"
      ],
      "execution_count": 40,
      "outputs": [
        {
          "output_type": "execute_result",
          "data": {
            "text/plain": [
              "array([[ 1.        ,  0.78446454, -0.11582613, ..., -0.00975947,\n",
              "        -0.01380263,  0.        ],\n",
              "       [ 1.        ,  0.78446454, -0.11582613, ..., -0.00975947,\n",
              "        -0.01380263,  0.        ],\n",
              "       [ 1.        , -1.27475488, -0.11582613, ..., -0.00975947,\n",
              "        -0.01380263,  0.        ],\n",
              "       ...,\n",
              "       [ 1.        ,  0.78446454, -0.11582613, ..., -0.00975947,\n",
              "        -0.01380263,  0.        ],\n",
              "       [ 1.        , -1.27475488, -0.11582613, ..., -0.00975947,\n",
              "        -0.01380263,  0.        ],\n",
              "       [ 1.        , -1.27475488, -0.11582613, ..., -0.00975947,\n",
              "        -0.01380263,  0.        ]])"
            ]
          },
          "metadata": {
            "tags": []
          },
          "execution_count": 40
        }
      ]
    },
    {
      "cell_type": "code",
      "metadata": {
        "colab_type": "code",
        "id": "bC7sshW8z3n1",
        "outputId": "aedbc38b-c75c-4f51-cda1-609e5b0223b1",
        "colab": {
          "base_uri": "https://localhost:8080/",
          "height": 238
        }
      },
      "source": [
        "x_val"
      ],
      "execution_count": 41,
      "outputs": [
        {
          "output_type": "execute_result",
          "data": {
            "text/plain": [
              "array([[ 1.        , -1.27475488, -0.11582613, ..., -0.00975947,\n",
              "        -0.01380263,  0.        ],\n",
              "       [ 1.        ,  0.78446454, -0.11582613, ..., -0.00975947,\n",
              "        -0.01380263,  0.        ],\n",
              "       [ 1.        ,  0.78446454, -0.11582613, ..., -0.00975947,\n",
              "        -0.01380263,  0.        ],\n",
              "       ...,\n",
              "       [ 1.        ,  0.78446454, -0.11582613, ..., -0.00975947,\n",
              "        -0.01380263,  0.        ],\n",
              "       [ 1.        ,  0.78446454, -0.11582613, ..., -0.00975947,\n",
              "        -0.01380263,  0.        ],\n",
              "       [ 1.        ,  0.78446454, -0.11582613, ..., -0.00975947,\n",
              "        -0.01380263,  0.        ]])"
            ]
          },
          "metadata": {
            "tags": []
          },
          "execution_count": 41
        }
      ]
    },
    {
      "cell_type": "code",
      "metadata": {
        "colab_type": "code",
        "id": "JBh1z4bbz5nU",
        "outputId": "7c04e3d5-ff1a-41c2-a9f7-e895a46e3d40",
        "colab": {
          "base_uri": "https://localhost:8080/",
          "height": 221
        }
      },
      "source": [
        "y_train"
      ],
      "execution_count": 42,
      "outputs": [
        {
          "output_type": "execute_result",
          "data": {
            "text/plain": [
              "6779    female\n",
              "6349    female\n",
              "3795    female\n",
              "6600    female\n",
              "5165      male\n",
              "         ...  \n",
              "3655    female\n",
              "1661    female\n",
              "2139    female\n",
              "7491    female\n",
              "9056      male\n",
              "Name: gender, Length: 7350, dtype: object"
            ]
          },
          "metadata": {
            "tags": []
          },
          "execution_count": 42
        }
      ]
    },
    {
      "cell_type": "code",
      "metadata": {
        "colab_type": "code",
        "id": "yniag5Oqz7JC",
        "outputId": "f0e37f03-e21a-47e8-b209-7f8cf517b547",
        "colab": {
          "base_uri": "https://localhost:8080/",
          "height": 221
        }
      },
      "source": [
        "y_val"
      ],
      "execution_count": 43,
      "outputs": [
        {
          "output_type": "execute_result",
          "data": {
            "text/plain": [
              "222      female\n",
              "2995     female\n",
              "7157       male\n",
              "8048     female\n",
              "2340       male\n",
              "          ...  \n",
              "4689     female\n",
              "1200     female\n",
              "10247    female\n",
              "6826     female\n",
              "3424       male\n",
              "Name: gender, Length: 3150, dtype: object"
            ]
          },
          "metadata": {
            "tags": []
          },
          "execution_count": 43
        }
      ]
    },
    {
      "cell_type": "markdown",
      "metadata": {
        "colab_type": "text",
        "id": "TWPvOi-p95HV"
      },
      "source": [
        "# Machine Learning Algorithms\n",
        "\n",
        "# Logistic Regression"
      ]
    },
    {
      "cell_type": "code",
      "metadata": {
        "colab_type": "code",
        "id": "335Ey4zc0Epq",
        "colab": {}
      },
      "source": [
        "# # Logistic Regression\n",
        "# #for c in [1, 10, 100, 500, 1000]:\n",
        "# for c in [0.0001, 0.001, 0.01, 0.1, 1]:\n",
        "#     lr = LogisticRegression(random_state=2020, C=c).fit(x_train, y_train)\n",
        "#     print (\"Accuracy score for C=%s: %s\" % (c, accuracy_score(y_val, lr.predict(x_val))*100))\n",
        "\n",
        "# # Accuracy score for C=0.0001: 78.28571428571428\n",
        "# # Accuracy score for C=0.001: 82.44444444444444\n",
        "# # Accuracy score for C=0.01: 83.58730158730158\n",
        "# # Accuracy score for C=0.1: 83.52380952380952\n",
        "# # Accuracy score for C=1: 84.28571428571429"
      ],
      "execution_count": 0,
      "outputs": []
    },
    {
      "cell_type": "code",
      "metadata": {
        "colab_type": "code",
        "id": "X9L4NqMkz8g7",
        "colab": {}
      },
      "source": [
        "# clf_log = LogisticRegression(random_state=2020, C=1).fit(x_train, y_train)\n",
        "# #clf_log = LogisticRegression(random_state=2020, C=0.100, solver='liblinear', max_iter=500, tol=0.000001).fit(x_train, y_train)\n",
        "# y_pred_val = clf_log.predict(x_val)\n",
        "# print(accuracy_score(y_val, y_pred_val)*100)\n",
        "# # 78.12698412698413"
      ],
      "execution_count": 0,
      "outputs": []
    },
    {
      "cell_type": "code",
      "metadata": {
        "id": "1-xpnphDXWAe",
        "colab_type": "code",
        "colab": {}
      },
      "source": [
        "# grid = {\"C\":np.logspace(1,4,5), \"penalty\":[\"l2\"], \"tol\":np.logspace(1,4,5), \"solver\":[\"newton-cg\", \"lbfgs\", \"liblinear\", \"sag\", \"saga\"],'max_iter':[300]}\n",
        "# logreg_cv = GridSearchCV(LogisticRegression(), grid, cv=10)\n",
        "# logreg_cv.fit(x_train, y_train)\n",
        "# y_pred_val = logreg_cv.predict(x_val)"
      ],
      "execution_count": 0,
      "outputs": []
    },
    {
      "cell_type": "code",
      "metadata": {
        "id": "oCyiv68WVr-j",
        "colab_type": "code",
        "colab": {}
      },
      "source": [
        "# print(logreg_cv.best_estimator_)\n",
        "# print(logreg_cv.best_params_)\n",
        "# print(logreg_cv.best_score_)\n",
        "# LogisticRegression(C=316.22776601683796, class_weight=None, dual=False,\n",
        "#                    fit_intercept=True, intercept_scaling=1, l1_ratio=None,\n",
        "#                    max_iter=300, multi_class='auto', n_jobs=None, penalty='l2',\n",
        "#                    random_state=None, solver='newton-cg', tol=10.0, verbose=0,\n",
        "#                    warm_start=False)\n",
        "# {'C': 316.22776601683796, 'max_iter': 300, 'penalty': 'l2', 'solver': 'newton-cg', 'tol': 10.0}\n",
        "# 0.7148571428571427"
      ],
      "execution_count": 0,
      "outputs": []
    },
    {
      "cell_type": "code",
      "metadata": {
        "colab_type": "code",
        "id": "QxNT5oxz4nlA",
        "colab": {}
      },
      "source": [
        "# # Confusion Matrix\n",
        "# cm = confusion_matrix(y_val, y_pred_val).T\n",
        "# cm = cm.astype('float')/cm.sum(axis=0)\n",
        "# ax = sns.heatmap(cm, annot=True, cmap='Blues');\n",
        "# ax.set_xlabel('True Label',size=12)\n",
        "# ax.set_ylabel('Predicted Label',size=12)\n",
        "\n",
        "# # TP = 0.94, TN 0.5"
      ],
      "execution_count": 0,
      "outputs": []
    },
    {
      "cell_type": "code",
      "metadata": {
        "colab_type": "code",
        "id": "pzR9JIZ05r8k",
        "colab": {}
      },
      "source": [
        "# #clf_log.fit(train2, target)\n",
        "# y_pred = clf_log.predict(test)\n",
        "# y_pred"
      ],
      "execution_count": 0,
      "outputs": []
    },
    {
      "cell_type": "code",
      "metadata": {
        "colab_type": "code",
        "id": "u4zB3Tbu50HH",
        "colab": {}
      },
      "source": [
        "# submission = pd.DataFrame(data = {\"session_id\":test_ids, \"gender\":y_pred})\n",
        "# submission.to_csv(\"submission.csv\", index=False)\n",
        "# print(submission['gender'].value_counts())"
      ],
      "execution_count": 0,
      "outputs": []
    },
    {
      "cell_type": "markdown",
      "metadata": {
        "id": "X2Sf_LWChLWV",
        "colab_type": "text"
      },
      "source": [
        "# Random Forest"
      ]
    },
    {
      "cell_type": "code",
      "metadata": {
        "colab_type": "code",
        "id": "wNvlkjc9fRS2",
        "outputId": "9e2f3a4a-e231-4146-a7d6-36cd9682477e",
        "colab": {
          "base_uri": "https://localhost:8080/",
          "height": 187
        }
      },
      "source": [
        "# Random Forest\n",
        "rf = RandomForestClassifier(n_estimators=500, random_state = 2020, verbose=1).fit(x_train, y_train)\n",
        "#rf = RandomForestClassifier(n_estimators=200, random_state = 2020).fit(x_train, y_train)\n",
        "rf"
      ],
      "execution_count": 51,
      "outputs": [
        {
          "output_type": "stream",
          "text": [
            "[Parallel(n_jobs=1)]: Using backend SequentialBackend with 1 concurrent workers.\n",
            "[Parallel(n_jobs=1)]: Done 500 out of 500 | elapsed:  5.0min finished\n"
          ],
          "name": "stderr"
        },
        {
          "output_type": "execute_result",
          "data": {
            "text/plain": [
              "RandomForestClassifier(bootstrap=True, ccp_alpha=0.0, class_weight=None,\n",
              "                       criterion='gini', max_depth=None, max_features='auto',\n",
              "                       max_leaf_nodes=None, max_samples=None,\n",
              "                       min_impurity_decrease=0.0, min_impurity_split=None,\n",
              "                       min_samples_leaf=1, min_samples_split=2,\n",
              "                       min_weight_fraction_leaf=0.0, n_estimators=500,\n",
              "                       n_jobs=None, oob_score=False, random_state=2020,\n",
              "                       verbose=1, warm_start=False)"
            ]
          },
          "metadata": {
            "tags": []
          },
          "execution_count": 51
        }
      ]
    },
    {
      "cell_type": "code",
      "metadata": {
        "colab_type": "code",
        "id": "n90R_h_nzCV5",
        "outputId": "342b3769-1f19-4859-d152-90d65d0a5485",
        "colab": {
          "base_uri": "https://localhost:8080/",
          "height": 68
        }
      },
      "source": [
        "y_val_pred_rf = rf.predict(x_val)\n",
        "print(accuracy_score(y_val, y_val_pred_rf)*100)\n",
        "\n",
        "# 89.23809523809524"
      ],
      "execution_count": 52,
      "outputs": [
        {
          "output_type": "stream",
          "text": [
            "[Parallel(n_jobs=1)]: Using backend SequentialBackend with 1 concurrent workers.\n"
          ],
          "name": "stderr"
        },
        {
          "output_type": "stream",
          "text": [
            "87.42857142857143\n"
          ],
          "name": "stdout"
        },
        {
          "output_type": "stream",
          "text": [
            "[Parallel(n_jobs=1)]: Done 500 out of 500 | elapsed:    2.2s finished\n"
          ],
          "name": "stderr"
        }
      ]
    },
    {
      "cell_type": "code",
      "metadata": {
        "colab_type": "code",
        "id": "9vWx6cJX2z7m",
        "outputId": "f98256c2-a840-45c3-c77e-4f814370e528",
        "colab": {
          "base_uri": "https://localhost:8080/",
          "height": 299
        }
      },
      "source": [
        "# Confusion Matrix\n",
        "cm = confusion_matrix(y_val, y_val_pred_rf).T\n",
        "cm = cm.astype('float')/cm.sum(axis=0)\n",
        "ax = sns.heatmap(cm, annot=True, cmap='Blues');\n",
        "ax.set_xlabel('True Label',size=12)\n",
        "ax.set_ylabel('Predicted Label',size=12)\n",
        "\n",
        "# TP 0.97 TN 0.61"
      ],
      "execution_count": 53,
      "outputs": [
        {
          "output_type": "execute_result",
          "data": {
            "text/plain": [
              "Text(33.0, 0.5, 'Predicted Label')"
            ]
          },
          "metadata": {
            "tags": []
          },
          "execution_count": 53
        },
        {
          "output_type": "display_data",
          "data": {
            "image/png": "[encoded data removed]",
            "text/plain": [
              "<Figure size 432x288 with 2 Axes>"
            ]
          },
          "metadata": {
            "tags": [],
            "needs_background": "light"
          }
        }
      ]
    },
    {
      "cell_type": "code",
      "metadata": {
        "colab_type": "code",
        "id": "HmFB_wTZGki-",
        "outputId": "0ddb08af-17da-47f6-e8c5-ae7d9e071fb5",
        "colab": {
          "base_uri": "https://localhost:8080/",
          "height": 85
        }
      },
      "source": [
        "#rf.fit(train2, target)\n",
        "y_pred_rf = rf.predict(test)\n",
        "y_pred_rf"
      ],
      "execution_count": 54,
      "outputs": [
        {
          "output_type": "stream",
          "text": [
            "[Parallel(n_jobs=1)]: Using backend SequentialBackend with 1 concurrent workers.\n",
            "[Parallel(n_jobs=1)]: Done 500 out of 500 | elapsed:    3.1s finished\n"
          ],
          "name": "stderr"
        },
        {
          "output_type": "execute_result",
          "data": {
            "text/plain": [
              "array(['female', 'female', 'female', ..., 'female', 'male', 'female'],\n",
              "      dtype=object)"
            ]
          },
          "metadata": {
            "tags": []
          },
          "execution_count": 54
        }
      ]
    },
    {
      "cell_type": "code",
      "metadata": {
        "id": "p0IQVdaOFZKw",
        "colab_type": "code",
        "outputId": "00997684-de9d-4d8d-c217-156955a4c816",
        "colab": {
          "base_uri": "https://localhost:8080/",
          "height": 68
        }
      },
      "source": [
        "submission = pd.DataFrame(data = {\"session_id\":test_ids, \"gender\":y_pred_rf})\n",
        "submission.to_csv(\"submission.csv\", index=False)\n",
        "print(submission['gender'].value_counts())"
      ],
      "execution_count": 55,
      "outputs": [
        {
          "output_type": "stream",
          "text": [
            "female    3903\n",
            "male       597\n",
            "Name: gender, dtype: int64\n"
          ],
          "name": "stdout"
        }
      ]
    },
    {
      "cell_type": "code",
      "metadata": {
        "colab_type": "code",
        "id": "qxBGLo3A6E38",
        "outputId": "d242bdf4-c24d-41de-8218-1dfead44e30c",
        "colab": {
          "base_uri": "https://localhost:8080/",
          "height": 102
        }
      },
      "source": [
        "!pwd; ls -ltr\n",
        "files.download('submission.csv')"
      ],
      "execution_count": 57,
      "outputs": [
        {
          "output_type": "stream",
          "text": [
            "/content/drive/My Drive/Analytics Vidhya/JanataHack\n",
            "total 1627\n",
            "-rw------- 1 root root 1138290 Apr 10 08:23 train.csv\n",
            "-rw------- 1 root root  465312 Apr 10 08:23 test.csv\n",
            "-rw------- 1 root root   61824 Apr 13 03:11 submission.csv\n"
          ],
          "name": "stdout"
        }
      ]
    },
    {
      "cell_type": "code",
      "metadata": {
        "colab_type": "code",
        "id": "vxJ9sSaN6Hhs",
        "colab": {}
      },
      "source": [
        "# from sklearn.model_selection import cross_val_score\n",
        "\n",
        "# # Function to calculate mean absolute error\n",
        "# def cross_val(x_train, y_train, model):\n",
        "#     # Applying k-Fold Cross Validation\n",
        "#     accuracies = cross_val_score(estimator = model, X = x_train, y = y_train, cv = 5)\n",
        "#     return accuracies.mean()\n",
        "\n",
        "# # Takes in a model, trains the model, and evaluates the model on the validation set\n",
        "# def fit_and_evaluate(model):\n",
        "    \n",
        "#     # Train the model\n",
        "#     model.fit(x_train, y_train)\n",
        "    \n",
        "#     # Make predictions and evalute\n",
        "#     model_pred = model.predict(x_val)\n",
        "#     model_cross = cross_val(x_train, y_train, model)\n",
        "    \n",
        "#     # Return the performance metric\n",
        "#     return model_cross"
      ],
      "execution_count": 0,
      "outputs": []
    },
    {
      "cell_type": "markdown",
      "metadata": {
        "id": "4spnHst_hR9h",
        "colab_type": "text"
      },
      "source": [
        "# Cross Validation of all Classification Algorithms"
      ]
    },
    {
      "cell_type": "code",
      "metadata": {
        "colab_type": "code",
        "id": "puxPgQ1s83Ci",
        "colab": {}
      },
      "source": [
        "# # LogisticRegression\n",
        "# lg = LogisticRegression()\n",
        "# lg_cross = fit_and_evaluate(lg)\n",
        "\n",
        "# print('LogisticRegression Performance on validation set: Cross Validation Score = %0.4f' % lg_cross)\n",
        "\n",
        "# # LogisticRegression Performance on validation set: Cross Validation Score = 0.8143"
      ],
      "execution_count": 0,
      "outputs": []
    },
    {
      "cell_type": "code",
      "metadata": {
        "colab_type": "code",
        "id": "ax8wEuuM8s2a",
        "colab": {}
      },
      "source": [
        "# # Random Forest Classification\n",
        "# random = RandomForestClassifier(n_estimators = 100, criterion = 'entropy')\n",
        "# random_cross = fit_and_evaluate(random)\n",
        "\n",
        "# print('Random Forest Performance on validation set: Cross Validation Score = %0.4f' % random_cross)\n",
        "\n",
        "# #Random Forest Performance on validation set: Cross Validation Score = 0.8697"
      ],
      "execution_count": 0,
      "outputs": []
    },
    {
      "cell_type": "code",
      "metadata": {
        "colab_type": "code",
        "id": "pFbHdsf08fVE",
        "colab": {}
      },
      "source": [
        "# # Naive Bayes\n",
        "# from sklearn.naive_bayes import GaussianNB\n",
        "# naive = GaussianNB()\n",
        "# naive_cross = fit_and_evaluate(naive)\n",
        "# print('Naive Bayes Performance on validation set: Cross Validation Score = %0.4f' % naive_cross)\n",
        "# #Naive Bayes Performance on validation set: Cross Validation Score = 0.4116"
      ],
      "execution_count": 0,
      "outputs": []
    },
    {
      "cell_type": "code",
      "metadata": {
        "colab_type": "code",
        "id": "lzsiiCl88zjW",
        "colab": {}
      },
      "source": [
        "# # Gradiente Boosting Classification\n",
        "# from xgboost import XGBClassifier\n",
        "# #gb = XGBClassifier()\n",
        "# gb = XGBClassifier(objective=\"binary:logistic\", learning_rate=0.03, n_estimators=500, max_depth=1, subsample=0.4, random_state=123)\n",
        "# gb_cross = fit_and_evaluate(gb)\n",
        "\n",
        "# print('Gradiente Boosting Classification Performance on validation set: Cross Validation Score = %0.4f' % gb_cross)\n",
        "# # Gradiente Boosting Classification Performance on validation set: Cross Validation Score = 0.8627"
      ],
      "execution_count": 0,
      "outputs": []
    },
    {
      "cell_type": "code",
      "metadata": {
        "colab_type": "code",
        "id": "VEaotM6U9Wsr",
        "colab": {}
      },
      "source": [
        "# # SVM\n",
        "# from sklearn.svm import SVC\n",
        "# svm = SVC()\n",
        "# svm_cross = fit_and_evaluate(svm)\n",
        "\n",
        "# print('SVM Performance on validation set: Cross Validation Score = %0.4f' % svm_cross)\n",
        "# #SVM Performance on validation set: Cross Validation Score = "
      ],
      "execution_count": 0,
      "outputs": []
    },
    {
      "cell_type": "code",
      "metadata": {
        "colab_type": "code",
        "id": "wnUO8nFT96aT",
        "colab": {}
      },
      "source": [
        "# import statsmodels.api as sm\n",
        "# glm = sm.GLM(np.asarray(y_train), np.asarray(x_train), sm.families.Binomial())\n",
        "\n",
        "# results = glm.fit()\n",
        "\n",
        "# print(roc_auc_score(y_val, results.predict(x_val)))\n",
        "# #0.5567727867491301"
      ],
      "execution_count": 0,
      "outputs": []
    },
    {
      "cell_type": "code",
      "metadata": {
        "id": "8p_xXSJtrMQZ",
        "colab_type": "code",
        "colab": {}
      },
      "source": [
        ""
      ],
      "execution_count": 0,
      "outputs": []
    }
  ]
}