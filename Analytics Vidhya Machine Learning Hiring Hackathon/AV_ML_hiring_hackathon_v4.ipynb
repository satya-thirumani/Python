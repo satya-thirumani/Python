{
  "nbformat": 4,
  "nbformat_minor": 0,
  "metadata": {
    "colab": {
      "name": "AV_ML_hiring_hackathon_v4.ipynb",
      "version": "0.3.2",
      "provenance": [],
      "collapsed_sections": [],
      "machine_shape": "hm"
    },
    "kernelspec": {
      "name": "python3",
      "display_name": "Python 3"
    },
    "accelerator": "GPU"
  },
  "cells": [
    {
      "cell_type": "markdown",
      "metadata": {
        "id": "AnL6TLA4xpjc",
        "colab_type": "text"
      },
      "source": [
        "# AV ML Hiring Hackathon\n",
        "\n",
        "Analytics Vidhya Machine Learning Hiring Hackathon 2019\n",
        "\n",
        "Load Prediction Analysis in Python using sklearn package\n",
        "\n",
        "https://satya-python.blogspot.com/\n",
        "\n",
        "Jupyter Notebook in Google Colab"
      ]
    },
    {
      "cell_type": "code",
      "metadata": {
        "id": "WXqkWWEtuR_f",
        "colab_type": "code",
        "colab": {}
      },
      "source": [
        "# Importing required packages\n",
        "\n",
        "import numpy as np\n",
        "import pandas as pd\n",
        "import seaborn as sns\n",
        "import matplotlib.pyplot as plt\n",
        "\n",
        "import warnings\n",
        "warnings.filterwarnings('ignore')\n",
        "\n",
        "from sklearn.model_selection import train_test_split\n",
        "from sklearn.metrics import accuracy_score, f1_score, roc_auc_score,confusion_matrix\n",
        "from sklearn.linear_model import LogisticRegression\n",
        "from sklearn.ensemble import RandomForestClassifier\n",
        "from sklearn.preprocessing import StandardScaler,MinMaxScaler,PolynomialFeatures\n",
        "from sklearn.decomposition import PCA"
      ],
      "execution_count": 0,
      "outputs": []
    },
    {
      "cell_type": "markdown",
      "metadata": {
        "id": "T7Yg_foy7L5s",
        "colab_type": "text"
      },
      "source": [
        "# Loading Data"
      ]
    },
    {
      "cell_type": "code",
      "metadata": {
        "id": "fGWDXuM2up6n",
        "colab_type": "code",
        "outputId": "aa264698-a378-4df9-bd6a-3ab1531187c3",
        "colab": {
          "base_uri": "https://localhost:8080/",
          "height": 51
        }
      },
      "source": [
        "# For Google Colaboratory and Google Drive\n",
        "from google.colab import files,drive\n",
        "drive.mount('/content/drive')\n",
        "%cd /content/drive/My\\ Drive/Analytics\\ Vidhya/ml-hiring-hackathon"
      ],
      "execution_count": 4,
      "outputs": [
        {
          "output_type": "stream",
          "text": [
            "Drive already mounted at /content/drive; to attempt to forcibly remount, call drive.mount(\"/content/drive\", force_remount=True).\n",
            "/content/drive/My Drive/Analytics Vidhya/ml-hiring-hackathon\n"
          ],
          "name": "stdout"
        }
      ]
    },
    {
      "cell_type": "code",
      "metadata": {
        "id": "8hApXYn6uq36",
        "colab_type": "code",
        "colab": {}
      },
      "source": [
        "train = pd.read_csv(\"train.csv\")\n",
        "test = pd.read_csv(\"test.csv\")\n",
        "test_loan_ids = test[\"loan_id\"]"
      ],
      "execution_count": 0,
      "outputs": []
    },
    {
      "cell_type": "markdown",
      "metadata": {
        "id": "psJRySle4z72",
        "colab_type": "text"
      },
      "source": [
        "# EDA - Exploratory Data Analysis"
      ]
    },
    {
      "cell_type": "code",
      "metadata": {
        "id": "fKSs6cp08LUT",
        "colab_type": "code",
        "outputId": "1d3773f7-41da-4819-fb3e-618302e5c17c",
        "colab": {
          "base_uri": "https://localhost:8080/",
          "height": 85
        }
      },
      "source": [
        "# check number of features and data points in train and test\n",
        "print(\"Number of data points in train: %d\" % train.shape[0])\n",
        "print(\"Number of features in train: %d\" % train.shape[1])\n",
        "\n",
        "print(\"Number of data points in test: %d\" % test.shape[0])\n",
        "print(\"Number of features in test: %d\" % test.shape[1])"
      ],
      "execution_count": 6,
      "outputs": [
        {
          "output_type": "stream",
          "text": [
            "Number of data points in train: 116058\n",
            "Number of features in train: 29\n",
            "Number of data points in test: 35866\n",
            "Number of features in test: 28\n"
          ],
          "name": "stdout"
        }
      ]
    },
    {
      "cell_type": "code",
      "metadata": {
        "id": "LibJs4GcwGKN",
        "colab_type": "code",
        "outputId": "e2f33ad3-0a75-4151-e733-512b01649823",
        "colab": {
          "base_uri": "https://localhost:8080/",
          "height": 595
        }
      },
      "source": [
        "train.info()"
      ],
      "execution_count": 7,
      "outputs": [
        {
          "output_type": "stream",
          "text": [
            "<class 'pandas.core.frame.DataFrame'>\n",
            "RangeIndex: 116058 entries, 0 to 116057\n",
            "Data columns (total 29 columns):\n",
            "loan_id                     116058 non-null int64\n",
            "source                      116058 non-null object\n",
            "financial_institution       116058 non-null object\n",
            "interest_rate               116058 non-null float64\n",
            "unpaid_principal_bal        116058 non-null int64\n",
            "loan_term                   116058 non-null int64\n",
            "origination_date            116058 non-null object\n",
            "first_payment_date          116058 non-null object\n",
            "loan_to_value               116058 non-null int64\n",
            "number_of_borrowers         116058 non-null float64\n",
            "debt_to_income_ratio        116058 non-null float64\n",
            "borrower_credit_score       116058 non-null float64\n",
            "loan_purpose                116058 non-null object\n",
            "insurance_percent           116058 non-null float64\n",
            "co-borrower_credit_score    116058 non-null float64\n",
            "insurance_type              116058 non-null float64\n",
            "m1                          116058 non-null int64\n",
            "m2                          116058 non-null int64\n",
            "m3                          116058 non-null int64\n",
            "m4                          116058 non-null int64\n",
            "m5                          116058 non-null int64\n",
            "m6                          116058 non-null int64\n",
            "m7                          116058 non-null int64\n",
            "m8                          116058 non-null int64\n",
            "m9                          116058 non-null int64\n",
            "m10                         116058 non-null int64\n",
            "m11                         116058 non-null int64\n",
            "m12                         116058 non-null int64\n",
            "m13                         116058 non-null int64\n",
            "dtypes: float64(7), int64(17), object(5)\n",
            "memory usage: 25.7+ MB\n"
          ],
          "name": "stdout"
        }
      ]
    },
    {
      "cell_type": "code",
      "metadata": {
        "id": "DZdPyRl9um-M",
        "colab_type": "code",
        "outputId": "d0893773-3fce-4e89-8ffb-9c8b29eda3bf",
        "colab": {
          "base_uri": "https://localhost:8080/",
          "height": 258
        }
      },
      "source": [
        "train.head()"
      ],
      "execution_count": 8,
      "outputs": [
        {
          "output_type": "execute_result",
          "data": {
            "text/html": [
              "<div>\n",
              "<style scoped>\n",
              "    .dataframe tbody tr th:only-of-type {\n",
              "        vertical-align: middle;\n",
              "    }\n",
              "\n",
              "    .dataframe tbody tr th {\n",
              "        vertical-align: top;\n",
              "    }\n",
              "\n",
              "    .dataframe thead th {\n",
              "        text-align: right;\n",
              "    }\n",
              "</style>\n",
              "<table border=\"1\" class=\"dataframe\">\n",
              "  <thead>\n",
              "    <tr style=\"text-align: right;\">\n",
              "      <th></th>\n",
              "      <th>loan_id</th>\n",
              "      <th>source</th>\n",
              "      <th>financial_institution</th>\n",
              "      <th>interest_rate</th>\n",
              "      <th>unpaid_principal_bal</th>\n",
              "      <th>loan_term</th>\n",
              "      <th>origination_date</th>\n",
              "      <th>first_payment_date</th>\n",
              "      <th>loan_to_value</th>\n",
              "      <th>number_of_borrowers</th>\n",
              "      <th>debt_to_income_ratio</th>\n",
              "      <th>borrower_credit_score</th>\n",
              "      <th>loan_purpose</th>\n",
              "      <th>insurance_percent</th>\n",
              "      <th>co-borrower_credit_score</th>\n",
              "      <th>insurance_type</th>\n",
              "      <th>m1</th>\n",
              "      <th>m2</th>\n",
              "      <th>m3</th>\n",
              "      <th>m4</th>\n",
              "      <th>m5</th>\n",
              "      <th>m6</th>\n",
              "      <th>m7</th>\n",
              "      <th>m8</th>\n",
              "      <th>m9</th>\n",
              "      <th>m10</th>\n",
              "      <th>m11</th>\n",
              "      <th>m12</th>\n",
              "      <th>m13</th>\n",
              "    </tr>\n",
              "  </thead>\n",
              "  <tbody>\n",
              "    <tr>\n",
              "      <th>0</th>\n",
              "      <td>268055008619</td>\n",
              "      <td>Z</td>\n",
              "      <td>Turner, Baldwin and Rhodes</td>\n",
              "      <td>4.250</td>\n",
              "      <td>214000</td>\n",
              "      <td>360</td>\n",
              "      <td>2012-03-01</td>\n",
              "      <td>05/2012</td>\n",
              "      <td>95</td>\n",
              "      <td>1.0</td>\n",
              "      <td>22.0</td>\n",
              "      <td>694.0</td>\n",
              "      <td>C86</td>\n",
              "      <td>30.0</td>\n",
              "      <td>0.0</td>\n",
              "      <td>0.0</td>\n",
              "      <td>0</td>\n",
              "      <td>0</td>\n",
              "      <td>0</td>\n",
              "      <td>0</td>\n",
              "      <td>0</td>\n",
              "      <td>0</td>\n",
              "      <td>1</td>\n",
              "      <td>0</td>\n",
              "      <td>0</td>\n",
              "      <td>0</td>\n",
              "      <td>0</td>\n",
              "      <td>0</td>\n",
              "      <td>1</td>\n",
              "    </tr>\n",
              "    <tr>\n",
              "      <th>1</th>\n",
              "      <td>672831657627</td>\n",
              "      <td>Y</td>\n",
              "      <td>Swanson, Newton and Miller</td>\n",
              "      <td>4.875</td>\n",
              "      <td>144000</td>\n",
              "      <td>360</td>\n",
              "      <td>2012-01-01</td>\n",
              "      <td>03/2012</td>\n",
              "      <td>72</td>\n",
              "      <td>1.0</td>\n",
              "      <td>44.0</td>\n",
              "      <td>697.0</td>\n",
              "      <td>B12</td>\n",
              "      <td>0.0</td>\n",
              "      <td>0.0</td>\n",
              "      <td>0.0</td>\n",
              "      <td>0</td>\n",
              "      <td>0</td>\n",
              "      <td>0</td>\n",
              "      <td>0</td>\n",
              "      <td>0</td>\n",
              "      <td>0</td>\n",
              "      <td>0</td>\n",
              "      <td>0</td>\n",
              "      <td>0</td>\n",
              "      <td>0</td>\n",
              "      <td>1</td>\n",
              "      <td>0</td>\n",
              "      <td>1</td>\n",
              "    </tr>\n",
              "    <tr>\n",
              "      <th>2</th>\n",
              "      <td>742515242108</td>\n",
              "      <td>Z</td>\n",
              "      <td>Thornton-Davis</td>\n",
              "      <td>3.250</td>\n",
              "      <td>366000</td>\n",
              "      <td>180</td>\n",
              "      <td>2012-01-01</td>\n",
              "      <td>03/2012</td>\n",
              "      <td>49</td>\n",
              "      <td>1.0</td>\n",
              "      <td>33.0</td>\n",
              "      <td>780.0</td>\n",
              "      <td>B12</td>\n",
              "      <td>0.0</td>\n",
              "      <td>0.0</td>\n",
              "      <td>0.0</td>\n",
              "      <td>0</td>\n",
              "      <td>0</td>\n",
              "      <td>0</td>\n",
              "      <td>0</td>\n",
              "      <td>0</td>\n",
              "      <td>0</td>\n",
              "      <td>0</td>\n",
              "      <td>0</td>\n",
              "      <td>0</td>\n",
              "      <td>0</td>\n",
              "      <td>0</td>\n",
              "      <td>0</td>\n",
              "      <td>1</td>\n",
              "    </tr>\n",
              "    <tr>\n",
              "      <th>3</th>\n",
              "      <td>601385667462</td>\n",
              "      <td>X</td>\n",
              "      <td>OTHER</td>\n",
              "      <td>4.750</td>\n",
              "      <td>135000</td>\n",
              "      <td>360</td>\n",
              "      <td>2012-02-01</td>\n",
              "      <td>04/2012</td>\n",
              "      <td>46</td>\n",
              "      <td>2.0</td>\n",
              "      <td>44.0</td>\n",
              "      <td>633.0</td>\n",
              "      <td>B12</td>\n",
              "      <td>0.0</td>\n",
              "      <td>638.0</td>\n",
              "      <td>0.0</td>\n",
              "      <td>0</td>\n",
              "      <td>0</td>\n",
              "      <td>0</td>\n",
              "      <td>0</td>\n",
              "      <td>0</td>\n",
              "      <td>0</td>\n",
              "      <td>0</td>\n",
              "      <td>0</td>\n",
              "      <td>1</td>\n",
              "      <td>1</td>\n",
              "      <td>1</td>\n",
              "      <td>1</td>\n",
              "      <td>1</td>\n",
              "    </tr>\n",
              "    <tr>\n",
              "      <th>4</th>\n",
              "      <td>273870029961</td>\n",
              "      <td>X</td>\n",
              "      <td>OTHER</td>\n",
              "      <td>4.750</td>\n",
              "      <td>124000</td>\n",
              "      <td>360</td>\n",
              "      <td>2012-02-01</td>\n",
              "      <td>04/2012</td>\n",
              "      <td>80</td>\n",
              "      <td>1.0</td>\n",
              "      <td>43.0</td>\n",
              "      <td>681.0</td>\n",
              "      <td>C86</td>\n",
              "      <td>0.0</td>\n",
              "      <td>0.0</td>\n",
              "      <td>0.0</td>\n",
              "      <td>0</td>\n",
              "      <td>1</td>\n",
              "      <td>2</td>\n",
              "      <td>3</td>\n",
              "      <td>4</td>\n",
              "      <td>5</td>\n",
              "      <td>6</td>\n",
              "      <td>7</td>\n",
              "      <td>8</td>\n",
              "      <td>9</td>\n",
              "      <td>10</td>\n",
              "      <td>11</td>\n",
              "      <td>1</td>\n",
              "    </tr>\n",
              "  </tbody>\n",
              "</table>\n",
              "</div>"
            ],
            "text/plain": [
              "        loan_id source       financial_institution  ...  m11  m12  m13\n",
              "0  268055008619      Z  Turner, Baldwin and Rhodes  ...    0    0    1\n",
              "1  672831657627      Y  Swanson, Newton and Miller  ...    1    0    1\n",
              "2  742515242108      Z              Thornton-Davis  ...    0    0    1\n",
              "3  601385667462      X                       OTHER  ...    1    1    1\n",
              "4  273870029961      X                       OTHER  ...   10   11    1\n",
              "\n",
              "[5 rows x 29 columns]"
            ]
          },
          "metadata": {
            "tags": []
          },
          "execution_count": 8
        }
      ]
    },
    {
      "cell_type": "code",
      "metadata": {
        "id": "E4MuooizxHsX",
        "colab_type": "code",
        "outputId": "ef996d9f-df36-451c-b7e9-da44f22d9bf5",
        "colab": {
          "base_uri": "https://localhost:8080/",
          "height": 241
        }
      },
      "source": [
        "test.head()"
      ],
      "execution_count": 9,
      "outputs": [
        {
          "output_type": "execute_result",
          "data": {
            "text/html": [
              "<div>\n",
              "<style scoped>\n",
              "    .dataframe tbody tr th:only-of-type {\n",
              "        vertical-align: middle;\n",
              "    }\n",
              "\n",
              "    .dataframe tbody tr th {\n",
              "        vertical-align: top;\n",
              "    }\n",
              "\n",
              "    .dataframe thead th {\n",
              "        text-align: right;\n",
              "    }\n",
              "</style>\n",
              "<table border=\"1\" class=\"dataframe\">\n",
              "  <thead>\n",
              "    <tr style=\"text-align: right;\">\n",
              "      <th></th>\n",
              "      <th>loan_id</th>\n",
              "      <th>source</th>\n",
              "      <th>financial_institution</th>\n",
              "      <th>interest_rate</th>\n",
              "      <th>unpaid_principal_bal</th>\n",
              "      <th>loan_term</th>\n",
              "      <th>origination_date</th>\n",
              "      <th>first_payment_date</th>\n",
              "      <th>loan_to_value</th>\n",
              "      <th>number_of_borrowers</th>\n",
              "      <th>debt_to_income_ratio</th>\n",
              "      <th>borrower_credit_score</th>\n",
              "      <th>loan_purpose</th>\n",
              "      <th>insurance_percent</th>\n",
              "      <th>co-borrower_credit_score</th>\n",
              "      <th>insurance_type</th>\n",
              "      <th>m1</th>\n",
              "      <th>m2</th>\n",
              "      <th>m3</th>\n",
              "      <th>m4</th>\n",
              "      <th>m5</th>\n",
              "      <th>m6</th>\n",
              "      <th>m7</th>\n",
              "      <th>m8</th>\n",
              "      <th>m9</th>\n",
              "      <th>m10</th>\n",
              "      <th>m11</th>\n",
              "      <th>m12</th>\n",
              "    </tr>\n",
              "  </thead>\n",
              "  <tbody>\n",
              "    <tr>\n",
              "      <th>0</th>\n",
              "      <td>1</td>\n",
              "      <td>Y</td>\n",
              "      <td>Browning-Hart</td>\n",
              "      <td>3.875</td>\n",
              "      <td>417000</td>\n",
              "      <td>360</td>\n",
              "      <td>01/02/12</td>\n",
              "      <td>Apr-12</td>\n",
              "      <td>75</td>\n",
              "      <td>1</td>\n",
              "      <td>20</td>\n",
              "      <td>790</td>\n",
              "      <td>A23</td>\n",
              "      <td>0</td>\n",
              "      <td>0</td>\n",
              "      <td>0</td>\n",
              "      <td>0</td>\n",
              "      <td>0</td>\n",
              "      <td>0</td>\n",
              "      <td>0</td>\n",
              "      <td>0</td>\n",
              "      <td>0</td>\n",
              "      <td>0</td>\n",
              "      <td>0</td>\n",
              "      <td>0</td>\n",
              "      <td>0</td>\n",
              "      <td>0</td>\n",
              "      <td>0</td>\n",
              "    </tr>\n",
              "    <tr>\n",
              "      <th>1</th>\n",
              "      <td>2</td>\n",
              "      <td>X</td>\n",
              "      <td>OTHER</td>\n",
              "      <td>4.500</td>\n",
              "      <td>113000</td>\n",
              "      <td>360</td>\n",
              "      <td>01/02/12</td>\n",
              "      <td>Apr-12</td>\n",
              "      <td>80</td>\n",
              "      <td>2</td>\n",
              "      <td>33</td>\n",
              "      <td>793</td>\n",
              "      <td>C86</td>\n",
              "      <td>0</td>\n",
              "      <td>784</td>\n",
              "      <td>0</td>\n",
              "      <td>0</td>\n",
              "      <td>0</td>\n",
              "      <td>0</td>\n",
              "      <td>0</td>\n",
              "      <td>0</td>\n",
              "      <td>0</td>\n",
              "      <td>0</td>\n",
              "      <td>0</td>\n",
              "      <td>0</td>\n",
              "      <td>0</td>\n",
              "      <td>0</td>\n",
              "      <td>0</td>\n",
              "    </tr>\n",
              "    <tr>\n",
              "      <th>2</th>\n",
              "      <td>3</td>\n",
              "      <td>Y</td>\n",
              "      <td>OTHER</td>\n",
              "      <td>4.500</td>\n",
              "      <td>72000</td>\n",
              "      <td>360</td>\n",
              "      <td>01/01/12</td>\n",
              "      <td>Mar-12</td>\n",
              "      <td>75</td>\n",
              "      <td>1</td>\n",
              "      <td>34</td>\n",
              "      <td>710</td>\n",
              "      <td>C86</td>\n",
              "      <td>0</td>\n",
              "      <td>0</td>\n",
              "      <td>0</td>\n",
              "      <td>0</td>\n",
              "      <td>0</td>\n",
              "      <td>0</td>\n",
              "      <td>0</td>\n",
              "      <td>0</td>\n",
              "      <td>0</td>\n",
              "      <td>0</td>\n",
              "      <td>0</td>\n",
              "      <td>0</td>\n",
              "      <td>0</td>\n",
              "      <td>0</td>\n",
              "      <td>0</td>\n",
              "    </tr>\n",
              "    <tr>\n",
              "      <th>3</th>\n",
              "      <td>4</td>\n",
              "      <td>X</td>\n",
              "      <td>Miller, Mcclure and Allen</td>\n",
              "      <td>4.125</td>\n",
              "      <td>123000</td>\n",
              "      <td>180</td>\n",
              "      <td>01/02/12</td>\n",
              "      <td>Apr-12</td>\n",
              "      <td>41</td>\n",
              "      <td>2</td>\n",
              "      <td>24</td>\n",
              "      <td>798</td>\n",
              "      <td>A23</td>\n",
              "      <td>0</td>\n",
              "      <td>813</td>\n",
              "      <td>0</td>\n",
              "      <td>0</td>\n",
              "      <td>0</td>\n",
              "      <td>0</td>\n",
              "      <td>0</td>\n",
              "      <td>0</td>\n",
              "      <td>0</td>\n",
              "      <td>0</td>\n",
              "      <td>0</td>\n",
              "      <td>0</td>\n",
              "      <td>0</td>\n",
              "      <td>0</td>\n",
              "      <td>0</td>\n",
              "    </tr>\n",
              "    <tr>\n",
              "      <th>4</th>\n",
              "      <td>5</td>\n",
              "      <td>X</td>\n",
              "      <td>Browning-Hart</td>\n",
              "      <td>3.250</td>\n",
              "      <td>166000</td>\n",
              "      <td>180</td>\n",
              "      <td>01/02/12</td>\n",
              "      <td>Apr-12</td>\n",
              "      <td>53</td>\n",
              "      <td>2</td>\n",
              "      <td>12</td>\n",
              "      <td>767</td>\n",
              "      <td>A23</td>\n",
              "      <td>0</td>\n",
              "      <td>768</td>\n",
              "      <td>0</td>\n",
              "      <td>0</td>\n",
              "      <td>0</td>\n",
              "      <td>0</td>\n",
              "      <td>0</td>\n",
              "      <td>0</td>\n",
              "      <td>0</td>\n",
              "      <td>0</td>\n",
              "      <td>0</td>\n",
              "      <td>0</td>\n",
              "      <td>0</td>\n",
              "      <td>0</td>\n",
              "      <td>0</td>\n",
              "    </tr>\n",
              "  </tbody>\n",
              "</table>\n",
              "</div>"
            ],
            "text/plain": [
              "   loan_id source      financial_institution  interest_rate  ...  m9  m10 m11 m12\n",
              "0        1      Y              Browning-Hart          3.875  ...   0    0   0   0\n",
              "1        2      X                      OTHER          4.500  ...   0    0   0   0\n",
              "2        3      Y                      OTHER          4.500  ...   0    0   0   0\n",
              "3        4      X  Miller, Mcclure and Allen          4.125  ...   0    0   0   0\n",
              "4        5      X              Browning-Hart          3.250  ...   0    0   0   0\n",
              "\n",
              "[5 rows x 28 columns]"
            ]
          },
          "metadata": {
            "tags": []
          },
          "execution_count": 9
        }
      ]
    },
    {
      "cell_type": "code",
      "metadata": {
        "id": "zfQ7FX999nOq",
        "colab_type": "code",
        "colab": {}
      },
      "source": [
        "train['origination_date'] = pd.to_datetime(train['origination_date'], format='%Y-%m-%d')\n",
        "train['first_payment_date'] = pd.to_datetime(train['first_payment_date'], format='%m/%Y')\n",
        "test['origination_date'] = pd.to_datetime(test['origination_date'], format='%d/%m/%y')\n",
        "test['first_payment_date'] = pd.to_datetime(test['first_payment_date'], format='%b-%y')"
      ],
      "execution_count": 0,
      "outputs": []
    },
    {
      "cell_type": "code",
      "metadata": {
        "id": "cn911_30b6p2",
        "colab_type": "code",
        "outputId": "7e206c26-7375-48a2-d50b-af19dd90a772",
        "colab": {
          "base_uri": "https://localhost:8080/",
          "height": 258
        }
      },
      "source": [
        "train.head()"
      ],
      "execution_count": 11,
      "outputs": [
        {
          "output_type": "execute_result",
          "data": {
            "text/html": [
              "<div>\n",
              "<style scoped>\n",
              "    .dataframe tbody tr th:only-of-type {\n",
              "        vertical-align: middle;\n",
              "    }\n",
              "\n",
              "    .dataframe tbody tr th {\n",
              "        vertical-align: top;\n",
              "    }\n",
              "\n",
              "    .dataframe thead th {\n",
              "        text-align: right;\n",
              "    }\n",
              "</style>\n",
              "<table border=\"1\" class=\"dataframe\">\n",
              "  <thead>\n",
              "    <tr style=\"text-align: right;\">\n",
              "      <th></th>\n",
              "      <th>loan_id</th>\n",
              "      <th>source</th>\n",
              "      <th>financial_institution</th>\n",
              "      <th>interest_rate</th>\n",
              "      <th>unpaid_principal_bal</th>\n",
              "      <th>loan_term</th>\n",
              "      <th>origination_date</th>\n",
              "      <th>first_payment_date</th>\n",
              "      <th>loan_to_value</th>\n",
              "      <th>number_of_borrowers</th>\n",
              "      <th>debt_to_income_ratio</th>\n",
              "      <th>borrower_credit_score</th>\n",
              "      <th>loan_purpose</th>\n",
              "      <th>insurance_percent</th>\n",
              "      <th>co-borrower_credit_score</th>\n",
              "      <th>insurance_type</th>\n",
              "      <th>m1</th>\n",
              "      <th>m2</th>\n",
              "      <th>m3</th>\n",
              "      <th>m4</th>\n",
              "      <th>m5</th>\n",
              "      <th>m6</th>\n",
              "      <th>m7</th>\n",
              "      <th>m8</th>\n",
              "      <th>m9</th>\n",
              "      <th>m10</th>\n",
              "      <th>m11</th>\n",
              "      <th>m12</th>\n",
              "      <th>m13</th>\n",
              "    </tr>\n",
              "  </thead>\n",
              "  <tbody>\n",
              "    <tr>\n",
              "      <th>0</th>\n",
              "      <td>268055008619</td>\n",
              "      <td>Z</td>\n",
              "      <td>Turner, Baldwin and Rhodes</td>\n",
              "      <td>4.250</td>\n",
              "      <td>214000</td>\n",
              "      <td>360</td>\n",
              "      <td>2012-03-01</td>\n",
              "      <td>2012-05-01</td>\n",
              "      <td>95</td>\n",
              "      <td>1.0</td>\n",
              "      <td>22.0</td>\n",
              "      <td>694.0</td>\n",
              "      <td>C86</td>\n",
              "      <td>30.0</td>\n",
              "      <td>0.0</td>\n",
              "      <td>0.0</td>\n",
              "      <td>0</td>\n",
              "      <td>0</td>\n",
              "      <td>0</td>\n",
              "      <td>0</td>\n",
              "      <td>0</td>\n",
              "      <td>0</td>\n",
              "      <td>1</td>\n",
              "      <td>0</td>\n",
              "      <td>0</td>\n",
              "      <td>0</td>\n",
              "      <td>0</td>\n",
              "      <td>0</td>\n",
              "      <td>1</td>\n",
              "    </tr>\n",
              "    <tr>\n",
              "      <th>1</th>\n",
              "      <td>672831657627</td>\n",
              "      <td>Y</td>\n",
              "      <td>Swanson, Newton and Miller</td>\n",
              "      <td>4.875</td>\n",
              "      <td>144000</td>\n",
              "      <td>360</td>\n",
              "      <td>2012-01-01</td>\n",
              "      <td>2012-03-01</td>\n",
              "      <td>72</td>\n",
              "      <td>1.0</td>\n",
              "      <td>44.0</td>\n",
              "      <td>697.0</td>\n",
              "      <td>B12</td>\n",
              "      <td>0.0</td>\n",
              "      <td>0.0</td>\n",
              "      <td>0.0</td>\n",
              "      <td>0</td>\n",
              "      <td>0</td>\n",
              "      <td>0</td>\n",
              "      <td>0</td>\n",
              "      <td>0</td>\n",
              "      <td>0</td>\n",
              "      <td>0</td>\n",
              "      <td>0</td>\n",
              "      <td>0</td>\n",
              "      <td>0</td>\n",
              "      <td>1</td>\n",
              "      <td>0</td>\n",
              "      <td>1</td>\n",
              "    </tr>\n",
              "    <tr>\n",
              "      <th>2</th>\n",
              "      <td>742515242108</td>\n",
              "      <td>Z</td>\n",
              "      <td>Thornton-Davis</td>\n",
              "      <td>3.250</td>\n",
              "      <td>366000</td>\n",
              "      <td>180</td>\n",
              "      <td>2012-01-01</td>\n",
              "      <td>2012-03-01</td>\n",
              "      <td>49</td>\n",
              "      <td>1.0</td>\n",
              "      <td>33.0</td>\n",
              "      <td>780.0</td>\n",
              "      <td>B12</td>\n",
              "      <td>0.0</td>\n",
              "      <td>0.0</td>\n",
              "      <td>0.0</td>\n",
              "      <td>0</td>\n",
              "      <td>0</td>\n",
              "      <td>0</td>\n",
              "      <td>0</td>\n",
              "      <td>0</td>\n",
              "      <td>0</td>\n",
              "      <td>0</td>\n",
              "      <td>0</td>\n",
              "      <td>0</td>\n",
              "      <td>0</td>\n",
              "      <td>0</td>\n",
              "      <td>0</td>\n",
              "      <td>1</td>\n",
              "    </tr>\n",
              "    <tr>\n",
              "      <th>3</th>\n",
              "      <td>601385667462</td>\n",
              "      <td>X</td>\n",
              "      <td>OTHER</td>\n",
              "      <td>4.750</td>\n",
              "      <td>135000</td>\n",
              "      <td>360</td>\n",
              "      <td>2012-02-01</td>\n",
              "      <td>2012-04-01</td>\n",
              "      <td>46</td>\n",
              "      <td>2.0</td>\n",
              "      <td>44.0</td>\n",
              "      <td>633.0</td>\n",
              "      <td>B12</td>\n",
              "      <td>0.0</td>\n",
              "      <td>638.0</td>\n",
              "      <td>0.0</td>\n",
              "      <td>0</td>\n",
              "      <td>0</td>\n",
              "      <td>0</td>\n",
              "      <td>0</td>\n",
              "      <td>0</td>\n",
              "      <td>0</td>\n",
              "      <td>0</td>\n",
              "      <td>0</td>\n",
              "      <td>1</td>\n",
              "      <td>1</td>\n",
              "      <td>1</td>\n",
              "      <td>1</td>\n",
              "      <td>1</td>\n",
              "    </tr>\n",
              "    <tr>\n",
              "      <th>4</th>\n",
              "      <td>273870029961</td>\n",
              "      <td>X</td>\n",
              "      <td>OTHER</td>\n",
              "      <td>4.750</td>\n",
              "      <td>124000</td>\n",
              "      <td>360</td>\n",
              "      <td>2012-02-01</td>\n",
              "      <td>2012-04-01</td>\n",
              "      <td>80</td>\n",
              "      <td>1.0</td>\n",
              "      <td>43.0</td>\n",
              "      <td>681.0</td>\n",
              "      <td>C86</td>\n",
              "      <td>0.0</td>\n",
              "      <td>0.0</td>\n",
              "      <td>0.0</td>\n",
              "      <td>0</td>\n",
              "      <td>1</td>\n",
              "      <td>2</td>\n",
              "      <td>3</td>\n",
              "      <td>4</td>\n",
              "      <td>5</td>\n",
              "      <td>6</td>\n",
              "      <td>7</td>\n",
              "      <td>8</td>\n",
              "      <td>9</td>\n",
              "      <td>10</td>\n",
              "      <td>11</td>\n",
              "      <td>1</td>\n",
              "    </tr>\n",
              "  </tbody>\n",
              "</table>\n",
              "</div>"
            ],
            "text/plain": [
              "        loan_id source       financial_institution  ...  m11  m12  m13\n",
              "0  268055008619      Z  Turner, Baldwin and Rhodes  ...    0    0    1\n",
              "1  672831657627      Y  Swanson, Newton and Miller  ...    1    0    1\n",
              "2  742515242108      Z              Thornton-Davis  ...    0    0    1\n",
              "3  601385667462      X                       OTHER  ...    1    1    1\n",
              "4  273870029961      X                       OTHER  ...   10   11    1\n",
              "\n",
              "[5 rows x 29 columns]"
            ]
          },
          "metadata": {
            "tags": []
          },
          "execution_count": 11
        }
      ]
    },
    {
      "cell_type": "code",
      "metadata": {
        "id": "5lqSW-rTa4T0",
        "colab_type": "code",
        "outputId": "89fbf984-134a-4874-fd09-e77dd459759b",
        "colab": {
          "base_uri": "https://localhost:8080/",
          "height": 241
        }
      },
      "source": [
        "test.head()"
      ],
      "execution_count": 12,
      "outputs": [
        {
          "output_type": "execute_result",
          "data": {
            "text/html": [
              "<div>\n",
              "<style scoped>\n",
              "    .dataframe tbody tr th:only-of-type {\n",
              "        vertical-align: middle;\n",
              "    }\n",
              "\n",
              "    .dataframe tbody tr th {\n",
              "        vertical-align: top;\n",
              "    }\n",
              "\n",
              "    .dataframe thead th {\n",
              "        text-align: right;\n",
              "    }\n",
              "</style>\n",
              "<table border=\"1\" class=\"dataframe\">\n",
              "  <thead>\n",
              "    <tr style=\"text-align: right;\">\n",
              "      <th></th>\n",
              "      <th>loan_id</th>\n",
              "      <th>source</th>\n",
              "      <th>financial_institution</th>\n",
              "      <th>interest_rate</th>\n",
              "      <th>unpaid_principal_bal</th>\n",
              "      <th>loan_term</th>\n",
              "      <th>origination_date</th>\n",
              "      <th>first_payment_date</th>\n",
              "      <th>loan_to_value</th>\n",
              "      <th>number_of_borrowers</th>\n",
              "      <th>debt_to_income_ratio</th>\n",
              "      <th>borrower_credit_score</th>\n",
              "      <th>loan_purpose</th>\n",
              "      <th>insurance_percent</th>\n",
              "      <th>co-borrower_credit_score</th>\n",
              "      <th>insurance_type</th>\n",
              "      <th>m1</th>\n",
              "      <th>m2</th>\n",
              "      <th>m3</th>\n",
              "      <th>m4</th>\n",
              "      <th>m5</th>\n",
              "      <th>m6</th>\n",
              "      <th>m7</th>\n",
              "      <th>m8</th>\n",
              "      <th>m9</th>\n",
              "      <th>m10</th>\n",
              "      <th>m11</th>\n",
              "      <th>m12</th>\n",
              "    </tr>\n",
              "  </thead>\n",
              "  <tbody>\n",
              "    <tr>\n",
              "      <th>0</th>\n",
              "      <td>1</td>\n",
              "      <td>Y</td>\n",
              "      <td>Browning-Hart</td>\n",
              "      <td>3.875</td>\n",
              "      <td>417000</td>\n",
              "      <td>360</td>\n",
              "      <td>2012-02-01</td>\n",
              "      <td>2012-04-01</td>\n",
              "      <td>75</td>\n",
              "      <td>1</td>\n",
              "      <td>20</td>\n",
              "      <td>790</td>\n",
              "      <td>A23</td>\n",
              "      <td>0</td>\n",
              "      <td>0</td>\n",
              "      <td>0</td>\n",
              "      <td>0</td>\n",
              "      <td>0</td>\n",
              "      <td>0</td>\n",
              "      <td>0</td>\n",
              "      <td>0</td>\n",
              "      <td>0</td>\n",
              "      <td>0</td>\n",
              "      <td>0</td>\n",
              "      <td>0</td>\n",
              "      <td>0</td>\n",
              "      <td>0</td>\n",
              "      <td>0</td>\n",
              "    </tr>\n",
              "    <tr>\n",
              "      <th>1</th>\n",
              "      <td>2</td>\n",
              "      <td>X</td>\n",
              "      <td>OTHER</td>\n",
              "      <td>4.500</td>\n",
              "      <td>113000</td>\n",
              "      <td>360</td>\n",
              "      <td>2012-02-01</td>\n",
              "      <td>2012-04-01</td>\n",
              "      <td>80</td>\n",
              "      <td>2</td>\n",
              "      <td>33</td>\n",
              "      <td>793</td>\n",
              "      <td>C86</td>\n",
              "      <td>0</td>\n",
              "      <td>784</td>\n",
              "      <td>0</td>\n",
              "      <td>0</td>\n",
              "      <td>0</td>\n",
              "      <td>0</td>\n",
              "      <td>0</td>\n",
              "      <td>0</td>\n",
              "      <td>0</td>\n",
              "      <td>0</td>\n",
              "      <td>0</td>\n",
              "      <td>0</td>\n",
              "      <td>0</td>\n",
              "      <td>0</td>\n",
              "      <td>0</td>\n",
              "    </tr>\n",
              "    <tr>\n",
              "      <th>2</th>\n",
              "      <td>3</td>\n",
              "      <td>Y</td>\n",
              "      <td>OTHER</td>\n",
              "      <td>4.500</td>\n",
              "      <td>72000</td>\n",
              "      <td>360</td>\n",
              "      <td>2012-01-01</td>\n",
              "      <td>2012-03-01</td>\n",
              "      <td>75</td>\n",
              "      <td>1</td>\n",
              "      <td>34</td>\n",
              "      <td>710</td>\n",
              "      <td>C86</td>\n",
              "      <td>0</td>\n",
              "      <td>0</td>\n",
              "      <td>0</td>\n",
              "      <td>0</td>\n",
              "      <td>0</td>\n",
              "      <td>0</td>\n",
              "      <td>0</td>\n",
              "      <td>0</td>\n",
              "      <td>0</td>\n",
              "      <td>0</td>\n",
              "      <td>0</td>\n",
              "      <td>0</td>\n",
              "      <td>0</td>\n",
              "      <td>0</td>\n",
              "      <td>0</td>\n",
              "    </tr>\n",
              "    <tr>\n",
              "      <th>3</th>\n",
              "      <td>4</td>\n",
              "      <td>X</td>\n",
              "      <td>Miller, Mcclure and Allen</td>\n",
              "      <td>4.125</td>\n",
              "      <td>123000</td>\n",
              "      <td>180</td>\n",
              "      <td>2012-02-01</td>\n",
              "      <td>2012-04-01</td>\n",
              "      <td>41</td>\n",
              "      <td>2</td>\n",
              "      <td>24</td>\n",
              "      <td>798</td>\n",
              "      <td>A23</td>\n",
              "      <td>0</td>\n",
              "      <td>813</td>\n",
              "      <td>0</td>\n",
              "      <td>0</td>\n",
              "      <td>0</td>\n",
              "      <td>0</td>\n",
              "      <td>0</td>\n",
              "      <td>0</td>\n",
              "      <td>0</td>\n",
              "      <td>0</td>\n",
              "      <td>0</td>\n",
              "      <td>0</td>\n",
              "      <td>0</td>\n",
              "      <td>0</td>\n",
              "      <td>0</td>\n",
              "    </tr>\n",
              "    <tr>\n",
              "      <th>4</th>\n",
              "      <td>5</td>\n",
              "      <td>X</td>\n",
              "      <td>Browning-Hart</td>\n",
              "      <td>3.250</td>\n",
              "      <td>166000</td>\n",
              "      <td>180</td>\n",
              "      <td>2012-02-01</td>\n",
              "      <td>2012-04-01</td>\n",
              "      <td>53</td>\n",
              "      <td>2</td>\n",
              "      <td>12</td>\n",
              "      <td>767</td>\n",
              "      <td>A23</td>\n",
              "      <td>0</td>\n",
              "      <td>768</td>\n",
              "      <td>0</td>\n",
              "      <td>0</td>\n",
              "      <td>0</td>\n",
              "      <td>0</td>\n",
              "      <td>0</td>\n",
              "      <td>0</td>\n",
              "      <td>0</td>\n",
              "      <td>0</td>\n",
              "      <td>0</td>\n",
              "      <td>0</td>\n",
              "      <td>0</td>\n",
              "      <td>0</td>\n",
              "      <td>0</td>\n",
              "    </tr>\n",
              "  </tbody>\n",
              "</table>\n",
              "</div>"
            ],
            "text/plain": [
              "   loan_id source      financial_institution  interest_rate  ...  m9  m10 m11 m12\n",
              "0        1      Y              Browning-Hart          3.875  ...   0    0   0   0\n",
              "1        2      X                      OTHER          4.500  ...   0    0   0   0\n",
              "2        3      Y                      OTHER          4.500  ...   0    0   0   0\n",
              "3        4      X  Miller, Mcclure and Allen          4.125  ...   0    0   0   0\n",
              "4        5      X              Browning-Hart          3.250  ...   0    0   0   0\n",
              "\n",
              "[5 rows x 28 columns]"
            ]
          },
          "metadata": {
            "tags": []
          },
          "execution_count": 12
        }
      ]
    },
    {
      "cell_type": "code",
      "metadata": {
        "id": "ORfYrzN3xWMs",
        "colab_type": "code",
        "outputId": "4c1253a7-ff09-442a-a482-2a835535e2db",
        "colab": {
          "base_uri": "https://localhost:8080/",
          "height": 578
        }
      },
      "source": [
        "test.info()"
      ],
      "execution_count": 13,
      "outputs": [
        {
          "output_type": "stream",
          "text": [
            "<class 'pandas.core.frame.DataFrame'>\n",
            "RangeIndex: 35866 entries, 0 to 35865\n",
            "Data columns (total 28 columns):\n",
            "loan_id                     35866 non-null int64\n",
            "source                      35866 non-null object\n",
            "financial_institution       35866 non-null object\n",
            "interest_rate               35866 non-null float64\n",
            "unpaid_principal_bal        35866 non-null int64\n",
            "loan_term                   35866 non-null int64\n",
            "origination_date            35866 non-null datetime64[ns]\n",
            "first_payment_date          35866 non-null datetime64[ns]\n",
            "loan_to_value               35866 non-null int64\n",
            "number_of_borrowers         35866 non-null int64\n",
            "debt_to_income_ratio        35866 non-null int64\n",
            "borrower_credit_score       35866 non-null int64\n",
            "loan_purpose                35866 non-null object\n",
            "insurance_percent           35866 non-null int64\n",
            "co-borrower_credit_score    35866 non-null int64\n",
            "insurance_type              35866 non-null int64\n",
            "m1                          35866 non-null int64\n",
            "m2                          35866 non-null int64\n",
            "m3                          35866 non-null int64\n",
            "m4                          35866 non-null int64\n",
            "m5                          35866 non-null int64\n",
            "m6                          35866 non-null int64\n",
            "m7                          35866 non-null int64\n",
            "m8                          35866 non-null int64\n",
            "m9                          35866 non-null int64\n",
            "m10                         35866 non-null int64\n",
            "m11                         35866 non-null int64\n",
            "m12                         35866 non-null int64\n",
            "dtypes: datetime64[ns](2), float64(1), int64(22), object(3)\n",
            "memory usage: 7.7+ MB\n"
          ],
          "name": "stdout"
        }
      ]
    },
    {
      "cell_type": "code",
      "metadata": {
        "id": "ofrC2rH2x5nP",
        "colab_type": "code",
        "outputId": "351f97f2-4b7a-426e-ac60-b01b9a0ed3c1",
        "colab": {
          "base_uri": "https://localhost:8080/",
          "height": 527
        }
      },
      "source": [
        "# Checking for NULL/missing values\n",
        "train.isnull().sum()"
      ],
      "execution_count": 14,
      "outputs": [
        {
          "output_type": "execute_result",
          "data": {
            "text/plain": [
              "loan_id                     0\n",
              "source                      0\n",
              "financial_institution       0\n",
              "interest_rate               0\n",
              "unpaid_principal_bal        0\n",
              "loan_term                   0\n",
              "origination_date            0\n",
              "first_payment_date          0\n",
              "loan_to_value               0\n",
              "number_of_borrowers         0\n",
              "debt_to_income_ratio        0\n",
              "borrower_credit_score       0\n",
              "loan_purpose                0\n",
              "insurance_percent           0\n",
              "co-borrower_credit_score    0\n",
              "insurance_type              0\n",
              "m1                          0\n",
              "m2                          0\n",
              "m3                          0\n",
              "m4                          0\n",
              "m5                          0\n",
              "m6                          0\n",
              "m7                          0\n",
              "m8                          0\n",
              "m9                          0\n",
              "m10                         0\n",
              "m11                         0\n",
              "m12                         0\n",
              "m13                         0\n",
              "dtype: int64"
            ]
          },
          "metadata": {
            "tags": []
          },
          "execution_count": 14
        }
      ]
    },
    {
      "cell_type": "code",
      "metadata": {
        "id": "6wcHb3vmy6GH",
        "colab_type": "code",
        "outputId": "9e04df06-c31b-4e9e-acb4-7da229f6724f",
        "colab": {
          "base_uri": "https://localhost:8080/",
          "height": 510
        }
      },
      "source": [
        "# Checking for NULL/missing values\n",
        "test.isnull().sum()"
      ],
      "execution_count": 15,
      "outputs": [
        {
          "output_type": "execute_result",
          "data": {
            "text/plain": [
              "loan_id                     0\n",
              "source                      0\n",
              "financial_institution       0\n",
              "interest_rate               0\n",
              "unpaid_principal_bal        0\n",
              "loan_term                   0\n",
              "origination_date            0\n",
              "first_payment_date          0\n",
              "loan_to_value               0\n",
              "number_of_borrowers         0\n",
              "debt_to_income_ratio        0\n",
              "borrower_credit_score       0\n",
              "loan_purpose                0\n",
              "insurance_percent           0\n",
              "co-borrower_credit_score    0\n",
              "insurance_type              0\n",
              "m1                          0\n",
              "m2                          0\n",
              "m3                          0\n",
              "m4                          0\n",
              "m5                          0\n",
              "m6                          0\n",
              "m7                          0\n",
              "m8                          0\n",
              "m9                          0\n",
              "m10                         0\n",
              "m11                         0\n",
              "m12                         0\n",
              "dtype: int64"
            ]
          },
          "metadata": {
            "tags": []
          },
          "execution_count": 15
        }
      ]
    },
    {
      "cell_type": "code",
      "metadata": {
        "id": "31nJQ1FNy75M",
        "colab_type": "code",
        "outputId": "e3757a53-1a2d-4e86-fcb7-241ee82e0cf2",
        "colab": {
          "base_uri": "https://localhost:8080/",
          "height": 419
        }
      },
      "source": [
        "print(train['m13'].value_counts())\n",
        "print(train['m13'].value_counts(normalize=True)*100)\n",
        "print()\n",
        "sns.countplot(train[\"m13\"])"
      ],
      "execution_count": 16,
      "outputs": [
        {
          "output_type": "stream",
          "text": [
            "0    115422\n",
            "1       636\n",
            "Name: m13, dtype: int64\n",
            "0    99.451998\n",
            "1     0.548002\n",
            "Name: m13, dtype: float64\n",
            "\n"
          ],
          "name": "stdout"
        },
        {
          "output_type": "execute_result",
          "data": {
            "text/plain": [
              "<matplotlib.axes._subplots.AxesSubplot at 0x7f6a59608048>"
            ]
          },
          "metadata": {
            "tags": []
          },
          "execution_count": 16
        },
        {
          "output_type": "display_data",
          "data": {
            "image/png": "[encoded data removed]",
            "text/plain": [
              "<Figure size 432x288 with 1 Axes>"
            ]
          },
          "metadata": {
            "tags": []
          }
        }
      ]
    },
    {
      "cell_type": "code",
      "metadata": {
        "id": "Ncb9JMeZzDmf",
        "colab_type": "code",
        "outputId": "1e9ac151-2f8c-49a0-c87b-7b802cd59f4e",
        "colab": {
          "base_uri": "https://localhost:8080/",
          "height": 85
        }
      },
      "source": [
        "train.source.value_counts().sort_index()"
      ],
      "execution_count": 17,
      "outputs": [
        {
          "output_type": "execute_result",
          "data": {
            "text/plain": [
              "X    63858\n",
              "Y    37554\n",
              "Z    14646\n",
              "Name: source, dtype: int64"
            ]
          },
          "metadata": {
            "tags": []
          },
          "execution_count": 17
        }
      ]
    },
    {
      "cell_type": "code",
      "metadata": {
        "id": "BSFBvzd53-wg",
        "colab_type": "code",
        "outputId": "d85370fa-4997-4eae-d1d0-fa96fe514d49",
        "colab": {
          "base_uri": "https://localhost:8080/",
          "height": 357
        }
      },
      "source": [
        "train.financial_institution.value_counts().sort_index()"
      ],
      "execution_count": 18,
      "outputs": [
        {
          "output_type": "execute_result",
          "data": {
            "text/plain": [
              "Anderson-Taylor                  483\n",
              "Browning-Hart                  31852\n",
              "Chapman-Mcmahon                  388\n",
              "Cole, Brooks and Vincent        1642\n",
              "Edwards-Hoffman                 4857\n",
              "Martinez, Duffy and Bird        4715\n",
              "Miller, Mcclure and Allen       3158\n",
              "Nicholson Group                 2116\n",
              "OTHER                          49699\n",
              "Richards-Walters                1459\n",
              "Richardson Ltd                   473\n",
              "Romero, Woods and Johnson        750\n",
              "Sanchez, Hays and Wilkerson      853\n",
              "Sanchez-Robinson                1193\n",
              "Suarez Inc                      1790\n",
              "Swanson, Newton and Miller      6874\n",
              "Taylor, Hunt and Rodriguez      1259\n",
              "Thornton-Davis                   651\n",
              "Turner, Baldwin and Rhodes      1846\n",
              "Name: financial_institution, dtype: int64"
            ]
          },
          "metadata": {
            "tags": []
          },
          "execution_count": 18
        }
      ]
    },
    {
      "cell_type": "code",
      "metadata": {
        "id": "3R-10WXjwwdF",
        "colab_type": "code",
        "colab": {}
      },
      "source": [
        "train['number_of_borrowers'] = train['number_of_borrowers'].astype('int64')\n",
        "train['debt_to_income_ratio'] = train['debt_to_income_ratio'].astype('int64')\n",
        "train['borrower_credit_score'] = train['borrower_credit_score'].astype('int64')\n",
        "train['insurance_percent'] = train['insurance_percent'].astype('int64')\n",
        "train['co-borrower_credit_score'] = train['co-borrower_credit_score'].astype('int64')\n",
        "train['insurance_type'] = train['insurance_type'].astype('int64')"
      ],
      "execution_count": 0,
      "outputs": []
    },
    {
      "cell_type": "code",
      "metadata": {
        "id": "Fz77cFwB4FPs",
        "colab_type": "code",
        "outputId": "b50c9b99-9b80-46b8-80e1-f30c2099ea87",
        "colab": {
          "base_uri": "https://localhost:8080/",
          "height": 68
        }
      },
      "source": [
        "train.number_of_borrowers.value_counts().sort_index()"
      ],
      "execution_count": 20,
      "outputs": [
        {
          "output_type": "execute_result",
          "data": {
            "text/plain": [
              "1    47214\n",
              "2    68844\n",
              "Name: number_of_borrowers, dtype: int64"
            ]
          },
          "metadata": {
            "tags": []
          },
          "execution_count": 20
        }
      ]
    },
    {
      "cell_type": "code",
      "metadata": {
        "id": "VpvAlZmMw-o0",
        "colab_type": "code",
        "outputId": "de1781cf-79cf-4544-e4de-873a84f63acd",
        "colab": {
          "base_uri": "https://localhost:8080/",
          "height": 68
        }
      },
      "source": [
        "train.insurance_type.value_counts().sort_index()"
      ],
      "execution_count": 21,
      "outputs": [
        {
          "output_type": "execute_result",
          "data": {
            "text/plain": [
              "0    115680\n",
              "1       378\n",
              "Name: insurance_type, dtype: int64"
            ]
          },
          "metadata": {
            "tags": []
          },
          "execution_count": 21
        }
      ]
    },
    {
      "cell_type": "code",
      "metadata": {
        "id": "p43xunGY8APz",
        "colab_type": "code",
        "outputId": "4a14ac2e-ccb6-4b5e-fb6c-dffcd9203405",
        "colab": {
          "base_uri": "https://localhost:8080/",
          "height": 85
        }
      },
      "source": [
        "train.loan_purpose.value_counts().sort_index()"
      ],
      "execution_count": 22,
      "outputs": [
        {
          "output_type": "execute_result",
          "data": {
            "text/plain": [
              "A23    58462\n",
              "B12    29383\n",
              "C86    28213\n",
              "Name: loan_purpose, dtype: int64"
            ]
          },
          "metadata": {
            "tags": []
          },
          "execution_count": 22
        }
      ]
    },
    {
      "cell_type": "markdown",
      "metadata": {
        "id": "QAPd0_IL8uq4",
        "colab_type": "text"
      },
      "source": [
        "# Preparing Data"
      ]
    },
    {
      "cell_type": "code",
      "metadata": {
        "id": "T6T06ZgKwTcB",
        "colab_type": "code",
        "colab": {}
      },
      "source": [
        "# train['origination_date_quarter'] = train['origination_date'].dt.quarter\n",
        "# train['origination_date_day'] = train['origination_date'].dt.day\n",
        "# train['origination_date_Dayofweek'] = train['origination_date'].dt.dayofweek\n",
        "# train['origination_date_Dayweek'] = train['origination_date'].dt.weekday_name\n",
        "# train['origination_date_is_weekend'] = np.where(train['origination_date'].dt.dayofweek.isin(['Sunday', 'Saturday']), 1,0)\n",
        "\n",
        "# test['origination_date_quarter'] = test['origination_date'].dt.quarter\n",
        "# test['origination_date_day'] = test['origination_date'].dt.day\n",
        "# test['origination_date_Dayofweek'] = test['origination_date'].dt.dayofweek\n",
        "# test['origination_date_Dayweek'] = test['origination_date'].dt.weekday_name\n",
        "# test['origination_date_is_weekend'] = np.where(test['origination_date'].dt.dayofweek.isin(['Sunday', 'Saturday']), 1,0)"
      ],
      "execution_count": 0,
      "outputs": []
    },
    {
      "cell_type": "code",
      "metadata": {
        "id": "RYyb5j4580fi",
        "colab_type": "code",
        "outputId": "07e88c76-692a-4e3e-f374-0272fe686695",
        "colab": {
          "base_uri": "https://localhost:8080/",
          "height": 34
        }
      },
      "source": [
        "str_cols= train.loc[:, train.dtypes=='object'].columns.tolist()\n",
        "str_cols"
      ],
      "execution_count": 24,
      "outputs": [
        {
          "output_type": "execute_result",
          "data": {
            "text/plain": [
              "['source', 'financial_institution', 'loan_purpose']"
            ]
          },
          "metadata": {
            "tags": []
          },
          "execution_count": 24
        }
      ]
    },
    {
      "cell_type": "code",
      "metadata": {
        "id": "4pBgkwJp-S6r",
        "colab_type": "code",
        "colab": {}
      },
      "source": [
        "# One Hot Encoding\n",
        "train = pd.get_dummies(train, columns=str_cols, drop_first=True)\n",
        "test = pd.get_dummies(test, columns=str_cols, drop_first=True)"
      ],
      "execution_count": 0,
      "outputs": []
    },
    {
      "cell_type": "code",
      "metadata": {
        "id": "ortYPiib-ZOb",
        "colab_type": "code",
        "outputId": "476fe8d7-fe37-4c48-f425-243cd1a864de",
        "colab": {
          "base_uri": "https://localhost:8080/",
          "height": 241
        }
      },
      "source": [
        "train.sample(5)"
      ],
      "execution_count": 26,
      "outputs": [
        {
          "output_type": "execute_result",
          "data": {
            "text/html": [
              "<div>\n",
              "<style scoped>\n",
              "    .dataframe tbody tr th:only-of-type {\n",
              "        vertical-align: middle;\n",
              "    }\n",
              "\n",
              "    .dataframe tbody tr th {\n",
              "        vertical-align: top;\n",
              "    }\n",
              "\n",
              "    .dataframe thead th {\n",
              "        text-align: right;\n",
              "    }\n",
              "</style>\n",
              "<table border=\"1\" class=\"dataframe\">\n",
              "  <thead>\n",
              "    <tr style=\"text-align: right;\">\n",
              "      <th></th>\n",
              "      <th>loan_id</th>\n",
              "      <th>interest_rate</th>\n",
              "      <th>unpaid_principal_bal</th>\n",
              "      <th>loan_term</th>\n",
              "      <th>origination_date</th>\n",
              "      <th>first_payment_date</th>\n",
              "      <th>loan_to_value</th>\n",
              "      <th>number_of_borrowers</th>\n",
              "      <th>debt_to_income_ratio</th>\n",
              "      <th>borrower_credit_score</th>\n",
              "      <th>insurance_percent</th>\n",
              "      <th>co-borrower_credit_score</th>\n",
              "      <th>insurance_type</th>\n",
              "      <th>m1</th>\n",
              "      <th>m2</th>\n",
              "      <th>m3</th>\n",
              "      <th>m4</th>\n",
              "      <th>m5</th>\n",
              "      <th>m6</th>\n",
              "      <th>m7</th>\n",
              "      <th>m8</th>\n",
              "      <th>m9</th>\n",
              "      <th>m10</th>\n",
              "      <th>m11</th>\n",
              "      <th>m12</th>\n",
              "      <th>m13</th>\n",
              "      <th>source_Y</th>\n",
              "      <th>source_Z</th>\n",
              "      <th>financial_institution_Browning-Hart</th>\n",
              "      <th>financial_institution_Chapman-Mcmahon</th>\n",
              "      <th>financial_institution_Cole, Brooks and Vincent</th>\n",
              "      <th>financial_institution_Edwards-Hoffman</th>\n",
              "      <th>financial_institution_Martinez, Duffy and Bird</th>\n",
              "      <th>financial_institution_Miller, Mcclure and Allen</th>\n",
              "      <th>financial_institution_Nicholson Group</th>\n",
              "      <th>financial_institution_OTHER</th>\n",
              "      <th>financial_institution_Richards-Walters</th>\n",
              "      <th>financial_institution_Richardson Ltd</th>\n",
              "      <th>financial_institution_Romero, Woods and Johnson</th>\n",
              "      <th>financial_institution_Sanchez, Hays and Wilkerson</th>\n",
              "      <th>financial_institution_Sanchez-Robinson</th>\n",
              "      <th>financial_institution_Suarez Inc</th>\n",
              "      <th>financial_institution_Swanson, Newton and Miller</th>\n",
              "      <th>financial_institution_Taylor, Hunt and Rodriguez</th>\n",
              "      <th>financial_institution_Thornton-Davis</th>\n",
              "      <th>financial_institution_Turner, Baldwin and Rhodes</th>\n",
              "      <th>loan_purpose_B12</th>\n",
              "      <th>loan_purpose_C86</th>\n",
              "    </tr>\n",
              "  </thead>\n",
              "  <tbody>\n",
              "    <tr>\n",
              "      <th>63954</th>\n",
              "      <td>502420436459</td>\n",
              "      <td>4.000</td>\n",
              "      <td>140000</td>\n",
              "      <td>360</td>\n",
              "      <td>2012-02-01</td>\n",
              "      <td>2012-04-01</td>\n",
              "      <td>41</td>\n",
              "      <td>2</td>\n",
              "      <td>23</td>\n",
              "      <td>817</td>\n",
              "      <td>0</td>\n",
              "      <td>817</td>\n",
              "      <td>0</td>\n",
              "      <td>0</td>\n",
              "      <td>0</td>\n",
              "      <td>0</td>\n",
              "      <td>0</td>\n",
              "      <td>0</td>\n",
              "      <td>0</td>\n",
              "      <td>0</td>\n",
              "      <td>0</td>\n",
              "      <td>0</td>\n",
              "      <td>0</td>\n",
              "      <td>0</td>\n",
              "      <td>0</td>\n",
              "      <td>0</td>\n",
              "      <td>0</td>\n",
              "      <td>0</td>\n",
              "      <td>0</td>\n",
              "      <td>0</td>\n",
              "      <td>0</td>\n",
              "      <td>0</td>\n",
              "      <td>0</td>\n",
              "      <td>0</td>\n",
              "      <td>0</td>\n",
              "      <td>1</td>\n",
              "      <td>0</td>\n",
              "      <td>0</td>\n",
              "      <td>0</td>\n",
              "      <td>0</td>\n",
              "      <td>0</td>\n",
              "      <td>0</td>\n",
              "      <td>0</td>\n",
              "      <td>0</td>\n",
              "      <td>0</td>\n",
              "      <td>0</td>\n",
              "      <td>0</td>\n",
              "      <td>0</td>\n",
              "    </tr>\n",
              "    <tr>\n",
              "      <th>78978</th>\n",
              "      <td>175829695706</td>\n",
              "      <td>4.000</td>\n",
              "      <td>296000</td>\n",
              "      <td>360</td>\n",
              "      <td>2012-03-01</td>\n",
              "      <td>2012-05-01</td>\n",
              "      <td>75</td>\n",
              "      <td>2</td>\n",
              "      <td>17</td>\n",
              "      <td>809</td>\n",
              "      <td>0</td>\n",
              "      <td>808</td>\n",
              "      <td>0</td>\n",
              "      <td>0</td>\n",
              "      <td>0</td>\n",
              "      <td>0</td>\n",
              "      <td>0</td>\n",
              "      <td>0</td>\n",
              "      <td>0</td>\n",
              "      <td>0</td>\n",
              "      <td>0</td>\n",
              "      <td>0</td>\n",
              "      <td>0</td>\n",
              "      <td>0</td>\n",
              "      <td>0</td>\n",
              "      <td>0</td>\n",
              "      <td>0</td>\n",
              "      <td>0</td>\n",
              "      <td>1</td>\n",
              "      <td>0</td>\n",
              "      <td>0</td>\n",
              "      <td>0</td>\n",
              "      <td>0</td>\n",
              "      <td>0</td>\n",
              "      <td>0</td>\n",
              "      <td>0</td>\n",
              "      <td>0</td>\n",
              "      <td>0</td>\n",
              "      <td>0</td>\n",
              "      <td>0</td>\n",
              "      <td>0</td>\n",
              "      <td>0</td>\n",
              "      <td>0</td>\n",
              "      <td>0</td>\n",
              "      <td>0</td>\n",
              "      <td>0</td>\n",
              "      <td>0</td>\n",
              "      <td>0</td>\n",
              "    </tr>\n",
              "    <tr>\n",
              "      <th>8958</th>\n",
              "      <td>844810591918</td>\n",
              "      <td>3.990</td>\n",
              "      <td>626000</td>\n",
              "      <td>360</td>\n",
              "      <td>2012-01-01</td>\n",
              "      <td>2012-02-01</td>\n",
              "      <td>80</td>\n",
              "      <td>2</td>\n",
              "      <td>41</td>\n",
              "      <td>754</td>\n",
              "      <td>0</td>\n",
              "      <td>710</td>\n",
              "      <td>0</td>\n",
              "      <td>0</td>\n",
              "      <td>0</td>\n",
              "      <td>0</td>\n",
              "      <td>0</td>\n",
              "      <td>0</td>\n",
              "      <td>0</td>\n",
              "      <td>0</td>\n",
              "      <td>0</td>\n",
              "      <td>0</td>\n",
              "      <td>0</td>\n",
              "      <td>0</td>\n",
              "      <td>0</td>\n",
              "      <td>0</td>\n",
              "      <td>0</td>\n",
              "      <td>1</td>\n",
              "      <td>0</td>\n",
              "      <td>0</td>\n",
              "      <td>0</td>\n",
              "      <td>0</td>\n",
              "      <td>0</td>\n",
              "      <td>1</td>\n",
              "      <td>0</td>\n",
              "      <td>0</td>\n",
              "      <td>0</td>\n",
              "      <td>0</td>\n",
              "      <td>0</td>\n",
              "      <td>0</td>\n",
              "      <td>0</td>\n",
              "      <td>0</td>\n",
              "      <td>0</td>\n",
              "      <td>0</td>\n",
              "      <td>0</td>\n",
              "      <td>0</td>\n",
              "      <td>0</td>\n",
              "      <td>0</td>\n",
              "    </tr>\n",
              "    <tr>\n",
              "      <th>34382</th>\n",
              "      <td>940110234423</td>\n",
              "      <td>3.125</td>\n",
              "      <td>225000</td>\n",
              "      <td>180</td>\n",
              "      <td>2012-03-01</td>\n",
              "      <td>2012-04-01</td>\n",
              "      <td>92</td>\n",
              "      <td>1</td>\n",
              "      <td>17</td>\n",
              "      <td>805</td>\n",
              "      <td>25</td>\n",
              "      <td>0</td>\n",
              "      <td>0</td>\n",
              "      <td>0</td>\n",
              "      <td>0</td>\n",
              "      <td>0</td>\n",
              "      <td>0</td>\n",
              "      <td>0</td>\n",
              "      <td>0</td>\n",
              "      <td>0</td>\n",
              "      <td>0</td>\n",
              "      <td>0</td>\n",
              "      <td>0</td>\n",
              "      <td>0</td>\n",
              "      <td>0</td>\n",
              "      <td>0</td>\n",
              "      <td>0</td>\n",
              "      <td>0</td>\n",
              "      <td>0</td>\n",
              "      <td>0</td>\n",
              "      <td>0</td>\n",
              "      <td>0</td>\n",
              "      <td>0</td>\n",
              "      <td>0</td>\n",
              "      <td>0</td>\n",
              "      <td>1</td>\n",
              "      <td>0</td>\n",
              "      <td>0</td>\n",
              "      <td>0</td>\n",
              "      <td>0</td>\n",
              "      <td>0</td>\n",
              "      <td>0</td>\n",
              "      <td>0</td>\n",
              "      <td>0</td>\n",
              "      <td>0</td>\n",
              "      <td>0</td>\n",
              "      <td>0</td>\n",
              "      <td>0</td>\n",
              "    </tr>\n",
              "    <tr>\n",
              "      <th>9454</th>\n",
              "      <td>895266993313</td>\n",
              "      <td>3.750</td>\n",
              "      <td>268000</td>\n",
              "      <td>360</td>\n",
              "      <td>2012-01-01</td>\n",
              "      <td>2012-03-01</td>\n",
              "      <td>79</td>\n",
              "      <td>2</td>\n",
              "      <td>27</td>\n",
              "      <td>798</td>\n",
              "      <td>0</td>\n",
              "      <td>793</td>\n",
              "      <td>0</td>\n",
              "      <td>0</td>\n",
              "      <td>0</td>\n",
              "      <td>0</td>\n",
              "      <td>0</td>\n",
              "      <td>0</td>\n",
              "      <td>0</td>\n",
              "      <td>0</td>\n",
              "      <td>0</td>\n",
              "      <td>0</td>\n",
              "      <td>0</td>\n",
              "      <td>0</td>\n",
              "      <td>0</td>\n",
              "      <td>0</td>\n",
              "      <td>1</td>\n",
              "      <td>0</td>\n",
              "      <td>0</td>\n",
              "      <td>0</td>\n",
              "      <td>0</td>\n",
              "      <td>0</td>\n",
              "      <td>0</td>\n",
              "      <td>0</td>\n",
              "      <td>0</td>\n",
              "      <td>0</td>\n",
              "      <td>0</td>\n",
              "      <td>0</td>\n",
              "      <td>0</td>\n",
              "      <td>0</td>\n",
              "      <td>0</td>\n",
              "      <td>0</td>\n",
              "      <td>0</td>\n",
              "      <td>0</td>\n",
              "      <td>0</td>\n",
              "      <td>0</td>\n",
              "      <td>0</td>\n",
              "      <td>0</td>\n",
              "    </tr>\n",
              "  </tbody>\n",
              "</table>\n",
              "</div>"
            ],
            "text/plain": [
              "            loan_id  interest_rate  ...  loan_purpose_B12  loan_purpose_C86\n",
              "63954  502420436459          4.000  ...                 0                 0\n",
              "78978  175829695706          4.000  ...                 0                 0\n",
              "8958   844810591918          3.990  ...                 0                 0\n",
              "34382  940110234423          3.125  ...                 0                 0\n",
              "9454   895266993313          3.750  ...                 0                 0\n",
              "\n",
              "[5 rows x 48 columns]"
            ]
          },
          "metadata": {
            "tags": []
          },
          "execution_count": 26
        }
      ]
    },
    {
      "cell_type": "code",
      "metadata": {
        "id": "CnIcp7hc-eK8",
        "colab_type": "code",
        "outputId": "43ad1a83-a00b-4f3f-f1b2-c9216ac225cb",
        "colab": {
          "base_uri": "https://localhost:8080/",
          "height": 241
        }
      },
      "source": [
        "test.sample(5)"
      ],
      "execution_count": 27,
      "outputs": [
        {
          "output_type": "execute_result",
          "data": {
            "text/html": [
              "<div>\n",
              "<style scoped>\n",
              "    .dataframe tbody tr th:only-of-type {\n",
              "        vertical-align: middle;\n",
              "    }\n",
              "\n",
              "    .dataframe tbody tr th {\n",
              "        vertical-align: top;\n",
              "    }\n",
              "\n",
              "    .dataframe thead th {\n",
              "        text-align: right;\n",
              "    }\n",
              "</style>\n",
              "<table border=\"1\" class=\"dataframe\">\n",
              "  <thead>\n",
              "    <tr style=\"text-align: right;\">\n",
              "      <th></th>\n",
              "      <th>loan_id</th>\n",
              "      <th>interest_rate</th>\n",
              "      <th>unpaid_principal_bal</th>\n",
              "      <th>loan_term</th>\n",
              "      <th>origination_date</th>\n",
              "      <th>first_payment_date</th>\n",
              "      <th>loan_to_value</th>\n",
              "      <th>number_of_borrowers</th>\n",
              "      <th>debt_to_income_ratio</th>\n",
              "      <th>borrower_credit_score</th>\n",
              "      <th>insurance_percent</th>\n",
              "      <th>co-borrower_credit_score</th>\n",
              "      <th>insurance_type</th>\n",
              "      <th>m1</th>\n",
              "      <th>m2</th>\n",
              "      <th>m3</th>\n",
              "      <th>m4</th>\n",
              "      <th>m5</th>\n",
              "      <th>m6</th>\n",
              "      <th>m7</th>\n",
              "      <th>m8</th>\n",
              "      <th>m9</th>\n",
              "      <th>m10</th>\n",
              "      <th>m11</th>\n",
              "      <th>m12</th>\n",
              "      <th>source_Y</th>\n",
              "      <th>source_Z</th>\n",
              "      <th>financial_institution_Browning-Hart</th>\n",
              "      <th>financial_institution_Chapman-Mcmahon</th>\n",
              "      <th>financial_institution_Cole, Brooks and Vincent</th>\n",
              "      <th>financial_institution_Edwards-Hoffman</th>\n",
              "      <th>financial_institution_Martinez, Duffy and Bird</th>\n",
              "      <th>financial_institution_Miller, Mcclure and Allen</th>\n",
              "      <th>financial_institution_Nicholson Group</th>\n",
              "      <th>financial_institution_OTHER</th>\n",
              "      <th>financial_institution_Richards-Walters</th>\n",
              "      <th>financial_institution_Richardson Ltd</th>\n",
              "      <th>financial_institution_Romero, Woods and Johnson</th>\n",
              "      <th>financial_institution_Sanchez, Hays and Wilkerson</th>\n",
              "      <th>financial_institution_Sanchez-Robinson</th>\n",
              "      <th>financial_institution_Suarez Inc</th>\n",
              "      <th>financial_institution_Swanson, Newton and Miller</th>\n",
              "      <th>financial_institution_Taylor, Hunt and Rodriguez</th>\n",
              "      <th>financial_institution_Thornton-Davis</th>\n",
              "      <th>financial_institution_Turner, Baldwin and Rhodes</th>\n",
              "      <th>loan_purpose_B12</th>\n",
              "      <th>loan_purpose_C86</th>\n",
              "    </tr>\n",
              "  </thead>\n",
              "  <tbody>\n",
              "    <tr>\n",
              "      <th>29167</th>\n",
              "      <td>29168</td>\n",
              "      <td>3.375</td>\n",
              "      <td>151000</td>\n",
              "      <td>180</td>\n",
              "      <td>2012-01-01</td>\n",
              "      <td>2012-03-01</td>\n",
              "      <td>46</td>\n",
              "      <td>2</td>\n",
              "      <td>35</td>\n",
              "      <td>803</td>\n",
              "      <td>0</td>\n",
              "      <td>804</td>\n",
              "      <td>0</td>\n",
              "      <td>0</td>\n",
              "      <td>0</td>\n",
              "      <td>0</td>\n",
              "      <td>0</td>\n",
              "      <td>0</td>\n",
              "      <td>0</td>\n",
              "      <td>0</td>\n",
              "      <td>0</td>\n",
              "      <td>0</td>\n",
              "      <td>0</td>\n",
              "      <td>0</td>\n",
              "      <td>0</td>\n",
              "      <td>0</td>\n",
              "      <td>0</td>\n",
              "      <td>0</td>\n",
              "      <td>0</td>\n",
              "      <td>0</td>\n",
              "      <td>0</td>\n",
              "      <td>0</td>\n",
              "      <td>0</td>\n",
              "      <td>0</td>\n",
              "      <td>1</td>\n",
              "      <td>0</td>\n",
              "      <td>0</td>\n",
              "      <td>0</td>\n",
              "      <td>0</td>\n",
              "      <td>0</td>\n",
              "      <td>0</td>\n",
              "      <td>0</td>\n",
              "      <td>0</td>\n",
              "      <td>0</td>\n",
              "      <td>0</td>\n",
              "      <td>1</td>\n",
              "      <td>0</td>\n",
              "    </tr>\n",
              "    <tr>\n",
              "      <th>10221</th>\n",
              "      <td>10222</td>\n",
              "      <td>5.250</td>\n",
              "      <td>108000</td>\n",
              "      <td>360</td>\n",
              "      <td>2012-02-01</td>\n",
              "      <td>2012-04-01</td>\n",
              "      <td>80</td>\n",
              "      <td>2</td>\n",
              "      <td>18</td>\n",
              "      <td>687</td>\n",
              "      <td>0</td>\n",
              "      <td>685</td>\n",
              "      <td>0</td>\n",
              "      <td>0</td>\n",
              "      <td>0</td>\n",
              "      <td>0</td>\n",
              "      <td>0</td>\n",
              "      <td>0</td>\n",
              "      <td>0</td>\n",
              "      <td>0</td>\n",
              "      <td>0</td>\n",
              "      <td>0</td>\n",
              "      <td>0</td>\n",
              "      <td>0</td>\n",
              "      <td>0</td>\n",
              "      <td>0</td>\n",
              "      <td>0</td>\n",
              "      <td>1</td>\n",
              "      <td>0</td>\n",
              "      <td>0</td>\n",
              "      <td>0</td>\n",
              "      <td>0</td>\n",
              "      <td>0</td>\n",
              "      <td>0</td>\n",
              "      <td>0</td>\n",
              "      <td>0</td>\n",
              "      <td>0</td>\n",
              "      <td>0</td>\n",
              "      <td>0</td>\n",
              "      <td>0</td>\n",
              "      <td>0</td>\n",
              "      <td>0</td>\n",
              "      <td>0</td>\n",
              "      <td>0</td>\n",
              "      <td>0</td>\n",
              "      <td>0</td>\n",
              "      <td>1</td>\n",
              "    </tr>\n",
              "    <tr>\n",
              "      <th>2421</th>\n",
              "      <td>2422</td>\n",
              "      <td>4.000</td>\n",
              "      <td>227000</td>\n",
              "      <td>360</td>\n",
              "      <td>2012-01-01</td>\n",
              "      <td>2012-03-01</td>\n",
              "      <td>75</td>\n",
              "      <td>2</td>\n",
              "      <td>39</td>\n",
              "      <td>713</td>\n",
              "      <td>0</td>\n",
              "      <td>796</td>\n",
              "      <td>0</td>\n",
              "      <td>0</td>\n",
              "      <td>0</td>\n",
              "      <td>0</td>\n",
              "      <td>0</td>\n",
              "      <td>0</td>\n",
              "      <td>0</td>\n",
              "      <td>0</td>\n",
              "      <td>0</td>\n",
              "      <td>0</td>\n",
              "      <td>0</td>\n",
              "      <td>0</td>\n",
              "      <td>0</td>\n",
              "      <td>1</td>\n",
              "      <td>0</td>\n",
              "      <td>1</td>\n",
              "      <td>0</td>\n",
              "      <td>0</td>\n",
              "      <td>0</td>\n",
              "      <td>0</td>\n",
              "      <td>0</td>\n",
              "      <td>0</td>\n",
              "      <td>0</td>\n",
              "      <td>0</td>\n",
              "      <td>0</td>\n",
              "      <td>0</td>\n",
              "      <td>0</td>\n",
              "      <td>0</td>\n",
              "      <td>0</td>\n",
              "      <td>0</td>\n",
              "      <td>0</td>\n",
              "      <td>0</td>\n",
              "      <td>0</td>\n",
              "      <td>0</td>\n",
              "      <td>0</td>\n",
              "    </tr>\n",
              "    <tr>\n",
              "      <th>15092</th>\n",
              "      <td>15093</td>\n",
              "      <td>3.885</td>\n",
              "      <td>150000</td>\n",
              "      <td>360</td>\n",
              "      <td>2012-01-01</td>\n",
              "      <td>2012-03-01</td>\n",
              "      <td>74</td>\n",
              "      <td>2</td>\n",
              "      <td>32</td>\n",
              "      <td>809</td>\n",
              "      <td>0</td>\n",
              "      <td>809</td>\n",
              "      <td>0</td>\n",
              "      <td>0</td>\n",
              "      <td>0</td>\n",
              "      <td>0</td>\n",
              "      <td>0</td>\n",
              "      <td>0</td>\n",
              "      <td>0</td>\n",
              "      <td>0</td>\n",
              "      <td>0</td>\n",
              "      <td>0</td>\n",
              "      <td>0</td>\n",
              "      <td>0</td>\n",
              "      <td>0</td>\n",
              "      <td>0</td>\n",
              "      <td>0</td>\n",
              "      <td>0</td>\n",
              "      <td>0</td>\n",
              "      <td>0</td>\n",
              "      <td>0</td>\n",
              "      <td>0</td>\n",
              "      <td>0</td>\n",
              "      <td>0</td>\n",
              "      <td>1</td>\n",
              "      <td>0</td>\n",
              "      <td>0</td>\n",
              "      <td>0</td>\n",
              "      <td>0</td>\n",
              "      <td>0</td>\n",
              "      <td>0</td>\n",
              "      <td>0</td>\n",
              "      <td>0</td>\n",
              "      <td>0</td>\n",
              "      <td>0</td>\n",
              "      <td>0</td>\n",
              "      <td>1</td>\n",
              "    </tr>\n",
              "    <tr>\n",
              "      <th>24575</th>\n",
              "      <td>24576</td>\n",
              "      <td>3.875</td>\n",
              "      <td>194000</td>\n",
              "      <td>360</td>\n",
              "      <td>2012-03-01</td>\n",
              "      <td>2012-05-01</td>\n",
              "      <td>78</td>\n",
              "      <td>1</td>\n",
              "      <td>22</td>\n",
              "      <td>757</td>\n",
              "      <td>0</td>\n",
              "      <td>0</td>\n",
              "      <td>0</td>\n",
              "      <td>0</td>\n",
              "      <td>0</td>\n",
              "      <td>0</td>\n",
              "      <td>0</td>\n",
              "      <td>0</td>\n",
              "      <td>0</td>\n",
              "      <td>0</td>\n",
              "      <td>0</td>\n",
              "      <td>0</td>\n",
              "      <td>0</td>\n",
              "      <td>0</td>\n",
              "      <td>0</td>\n",
              "      <td>0</td>\n",
              "      <td>1</td>\n",
              "      <td>0</td>\n",
              "      <td>0</td>\n",
              "      <td>0</td>\n",
              "      <td>0</td>\n",
              "      <td>0</td>\n",
              "      <td>0</td>\n",
              "      <td>0</td>\n",
              "      <td>0</td>\n",
              "      <td>0</td>\n",
              "      <td>0</td>\n",
              "      <td>0</td>\n",
              "      <td>0</td>\n",
              "      <td>0</td>\n",
              "      <td>0</td>\n",
              "      <td>0</td>\n",
              "      <td>0</td>\n",
              "      <td>0</td>\n",
              "      <td>1</td>\n",
              "      <td>0</td>\n",
              "      <td>0</td>\n",
              "    </tr>\n",
              "  </tbody>\n",
              "</table>\n",
              "</div>"
            ],
            "text/plain": [
              "       loan_id  interest_rate  ...  loan_purpose_B12  loan_purpose_C86\n",
              "29167    29168          3.375  ...                 1                 0\n",
              "10221    10222          5.250  ...                 0                 1\n",
              "2421      2422          4.000  ...                 0                 0\n",
              "15092    15093          3.885  ...                 0                 1\n",
              "24575    24576          3.875  ...                 0                 0\n",
              "\n",
              "[5 rows x 47 columns]"
            ]
          },
          "metadata": {
            "tags": []
          },
          "execution_count": 27
        }
      ]
    },
    {
      "cell_type": "code",
      "metadata": {
        "id": "dYS5VYRE9R1K",
        "colab_type": "code",
        "colab": {}
      },
      "source": [
        "# train['debt_to_income_ratio'] = np.log(train['debt_to_income_ratio'])\n",
        "# test['debt_to_income_ratio'] = np.log(test['debt_to_income_ratio'])\n",
        "# train['unpaid_principal_bal'] = np.log(train['unpaid_principal_bal'])\n",
        "# test['unpaid_principal_bal'] = np.log(test['unpaid_principal_bal'])"
      ],
      "execution_count": 0,
      "outputs": []
    },
    {
      "cell_type": "code",
      "metadata": {
        "id": "xCPYOtbQ5I9K",
        "colab_type": "code",
        "outputId": "aac87005-4a0c-4d78-e72d-c6527db27ef0",
        "colab": {
          "base_uri": "https://localhost:8080/",
          "height": 408
        }
      },
      "source": [
        "# # Correlations between Features and Target\n",
        "\n",
        "# Find all correlations and sort \n",
        "correlations_data = train.corr()['m13'].sort_values()\n",
        "\n",
        "# most negative correlations\n",
        "print(correlations_data.head(10))\n",
        "print()\n",
        "\n",
        "# most positive correlations\n",
        "print(correlations_data.tail(10))"
      ],
      "execution_count": 29,
      "outputs": [
        {
          "output_type": "stream",
          "text": [
            "borrower_credit_score                               -0.094215\n",
            "co-borrower_credit_score                            -0.042651\n",
            "number_of_borrowers                                 -0.039979\n",
            "unpaid_principal_bal                                -0.017120\n",
            "financial_institution_Sanchez-Robinson              -0.006408\n",
            "financial_institution_Suarez Inc                    -0.004555\n",
            "financial_institution_Chapman-Mcmahon               -0.004299\n",
            "financial_institution_Sanchez, Hays and Wilkerson   -0.003654\n",
            "financial_institution_Taylor, Hunt and Rodriguez    -0.003267\n",
            "financial_institution_Richards-Walters              -0.003138\n",
            "Name: m13, dtype: float64\n",
            "\n",
            "m4     0.218956\n",
            "m5     0.259529\n",
            "m6     0.287712\n",
            "m7     0.309072\n",
            "m8     0.339362\n",
            "m10    0.367840\n",
            "m9     0.369138\n",
            "m11    0.410213\n",
            "m12    0.466442\n",
            "m13    1.000000\n",
            "Name: m13, dtype: float64\n"
          ],
          "name": "stdout"
        }
      ]
    },
    {
      "cell_type": "code",
      "metadata": {
        "id": "Qo9EWJFC4P8C",
        "colab_type": "code",
        "colab": {}
      },
      "source": [
        "train.drop([\"loan_id\",\"origination_date\",\"first_payment_date\"], axis=1, inplace=True)\n",
        "test.drop([\"loan_id\",\"origination_date\",\"first_payment_date\"], axis=1, inplace=True)"
      ],
      "execution_count": 0,
      "outputs": []
    },
    {
      "cell_type": "code",
      "metadata": {
        "id": "WS3XOILvqOnG",
        "colab_type": "code",
        "colab": {}
      },
      "source": [
        "# # Balancing data based on target variable\n",
        "# y_1 = train[train['m13'] == 1]\n",
        "# y_0 = train[train['m13'] == 0].sample(n=len(y_1)+ 55000, random_state=123)    ## chosing 50% of 0's\n",
        "# data = y_1.append(y_0)\n",
        "# print(data['m13'].value_counts())\n",
        "# print(data['m13'].value_counts(normalize=True)*100)\n",
        "# train2 = data.drop('m13', axis=1)\n",
        "# target = data['m13']"
      ],
      "execution_count": 0,
      "outputs": []
    },
    {
      "cell_type": "code",
      "metadata": {
        "id": "M7D0mWaMzIV7",
        "colab_type": "code",
        "outputId": "a37a86c0-90e6-41a0-8891-2d73d782dc21",
        "colab": {
          "base_uri": "https://localhost:8080/",
          "height": 102
        }
      },
      "source": [
        "train2 = train.drop(['m13'], axis=1)\n",
        "target = train[\"m13\"]\n",
        "print(train['m13'].value_counts(normalize=True)*100)\n",
        "print(\"\\n train2 shape:\", train2.shape)"
      ],
      "execution_count": 32,
      "outputs": [
        {
          "output_type": "stream",
          "text": [
            "0    99.451998\n",
            "1     0.548002\n",
            "Name: m13, dtype: float64\n",
            "\n",
            " train2 shape: (116058, 44)\n"
          ],
          "name": "stdout"
        }
      ]
    },
    {
      "cell_type": "code",
      "metadata": {
        "id": "v3BvfJPRAJod",
        "colab_type": "code",
        "colab": {}
      },
      "source": [
        "train2 = train2.loc[:, test.columns]"
      ],
      "execution_count": 0,
      "outputs": []
    },
    {
      "cell_type": "code",
      "metadata": {
        "id": "yJCUWMm3sfRr",
        "colab_type": "code",
        "outputId": "7556bae2-7350-41c8-b100-c4c65436e49d",
        "colab": {
          "base_uri": "https://localhost:8080/",
          "height": 241
        }
      },
      "source": [
        "train2.head()"
      ],
      "execution_count": 34,
      "outputs": [
        {
          "output_type": "execute_result",
          "data": {
            "text/html": [
              "<div>\n",
              "<style scoped>\n",
              "    .dataframe tbody tr th:only-of-type {\n",
              "        vertical-align: middle;\n",
              "    }\n",
              "\n",
              "    .dataframe tbody tr th {\n",
              "        vertical-align: top;\n",
              "    }\n",
              "\n",
              "    .dataframe thead th {\n",
              "        text-align: right;\n",
              "    }\n",
              "</style>\n",
              "<table border=\"1\" class=\"dataframe\">\n",
              "  <thead>\n",
              "    <tr style=\"text-align: right;\">\n",
              "      <th></th>\n",
              "      <th>interest_rate</th>\n",
              "      <th>unpaid_principal_bal</th>\n",
              "      <th>loan_term</th>\n",
              "      <th>loan_to_value</th>\n",
              "      <th>number_of_borrowers</th>\n",
              "      <th>debt_to_income_ratio</th>\n",
              "      <th>borrower_credit_score</th>\n",
              "      <th>insurance_percent</th>\n",
              "      <th>co-borrower_credit_score</th>\n",
              "      <th>insurance_type</th>\n",
              "      <th>m1</th>\n",
              "      <th>m2</th>\n",
              "      <th>m3</th>\n",
              "      <th>m4</th>\n",
              "      <th>m5</th>\n",
              "      <th>m6</th>\n",
              "      <th>m7</th>\n",
              "      <th>m8</th>\n",
              "      <th>m9</th>\n",
              "      <th>m10</th>\n",
              "      <th>m11</th>\n",
              "      <th>m12</th>\n",
              "      <th>source_Y</th>\n",
              "      <th>source_Z</th>\n",
              "      <th>financial_institution_Browning-Hart</th>\n",
              "      <th>financial_institution_Chapman-Mcmahon</th>\n",
              "      <th>financial_institution_Cole, Brooks and Vincent</th>\n",
              "      <th>financial_institution_Edwards-Hoffman</th>\n",
              "      <th>financial_institution_Martinez, Duffy and Bird</th>\n",
              "      <th>financial_institution_Miller, Mcclure and Allen</th>\n",
              "      <th>financial_institution_Nicholson Group</th>\n",
              "      <th>financial_institution_OTHER</th>\n",
              "      <th>financial_institution_Richards-Walters</th>\n",
              "      <th>financial_institution_Richardson Ltd</th>\n",
              "      <th>financial_institution_Romero, Woods and Johnson</th>\n",
              "      <th>financial_institution_Sanchez, Hays and Wilkerson</th>\n",
              "      <th>financial_institution_Sanchez-Robinson</th>\n",
              "      <th>financial_institution_Suarez Inc</th>\n",
              "      <th>financial_institution_Swanson, Newton and Miller</th>\n",
              "      <th>financial_institution_Taylor, Hunt and Rodriguez</th>\n",
              "      <th>financial_institution_Thornton-Davis</th>\n",
              "      <th>financial_institution_Turner, Baldwin and Rhodes</th>\n",
              "      <th>loan_purpose_B12</th>\n",
              "      <th>loan_purpose_C86</th>\n",
              "    </tr>\n",
              "  </thead>\n",
              "  <tbody>\n",
              "    <tr>\n",
              "      <th>0</th>\n",
              "      <td>4.250</td>\n",
              "      <td>214000</td>\n",
              "      <td>360</td>\n",
              "      <td>95</td>\n",
              "      <td>1</td>\n",
              "      <td>22</td>\n",
              "      <td>694</td>\n",
              "      <td>30</td>\n",
              "      <td>0</td>\n",
              "      <td>0</td>\n",
              "      <td>0</td>\n",
              "      <td>0</td>\n",
              "      <td>0</td>\n",
              "      <td>0</td>\n",
              "      <td>0</td>\n",
              "      <td>0</td>\n",
              "      <td>1</td>\n",
              "      <td>0</td>\n",
              "      <td>0</td>\n",
              "      <td>0</td>\n",
              "      <td>0</td>\n",
              "      <td>0</td>\n",
              "      <td>0</td>\n",
              "      <td>1</td>\n",
              "      <td>0</td>\n",
              "      <td>0</td>\n",
              "      <td>0</td>\n",
              "      <td>0</td>\n",
              "      <td>0</td>\n",
              "      <td>0</td>\n",
              "      <td>0</td>\n",
              "      <td>0</td>\n",
              "      <td>0</td>\n",
              "      <td>0</td>\n",
              "      <td>0</td>\n",
              "      <td>0</td>\n",
              "      <td>0</td>\n",
              "      <td>0</td>\n",
              "      <td>0</td>\n",
              "      <td>0</td>\n",
              "      <td>0</td>\n",
              "      <td>1</td>\n",
              "      <td>0</td>\n",
              "      <td>1</td>\n",
              "    </tr>\n",
              "    <tr>\n",
              "      <th>1</th>\n",
              "      <td>4.875</td>\n",
              "      <td>144000</td>\n",
              "      <td>360</td>\n",
              "      <td>72</td>\n",
              "      <td>1</td>\n",
              "      <td>44</td>\n",
              "      <td>697</td>\n",
              "      <td>0</td>\n",
              "      <td>0</td>\n",
              "      <td>0</td>\n",
              "      <td>0</td>\n",
              "      <td>0</td>\n",
              "      <td>0</td>\n",
              "      <td>0</td>\n",
              "      <td>0</td>\n",
              "      <td>0</td>\n",
              "      <td>0</td>\n",
              "      <td>0</td>\n",
              "      <td>0</td>\n",
              "      <td>0</td>\n",
              "      <td>1</td>\n",
              "      <td>0</td>\n",
              "      <td>1</td>\n",
              "      <td>0</td>\n",
              "      <td>0</td>\n",
              "      <td>0</td>\n",
              "      <td>0</td>\n",
              "      <td>0</td>\n",
              "      <td>0</td>\n",
              "      <td>0</td>\n",
              "      <td>0</td>\n",
              "      <td>0</td>\n",
              "      <td>0</td>\n",
              "      <td>0</td>\n",
              "      <td>0</td>\n",
              "      <td>0</td>\n",
              "      <td>0</td>\n",
              "      <td>0</td>\n",
              "      <td>1</td>\n",
              "      <td>0</td>\n",
              "      <td>0</td>\n",
              "      <td>0</td>\n",
              "      <td>1</td>\n",
              "      <td>0</td>\n",
              "    </tr>\n",
              "    <tr>\n",
              "      <th>2</th>\n",
              "      <td>3.250</td>\n",
              "      <td>366000</td>\n",
              "      <td>180</td>\n",
              "      <td>49</td>\n",
              "      <td>1</td>\n",
              "      <td>33</td>\n",
              "      <td>780</td>\n",
              "      <td>0</td>\n",
              "      <td>0</td>\n",
              "      <td>0</td>\n",
              "      <td>0</td>\n",
              "      <td>0</td>\n",
              "      <td>0</td>\n",
              "      <td>0</td>\n",
              "      <td>0</td>\n",
              "      <td>0</td>\n",
              "      <td>0</td>\n",
              "      <td>0</td>\n",
              "      <td>0</td>\n",
              "      <td>0</td>\n",
              "      <td>0</td>\n",
              "      <td>0</td>\n",
              "      <td>0</td>\n",
              "      <td>1</td>\n",
              "      <td>0</td>\n",
              "      <td>0</td>\n",
              "      <td>0</td>\n",
              "      <td>0</td>\n",
              "      <td>0</td>\n",
              "      <td>0</td>\n",
              "      <td>0</td>\n",
              "      <td>0</td>\n",
              "      <td>0</td>\n",
              "      <td>0</td>\n",
              "      <td>0</td>\n",
              "      <td>0</td>\n",
              "      <td>0</td>\n",
              "      <td>0</td>\n",
              "      <td>0</td>\n",
              "      <td>0</td>\n",
              "      <td>1</td>\n",
              "      <td>0</td>\n",
              "      <td>1</td>\n",
              "      <td>0</td>\n",
              "    </tr>\n",
              "    <tr>\n",
              "      <th>3</th>\n",
              "      <td>4.750</td>\n",
              "      <td>135000</td>\n",
              "      <td>360</td>\n",
              "      <td>46</td>\n",
              "      <td>2</td>\n",
              "      <td>44</td>\n",
              "      <td>633</td>\n",
              "      <td>0</td>\n",
              "      <td>638</td>\n",
              "      <td>0</td>\n",
              "      <td>0</td>\n",
              "      <td>0</td>\n",
              "      <td>0</td>\n",
              "      <td>0</td>\n",
              "      <td>0</td>\n",
              "      <td>0</td>\n",
              "      <td>0</td>\n",
              "      <td>0</td>\n",
              "      <td>1</td>\n",
              "      <td>1</td>\n",
              "      <td>1</td>\n",
              "      <td>1</td>\n",
              "      <td>0</td>\n",
              "      <td>0</td>\n",
              "      <td>0</td>\n",
              "      <td>0</td>\n",
              "      <td>0</td>\n",
              "      <td>0</td>\n",
              "      <td>0</td>\n",
              "      <td>0</td>\n",
              "      <td>0</td>\n",
              "      <td>1</td>\n",
              "      <td>0</td>\n",
              "      <td>0</td>\n",
              "      <td>0</td>\n",
              "      <td>0</td>\n",
              "      <td>0</td>\n",
              "      <td>0</td>\n",
              "      <td>0</td>\n",
              "      <td>0</td>\n",
              "      <td>0</td>\n",
              "      <td>0</td>\n",
              "      <td>1</td>\n",
              "      <td>0</td>\n",
              "    </tr>\n",
              "    <tr>\n",
              "      <th>4</th>\n",
              "      <td>4.750</td>\n",
              "      <td>124000</td>\n",
              "      <td>360</td>\n",
              "      <td>80</td>\n",
              "      <td>1</td>\n",
              "      <td>43</td>\n",
              "      <td>681</td>\n",
              "      <td>0</td>\n",
              "      <td>0</td>\n",
              "      <td>0</td>\n",
              "      <td>0</td>\n",
              "      <td>1</td>\n",
              "      <td>2</td>\n",
              "      <td>3</td>\n",
              "      <td>4</td>\n",
              "      <td>5</td>\n",
              "      <td>6</td>\n",
              "      <td>7</td>\n",
              "      <td>8</td>\n",
              "      <td>9</td>\n",
              "      <td>10</td>\n",
              "      <td>11</td>\n",
              "      <td>0</td>\n",
              "      <td>0</td>\n",
              "      <td>0</td>\n",
              "      <td>0</td>\n",
              "      <td>0</td>\n",
              "      <td>0</td>\n",
              "      <td>0</td>\n",
              "      <td>0</td>\n",
              "      <td>0</td>\n",
              "      <td>1</td>\n",
              "      <td>0</td>\n",
              "      <td>0</td>\n",
              "      <td>0</td>\n",
              "      <td>0</td>\n",
              "      <td>0</td>\n",
              "      <td>0</td>\n",
              "      <td>0</td>\n",
              "      <td>0</td>\n",
              "      <td>0</td>\n",
              "      <td>0</td>\n",
              "      <td>0</td>\n",
              "      <td>1</td>\n",
              "    </tr>\n",
              "  </tbody>\n",
              "</table>\n",
              "</div>"
            ],
            "text/plain": [
              "   interest_rate  unpaid_principal_bal  ...  loan_purpose_B12  loan_purpose_C86\n",
              "0          4.250                214000  ...                 0                 1\n",
              "1          4.875                144000  ...                 1                 0\n",
              "2          3.250                366000  ...                 1                 0\n",
              "3          4.750                135000  ...                 1                 0\n",
              "4          4.750                124000  ...                 0                 1\n",
              "\n",
              "[5 rows x 44 columns]"
            ]
          },
          "metadata": {
            "tags": []
          },
          "execution_count": 34
        }
      ]
    },
    {
      "cell_type": "code",
      "metadata": {
        "id": "piOamW3lqNYy",
        "colab_type": "code",
        "outputId": "34a262dc-a71c-4dcf-bffc-c785e7627702",
        "colab": {
          "base_uri": "https://localhost:8080/",
          "height": 68
        }
      },
      "source": [
        "# Using SMOTE for Balancing Data\n",
        "from imblearn.over_sampling import SMOTE\n",
        "sm = SMOTE(random_state=2019)\n",
        "train2, target = sm.fit_sample(train2, target.ravel())\n",
        "print (sum(target==0))\n",
        "print (sum(target==1))\n",
        "sum(target==1)"
      ],
      "execution_count": 35,
      "outputs": [
        {
          "output_type": "stream",
          "text": [
            "115422\n",
            "115422\n"
          ],
          "name": "stdout"
        },
        {
          "output_type": "execute_result",
          "data": {
            "text/plain": [
              "115422"
            ]
          },
          "metadata": {
            "tags": []
          },
          "execution_count": 35
        }
      ]
    },
    {
      "cell_type": "code",
      "metadata": {
        "id": "VVd836hfqlUH",
        "colab_type": "code",
        "outputId": "52582dde-b31e-4f3a-ec38-22691bd8f2e6",
        "colab": {
          "base_uri": "https://localhost:8080/",
          "height": 34
        }
      },
      "source": [
        "print(train2.shape, target.shape)"
      ],
      "execution_count": 36,
      "outputs": [
        {
          "output_type": "stream",
          "text": [
            "(230844, 44) (230844,)\n"
          ],
          "name": "stdout"
        }
      ]
    },
    {
      "cell_type": "code",
      "metadata": {
        "id": "8UY5PA3W_jMI",
        "colab_type": "code",
        "colab": {}
      },
      "source": [
        "# Scaling Data\n",
        "scaler = StandardScaler()\n",
        "train2 = scaler.fit_transform(train2)\n",
        "test = scaler.transform(test)\n",
        "\n",
        "# train2 = pd.DataFrame(scaler.fit_transform(train2), columns=train2.columns)\n",
        "# test = pd.DataFrame(scaler.transform(test), columns=test.columns)"
      ],
      "execution_count": 0,
      "outputs": []
    },
    {
      "cell_type": "code",
      "metadata": {
        "id": "SLYmuctNHYhq",
        "colab_type": "code",
        "outputId": "0e1c766f-0c61-4176-8fcc-2505717895a2",
        "colab": {
          "base_uri": "https://localhost:8080/",
          "height": 34
        }
      },
      "source": [
        "poly = PolynomialFeatures(degree=2)\n",
        "train2 = poly.fit_transform(train2)\n",
        "test = poly.transform(test)\n",
        "poly\n",
        "print(\"train2 shape:\", train2.shape)\n",
        "\n",
        "# # train2 shape: (14272, 44)"
      ],
      "execution_count": 38,
      "outputs": [
        {
          "output_type": "stream",
          "text": [
            "train2 shape: (230844, 1035)\n"
          ],
          "name": "stdout"
        }
      ]
    },
    {
      "cell_type": "code",
      "metadata": {
        "id": "BdtsaO5DIMmp",
        "colab_type": "code",
        "outputId": "75c5c36e-7660-4e4d-bf71-9fd1d19477f7",
        "colab": {
          "base_uri": "https://localhost:8080/",
          "height": 51
        }
      },
      "source": [
        "pca = PCA(random_state=2019)\n",
        "train2 = pca.fit_transform(train2)\n",
        "test = pca.transform(test)\n",
        "pca"
      ],
      "execution_count": 39,
      "outputs": [
        {
          "output_type": "execute_result",
          "data": {
            "text/plain": [
              "PCA(copy=True, iterated_power='auto', n_components=None, random_state=2019,\n",
              "    svd_solver='auto', tol=0.0, whiten=False)"
            ]
          },
          "metadata": {
            "tags": []
          },
          "execution_count": 39
        }
      ]
    },
    {
      "cell_type": "code",
      "metadata": {
        "id": "CJU4a8FDIsAo",
        "colab_type": "code",
        "outputId": "1e15306b-0fdb-47ba-f652-f8bb8d16a7d4",
        "colab": {
          "base_uri": "https://localhost:8080/",
          "height": 238
        }
      },
      "source": [
        "train2"
      ],
      "execution_count": 40,
      "outputs": [
        {
          "output_type": "execute_result",
          "data": {
            "text/plain": [
              "array([[-6.16447130e+00, -1.12203158e+00, -1.19190447e+00, ...,\n",
              "         0.00000000e+00,  0.00000000e+00,  1.84661498e-12],\n",
              "       [-5.96755581e+00, -1.01636645e+00, -9.99427654e-01, ...,\n",
              "         1.80716619e-14, -1.23921836e-14,  3.87719802e-16],\n",
              "       [-6.27838254e+00, -1.52836908e+00, -2.36109736e+00, ...,\n",
              "        -8.36086257e-14, -7.21470932e-14, -1.86196521e-17],\n",
              "       ...,\n",
              "       [-5.53496814e+00, -9.97897265e-01, -9.58594604e-01, ...,\n",
              "        -2.81163233e-15, -3.54320391e-15,  9.66714838e-17],\n",
              "       [-1.98446925e-01, -1.02468632e+00, -1.02884707e+00, ...,\n",
              "         1.19212234e-15, -8.33925096e-16,  1.73731318e-16],\n",
              "       [-6.18257228e+00, -1.22127627e+00, -1.43623771e+00, ...,\n",
              "         2.13156306e-15,  8.95457025e-15,  7.13815094e-18]])"
            ]
          },
          "metadata": {
            "tags": []
          },
          "execution_count": 40
        }
      ]
    },
    {
      "cell_type": "code",
      "metadata": {
        "id": "Z0C_zsNmzh69",
        "colab_type": "code",
        "outputId": "5a247844-fd7b-4a9a-9cee-29c571af4fad",
        "colab": {
          "base_uri": "https://localhost:8080/",
          "height": 34
        }
      },
      "source": [
        "x_train, x_val, y_train, y_val = train_test_split(train2, target, test_size=0.3, random_state=2019)\n",
        "print(x_train.shape, x_val.shape)"
      ],
      "execution_count": 41,
      "outputs": [
        {
          "output_type": "stream",
          "text": [
            "(161590, 1035) (69254, 1035)\n"
          ],
          "name": "stdout"
        }
      ]
    },
    {
      "cell_type": "code",
      "metadata": {
        "id": "rZTrsJ1Nz10K",
        "colab_type": "code",
        "outputId": "5fb91447-b320-4316-d620-d4c7081b2ec7",
        "colab": {
          "base_uri": "https://localhost:8080/",
          "height": 238
        }
      },
      "source": [
        "x_train"
      ],
      "execution_count": 42,
      "outputs": [
        {
          "output_type": "execute_result",
          "data": {
            "text/plain": [
              "array([[-5.50778192e+00, -1.03142373e+00, -9.94903301e-01, ...,\n",
              "        -1.91693242e-15, -7.65074190e-16,  8.66370882e-17],\n",
              "       [-5.47784281e+00, -8.73083136e-01, -9.12408705e-01, ...,\n",
              "         5.64160034e-15,  1.62024769e-15,  1.60734078e-17],\n",
              "       [-5.30639647e+00, -8.43279182e-01, -9.12330411e-01, ...,\n",
              "         1.63610378e-15, -3.69566691e-16,  1.26233010e-17],\n",
              "       ...,\n",
              "       [-5.49452965e+00, -1.01698934e+00, -9.60340154e-01, ...,\n",
              "        -5.14758477e-16,  2.96078407e-16,  4.79198057e-18],\n",
              "       [-6.26396987e+00, -1.01052704e+00, -9.47805630e-01, ...,\n",
              "        -1.31737247e-15,  5.19284841e-15, -1.44419570e-16],\n",
              "       [-3.42899036e+00, -9.87056134e-01, -9.64092978e-01, ...,\n",
              "         2.67467350e-16,  3.11967981e-16, -3.33827281e-16]])"
            ]
          },
          "metadata": {
            "tags": []
          },
          "execution_count": 42
        }
      ]
    },
    {
      "cell_type": "code",
      "metadata": {
        "id": "bC7sshW8z3n1",
        "colab_type": "code",
        "outputId": "21300b50-9331-4430-edcb-297d06b8d350",
        "colab": {
          "base_uri": "https://localhost:8080/",
          "height": 238
        }
      },
      "source": [
        "x_val"
      ],
      "execution_count": 43,
      "outputs": [
        {
          "output_type": "execute_result",
          "data": {
            "text/plain": [
              "array([[-5.95608207e+00, -1.01870914e+00, -9.67090612e-01, ...,\n",
              "         9.24347180e-16,  1.54984951e-15, -1.39952326e-16],\n",
              "       [ 1.54123881e+02, -7.79152277e-01, -1.64099140e+00, ...,\n",
              "         6.34750203e-16, -2.28745370e-15,  1.80999156e-17],\n",
              "       [-2.25822501e+00, -1.03319696e+00, -1.03419530e+00, ...,\n",
              "         2.15615268e-15,  7.37413111e-16,  6.67375392e-17],\n",
              "       ...,\n",
              "       [-5.59504831e+00, -1.02130315e+00, -9.92870355e-01, ...,\n",
              "        -5.73112656e-16,  4.87405846e-16,  4.29732125e-17],\n",
              "       [-5.40864775e+00, -1.01973958e+00, -9.61348830e-01, ...,\n",
              "         9.53313914e-16,  1.67181479e-15, -2.99258479e-17],\n",
              "       [-4.22331105e+00, -9.92566579e-01, -9.54370677e-01, ...,\n",
              "        -2.89229962e-15, -4.11553924e-16, -1.18858844e-17]])"
            ]
          },
          "metadata": {
            "tags": []
          },
          "execution_count": 43
        }
      ]
    },
    {
      "cell_type": "code",
      "metadata": {
        "id": "JBh1z4bbz5nU",
        "colab_type": "code",
        "outputId": "19d748a8-1cae-4d2f-a21d-5e4abf05dd49",
        "colab": {
          "base_uri": "https://localhost:8080/",
          "height": 34
        }
      },
      "source": [
        "y_train"
      ],
      "execution_count": 44,
      "outputs": [
        {
          "output_type": "execute_result",
          "data": {
            "text/plain": [
              "array([0, 0, 0, ..., 0, 1, 1])"
            ]
          },
          "metadata": {
            "tags": []
          },
          "execution_count": 44
        }
      ]
    },
    {
      "cell_type": "code",
      "metadata": {
        "id": "yniag5Oqz7JC",
        "colab_type": "code",
        "outputId": "256c8809-c3b2-4663-9db1-5393096b279a",
        "colab": {
          "base_uri": "https://localhost:8080/",
          "height": 34
        }
      },
      "source": [
        "y_val"
      ],
      "execution_count": 45,
      "outputs": [
        {
          "output_type": "execute_result",
          "data": {
            "text/plain": [
              "array([1, 1, 1, ..., 0, 0, 1])"
            ]
          },
          "metadata": {
            "tags": []
          },
          "execution_count": 45
        }
      ]
    },
    {
      "cell_type": "markdown",
      "metadata": {
        "id": "TWPvOi-p95HV",
        "colab_type": "text"
      },
      "source": [
        "# Machine Learning Algorithms"
      ]
    },
    {
      "cell_type": "code",
      "metadata": {
        "id": "335Ey4zc0Epq",
        "colab_type": "code",
        "colab": {}
      },
      "source": [
        "# # Logistic Regression\n",
        "# for c in [0.1, 1, 5, 100]:\n",
        "#     lr = LogisticRegression(random_state=2019, C=c).fit(x_train, y_train)\n",
        "#     print (\"F1 score for C=%s: %s\" % (c, f1_score(y_val, lr.predict(x_val))))\n",
        "    \n",
        "# # F1 score for C=0.1: 0.9849064315534406\n",
        "# # F1 score for C=1: 0.9893558237603606\n",
        "# # F1 score for C=5: 0.9887545643666622\n",
        "# # F1 score for C=100: 0.9912902101962606"
      ],
      "execution_count": 0,
      "outputs": []
    },
    {
      "cell_type": "code",
      "metadata": {
        "id": "X9L4NqMkz8g7",
        "colab_type": "code",
        "colab": {}
      },
      "source": [
        "# clf_log = LogisticRegression(random_state=2019, C=100).fit(x_train, y_train)\n",
        "# clf_log"
      ],
      "execution_count": 0,
      "outputs": []
    },
    {
      "cell_type": "code",
      "metadata": {
        "id": "zrwGv08a5P4_",
        "colab_type": "code",
        "colab": {}
      },
      "source": [
        "# y_pred_val = clf_log.predict(x_val)\n",
        "# print(f1_score(y_val, y_pred_val))\n",
        "# print(f1_score(y_val, y_pred_val, average='macro'))\n",
        "# print(f1_score(y_val, y_pred_val, average='micro'))\n",
        "# print(f1_score(y_val, y_pred_val, average='weighted'))\n",
        "# # 0.6567901234567902\n",
        "# # 0.8228848738270236\n",
        "# # 0.9786449531418037\n",
        "# # 0.9758124877414203"
      ],
      "execution_count": 0,
      "outputs": []
    },
    {
      "cell_type": "code",
      "metadata": {
        "id": "QxNT5oxz4nlA",
        "colab_type": "code",
        "colab": {}
      },
      "source": [
        "# # Confusion Matrix\n",
        "# cm = confusion_matrix(y_val, y_pred_val).T\n",
        "# cm = cm.astype('float')/cm.sum(axis=0)\n",
        "# ax = sns.heatmap(cm, annot=True, cmap='Blues');\n",
        "# ax.set_xlabel('True Label',size=12)\n",
        "# ax.set_ylabel('Predicted Label',size=12)"
      ],
      "execution_count": 0,
      "outputs": []
    },
    {
      "cell_type": "code",
      "metadata": {
        "id": "pzR9JIZ05r8k",
        "colab_type": "code",
        "colab": {}
      },
      "source": [
        "# #clf_log.fit(train2, target)\n",
        "# y_pred = clf_log.predict(test)\n",
        "# y_pred"
      ],
      "execution_count": 0,
      "outputs": []
    },
    {
      "cell_type": "code",
      "metadata": {
        "id": "wNvlkjc9fRS2",
        "colab_type": "code",
        "colab": {
          "base_uri": "https://localhost:8080/",
          "height": 136
        },
        "outputId": "131767b2-0126-4bbe-c2a7-6c198dd608d1"
      },
      "source": [
        "# Random Forest\n",
        "rf = RandomForestClassifier(n_estimators=100, random_state = 2019).fit(x_train, y_train)\n",
        "rf"
      ],
      "execution_count": 51,
      "outputs": [
        {
          "output_type": "execute_result",
          "data": {
            "text/plain": [
              "RandomForestClassifier(bootstrap=True, class_weight=None, criterion='gini',\n",
              "                       max_depth=None, max_features='auto', max_leaf_nodes=None,\n",
              "                       min_impurity_decrease=0.0, min_impurity_split=None,\n",
              "                       min_samples_leaf=1, min_samples_split=2,\n",
              "                       min_weight_fraction_leaf=0.0, n_estimators=100,\n",
              "                       n_jobs=None, oob_score=False, random_state=2019,\n",
              "                       verbose=0, warm_start=False)"
            ]
          },
          "metadata": {
            "tags": []
          },
          "execution_count": 51
        }
      ]
    },
    {
      "cell_type": "code",
      "metadata": {
        "id": "n90R_h_nzCV5",
        "colab_type": "code",
        "colab": {
          "base_uri": "https://localhost:8080/",
          "height": 85
        },
        "outputId": "64e152ed-7db9-4cd7-855a-c4e915eb13a5"
      },
      "source": [
        "y_val_pred_rf = rf.predict(x_val)\n",
        "print(f1_score(y_val, y_val_pred_rf))\n",
        "print(f1_score(y_val, y_val_pred_rf, average='macro'))\n",
        "print(f1_score(y_val, y_val_pred_rf, average='micro'))\n",
        "print(f1_score(y_val, y_val_pred_rf, average='weighted'))\n",
        "# 0.6886792452830189\n",
        "# 0.8390998639879685\n",
        "# 0.9797235023041475\n",
        "# 0.9775977424084705"
      ],
      "execution_count": 52,
      "outputs": [
        {
          "output_type": "stream",
          "text": [
            "0.997026558891455\n",
            "0.997025442154458\n",
            "0.9970254425737142\n",
            "0.9970254420254562\n"
          ],
          "name": "stdout"
        }
      ]
    },
    {
      "cell_type": "code",
      "metadata": {
        "id": "9vWx6cJX2z7m",
        "colab_type": "code",
        "colab": {
          "base_uri": "https://localhost:8080/",
          "height": 303
        },
        "outputId": "9651c508-bc3e-4056-a9e7-5ed6373eb641"
      },
      "source": [
        "# Confusion Matrix\n",
        "cm = confusion_matrix(y_val, y_val_pred_rf).T\n",
        "cm = cm.astype('float')/cm.sum(axis=0)\n",
        "ax = sns.heatmap(cm, annot=True, cmap='Blues');\n",
        "ax.set_xlabel('True Label',size=12)\n",
        "ax.set_ylabel('Predicted Label',size=12)"
      ],
      "execution_count": 53,
      "outputs": [
        {
          "output_type": "execute_result",
          "data": {
            "text/plain": [
              "Text(33.0, 0.5, 'Predicted Label')"
            ]
          },
          "metadata": {
            "tags": []
          },
          "execution_count": 53
        },
        {
          "output_type": "display_data",
          "data": {
            "image/png": "[encoded data removed]",
            "text/plain": [
              "<Figure size 432x288 with 2 Axes>"
            ]
          },
          "metadata": {
            "tags": []
          }
        }
      ]
    },
    {
      "cell_type": "code",
      "metadata": {
        "id": "HmFB_wTZGki-",
        "colab_type": "code",
        "colab": {
          "base_uri": "https://localhost:8080/",
          "height": 34
        },
        "outputId": "a4312ec1-dc59-4204-b25b-aca79303c969"
      },
      "source": [
        "y_pred_rf = rf.predict(test)\n",
        "y_pred_rf"
      ],
      "execution_count": 54,
      "outputs": [
        {
          "output_type": "execute_result",
          "data": {
            "text/plain": [
              "array([0, 0, 0, ..., 0, 0, 0])"
            ]
          },
          "metadata": {
            "tags": []
          },
          "execution_count": 54
        }
      ]
    },
    {
      "cell_type": "code",
      "metadata": {
        "id": "u4zB3Tbu50HH",
        "colab_type": "code",
        "colab": {
          "base_uri": "https://localhost:8080/",
          "height": 68
        },
        "outputId": "b32276ea-e82e-4779-e8f2-361d190ee6e5"
      },
      "source": [
        "submission = {}\n",
        "submission['loan_id'] = test_loan_ids\n",
        "submission['m13'] = y_pred_rf\n",
        "#submission['m13'] = y_pred\n",
        "submission = pd.DataFrame(submission)\n",
        "submission = submission[['loan_id', 'm13']]\n",
        "submission.to_csv(\"submission.csv\", index=False)\n",
        "print(submission['m13'].value_counts())"
      ],
      "execution_count": 55,
      "outputs": [
        {
          "output_type": "stream",
          "text": [
            "0    35717\n",
            "1      149\n",
            "Name: m13, dtype: int64\n"
          ],
          "name": "stdout"
        }
      ]
    },
    {
      "cell_type": "code",
      "metadata": {
        "id": "k3gYlgH05_So",
        "colab_type": "code",
        "colab": {
          "base_uri": "https://localhost:8080/",
          "height": 102
        },
        "outputId": "f68ac9fd-d093-4c39-e477-a80ff35fd928"
      },
      "source": [
        "!pwd; ls -ltr"
      ],
      "execution_count": 56,
      "outputs": [
        {
          "output_type": "stream",
          "text": [
            "/content/drive/My Drive/Analytics Vidhya/ml-hiring-hackathon\n",
            "total 17949\n",
            "-rw------- 1 root root  3625812 Aug 15 08:26 test.csv\n",
            "-rw------- 1 root root 14476966 Aug 15 08:26 train.csv\n",
            "-rw------- 1 root root   275834 Aug 24 09:58 submission.csv\n"
          ],
          "name": "stdout"
        }
      ]
    },
    {
      "cell_type": "code",
      "metadata": {
        "id": "qxBGLo3A6E38",
        "colab_type": "code",
        "colab": {}
      },
      "source": [
        "files.download('submission.csv')"
      ],
      "execution_count": 0,
      "outputs": []
    },
    {
      "cell_type": "code",
      "metadata": {
        "id": "vxJ9sSaN6Hhs",
        "colab_type": "code",
        "colab": {}
      },
      "source": [
        "# from sklearn.model_selection import cross_val_score\n",
        "\n",
        "# # Function to calculate mean absolute error\n",
        "# def cross_val(x_train, y_train, model):\n",
        "#     # Applying k-Fold Cross Validation\n",
        "#     accuracies = cross_val_score(estimator = model, X = x_train, y = y_train, cv = 5)\n",
        "#     return accuracies.mean()\n",
        "\n",
        "# # Takes in a model, trains the model, and evaluates the model on the validation set\n",
        "# def fit_and_evaluate(model):\n",
        "    \n",
        "#     # Train the model\n",
        "#     model.fit(x_train, y_train)\n",
        "    \n",
        "#     # Make predictions and evalute\n",
        "#     model_pred = model.predict(x_val)\n",
        "#     model_cross = cross_val(x_train, y_train, model)\n",
        "    \n",
        "#     # Return the performance metric\n",
        "#     return model_cross"
      ],
      "execution_count": 0,
      "outputs": []
    },
    {
      "cell_type": "code",
      "metadata": {
        "id": "pFbHdsf08fVE",
        "colab_type": "code",
        "colab": {}
      },
      "source": [
        "# # Naive Bayes\n",
        "# from sklearn.naive_bayes import GaussianNB\n",
        "# naive = GaussianNB()\n",
        "# naive_cross = fit_and_evaluate(naive)\n",
        "# print('Naive Bayes Performance on validation set: Cross Validation Score = %0.4f' % naive_cross)\n"
      ],
      "execution_count": 0,
      "outputs": []
    },
    {
      "cell_type": "code",
      "metadata": {
        "id": "ax8wEuuM8s2a",
        "colab_type": "code",
        "colab": {}
      },
      "source": [
        "# # Random Forest Classification\n",
        "# random = RandomForestClassifier(n_estimators = 10, criterion = 'entropy')\n",
        "# random_cross = fit_and_evaluate(random)\n",
        "\n",
        "# print('Random Forest Performance on validation set: Cross Validation Score = %0.4f' % random_cross)"
      ],
      "execution_count": 0,
      "outputs": []
    },
    {
      "cell_type": "code",
      "metadata": {
        "id": "lzsiiCl88zjW",
        "colab_type": "code",
        "colab": {}
      },
      "source": [
        "# # Gradiente Boosting Classification\n",
        "# from xgboost import XGBClassifier\n",
        "# #gb = XGBClassifier()\n",
        "# gb = XGBClassifier(objective=\"binary:logistic\", learning_rate=0.03, n_estimators=500, max_depth=1, subsample=0.4, random_state=123)\n",
        "# gb_cross = fit_and_evaluate(gb)\n",
        "\n",
        "# print('Gradiente Boosting Classification Performance on validation set: Cross Validation Score = %0.4f' % gb_cross)\n",
        "# #Gradiente Boosting Classification Performance on validation set: Cross Validation Score = 0.9959"
      ],
      "execution_count": 0,
      "outputs": []
    },
    {
      "cell_type": "code",
      "metadata": {
        "id": "puxPgQ1s83Ci",
        "colab_type": "code",
        "colab": {}
      },
      "source": [
        "# # LogisticRegression\n",
        "# lg = LogisticRegression()\n",
        "# lg_cross = fit_and_evaluate(lg)\n",
        "\n",
        "# print('LogisticRegression Performance on validation set: Cross Validation Score = %0.4f' % lg_cross)"
      ],
      "execution_count": 0,
      "outputs": []
    },
    {
      "cell_type": "code",
      "metadata": {
        "id": "VEaotM6U9Wsr",
        "colab_type": "code",
        "colab": {}
      },
      "source": [
        "# # SVM\n",
        "# from sklearn.svm import SVC\n",
        "# svm = SVC()\n",
        "# svm_cross = fit_and_evaluate(svm)\n",
        "\n",
        "# print('SVM Performance on validation set: Cross Validation Score = %0.4f' % svm_cross)"
      ],
      "execution_count": 0,
      "outputs": []
    },
    {
      "cell_type": "code",
      "metadata": {
        "id": "wnUO8nFT96aT",
        "colab_type": "code",
        "colab": {}
      },
      "source": [
        "# import statsmodels.api as sm\n",
        "# glm = sm.GLM(y_train, x_train, sm.families.Binomial())\n",
        "\n",
        "# results = glm.fit()\n",
        "\n",
        "# print(roc_auc_score(y_val, results.predict(x_val)))"
      ],
      "execution_count": 0,
      "outputs": []
    },
    {
      "cell_type": "code",
      "metadata": {
        "id": "ZrKU--tDOA_D",
        "colab_type": "code",
        "colab": {}
      },
      "source": [
        ""
      ],
      "execution_count": 0,
      "outputs": []
    }
  ]
}