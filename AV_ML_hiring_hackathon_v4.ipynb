{
  "nbformat": 4,
  "nbformat_minor": 0,
  "metadata": {
    "colab": {
      "name": "AV_ML_hiring_hackathon_v4.ipynb",
      "version": "0.3.2",
      "provenance": [],
      "collapsed_sections": [],
      "machine_shape": "hm"
    },
    "kernelspec": {
      "name": "python3",
      "display_name": "Python 3"
    },
    "accelerator": "GPU"
  },
  "cells": [
    {
      "cell_type": "markdown",
      "metadata": {
        "id": "AnL6TLA4xpjc",
        "colab_type": "text"
      },
      "source": [
        "# AV ML Hiring Hackathon\n",
        "\n",
        "Analytics Vidhya Machine Learning Hiring Hackathon 2019\n",
        "\n",
        "Load Prediction Analysis in Python using sklearn package\n",
        "\n",
        "https://satya-python.blogspot.com/\n",
        "\n",
        "Jupyter Notebook in Google Colab"
      ]
    },
    {
      "cell_type": "code",
      "metadata": {
        "id": "WXqkWWEtuR_f",
        "colab_type": "code",
        "colab": {}
      },
      "source": [
        "# Importing required packages\n",
        "\n",
        "import numpy as np\n",
        "import pandas as pd\n",
        "import seaborn as sns\n",
        "import matplotlib.pyplot as plt\n",
        "\n",
        "import warnings\n",
        "warnings.filterwarnings('ignore')\n",
        "\n",
        "from sklearn.model_selection import train_test_split\n",
        "from sklearn.metrics import accuracy_score, f1_score, roc_auc_score,confusion_matrix\n",
        "from sklearn.linear_model import LogisticRegression\n",
        "from sklearn.ensemble import RandomForestClassifier\n",
        "from sklearn.preprocessing import StandardScaler,MinMaxScaler,PolynomialFeatures\n",
        "from sklearn.decomposition import PCA"
      ],
      "execution_count": 0,
      "outputs": []
    },
    {
      "cell_type": "markdown",
      "metadata": {
        "id": "T7Yg_foy7L5s",
        "colab_type": "text"
      },
      "source": [
        "# Loading Data"
      ]
    },
    {
      "cell_type": "code",
      "metadata": {
        "id": "fGWDXuM2up6n",
        "colab_type": "code",
        "outputId": "0f4a04a5-9d4f-4cad-b3af-ce85955695d4",
        "colab": {
          "base_uri": "https://localhost:8080/",
          "height": 51
        }
      },
      "source": [
        "# For Google Colaboratory and Google Drive\n",
        "from google.colab import files,drive\n",
        "drive.mount('/content/drive')\n",
        "%cd /content/drive/My\\ Drive/Analytics\\ Vidhya/ml-hiring-hackathon"
      ],
      "execution_count": 4,
      "outputs": [
        {
          "output_type": "stream",
          "text": [
            "Drive already mounted at /content/drive; to attempt to forcibly remount, call drive.mount(\"/content/drive\", force_remount=True).\n",
            "/content/drive/My Drive/Analytics Vidhya/ml-hiring-hackathon\n"
          ],
          "name": "stdout"
        }
      ]
    },
    {
      "cell_type": "code",
      "metadata": {
        "id": "8hApXYn6uq36",
        "colab_type": "code",
        "colab": {}
      },
      "source": [
        "train = pd.read_csv(\"train.csv\")\n",
        "test = pd.read_csv(\"test.csv\")\n",
        "test_loan_ids = test[\"loan_id\"]"
      ],
      "execution_count": 0,
      "outputs": []
    },
    {
      "cell_type": "markdown",
      "metadata": {
        "id": "psJRySle4z72",
        "colab_type": "text"
      },
      "source": [
        "# EDA - Exploratory Data Analysis"
      ]
    },
    {
      "cell_type": "code",
      "metadata": {
        "id": "fKSs6cp08LUT",
        "colab_type": "code",
        "outputId": "dac6484f-bf53-4d96-8376-7deded85c2a6",
        "colab": {
          "base_uri": "https://localhost:8080/",
          "height": 85
        }
      },
      "source": [
        "# check number of features and data points in train and test\n",
        "print(\"Number of data points in train: %d\" % train.shape[0])\n",
        "print(\"Number of features in train: %d\" % train.shape[1])\n",
        "\n",
        "print(\"Number of data points in test: %d\" % test.shape[0])\n",
        "print(\"Number of features in test: %d\" % test.shape[1])"
      ],
      "execution_count": 6,
      "outputs": [
        {
          "output_type": "stream",
          "text": [
            "Number of data points in train: 116058\n",
            "Number of features in train: 29\n",
            "Number of data points in test: 35866\n",
            "Number of features in test: 28\n"
          ],
          "name": "stdout"
        }
      ]
    },
    {
      "cell_type": "code",
      "metadata": {
        "id": "LibJs4GcwGKN",
        "colab_type": "code",
        "outputId": "9c56cb60-2747-406a-aec2-6aff8fc38c77",
        "colab": {
          "base_uri": "https://localhost:8080/",
          "height": 595
        }
      },
      "source": [
        "train.info()"
      ],
      "execution_count": 7,
      "outputs": [
        {
          "output_type": "stream",
          "text": [
            "<class 'pandas.core.frame.DataFrame'>\n",
            "RangeIndex: 116058 entries, 0 to 116057\n",
            "Data columns (total 29 columns):\n",
            "loan_id                     116058 non-null int64\n",
            "source                      116058 non-null object\n",
            "financial_institution       116058 non-null object\n",
            "interest_rate               116058 non-null float64\n",
            "unpaid_principal_bal        116058 non-null int64\n",
            "loan_term                   116058 non-null int64\n",
            "origination_date            116058 non-null object\n",
            "first_payment_date          116058 non-null object\n",
            "loan_to_value               116058 non-null int64\n",
            "number_of_borrowers         116058 non-null float64\n",
            "debt_to_income_ratio        116058 non-null float64\n",
            "borrower_credit_score       116058 non-null float64\n",
            "loan_purpose                116058 non-null object\n",
            "insurance_percent           116058 non-null float64\n",
            "co-borrower_credit_score    116058 non-null float64\n",
            "insurance_type              116058 non-null float64\n",
            "m1                          116058 non-null int64\n",
            "m2                          116058 non-null int64\n",
            "m3                          116058 non-null int64\n",
            "m4                          116058 non-null int64\n",
            "m5                          116058 non-null int64\n",
            "m6                          116058 non-null int64\n",
            "m7                          116058 non-null int64\n",
            "m8                          116058 non-null int64\n",
            "m9                          116058 non-null int64\n",
            "m10                         116058 non-null int64\n",
            "m11                         116058 non-null int64\n",
            "m12                         116058 non-null int64\n",
            "m13                         116058 non-null int64\n",
            "dtypes: float64(7), int64(17), object(5)\n",
            "memory usage: 25.7+ MB\n"
          ],
          "name": "stdout"
        }
      ]
    },
    {
      "cell_type": "code",
      "metadata": {
        "id": "DZdPyRl9um-M",
        "colab_type": "code",
        "outputId": "4c7dd0c6-7b58-45db-f783-88c15cac3efe",
        "colab": {
          "base_uri": "https://localhost:8080/",
          "height": 258
        }
      },
      "source": [
        "train.head()"
      ],
      "execution_count": 8,
      "outputs": [
        {
          "output_type": "execute_result",
          "data": {
            "text/html": [
              "<div>\n",
              "<style scoped>\n",
              "    .dataframe tbody tr th:only-of-type {\n",
              "        vertical-align: middle;\n",
              "    }\n",
              "\n",
              "    .dataframe tbody tr th {\n",
              "        vertical-align: top;\n",
              "    }\n",
              "\n",
              "    .dataframe thead th {\n",
              "        text-align: right;\n",
              "    }\n",
              "</style>\n",
              "<table border=\"1\" class=\"dataframe\">\n",
              "  <thead>\n",
              "    <tr style=\"text-align: right;\">\n",
              "      <th></th>\n",
              "      <th>loan_id</th>\n",
              "      <th>source</th>\n",
              "      <th>financial_institution</th>\n",
              "      <th>interest_rate</th>\n",
              "      <th>unpaid_principal_bal</th>\n",
              "      <th>loan_term</th>\n",
              "      <th>origination_date</th>\n",
              "      <th>first_payment_date</th>\n",
              "      <th>loan_to_value</th>\n",
              "      <th>number_of_borrowers</th>\n",
              "      <th>debt_to_income_ratio</th>\n",
              "      <th>borrower_credit_score</th>\n",
              "      <th>loan_purpose</th>\n",
              "      <th>insurance_percent</th>\n",
              "      <th>co-borrower_credit_score</th>\n",
              "      <th>insurance_type</th>\n",
              "      <th>m1</th>\n",
              "      <th>m2</th>\n",
              "      <th>m3</th>\n",
              "      <th>m4</th>\n",
              "      <th>m5</th>\n",
              "      <th>m6</th>\n",
              "      <th>m7</th>\n",
              "      <th>m8</th>\n",
              "      <th>m9</th>\n",
              "      <th>m10</th>\n",
              "      <th>m11</th>\n",
              "      <th>m12</th>\n",
              "      <th>m13</th>\n",
              "    </tr>\n",
              "  </thead>\n",
              "  <tbody>\n",
              "    <tr>\n",
              "      <th>0</th>\n",
              "      <td>268055008619</td>\n",
              "      <td>Z</td>\n",
              "      <td>Turner, Baldwin and Rhodes</td>\n",
              "      <td>4.250</td>\n",
              "      <td>214000</td>\n",
              "      <td>360</td>\n",
              "      <td>2012-03-01</td>\n",
              "      <td>05/2012</td>\n",
              "      <td>95</td>\n",
              "      <td>1.0</td>\n",
              "      <td>22.0</td>\n",
              "      <td>694.0</td>\n",
              "      <td>C86</td>\n",
              "      <td>30.0</td>\n",
              "      <td>0.0</td>\n",
              "      <td>0.0</td>\n",
              "      <td>0</td>\n",
              "      <td>0</td>\n",
              "      <td>0</td>\n",
              "      <td>0</td>\n",
              "      <td>0</td>\n",
              "      <td>0</td>\n",
              "      <td>1</td>\n",
              "      <td>0</td>\n",
              "      <td>0</td>\n",
              "      <td>0</td>\n",
              "      <td>0</td>\n",
              "      <td>0</td>\n",
              "      <td>1</td>\n",
              "    </tr>\n",
              "    <tr>\n",
              "      <th>1</th>\n",
              "      <td>672831657627</td>\n",
              "      <td>Y</td>\n",
              "      <td>Swanson, Newton and Miller</td>\n",
              "      <td>4.875</td>\n",
              "      <td>144000</td>\n",
              "      <td>360</td>\n",
              "      <td>2012-01-01</td>\n",
              "      <td>03/2012</td>\n",
              "      <td>72</td>\n",
              "      <td>1.0</td>\n",
              "      <td>44.0</td>\n",
              "      <td>697.0</td>\n",
              "      <td>B12</td>\n",
              "      <td>0.0</td>\n",
              "      <td>0.0</td>\n",
              "      <td>0.0</td>\n",
              "      <td>0</td>\n",
              "      <td>0</td>\n",
              "      <td>0</td>\n",
              "      <td>0</td>\n",
              "      <td>0</td>\n",
              "      <td>0</td>\n",
              "      <td>0</td>\n",
              "      <td>0</td>\n",
              "      <td>0</td>\n",
              "      <td>0</td>\n",
              "      <td>1</td>\n",
              "      <td>0</td>\n",
              "      <td>1</td>\n",
              "    </tr>\n",
              "    <tr>\n",
              "      <th>2</th>\n",
              "      <td>742515242108</td>\n",
              "      <td>Z</td>\n",
              "      <td>Thornton-Davis</td>\n",
              "      <td>3.250</td>\n",
              "      <td>366000</td>\n",
              "      <td>180</td>\n",
              "      <td>2012-01-01</td>\n",
              "      <td>03/2012</td>\n",
              "      <td>49</td>\n",
              "      <td>1.0</td>\n",
              "      <td>33.0</td>\n",
              "      <td>780.0</td>\n",
              "      <td>B12</td>\n",
              "      <td>0.0</td>\n",
              "      <td>0.0</td>\n",
              "      <td>0.0</td>\n",
              "      <td>0</td>\n",
              "      <td>0</td>\n",
              "      <td>0</td>\n",
              "      <td>0</td>\n",
              "      <td>0</td>\n",
              "      <td>0</td>\n",
              "      <td>0</td>\n",
              "      <td>0</td>\n",
              "      <td>0</td>\n",
              "      <td>0</td>\n",
              "      <td>0</td>\n",
              "      <td>0</td>\n",
              "      <td>1</td>\n",
              "    </tr>\n",
              "    <tr>\n",
              "      <th>3</th>\n",
              "      <td>601385667462</td>\n",
              "      <td>X</td>\n",
              "      <td>OTHER</td>\n",
              "      <td>4.750</td>\n",
              "      <td>135000</td>\n",
              "      <td>360</td>\n",
              "      <td>2012-02-01</td>\n",
              "      <td>04/2012</td>\n",
              "      <td>46</td>\n",
              "      <td>2.0</td>\n",
              "      <td>44.0</td>\n",
              "      <td>633.0</td>\n",
              "      <td>B12</td>\n",
              "      <td>0.0</td>\n",
              "      <td>638.0</td>\n",
              "      <td>0.0</td>\n",
              "      <td>0</td>\n",
              "      <td>0</td>\n",
              "      <td>0</td>\n",
              "      <td>0</td>\n",
              "      <td>0</td>\n",
              "      <td>0</td>\n",
              "      <td>0</td>\n",
              "      <td>0</td>\n",
              "      <td>1</td>\n",
              "      <td>1</td>\n",
              "      <td>1</td>\n",
              "      <td>1</td>\n",
              "      <td>1</td>\n",
              "    </tr>\n",
              "    <tr>\n",
              "      <th>4</th>\n",
              "      <td>273870029961</td>\n",
              "      <td>X</td>\n",
              "      <td>OTHER</td>\n",
              "      <td>4.750</td>\n",
              "      <td>124000</td>\n",
              "      <td>360</td>\n",
              "      <td>2012-02-01</td>\n",
              "      <td>04/2012</td>\n",
              "      <td>80</td>\n",
              "      <td>1.0</td>\n",
              "      <td>43.0</td>\n",
              "      <td>681.0</td>\n",
              "      <td>C86</td>\n",
              "      <td>0.0</td>\n",
              "      <td>0.0</td>\n",
              "      <td>0.0</td>\n",
              "      <td>0</td>\n",
              "      <td>1</td>\n",
              "      <td>2</td>\n",
              "      <td>3</td>\n",
              "      <td>4</td>\n",
              "      <td>5</td>\n",
              "      <td>6</td>\n",
              "      <td>7</td>\n",
              "      <td>8</td>\n",
              "      <td>9</td>\n",
              "      <td>10</td>\n",
              "      <td>11</td>\n",
              "      <td>1</td>\n",
              "    </tr>\n",
              "  </tbody>\n",
              "</table>\n",
              "</div>"
            ],
            "text/plain": [
              "        loan_id source       financial_institution  ...  m11  m12  m13\n",
              "0  268055008619      Z  Turner, Baldwin and Rhodes  ...    0    0    1\n",
              "1  672831657627      Y  Swanson, Newton and Miller  ...    1    0    1\n",
              "2  742515242108      Z              Thornton-Davis  ...    0    0    1\n",
              "3  601385667462      X                       OTHER  ...    1    1    1\n",
              "4  273870029961      X                       OTHER  ...   10   11    1\n",
              "\n",
              "[5 rows x 29 columns]"
            ]
          },
          "metadata": {
            "tags": []
          },
          "execution_count": 8
        }
      ]
    },
    {
      "cell_type": "code",
      "metadata": {
        "id": "E4MuooizxHsX",
        "colab_type": "code",
        "outputId": "7f516e98-8299-4e53-f553-862acbe5decb",
        "colab": {
          "base_uri": "https://localhost:8080/",
          "height": 241
        }
      },
      "source": [
        "test.head()"
      ],
      "execution_count": 9,
      "outputs": [
        {
          "output_type": "execute_result",
          "data": {
            "text/html": [
              "<div>\n",
              "<style scoped>\n",
              "    .dataframe tbody tr th:only-of-type {\n",
              "        vertical-align: middle;\n",
              "    }\n",
              "\n",
              "    .dataframe tbody tr th {\n",
              "        vertical-align: top;\n",
              "    }\n",
              "\n",
              "    .dataframe thead th {\n",
              "        text-align: right;\n",
              "    }\n",
              "</style>\n",
              "<table border=\"1\" class=\"dataframe\">\n",
              "  <thead>\n",
              "    <tr style=\"text-align: right;\">\n",
              "      <th></th>\n",
              "      <th>loan_id</th>\n",
              "      <th>source</th>\n",
              "      <th>financial_institution</th>\n",
              "      <th>interest_rate</th>\n",
              "      <th>unpaid_principal_bal</th>\n",
              "      <th>loan_term</th>\n",
              "      <th>origination_date</th>\n",
              "      <th>first_payment_date</th>\n",
              "      <th>loan_to_value</th>\n",
              "      <th>number_of_borrowers</th>\n",
              "      <th>debt_to_income_ratio</th>\n",
              "      <th>borrower_credit_score</th>\n",
              "      <th>loan_purpose</th>\n",
              "      <th>insurance_percent</th>\n",
              "      <th>co-borrower_credit_score</th>\n",
              "      <th>insurance_type</th>\n",
              "      <th>m1</th>\n",
              "      <th>m2</th>\n",
              "      <th>m3</th>\n",
              "      <th>m4</th>\n",
              "      <th>m5</th>\n",
              "      <th>m6</th>\n",
              "      <th>m7</th>\n",
              "      <th>m8</th>\n",
              "      <th>m9</th>\n",
              "      <th>m10</th>\n",
              "      <th>m11</th>\n",
              "      <th>m12</th>\n",
              "    </tr>\n",
              "  </thead>\n",
              "  <tbody>\n",
              "    <tr>\n",
              "      <th>0</th>\n",
              "      <td>1</td>\n",
              "      <td>Y</td>\n",
              "      <td>Browning-Hart</td>\n",
              "      <td>3.875</td>\n",
              "      <td>417000</td>\n",
              "      <td>360</td>\n",
              "      <td>01/02/12</td>\n",
              "      <td>Apr-12</td>\n",
              "      <td>75</td>\n",
              "      <td>1</td>\n",
              "      <td>20</td>\n",
              "      <td>790</td>\n",
              "      <td>A23</td>\n",
              "      <td>0</td>\n",
              "      <td>0</td>\n",
              "      <td>0</td>\n",
              "      <td>0</td>\n",
              "      <td>0</td>\n",
              "      <td>0</td>\n",
              "      <td>0</td>\n",
              "      <td>0</td>\n",
              "      <td>0</td>\n",
              "      <td>0</td>\n",
              "      <td>0</td>\n",
              "      <td>0</td>\n",
              "      <td>0</td>\n",
              "      <td>0</td>\n",
              "      <td>0</td>\n",
              "    </tr>\n",
              "    <tr>\n",
              "      <th>1</th>\n",
              "      <td>2</td>\n",
              "      <td>X</td>\n",
              "      <td>OTHER</td>\n",
              "      <td>4.500</td>\n",
              "      <td>113000</td>\n",
              "      <td>360</td>\n",
              "      <td>01/02/12</td>\n",
              "      <td>Apr-12</td>\n",
              "      <td>80</td>\n",
              "      <td>2</td>\n",
              "      <td>33</td>\n",
              "      <td>793</td>\n",
              "      <td>C86</td>\n",
              "      <td>0</td>\n",
              "      <td>784</td>\n",
              "      <td>0</td>\n",
              "      <td>0</td>\n",
              "      <td>0</td>\n",
              "      <td>0</td>\n",
              "      <td>0</td>\n",
              "      <td>0</td>\n",
              "      <td>0</td>\n",
              "      <td>0</td>\n",
              "      <td>0</td>\n",
              "      <td>0</td>\n",
              "      <td>0</td>\n",
              "      <td>0</td>\n",
              "      <td>0</td>\n",
              "    </tr>\n",
              "    <tr>\n",
              "      <th>2</th>\n",
              "      <td>3</td>\n",
              "      <td>Y</td>\n",
              "      <td>OTHER</td>\n",
              "      <td>4.500</td>\n",
              "      <td>72000</td>\n",
              "      <td>360</td>\n",
              "      <td>01/01/12</td>\n",
              "      <td>Mar-12</td>\n",
              "      <td>75</td>\n",
              "      <td>1</td>\n",
              "      <td>34</td>\n",
              "      <td>710</td>\n",
              "      <td>C86</td>\n",
              "      <td>0</td>\n",
              "      <td>0</td>\n",
              "      <td>0</td>\n",
              "      <td>0</td>\n",
              "      <td>0</td>\n",
              "      <td>0</td>\n",
              "      <td>0</td>\n",
              "      <td>0</td>\n",
              "      <td>0</td>\n",
              "      <td>0</td>\n",
              "      <td>0</td>\n",
              "      <td>0</td>\n",
              "      <td>0</td>\n",
              "      <td>0</td>\n",
              "      <td>0</td>\n",
              "    </tr>\n",
              "    <tr>\n",
              "      <th>3</th>\n",
              "      <td>4</td>\n",
              "      <td>X</td>\n",
              "      <td>Miller, Mcclure and Allen</td>\n",
              "      <td>4.125</td>\n",
              "      <td>123000</td>\n",
              "      <td>180</td>\n",
              "      <td>01/02/12</td>\n",
              "      <td>Apr-12</td>\n",
              "      <td>41</td>\n",
              "      <td>2</td>\n",
              "      <td>24</td>\n",
              "      <td>798</td>\n",
              "      <td>A23</td>\n",
              "      <td>0</td>\n",
              "      <td>813</td>\n",
              "      <td>0</td>\n",
              "      <td>0</td>\n",
              "      <td>0</td>\n",
              "      <td>0</td>\n",
              "      <td>0</td>\n",
              "      <td>0</td>\n",
              "      <td>0</td>\n",
              "      <td>0</td>\n",
              "      <td>0</td>\n",
              "      <td>0</td>\n",
              "      <td>0</td>\n",
              "      <td>0</td>\n",
              "      <td>0</td>\n",
              "    </tr>\n",
              "    <tr>\n",
              "      <th>4</th>\n",
              "      <td>5</td>\n",
              "      <td>X</td>\n",
              "      <td>Browning-Hart</td>\n",
              "      <td>3.250</td>\n",
              "      <td>166000</td>\n",
              "      <td>180</td>\n",
              "      <td>01/02/12</td>\n",
              "      <td>Apr-12</td>\n",
              "      <td>53</td>\n",
              "      <td>2</td>\n",
              "      <td>12</td>\n",
              "      <td>767</td>\n",
              "      <td>A23</td>\n",
              "      <td>0</td>\n",
              "      <td>768</td>\n",
              "      <td>0</td>\n",
              "      <td>0</td>\n",
              "      <td>0</td>\n",
              "      <td>0</td>\n",
              "      <td>0</td>\n",
              "      <td>0</td>\n",
              "      <td>0</td>\n",
              "      <td>0</td>\n",
              "      <td>0</td>\n",
              "      <td>0</td>\n",
              "      <td>0</td>\n",
              "      <td>0</td>\n",
              "      <td>0</td>\n",
              "    </tr>\n",
              "  </tbody>\n",
              "</table>\n",
              "</div>"
            ],
            "text/plain": [
              "   loan_id source      financial_institution  interest_rate  ...  m9  m10 m11 m12\n",
              "0        1      Y              Browning-Hart          3.875  ...   0    0   0   0\n",
              "1        2      X                      OTHER          4.500  ...   0    0   0   0\n",
              "2        3      Y                      OTHER          4.500  ...   0    0   0   0\n",
              "3        4      X  Miller, Mcclure and Allen          4.125  ...   0    0   0   0\n",
              "4        5      X              Browning-Hart          3.250  ...   0    0   0   0\n",
              "\n",
              "[5 rows x 28 columns]"
            ]
          },
          "metadata": {
            "tags": []
          },
          "execution_count": 9
        }
      ]
    },
    {
      "cell_type": "code",
      "metadata": {
        "id": "zfQ7FX999nOq",
        "colab_type": "code",
        "colab": {}
      },
      "source": [
        "train['origination_date'] = pd.to_datetime(train['origination_date'], format='%Y-%m-%d')\n",
        "train['first_payment_date'] = pd.to_datetime(train['first_payment_date'], format='%m/%Y')\n",
        "test['origination_date'] = pd.to_datetime(test['origination_date'], format='%d/%m/%y')\n",
        "test['first_payment_date'] = pd.to_datetime(test['first_payment_date'], format='%b-%y')"
      ],
      "execution_count": 0,
      "outputs": []
    },
    {
      "cell_type": "code",
      "metadata": {
        "id": "cn911_30b6p2",
        "colab_type": "code",
        "outputId": "dd32f6b1-6e5e-44b4-f499-c2a5306c547a",
        "colab": {
          "base_uri": "https://localhost:8080/",
          "height": 258
        }
      },
      "source": [
        "train.head()"
      ],
      "execution_count": 11,
      "outputs": [
        {
          "output_type": "execute_result",
          "data": {
            "text/html": [
              "<div>\n",
              "<style scoped>\n",
              "    .dataframe tbody tr th:only-of-type {\n",
              "        vertical-align: middle;\n",
              "    }\n",
              "\n",
              "    .dataframe tbody tr th {\n",
              "        vertical-align: top;\n",
              "    }\n",
              "\n",
              "    .dataframe thead th {\n",
              "        text-align: right;\n",
              "    }\n",
              "</style>\n",
              "<table border=\"1\" class=\"dataframe\">\n",
              "  <thead>\n",
              "    <tr style=\"text-align: right;\">\n",
              "      <th></th>\n",
              "      <th>loan_id</th>\n",
              "      <th>source</th>\n",
              "      <th>financial_institution</th>\n",
              "      <th>interest_rate</th>\n",
              "      <th>unpaid_principal_bal</th>\n",
              "      <th>loan_term</th>\n",
              "      <th>origination_date</th>\n",
              "      <th>first_payment_date</th>\n",
              "      <th>loan_to_value</th>\n",
              "      <th>number_of_borrowers</th>\n",
              "      <th>debt_to_income_ratio</th>\n",
              "      <th>borrower_credit_score</th>\n",
              "      <th>loan_purpose</th>\n",
              "      <th>insurance_percent</th>\n",
              "      <th>co-borrower_credit_score</th>\n",
              "      <th>insurance_type</th>\n",
              "      <th>m1</th>\n",
              "      <th>m2</th>\n",
              "      <th>m3</th>\n",
              "      <th>m4</th>\n",
              "      <th>m5</th>\n",
              "      <th>m6</th>\n",
              "      <th>m7</th>\n",
              "      <th>m8</th>\n",
              "      <th>m9</th>\n",
              "      <th>m10</th>\n",
              "      <th>m11</th>\n",
              "      <th>m12</th>\n",
              "      <th>m13</th>\n",
              "    </tr>\n",
              "  </thead>\n",
              "  <tbody>\n",
              "    <tr>\n",
              "      <th>0</th>\n",
              "      <td>268055008619</td>\n",
              "      <td>Z</td>\n",
              "      <td>Turner, Baldwin and Rhodes</td>\n",
              "      <td>4.250</td>\n",
              "      <td>214000</td>\n",
              "      <td>360</td>\n",
              "      <td>2012-03-01</td>\n",
              "      <td>2012-05-01</td>\n",
              "      <td>95</td>\n",
              "      <td>1.0</td>\n",
              "      <td>22.0</td>\n",
              "      <td>694.0</td>\n",
              "      <td>C86</td>\n",
              "      <td>30.0</td>\n",
              "      <td>0.0</td>\n",
              "      <td>0.0</td>\n",
              "      <td>0</td>\n",
              "      <td>0</td>\n",
              "      <td>0</td>\n",
              "      <td>0</td>\n",
              "      <td>0</td>\n",
              "      <td>0</td>\n",
              "      <td>1</td>\n",
              "      <td>0</td>\n",
              "      <td>0</td>\n",
              "      <td>0</td>\n",
              "      <td>0</td>\n",
              "      <td>0</td>\n",
              "      <td>1</td>\n",
              "    </tr>\n",
              "    <tr>\n",
              "      <th>1</th>\n",
              "      <td>672831657627</td>\n",
              "      <td>Y</td>\n",
              "      <td>Swanson, Newton and Miller</td>\n",
              "      <td>4.875</td>\n",
              "      <td>144000</td>\n",
              "      <td>360</td>\n",
              "      <td>2012-01-01</td>\n",
              "      <td>2012-03-01</td>\n",
              "      <td>72</td>\n",
              "      <td>1.0</td>\n",
              "      <td>44.0</td>\n",
              "      <td>697.0</td>\n",
              "      <td>B12</td>\n",
              "      <td>0.0</td>\n",
              "      <td>0.0</td>\n",
              "      <td>0.0</td>\n",
              "      <td>0</td>\n",
              "      <td>0</td>\n",
              "      <td>0</td>\n",
              "      <td>0</td>\n",
              "      <td>0</td>\n",
              "      <td>0</td>\n",
              "      <td>0</td>\n",
              "      <td>0</td>\n",
              "      <td>0</td>\n",
              "      <td>0</td>\n",
              "      <td>1</td>\n",
              "      <td>0</td>\n",
              "      <td>1</td>\n",
              "    </tr>\n",
              "    <tr>\n",
              "      <th>2</th>\n",
              "      <td>742515242108</td>\n",
              "      <td>Z</td>\n",
              "      <td>Thornton-Davis</td>\n",
              "      <td>3.250</td>\n",
              "      <td>366000</td>\n",
              "      <td>180</td>\n",
              "      <td>2012-01-01</td>\n",
              "      <td>2012-03-01</td>\n",
              "      <td>49</td>\n",
              "      <td>1.0</td>\n",
              "      <td>33.0</td>\n",
              "      <td>780.0</td>\n",
              "      <td>B12</td>\n",
              "      <td>0.0</td>\n",
              "      <td>0.0</td>\n",
              "      <td>0.0</td>\n",
              "      <td>0</td>\n",
              "      <td>0</td>\n",
              "      <td>0</td>\n",
              "      <td>0</td>\n",
              "      <td>0</td>\n",
              "      <td>0</td>\n",
              "      <td>0</td>\n",
              "      <td>0</td>\n",
              "      <td>0</td>\n",
              "      <td>0</td>\n",
              "      <td>0</td>\n",
              "      <td>0</td>\n",
              "      <td>1</td>\n",
              "    </tr>\n",
              "    <tr>\n",
              "      <th>3</th>\n",
              "      <td>601385667462</td>\n",
              "      <td>X</td>\n",
              "      <td>OTHER</td>\n",
              "      <td>4.750</td>\n",
              "      <td>135000</td>\n",
              "      <td>360</td>\n",
              "      <td>2012-02-01</td>\n",
              "      <td>2012-04-01</td>\n",
              "      <td>46</td>\n",
              "      <td>2.0</td>\n",
              "      <td>44.0</td>\n",
              "      <td>633.0</td>\n",
              "      <td>B12</td>\n",
              "      <td>0.0</td>\n",
              "      <td>638.0</td>\n",
              "      <td>0.0</td>\n",
              "      <td>0</td>\n",
              "      <td>0</td>\n",
              "      <td>0</td>\n",
              "      <td>0</td>\n",
              "      <td>0</td>\n",
              "      <td>0</td>\n",
              "      <td>0</td>\n",
              "      <td>0</td>\n",
              "      <td>1</td>\n",
              "      <td>1</td>\n",
              "      <td>1</td>\n",
              "      <td>1</td>\n",
              "      <td>1</td>\n",
              "    </tr>\n",
              "    <tr>\n",
              "      <th>4</th>\n",
              "      <td>273870029961</td>\n",
              "      <td>X</td>\n",
              "      <td>OTHER</td>\n",
              "      <td>4.750</td>\n",
              "      <td>124000</td>\n",
              "      <td>360</td>\n",
              "      <td>2012-02-01</td>\n",
              "      <td>2012-04-01</td>\n",
              "      <td>80</td>\n",
              "      <td>1.0</td>\n",
              "      <td>43.0</td>\n",
              "      <td>681.0</td>\n",
              "      <td>C86</td>\n",
              "      <td>0.0</td>\n",
              "      <td>0.0</td>\n",
              "      <td>0.0</td>\n",
              "      <td>0</td>\n",
              "      <td>1</td>\n",
              "      <td>2</td>\n",
              "      <td>3</td>\n",
              "      <td>4</td>\n",
              "      <td>5</td>\n",
              "      <td>6</td>\n",
              "      <td>7</td>\n",
              "      <td>8</td>\n",
              "      <td>9</td>\n",
              "      <td>10</td>\n",
              "      <td>11</td>\n",
              "      <td>1</td>\n",
              "    </tr>\n",
              "  </tbody>\n",
              "</table>\n",
              "</div>"
            ],
            "text/plain": [
              "        loan_id source       financial_institution  ...  m11  m12  m13\n",
              "0  268055008619      Z  Turner, Baldwin and Rhodes  ...    0    0    1\n",
              "1  672831657627      Y  Swanson, Newton and Miller  ...    1    0    1\n",
              "2  742515242108      Z              Thornton-Davis  ...    0    0    1\n",
              "3  601385667462      X                       OTHER  ...    1    1    1\n",
              "4  273870029961      X                       OTHER  ...   10   11    1\n",
              "\n",
              "[5 rows x 29 columns]"
            ]
          },
          "metadata": {
            "tags": []
          },
          "execution_count": 11
        }
      ]
    },
    {
      "cell_type": "code",
      "metadata": {
        "id": "5lqSW-rTa4T0",
        "colab_type": "code",
        "outputId": "fd7e74e5-2d92-43f7-ba1f-805276918d07",
        "colab": {
          "base_uri": "https://localhost:8080/",
          "height": 241
        }
      },
      "source": [
        "test.head()"
      ],
      "execution_count": 12,
      "outputs": [
        {
          "output_type": "execute_result",
          "data": {
            "text/html": [
              "<div>\n",
              "<style scoped>\n",
              "    .dataframe tbody tr th:only-of-type {\n",
              "        vertical-align: middle;\n",
              "    }\n",
              "\n",
              "    .dataframe tbody tr th {\n",
              "        vertical-align: top;\n",
              "    }\n",
              "\n",
              "    .dataframe thead th {\n",
              "        text-align: right;\n",
              "    }\n",
              "</style>\n",
              "<table border=\"1\" class=\"dataframe\">\n",
              "  <thead>\n",
              "    <tr style=\"text-align: right;\">\n",
              "      <th></th>\n",
              "      <th>loan_id</th>\n",
              "      <th>source</th>\n",
              "      <th>financial_institution</th>\n",
              "      <th>interest_rate</th>\n",
              "      <th>unpaid_principal_bal</th>\n",
              "      <th>loan_term</th>\n",
              "      <th>origination_date</th>\n",
              "      <th>first_payment_date</th>\n",
              "      <th>loan_to_value</th>\n",
              "      <th>number_of_borrowers</th>\n",
              "      <th>debt_to_income_ratio</th>\n",
              "      <th>borrower_credit_score</th>\n",
              "      <th>loan_purpose</th>\n",
              "      <th>insurance_percent</th>\n",
              "      <th>co-borrower_credit_score</th>\n",
              "      <th>insurance_type</th>\n",
              "      <th>m1</th>\n",
              "      <th>m2</th>\n",
              "      <th>m3</th>\n",
              "      <th>m4</th>\n",
              "      <th>m5</th>\n",
              "      <th>m6</th>\n",
              "      <th>m7</th>\n",
              "      <th>m8</th>\n",
              "      <th>m9</th>\n",
              "      <th>m10</th>\n",
              "      <th>m11</th>\n",
              "      <th>m12</th>\n",
              "    </tr>\n",
              "  </thead>\n",
              "  <tbody>\n",
              "    <tr>\n",
              "      <th>0</th>\n",
              "      <td>1</td>\n",
              "      <td>Y</td>\n",
              "      <td>Browning-Hart</td>\n",
              "      <td>3.875</td>\n",
              "      <td>417000</td>\n",
              "      <td>360</td>\n",
              "      <td>2012-02-01</td>\n",
              "      <td>2012-04-01</td>\n",
              "      <td>75</td>\n",
              "      <td>1</td>\n",
              "      <td>20</td>\n",
              "      <td>790</td>\n",
              "      <td>A23</td>\n",
              "      <td>0</td>\n",
              "      <td>0</td>\n",
              "      <td>0</td>\n",
              "      <td>0</td>\n",
              "      <td>0</td>\n",
              "      <td>0</td>\n",
              "      <td>0</td>\n",
              "      <td>0</td>\n",
              "      <td>0</td>\n",
              "      <td>0</td>\n",
              "      <td>0</td>\n",
              "      <td>0</td>\n",
              "      <td>0</td>\n",
              "      <td>0</td>\n",
              "      <td>0</td>\n",
              "    </tr>\n",
              "    <tr>\n",
              "      <th>1</th>\n",
              "      <td>2</td>\n",
              "      <td>X</td>\n",
              "      <td>OTHER</td>\n",
              "      <td>4.500</td>\n",
              "      <td>113000</td>\n",
              "      <td>360</td>\n",
              "      <td>2012-02-01</td>\n",
              "      <td>2012-04-01</td>\n",
              "      <td>80</td>\n",
              "      <td>2</td>\n",
              "      <td>33</td>\n",
              "      <td>793</td>\n",
              "      <td>C86</td>\n",
              "      <td>0</td>\n",
              "      <td>784</td>\n",
              "      <td>0</td>\n",
              "      <td>0</td>\n",
              "      <td>0</td>\n",
              "      <td>0</td>\n",
              "      <td>0</td>\n",
              "      <td>0</td>\n",
              "      <td>0</td>\n",
              "      <td>0</td>\n",
              "      <td>0</td>\n",
              "      <td>0</td>\n",
              "      <td>0</td>\n",
              "      <td>0</td>\n",
              "      <td>0</td>\n",
              "    </tr>\n",
              "    <tr>\n",
              "      <th>2</th>\n",
              "      <td>3</td>\n",
              "      <td>Y</td>\n",
              "      <td>OTHER</td>\n",
              "      <td>4.500</td>\n",
              "      <td>72000</td>\n",
              "      <td>360</td>\n",
              "      <td>2012-01-01</td>\n",
              "      <td>2012-03-01</td>\n",
              "      <td>75</td>\n",
              "      <td>1</td>\n",
              "      <td>34</td>\n",
              "      <td>710</td>\n",
              "      <td>C86</td>\n",
              "      <td>0</td>\n",
              "      <td>0</td>\n",
              "      <td>0</td>\n",
              "      <td>0</td>\n",
              "      <td>0</td>\n",
              "      <td>0</td>\n",
              "      <td>0</td>\n",
              "      <td>0</td>\n",
              "      <td>0</td>\n",
              "      <td>0</td>\n",
              "      <td>0</td>\n",
              "      <td>0</td>\n",
              "      <td>0</td>\n",
              "      <td>0</td>\n",
              "      <td>0</td>\n",
              "    </tr>\n",
              "    <tr>\n",
              "      <th>3</th>\n",
              "      <td>4</td>\n",
              "      <td>X</td>\n",
              "      <td>Miller, Mcclure and Allen</td>\n",
              "      <td>4.125</td>\n",
              "      <td>123000</td>\n",
              "      <td>180</td>\n",
              "      <td>2012-02-01</td>\n",
              "      <td>2012-04-01</td>\n",
              "      <td>41</td>\n",
              "      <td>2</td>\n",
              "      <td>24</td>\n",
              "      <td>798</td>\n",
              "      <td>A23</td>\n",
              "      <td>0</td>\n",
              "      <td>813</td>\n",
              "      <td>0</td>\n",
              "      <td>0</td>\n",
              "      <td>0</td>\n",
              "      <td>0</td>\n",
              "      <td>0</td>\n",
              "      <td>0</td>\n",
              "      <td>0</td>\n",
              "      <td>0</td>\n",
              "      <td>0</td>\n",
              "      <td>0</td>\n",
              "      <td>0</td>\n",
              "      <td>0</td>\n",
              "      <td>0</td>\n",
              "    </tr>\n",
              "    <tr>\n",
              "      <th>4</th>\n",
              "      <td>5</td>\n",
              "      <td>X</td>\n",
              "      <td>Browning-Hart</td>\n",
              "      <td>3.250</td>\n",
              "      <td>166000</td>\n",
              "      <td>180</td>\n",
              "      <td>2012-02-01</td>\n",
              "      <td>2012-04-01</td>\n",
              "      <td>53</td>\n",
              "      <td>2</td>\n",
              "      <td>12</td>\n",
              "      <td>767</td>\n",
              "      <td>A23</td>\n",
              "      <td>0</td>\n",
              "      <td>768</td>\n",
              "      <td>0</td>\n",
              "      <td>0</td>\n",
              "      <td>0</td>\n",
              "      <td>0</td>\n",
              "      <td>0</td>\n",
              "      <td>0</td>\n",
              "      <td>0</td>\n",
              "      <td>0</td>\n",
              "      <td>0</td>\n",
              "      <td>0</td>\n",
              "      <td>0</td>\n",
              "      <td>0</td>\n",
              "      <td>0</td>\n",
              "    </tr>\n",
              "  </tbody>\n",
              "</table>\n",
              "</div>"
            ],
            "text/plain": [
              "   loan_id source      financial_institution  interest_rate  ...  m9  m10 m11 m12\n",
              "0        1      Y              Browning-Hart          3.875  ...   0    0   0   0\n",
              "1        2      X                      OTHER          4.500  ...   0    0   0   0\n",
              "2        3      Y                      OTHER          4.500  ...   0    0   0   0\n",
              "3        4      X  Miller, Mcclure and Allen          4.125  ...   0    0   0   0\n",
              "4        5      X              Browning-Hart          3.250  ...   0    0   0   0\n",
              "\n",
              "[5 rows x 28 columns]"
            ]
          },
          "metadata": {
            "tags": []
          },
          "execution_count": 12
        }
      ]
    },
    {
      "cell_type": "code",
      "metadata": {
        "id": "ORfYrzN3xWMs",
        "colab_type": "code",
        "outputId": "205e5f1d-ff7c-4152-f142-adf86093ffbd",
        "colab": {
          "base_uri": "https://localhost:8080/",
          "height": 578
        }
      },
      "source": [
        "test.info()"
      ],
      "execution_count": 13,
      "outputs": [
        {
          "output_type": "stream",
          "text": [
            "<class 'pandas.core.frame.DataFrame'>\n",
            "RangeIndex: 35866 entries, 0 to 35865\n",
            "Data columns (total 28 columns):\n",
            "loan_id                     35866 non-null int64\n",
            "source                      35866 non-null object\n",
            "financial_institution       35866 non-null object\n",
            "interest_rate               35866 non-null float64\n",
            "unpaid_principal_bal        35866 non-null int64\n",
            "loan_term                   35866 non-null int64\n",
            "origination_date            35866 non-null datetime64[ns]\n",
            "first_payment_date          35866 non-null datetime64[ns]\n",
            "loan_to_value               35866 non-null int64\n",
            "number_of_borrowers         35866 non-null int64\n",
            "debt_to_income_ratio        35866 non-null int64\n",
            "borrower_credit_score       35866 non-null int64\n",
            "loan_purpose                35866 non-null object\n",
            "insurance_percent           35866 non-null int64\n",
            "co-borrower_credit_score    35866 non-null int64\n",
            "insurance_type              35866 non-null int64\n",
            "m1                          35866 non-null int64\n",
            "m2                          35866 non-null int64\n",
            "m3                          35866 non-null int64\n",
            "m4                          35866 non-null int64\n",
            "m5                          35866 non-null int64\n",
            "m6                          35866 non-null int64\n",
            "m7                          35866 non-null int64\n",
            "m8                          35866 non-null int64\n",
            "m9                          35866 non-null int64\n",
            "m10                         35866 non-null int64\n",
            "m11                         35866 non-null int64\n",
            "m12                         35866 non-null int64\n",
            "dtypes: datetime64[ns](2), float64(1), int64(22), object(3)\n",
            "memory usage: 7.7+ MB\n"
          ],
          "name": "stdout"
        }
      ]
    },
    {
      "cell_type": "code",
      "metadata": {
        "id": "ofrC2rH2x5nP",
        "colab_type": "code",
        "outputId": "09b19e64-9216-4bc4-9434-042293dc175c",
        "colab": {
          "base_uri": "https://localhost:8080/",
          "height": 527
        }
      },
      "source": [
        "# Checking for NULL/missing values\n",
        "train.isnull().sum()"
      ],
      "execution_count": 14,
      "outputs": [
        {
          "output_type": "execute_result",
          "data": {
            "text/plain": [
              "loan_id                     0\n",
              "source                      0\n",
              "financial_institution       0\n",
              "interest_rate               0\n",
              "unpaid_principal_bal        0\n",
              "loan_term                   0\n",
              "origination_date            0\n",
              "first_payment_date          0\n",
              "loan_to_value               0\n",
              "number_of_borrowers         0\n",
              "debt_to_income_ratio        0\n",
              "borrower_credit_score       0\n",
              "loan_purpose                0\n",
              "insurance_percent           0\n",
              "co-borrower_credit_score    0\n",
              "insurance_type              0\n",
              "m1                          0\n",
              "m2                          0\n",
              "m3                          0\n",
              "m4                          0\n",
              "m5                          0\n",
              "m6                          0\n",
              "m7                          0\n",
              "m8                          0\n",
              "m9                          0\n",
              "m10                         0\n",
              "m11                         0\n",
              "m12                         0\n",
              "m13                         0\n",
              "dtype: int64"
            ]
          },
          "metadata": {
            "tags": []
          },
          "execution_count": 14
        }
      ]
    },
    {
      "cell_type": "code",
      "metadata": {
        "id": "6wcHb3vmy6GH",
        "colab_type": "code",
        "outputId": "56b8f72d-a45a-4238-aac3-00f203038bc1",
        "colab": {
          "base_uri": "https://localhost:8080/",
          "height": 510
        }
      },
      "source": [
        "# Checking for NULL/missing values\n",
        "test.isnull().sum()"
      ],
      "execution_count": 15,
      "outputs": [
        {
          "output_type": "execute_result",
          "data": {
            "text/plain": [
              "loan_id                     0\n",
              "source                      0\n",
              "financial_institution       0\n",
              "interest_rate               0\n",
              "unpaid_principal_bal        0\n",
              "loan_term                   0\n",
              "origination_date            0\n",
              "first_payment_date          0\n",
              "loan_to_value               0\n",
              "number_of_borrowers         0\n",
              "debt_to_income_ratio        0\n",
              "borrower_credit_score       0\n",
              "loan_purpose                0\n",
              "insurance_percent           0\n",
              "co-borrower_credit_score    0\n",
              "insurance_type              0\n",
              "m1                          0\n",
              "m2                          0\n",
              "m3                          0\n",
              "m4                          0\n",
              "m5                          0\n",
              "m6                          0\n",
              "m7                          0\n",
              "m8                          0\n",
              "m9                          0\n",
              "m10                         0\n",
              "m11                         0\n",
              "m12                         0\n",
              "dtype: int64"
            ]
          },
          "metadata": {
            "tags": []
          },
          "execution_count": 15
        }
      ]
    },
    {
      "cell_type": "code",
      "metadata": {
        "id": "31nJQ1FNy75M",
        "colab_type": "code",
        "outputId": "f633d3d4-2f2d-4cd9-a18b-de1ee9a3ddc2",
        "colab": {
          "base_uri": "https://localhost:8080/",
          "height": 419
        }
      },
      "source": [
        "print(train['m13'].value_counts())\n",
        "print(train['m13'].value_counts(normalize=True)*100)\n",
        "print()\n",
        "sns.countplot(train[\"m13\"])"
      ],
      "execution_count": 16,
      "outputs": [
        {
          "output_type": "stream",
          "text": [
            "0    115422\n",
            "1       636\n",
            "Name: m13, dtype: int64\n",
            "0    99.451998\n",
            "1     0.548002\n",
            "Name: m13, dtype: float64\n",
            "\n"
          ],
          "name": "stdout"
        },
        {
          "output_type": "execute_result",
          "data": {
            "text/plain": [
              "<matplotlib.axes._subplots.AxesSubplot at 0x7ff8f8410dd8>"
            ]
          },
          "metadata": {
            "tags": []
          },
          "execution_count": 16
        },
        {
          "output_type": "display_data",
          "data": {
            "image/png": "[encoded data removed]",
            "text/plain": [
              "<Figure size 432x288 with 1 Axes>"
            ]
          },
          "metadata": {
            "tags": []
          }
        }
      ]
    },
    {
      "cell_type": "code",
      "metadata": {
        "id": "Ncb9JMeZzDmf",
        "colab_type": "code",
        "outputId": "e211f106-7722-4b48-a2da-b7b730275d61",
        "colab": {
          "base_uri": "https://localhost:8080/",
          "height": 85
        }
      },
      "source": [
        "train.source.value_counts().sort_index()"
      ],
      "execution_count": 17,
      "outputs": [
        {
          "output_type": "execute_result",
          "data": {
            "text/plain": [
              "X    63858\n",
              "Y    37554\n",
              "Z    14646\n",
              "Name: source, dtype: int64"
            ]
          },
          "metadata": {
            "tags": []
          },
          "execution_count": 17
        }
      ]
    },
    {
      "cell_type": "code",
      "metadata": {
        "id": "BSFBvzd53-wg",
        "colab_type": "code",
        "outputId": "1ebcf659-8fa7-481e-c182-d1a84407f27a",
        "colab": {
          "base_uri": "https://localhost:8080/",
          "height": 357
        }
      },
      "source": [
        "train.financial_institution.value_counts().sort_index()"
      ],
      "execution_count": 18,
      "outputs": [
        {
          "output_type": "execute_result",
          "data": {
            "text/plain": [
              "Anderson-Taylor                  483\n",
              "Browning-Hart                  31852\n",
              "Chapman-Mcmahon                  388\n",
              "Cole, Brooks and Vincent        1642\n",
              "Edwards-Hoffman                 4857\n",
              "Martinez, Duffy and Bird        4715\n",
              "Miller, Mcclure and Allen       3158\n",
              "Nicholson Group                 2116\n",
              "OTHER                          49699\n",
              "Richards-Walters                1459\n",
              "Richardson Ltd                   473\n",
              "Romero, Woods and Johnson        750\n",
              "Sanchez, Hays and Wilkerson      853\n",
              "Sanchez-Robinson                1193\n",
              "Suarez Inc                      1790\n",
              "Swanson, Newton and Miller      6874\n",
              "Taylor, Hunt and Rodriguez      1259\n",
              "Thornton-Davis                   651\n",
              "Turner, Baldwin and Rhodes      1846\n",
              "Name: financial_institution, dtype: int64"
            ]
          },
          "metadata": {
            "tags": []
          },
          "execution_count": 18
        }
      ]
    },
    {
      "cell_type": "code",
      "metadata": {
        "id": "3R-10WXjwwdF",
        "colab_type": "code",
        "colab": {}
      },
      "source": [
        "train['number_of_borrowers'] = train['number_of_borrowers'].astype('int64')\n",
        "train['debt_to_income_ratio'] = train['debt_to_income_ratio'].astype('int64')\n",
        "train['borrower_credit_score'] = train['borrower_credit_score'].astype('int64')\n",
        "train['insurance_percent'] = train['insurance_percent'].astype('int64')\n",
        "train['co-borrower_credit_score'] = train['co-borrower_credit_score'].astype('int64')\n",
        "train['insurance_type'] = train['insurance_type'].astype('int64')"
      ],
      "execution_count": 0,
      "outputs": []
    },
    {
      "cell_type": "code",
      "metadata": {
        "id": "Fz77cFwB4FPs",
        "colab_type": "code",
        "outputId": "a3f1a531-3ccc-4082-de60-f9c7f3aa0fe7",
        "colab": {
          "base_uri": "https://localhost:8080/",
          "height": 68
        }
      },
      "source": [
        "train.number_of_borrowers.value_counts().sort_index()"
      ],
      "execution_count": 20,
      "outputs": [
        {
          "output_type": "execute_result",
          "data": {
            "text/plain": [
              "1    47214\n",
              "2    68844\n",
              "Name: number_of_borrowers, dtype: int64"
            ]
          },
          "metadata": {
            "tags": []
          },
          "execution_count": 20
        }
      ]
    },
    {
      "cell_type": "code",
      "metadata": {
        "id": "VpvAlZmMw-o0",
        "colab_type": "code",
        "outputId": "ccdaf426-f554-4533-841a-1e5fd8ba3e6b",
        "colab": {
          "base_uri": "https://localhost:8080/",
          "height": 68
        }
      },
      "source": [
        "train.insurance_type.value_counts().sort_index()"
      ],
      "execution_count": 21,
      "outputs": [
        {
          "output_type": "execute_result",
          "data": {
            "text/plain": [
              "0    115680\n",
              "1       378\n",
              "Name: insurance_type, dtype: int64"
            ]
          },
          "metadata": {
            "tags": []
          },
          "execution_count": 21
        }
      ]
    },
    {
      "cell_type": "code",
      "metadata": {
        "id": "p43xunGY8APz",
        "colab_type": "code",
        "outputId": "b1de5a63-0fa3-4f41-d861-989d071d4099",
        "colab": {
          "base_uri": "https://localhost:8080/",
          "height": 85
        }
      },
      "source": [
        "train.loan_purpose.value_counts().sort_index()"
      ],
      "execution_count": 22,
      "outputs": [
        {
          "output_type": "execute_result",
          "data": {
            "text/plain": [
              "A23    58462\n",
              "B12    29383\n",
              "C86    28213\n",
              "Name: loan_purpose, dtype: int64"
            ]
          },
          "metadata": {
            "tags": []
          },
          "execution_count": 22
        }
      ]
    },
    {
      "cell_type": "markdown",
      "metadata": {
        "id": "QAPd0_IL8uq4",
        "colab_type": "text"
      },
      "source": [
        "# Preparing Data"
      ]
    },
    {
      "cell_type": "code",
      "metadata": {
        "id": "T6T06ZgKwTcB",
        "colab_type": "code",
        "colab": {}
      },
      "source": [
        "# train['origination_date_quarter'] = train['origination_date'].dt.quarter\n",
        "# train['origination_date_day'] = train['origination_date'].dt.day\n",
        "# train['origination_date_Dayofweek'] = train['origination_date'].dt.dayofweek\n",
        "# train['origination_date_Dayweek'] = train['origination_date'].dt.weekday_name\n",
        "# train['origination_date_is_weekend'] = np.where(train['origination_date'].dt.dayofweek.isin(['Sunday', 'Saturday']), 1,0)\n",
        "\n",
        "# test['origination_date_quarter'] = test['origination_date'].dt.quarter\n",
        "# test['origination_date_day'] = test['origination_date'].dt.day\n",
        "# test['origination_date_Dayofweek'] = test['origination_date'].dt.dayofweek\n",
        "# test['origination_date_Dayweek'] = test['origination_date'].dt.weekday_name\n",
        "# test['origination_date_is_weekend'] = np.where(test['origination_date'].dt.dayofweek.isin(['Sunday', 'Saturday']), 1,0)"
      ],
      "execution_count": 0,
      "outputs": []
    },
    {
      "cell_type": "code",
      "metadata": {
        "id": "RYyb5j4580fi",
        "colab_type": "code",
        "outputId": "8a91549f-1084-43b3-a0a5-10b4d1af7797",
        "colab": {
          "base_uri": "https://localhost:8080/",
          "height": 34
        }
      },
      "source": [
        "str_cols= train.loc[:, train.dtypes=='object'].columns.tolist()\n",
        "str_cols"
      ],
      "execution_count": 24,
      "outputs": [
        {
          "output_type": "execute_result",
          "data": {
            "text/plain": [
              "['source', 'financial_institution', 'loan_purpose']"
            ]
          },
          "metadata": {
            "tags": []
          },
          "execution_count": 24
        }
      ]
    },
    {
      "cell_type": "code",
      "metadata": {
        "id": "4pBgkwJp-S6r",
        "colab_type": "code",
        "colab": {}
      },
      "source": [
        "# One Hot Encoding\n",
        "train = pd.get_dummies(train, columns=str_cols, drop_first=True)\n",
        "test = pd.get_dummies(test, columns=str_cols, drop_first=True)"
      ],
      "execution_count": 0,
      "outputs": []
    },
    {
      "cell_type": "code",
      "metadata": {
        "id": "ortYPiib-ZOb",
        "colab_type": "code",
        "outputId": "53cecf71-e93a-4098-b950-8bbeb56d6190",
        "colab": {
          "base_uri": "https://localhost:8080/",
          "height": 241
        }
      },
      "source": [
        "train.sample(5)"
      ],
      "execution_count": 26,
      "outputs": [
        {
          "output_type": "execute_result",
          "data": {
            "text/html": [
              "<div>\n",
              "<style scoped>\n",
              "    .dataframe tbody tr th:only-of-type {\n",
              "        vertical-align: middle;\n",
              "    }\n",
              "\n",
              "    .dataframe tbody tr th {\n",
              "        vertical-align: top;\n",
              "    }\n",
              "\n",
              "    .dataframe thead th {\n",
              "        text-align: right;\n",
              "    }\n",
              "</style>\n",
              "<table border=\"1\" class=\"dataframe\">\n",
              "  <thead>\n",
              "    <tr style=\"text-align: right;\">\n",
              "      <th></th>\n",
              "      <th>loan_id</th>\n",
              "      <th>interest_rate</th>\n",
              "      <th>unpaid_principal_bal</th>\n",
              "      <th>loan_term</th>\n",
              "      <th>origination_date</th>\n",
              "      <th>first_payment_date</th>\n",
              "      <th>loan_to_value</th>\n",
              "      <th>number_of_borrowers</th>\n",
              "      <th>debt_to_income_ratio</th>\n",
              "      <th>borrower_credit_score</th>\n",
              "      <th>insurance_percent</th>\n",
              "      <th>co-borrower_credit_score</th>\n",
              "      <th>insurance_type</th>\n",
              "      <th>m1</th>\n",
              "      <th>m2</th>\n",
              "      <th>m3</th>\n",
              "      <th>m4</th>\n",
              "      <th>m5</th>\n",
              "      <th>m6</th>\n",
              "      <th>m7</th>\n",
              "      <th>m8</th>\n",
              "      <th>m9</th>\n",
              "      <th>m10</th>\n",
              "      <th>m11</th>\n",
              "      <th>m12</th>\n",
              "      <th>m13</th>\n",
              "      <th>source_Y</th>\n",
              "      <th>source_Z</th>\n",
              "      <th>financial_institution_Browning-Hart</th>\n",
              "      <th>financial_institution_Chapman-Mcmahon</th>\n",
              "      <th>financial_institution_Cole, Brooks and Vincent</th>\n",
              "      <th>financial_institution_Edwards-Hoffman</th>\n",
              "      <th>financial_institution_Martinez, Duffy and Bird</th>\n",
              "      <th>financial_institution_Miller, Mcclure and Allen</th>\n",
              "      <th>financial_institution_Nicholson Group</th>\n",
              "      <th>financial_institution_OTHER</th>\n",
              "      <th>financial_institution_Richards-Walters</th>\n",
              "      <th>financial_institution_Richardson Ltd</th>\n",
              "      <th>financial_institution_Romero, Woods and Johnson</th>\n",
              "      <th>financial_institution_Sanchez, Hays and Wilkerson</th>\n",
              "      <th>financial_institution_Sanchez-Robinson</th>\n",
              "      <th>financial_institution_Suarez Inc</th>\n",
              "      <th>financial_institution_Swanson, Newton and Miller</th>\n",
              "      <th>financial_institution_Taylor, Hunt and Rodriguez</th>\n",
              "      <th>financial_institution_Thornton-Davis</th>\n",
              "      <th>financial_institution_Turner, Baldwin and Rhodes</th>\n",
              "      <th>loan_purpose_B12</th>\n",
              "      <th>loan_purpose_C86</th>\n",
              "    </tr>\n",
              "  </thead>\n",
              "  <tbody>\n",
              "    <tr>\n",
              "      <th>18237</th>\n",
              "      <td>427959594646</td>\n",
              "      <td>3.300</td>\n",
              "      <td>170000</td>\n",
              "      <td>180</td>\n",
              "      <td>2012-01-01</td>\n",
              "      <td>2012-02-01</td>\n",
              "      <td>50</td>\n",
              "      <td>2</td>\n",
              "      <td>27</td>\n",
              "      <td>805</td>\n",
              "      <td>0</td>\n",
              "      <td>809</td>\n",
              "      <td>0</td>\n",
              "      <td>0</td>\n",
              "      <td>0</td>\n",
              "      <td>0</td>\n",
              "      <td>0</td>\n",
              "      <td>0</td>\n",
              "      <td>0</td>\n",
              "      <td>0</td>\n",
              "      <td>0</td>\n",
              "      <td>0</td>\n",
              "      <td>0</td>\n",
              "      <td>0</td>\n",
              "      <td>0</td>\n",
              "      <td>0</td>\n",
              "      <td>0</td>\n",
              "      <td>0</td>\n",
              "      <td>0</td>\n",
              "      <td>0</td>\n",
              "      <td>0</td>\n",
              "      <td>0</td>\n",
              "      <td>0</td>\n",
              "      <td>0</td>\n",
              "      <td>0</td>\n",
              "      <td>1</td>\n",
              "      <td>0</td>\n",
              "      <td>0</td>\n",
              "      <td>0</td>\n",
              "      <td>0</td>\n",
              "      <td>0</td>\n",
              "      <td>0</td>\n",
              "      <td>0</td>\n",
              "      <td>0</td>\n",
              "      <td>0</td>\n",
              "      <td>0</td>\n",
              "      <td>1</td>\n",
              "      <td>0</td>\n",
              "    </tr>\n",
              "    <tr>\n",
              "      <th>89969</th>\n",
              "      <td>558734027711</td>\n",
              "      <td>4.125</td>\n",
              "      <td>277000</td>\n",
              "      <td>360</td>\n",
              "      <td>2012-03-01</td>\n",
              "      <td>2012-04-01</td>\n",
              "      <td>85</td>\n",
              "      <td>1</td>\n",
              "      <td>40</td>\n",
              "      <td>797</td>\n",
              "      <td>12</td>\n",
              "      <td>0</td>\n",
              "      <td>0</td>\n",
              "      <td>0</td>\n",
              "      <td>0</td>\n",
              "      <td>0</td>\n",
              "      <td>0</td>\n",
              "      <td>0</td>\n",
              "      <td>0</td>\n",
              "      <td>0</td>\n",
              "      <td>0</td>\n",
              "      <td>0</td>\n",
              "      <td>0</td>\n",
              "      <td>0</td>\n",
              "      <td>0</td>\n",
              "      <td>0</td>\n",
              "      <td>1</td>\n",
              "      <td>0</td>\n",
              "      <td>1</td>\n",
              "      <td>0</td>\n",
              "      <td>0</td>\n",
              "      <td>0</td>\n",
              "      <td>0</td>\n",
              "      <td>0</td>\n",
              "      <td>0</td>\n",
              "      <td>0</td>\n",
              "      <td>0</td>\n",
              "      <td>0</td>\n",
              "      <td>0</td>\n",
              "      <td>0</td>\n",
              "      <td>0</td>\n",
              "      <td>0</td>\n",
              "      <td>0</td>\n",
              "      <td>0</td>\n",
              "      <td>0</td>\n",
              "      <td>0</td>\n",
              "      <td>0</td>\n",
              "      <td>1</td>\n",
              "    </tr>\n",
              "    <tr>\n",
              "      <th>36919</th>\n",
              "      <td>453004855545</td>\n",
              "      <td>3.875</td>\n",
              "      <td>172000</td>\n",
              "      <td>360</td>\n",
              "      <td>2012-02-01</td>\n",
              "      <td>2012-04-01</td>\n",
              "      <td>75</td>\n",
              "      <td>2</td>\n",
              "      <td>21</td>\n",
              "      <td>752</td>\n",
              "      <td>0</td>\n",
              "      <td>777</td>\n",
              "      <td>0</td>\n",
              "      <td>0</td>\n",
              "      <td>0</td>\n",
              "      <td>0</td>\n",
              "      <td>0</td>\n",
              "      <td>0</td>\n",
              "      <td>0</td>\n",
              "      <td>0</td>\n",
              "      <td>0</td>\n",
              "      <td>0</td>\n",
              "      <td>0</td>\n",
              "      <td>0</td>\n",
              "      <td>0</td>\n",
              "      <td>0</td>\n",
              "      <td>0</td>\n",
              "      <td>0</td>\n",
              "      <td>0</td>\n",
              "      <td>0</td>\n",
              "      <td>0</td>\n",
              "      <td>0</td>\n",
              "      <td>0</td>\n",
              "      <td>0</td>\n",
              "      <td>0</td>\n",
              "      <td>1</td>\n",
              "      <td>0</td>\n",
              "      <td>0</td>\n",
              "      <td>0</td>\n",
              "      <td>0</td>\n",
              "      <td>0</td>\n",
              "      <td>0</td>\n",
              "      <td>0</td>\n",
              "      <td>0</td>\n",
              "      <td>0</td>\n",
              "      <td>0</td>\n",
              "      <td>0</td>\n",
              "      <td>1</td>\n",
              "    </tr>\n",
              "    <tr>\n",
              "      <th>42259</th>\n",
              "      <td>828368965709</td>\n",
              "      <td>4.250</td>\n",
              "      <td>290000</td>\n",
              "      <td>360</td>\n",
              "      <td>2012-01-01</td>\n",
              "      <td>2012-03-01</td>\n",
              "      <td>80</td>\n",
              "      <td>2</td>\n",
              "      <td>26</td>\n",
              "      <td>773</td>\n",
              "      <td>0</td>\n",
              "      <td>749</td>\n",
              "      <td>0</td>\n",
              "      <td>0</td>\n",
              "      <td>0</td>\n",
              "      <td>0</td>\n",
              "      <td>0</td>\n",
              "      <td>0</td>\n",
              "      <td>0</td>\n",
              "      <td>0</td>\n",
              "      <td>0</td>\n",
              "      <td>0</td>\n",
              "      <td>0</td>\n",
              "      <td>0</td>\n",
              "      <td>0</td>\n",
              "      <td>0</td>\n",
              "      <td>0</td>\n",
              "      <td>0</td>\n",
              "      <td>0</td>\n",
              "      <td>0</td>\n",
              "      <td>0</td>\n",
              "      <td>0</td>\n",
              "      <td>0</td>\n",
              "      <td>0</td>\n",
              "      <td>0</td>\n",
              "      <td>1</td>\n",
              "      <td>0</td>\n",
              "      <td>0</td>\n",
              "      <td>0</td>\n",
              "      <td>0</td>\n",
              "      <td>0</td>\n",
              "      <td>0</td>\n",
              "      <td>0</td>\n",
              "      <td>0</td>\n",
              "      <td>0</td>\n",
              "      <td>0</td>\n",
              "      <td>0</td>\n",
              "      <td>0</td>\n",
              "    </tr>\n",
              "    <tr>\n",
              "      <th>63631</th>\n",
              "      <td>982741824549</td>\n",
              "      <td>3.375</td>\n",
              "      <td>102000</td>\n",
              "      <td>96</td>\n",
              "      <td>2012-01-01</td>\n",
              "      <td>2012-04-01</td>\n",
              "      <td>41</td>\n",
              "      <td>2</td>\n",
              "      <td>36</td>\n",
              "      <td>722</td>\n",
              "      <td>0</td>\n",
              "      <td>734</td>\n",
              "      <td>0</td>\n",
              "      <td>0</td>\n",
              "      <td>0</td>\n",
              "      <td>0</td>\n",
              "      <td>0</td>\n",
              "      <td>0</td>\n",
              "      <td>0</td>\n",
              "      <td>0</td>\n",
              "      <td>0</td>\n",
              "      <td>0</td>\n",
              "      <td>0</td>\n",
              "      <td>0</td>\n",
              "      <td>0</td>\n",
              "      <td>0</td>\n",
              "      <td>0</td>\n",
              "      <td>0</td>\n",
              "      <td>0</td>\n",
              "      <td>0</td>\n",
              "      <td>0</td>\n",
              "      <td>0</td>\n",
              "      <td>0</td>\n",
              "      <td>1</td>\n",
              "      <td>0</td>\n",
              "      <td>0</td>\n",
              "      <td>0</td>\n",
              "      <td>0</td>\n",
              "      <td>0</td>\n",
              "      <td>0</td>\n",
              "      <td>0</td>\n",
              "      <td>0</td>\n",
              "      <td>0</td>\n",
              "      <td>0</td>\n",
              "      <td>0</td>\n",
              "      <td>0</td>\n",
              "      <td>1</td>\n",
              "      <td>0</td>\n",
              "    </tr>\n",
              "  </tbody>\n",
              "</table>\n",
              "</div>"
            ],
            "text/plain": [
              "            loan_id  interest_rate  ...  loan_purpose_B12  loan_purpose_C86\n",
              "18237  427959594646          3.300  ...                 1                 0\n",
              "89969  558734027711          4.125  ...                 0                 1\n",
              "36919  453004855545          3.875  ...                 0                 1\n",
              "42259  828368965709          4.250  ...                 0                 0\n",
              "63631  982741824549          3.375  ...                 1                 0\n",
              "\n",
              "[5 rows x 48 columns]"
            ]
          },
          "metadata": {
            "tags": []
          },
          "execution_count": 26
        }
      ]
    },
    {
      "cell_type": "code",
      "metadata": {
        "id": "CnIcp7hc-eK8",
        "colab_type": "code",
        "outputId": "24c64a5a-040a-47e1-f52f-b5257a7e4710",
        "colab": {
          "base_uri": "https://localhost:8080/",
          "height": 241
        }
      },
      "source": [
        "test.sample(5)"
      ],
      "execution_count": 27,
      "outputs": [
        {
          "output_type": "execute_result",
          "data": {
            "text/html": [
              "<div>\n",
              "<style scoped>\n",
              "    .dataframe tbody tr th:only-of-type {\n",
              "        vertical-align: middle;\n",
              "    }\n",
              "\n",
              "    .dataframe tbody tr th {\n",
              "        vertical-align: top;\n",
              "    }\n",
              "\n",
              "    .dataframe thead th {\n",
              "        text-align: right;\n",
              "    }\n",
              "</style>\n",
              "<table border=\"1\" class=\"dataframe\">\n",
              "  <thead>\n",
              "    <tr style=\"text-align: right;\">\n",
              "      <th></th>\n",
              "      <th>loan_id</th>\n",
              "      <th>interest_rate</th>\n",
              "      <th>unpaid_principal_bal</th>\n",
              "      <th>loan_term</th>\n",
              "      <th>origination_date</th>\n",
              "      <th>first_payment_date</th>\n",
              "      <th>loan_to_value</th>\n",
              "      <th>number_of_borrowers</th>\n",
              "      <th>debt_to_income_ratio</th>\n",
              "      <th>borrower_credit_score</th>\n",
              "      <th>insurance_percent</th>\n",
              "      <th>co-borrower_credit_score</th>\n",
              "      <th>insurance_type</th>\n",
              "      <th>m1</th>\n",
              "      <th>m2</th>\n",
              "      <th>m3</th>\n",
              "      <th>m4</th>\n",
              "      <th>m5</th>\n",
              "      <th>m6</th>\n",
              "      <th>m7</th>\n",
              "      <th>m8</th>\n",
              "      <th>m9</th>\n",
              "      <th>m10</th>\n",
              "      <th>m11</th>\n",
              "      <th>m12</th>\n",
              "      <th>source_Y</th>\n",
              "      <th>source_Z</th>\n",
              "      <th>financial_institution_Browning-Hart</th>\n",
              "      <th>financial_institution_Chapman-Mcmahon</th>\n",
              "      <th>financial_institution_Cole, Brooks and Vincent</th>\n",
              "      <th>financial_institution_Edwards-Hoffman</th>\n",
              "      <th>financial_institution_Martinez, Duffy and Bird</th>\n",
              "      <th>financial_institution_Miller, Mcclure and Allen</th>\n",
              "      <th>financial_institution_Nicholson Group</th>\n",
              "      <th>financial_institution_OTHER</th>\n",
              "      <th>financial_institution_Richards-Walters</th>\n",
              "      <th>financial_institution_Richardson Ltd</th>\n",
              "      <th>financial_institution_Romero, Woods and Johnson</th>\n",
              "      <th>financial_institution_Sanchez, Hays and Wilkerson</th>\n",
              "      <th>financial_institution_Sanchez-Robinson</th>\n",
              "      <th>financial_institution_Suarez Inc</th>\n",
              "      <th>financial_institution_Swanson, Newton and Miller</th>\n",
              "      <th>financial_institution_Taylor, Hunt and Rodriguez</th>\n",
              "      <th>financial_institution_Thornton-Davis</th>\n",
              "      <th>financial_institution_Turner, Baldwin and Rhodes</th>\n",
              "      <th>loan_purpose_B12</th>\n",
              "      <th>loan_purpose_C86</th>\n",
              "    </tr>\n",
              "  </thead>\n",
              "  <tbody>\n",
              "    <tr>\n",
              "      <th>11140</th>\n",
              "      <td>11141</td>\n",
              "      <td>4.750</td>\n",
              "      <td>100000</td>\n",
              "      <td>360</td>\n",
              "      <td>2012-01-01</td>\n",
              "      <td>2012-03-01</td>\n",
              "      <td>80</td>\n",
              "      <td>1</td>\n",
              "      <td>30</td>\n",
              "      <td>659</td>\n",
              "      <td>0</td>\n",
              "      <td>0</td>\n",
              "      <td>0</td>\n",
              "      <td>0</td>\n",
              "      <td>0</td>\n",
              "      <td>0</td>\n",
              "      <td>0</td>\n",
              "      <td>0</td>\n",
              "      <td>0</td>\n",
              "      <td>0</td>\n",
              "      <td>0</td>\n",
              "      <td>0</td>\n",
              "      <td>0</td>\n",
              "      <td>0</td>\n",
              "      <td>0</td>\n",
              "      <td>0</td>\n",
              "      <td>0</td>\n",
              "      <td>1</td>\n",
              "      <td>0</td>\n",
              "      <td>0</td>\n",
              "      <td>0</td>\n",
              "      <td>0</td>\n",
              "      <td>0</td>\n",
              "      <td>0</td>\n",
              "      <td>0</td>\n",
              "      <td>0</td>\n",
              "      <td>0</td>\n",
              "      <td>0</td>\n",
              "      <td>0</td>\n",
              "      <td>0</td>\n",
              "      <td>0</td>\n",
              "      <td>0</td>\n",
              "      <td>0</td>\n",
              "      <td>0</td>\n",
              "      <td>0</td>\n",
              "      <td>0</td>\n",
              "      <td>1</td>\n",
              "    </tr>\n",
              "    <tr>\n",
              "      <th>6041</th>\n",
              "      <td>6042</td>\n",
              "      <td>3.875</td>\n",
              "      <td>388000</td>\n",
              "      <td>360</td>\n",
              "      <td>2012-03-01</td>\n",
              "      <td>2012-05-01</td>\n",
              "      <td>55</td>\n",
              "      <td>1</td>\n",
              "      <td>39</td>\n",
              "      <td>777</td>\n",
              "      <td>0</td>\n",
              "      <td>0</td>\n",
              "      <td>0</td>\n",
              "      <td>0</td>\n",
              "      <td>0</td>\n",
              "      <td>0</td>\n",
              "      <td>0</td>\n",
              "      <td>0</td>\n",
              "      <td>0</td>\n",
              "      <td>0</td>\n",
              "      <td>0</td>\n",
              "      <td>0</td>\n",
              "      <td>0</td>\n",
              "      <td>0</td>\n",
              "      <td>0</td>\n",
              "      <td>0</td>\n",
              "      <td>1</td>\n",
              "      <td>0</td>\n",
              "      <td>0</td>\n",
              "      <td>0</td>\n",
              "      <td>0</td>\n",
              "      <td>0</td>\n",
              "      <td>0</td>\n",
              "      <td>0</td>\n",
              "      <td>1</td>\n",
              "      <td>0</td>\n",
              "      <td>0</td>\n",
              "      <td>0</td>\n",
              "      <td>0</td>\n",
              "      <td>0</td>\n",
              "      <td>0</td>\n",
              "      <td>0</td>\n",
              "      <td>0</td>\n",
              "      <td>0</td>\n",
              "      <td>0</td>\n",
              "      <td>0</td>\n",
              "      <td>0</td>\n",
              "    </tr>\n",
              "    <tr>\n",
              "      <th>29960</th>\n",
              "      <td>29961</td>\n",
              "      <td>4.250</td>\n",
              "      <td>95000</td>\n",
              "      <td>360</td>\n",
              "      <td>2012-01-01</td>\n",
              "      <td>2012-03-01</td>\n",
              "      <td>76</td>\n",
              "      <td>2</td>\n",
              "      <td>25</td>\n",
              "      <td>797</td>\n",
              "      <td>0</td>\n",
              "      <td>790</td>\n",
              "      <td>0</td>\n",
              "      <td>0</td>\n",
              "      <td>0</td>\n",
              "      <td>0</td>\n",
              "      <td>0</td>\n",
              "      <td>0</td>\n",
              "      <td>0</td>\n",
              "      <td>0</td>\n",
              "      <td>0</td>\n",
              "      <td>0</td>\n",
              "      <td>0</td>\n",
              "      <td>0</td>\n",
              "      <td>0</td>\n",
              "      <td>0</td>\n",
              "      <td>0</td>\n",
              "      <td>0</td>\n",
              "      <td>0</td>\n",
              "      <td>0</td>\n",
              "      <td>0</td>\n",
              "      <td>0</td>\n",
              "      <td>0</td>\n",
              "      <td>0</td>\n",
              "      <td>1</td>\n",
              "      <td>0</td>\n",
              "      <td>0</td>\n",
              "      <td>0</td>\n",
              "      <td>0</td>\n",
              "      <td>0</td>\n",
              "      <td>0</td>\n",
              "      <td>0</td>\n",
              "      <td>0</td>\n",
              "      <td>0</td>\n",
              "      <td>0</td>\n",
              "      <td>0</td>\n",
              "      <td>1</td>\n",
              "    </tr>\n",
              "    <tr>\n",
              "      <th>19093</th>\n",
              "      <td>19094</td>\n",
              "      <td>4.500</td>\n",
              "      <td>75000</td>\n",
              "      <td>360</td>\n",
              "      <td>2012-02-01</td>\n",
              "      <td>2012-04-01</td>\n",
              "      <td>75</td>\n",
              "      <td>2</td>\n",
              "      <td>33</td>\n",
              "      <td>787</td>\n",
              "      <td>0</td>\n",
              "      <td>785</td>\n",
              "      <td>0</td>\n",
              "      <td>0</td>\n",
              "      <td>0</td>\n",
              "      <td>0</td>\n",
              "      <td>0</td>\n",
              "      <td>0</td>\n",
              "      <td>0</td>\n",
              "      <td>0</td>\n",
              "      <td>0</td>\n",
              "      <td>0</td>\n",
              "      <td>0</td>\n",
              "      <td>0</td>\n",
              "      <td>0</td>\n",
              "      <td>0</td>\n",
              "      <td>0</td>\n",
              "      <td>0</td>\n",
              "      <td>0</td>\n",
              "      <td>0</td>\n",
              "      <td>0</td>\n",
              "      <td>0</td>\n",
              "      <td>1</td>\n",
              "      <td>0</td>\n",
              "      <td>0</td>\n",
              "      <td>0</td>\n",
              "      <td>0</td>\n",
              "      <td>0</td>\n",
              "      <td>0</td>\n",
              "      <td>0</td>\n",
              "      <td>0</td>\n",
              "      <td>0</td>\n",
              "      <td>0</td>\n",
              "      <td>0</td>\n",
              "      <td>0</td>\n",
              "      <td>1</td>\n",
              "      <td>0</td>\n",
              "    </tr>\n",
              "    <tr>\n",
              "      <th>29557</th>\n",
              "      <td>29558</td>\n",
              "      <td>5.125</td>\n",
              "      <td>52000</td>\n",
              "      <td>360</td>\n",
              "      <td>2012-01-01</td>\n",
              "      <td>2012-03-01</td>\n",
              "      <td>80</td>\n",
              "      <td>2</td>\n",
              "      <td>26</td>\n",
              "      <td>802</td>\n",
              "      <td>0</td>\n",
              "      <td>804</td>\n",
              "      <td>0</td>\n",
              "      <td>0</td>\n",
              "      <td>0</td>\n",
              "      <td>0</td>\n",
              "      <td>0</td>\n",
              "      <td>0</td>\n",
              "      <td>0</td>\n",
              "      <td>0</td>\n",
              "      <td>0</td>\n",
              "      <td>0</td>\n",
              "      <td>0</td>\n",
              "      <td>0</td>\n",
              "      <td>0</td>\n",
              "      <td>1</td>\n",
              "      <td>0</td>\n",
              "      <td>1</td>\n",
              "      <td>0</td>\n",
              "      <td>0</td>\n",
              "      <td>0</td>\n",
              "      <td>0</td>\n",
              "      <td>0</td>\n",
              "      <td>0</td>\n",
              "      <td>0</td>\n",
              "      <td>0</td>\n",
              "      <td>0</td>\n",
              "      <td>0</td>\n",
              "      <td>0</td>\n",
              "      <td>0</td>\n",
              "      <td>0</td>\n",
              "      <td>0</td>\n",
              "      <td>0</td>\n",
              "      <td>0</td>\n",
              "      <td>0</td>\n",
              "      <td>0</td>\n",
              "      <td>1</td>\n",
              "    </tr>\n",
              "  </tbody>\n",
              "</table>\n",
              "</div>"
            ],
            "text/plain": [
              "       loan_id  interest_rate  ...  loan_purpose_B12  loan_purpose_C86\n",
              "11140    11141          4.750  ...                 0                 1\n",
              "6041      6042          3.875  ...                 0                 0\n",
              "29960    29961          4.250  ...                 0                 1\n",
              "19093    19094          4.500  ...                 1                 0\n",
              "29557    29558          5.125  ...                 0                 1\n",
              "\n",
              "[5 rows x 47 columns]"
            ]
          },
          "metadata": {
            "tags": []
          },
          "execution_count": 27
        }
      ]
    },
    {
      "cell_type": "code",
      "metadata": {
        "id": "dYS5VYRE9R1K",
        "colab_type": "code",
        "colab": {}
      },
      "source": [
        "# train['debt_to_income_ratio'] = np.log(train['debt_to_income_ratio'])\n",
        "# test['debt_to_income_ratio'] = np.log(test['debt_to_income_ratio'])\n",
        "# train['unpaid_principal_bal'] = np.log(train['unpaid_principal_bal'])\n",
        "# test['unpaid_principal_bal'] = np.log(test['unpaid_principal_bal'])"
      ],
      "execution_count": 0,
      "outputs": []
    },
    {
      "cell_type": "code",
      "metadata": {
        "id": "xCPYOtbQ5I9K",
        "colab_type": "code",
        "outputId": "2fdec827-e943-4e5c-9619-f48592ee7b63",
        "colab": {
          "base_uri": "https://localhost:8080/",
          "height": 408
        }
      },
      "source": [
        "# # Correlations between Features and Target\n",
        "\n",
        "# Find all correlations and sort \n",
        "correlations_data = train.corr()['m13'].sort_values()\n",
        "\n",
        "# most negative correlations\n",
        "print(correlations_data.head(10))\n",
        "print()\n",
        "\n",
        "# most positive correlations\n",
        "print(correlations_data.tail(10))"
      ],
      "execution_count": 29,
      "outputs": [
        {
          "output_type": "stream",
          "text": [
            "borrower_credit_score                               -0.094215\n",
            "co-borrower_credit_score                            -0.042651\n",
            "number_of_borrowers                                 -0.039979\n",
            "unpaid_principal_bal                                -0.017120\n",
            "financial_institution_Sanchez-Robinson              -0.006408\n",
            "financial_institution_Suarez Inc                    -0.004555\n",
            "financial_institution_Chapman-Mcmahon               -0.004299\n",
            "financial_institution_Sanchez, Hays and Wilkerson   -0.003654\n",
            "financial_institution_Taylor, Hunt and Rodriguez    -0.003267\n",
            "financial_institution_Richards-Walters              -0.003138\n",
            "Name: m13, dtype: float64\n",
            "\n",
            "m4     0.218956\n",
            "m5     0.259529\n",
            "m6     0.287712\n",
            "m7     0.309072\n",
            "m8     0.339362\n",
            "m10    0.367840\n",
            "m9     0.369138\n",
            "m11    0.410213\n",
            "m12    0.466442\n",
            "m13    1.000000\n",
            "Name: m13, dtype: float64\n"
          ],
          "name": "stdout"
        }
      ]
    },
    {
      "cell_type": "code",
      "metadata": {
        "id": "Qo9EWJFC4P8C",
        "colab_type": "code",
        "colab": {}
      },
      "source": [
        "train.drop([\"loan_id\",\"origination_date\",\"first_payment_date\"], axis=1, inplace=True)\n",
        "test.drop([\"loan_id\",\"origination_date\",\"first_payment_date\"], axis=1, inplace=True)"
      ],
      "execution_count": 0,
      "outputs": []
    },
    {
      "cell_type": "code",
      "metadata": {
        "id": "WS3XOILvqOnG",
        "colab_type": "code",
        "colab": {}
      },
      "source": [
        "# # Balancing data based on target variable\n",
        "# y_1 = train[train['m13'] == 1]\n",
        "# y_0 = train[train['m13'] == 0].sample(n=len(y_1)+ 55000, random_state=123)    ## chosing 50% of 0's\n",
        "# data = y_1.append(y_0)\n",
        "# print(data['m13'].value_counts())\n",
        "# print(data['m13'].value_counts(normalize=True)*100)\n",
        "# train2 = data.drop('m13', axis=1)\n",
        "# target = data['m13']"
      ],
      "execution_count": 0,
      "outputs": []
    },
    {
      "cell_type": "code",
      "metadata": {
        "id": "M7D0mWaMzIV7",
        "colab_type": "code",
        "outputId": "8c11ec09-c132-4d01-9005-c2aeb229bd24",
        "colab": {
          "base_uri": "https://localhost:8080/",
          "height": 102
        }
      },
      "source": [
        "train2 = train.drop(['m13'], axis=1)\n",
        "target = train[\"m13\"]\n",
        "print(train['m13'].value_counts(normalize=True)*100)\n",
        "print(\"\\n train2 shape:\", train2.shape)"
      ],
      "execution_count": 32,
      "outputs": [
        {
          "output_type": "stream",
          "text": [
            "0    99.451998\n",
            "1     0.548002\n",
            "Name: m13, dtype: float64\n",
            "\n",
            " train2 shape: (116058, 44)\n"
          ],
          "name": "stdout"
        }
      ]
    },
    {
      "cell_type": "code",
      "metadata": {
        "id": "v3BvfJPRAJod",
        "colab_type": "code",
        "colab": {}
      },
      "source": [
        "train2 = train2.loc[:, test.columns]"
      ],
      "execution_count": 0,
      "outputs": []
    },
    {
      "cell_type": "code",
      "metadata": {
        "id": "yJCUWMm3sfRr",
        "colab_type": "code",
        "outputId": "66db66bb-6f78-44f2-c206-e537c4209ad4",
        "colab": {
          "base_uri": "https://localhost:8080/",
          "height": 241
        }
      },
      "source": [
        "train2.head()"
      ],
      "execution_count": 34,
      "outputs": [
        {
          "output_type": "execute_result",
          "data": {
            "text/html": [
              "<div>\n",
              "<style scoped>\n",
              "    .dataframe tbody tr th:only-of-type {\n",
              "        vertical-align: middle;\n",
              "    }\n",
              "\n",
              "    .dataframe tbody tr th {\n",
              "        vertical-align: top;\n",
              "    }\n",
              "\n",
              "    .dataframe thead th {\n",
              "        text-align: right;\n",
              "    }\n",
              "</style>\n",
              "<table border=\"1\" class=\"dataframe\">\n",
              "  <thead>\n",
              "    <tr style=\"text-align: right;\">\n",
              "      <th></th>\n",
              "      <th>interest_rate</th>\n",
              "      <th>unpaid_principal_bal</th>\n",
              "      <th>loan_term</th>\n",
              "      <th>loan_to_value</th>\n",
              "      <th>number_of_borrowers</th>\n",
              "      <th>debt_to_income_ratio</th>\n",
              "      <th>borrower_credit_score</th>\n",
              "      <th>insurance_percent</th>\n",
              "      <th>co-borrower_credit_score</th>\n",
              "      <th>insurance_type</th>\n",
              "      <th>m1</th>\n",
              "      <th>m2</th>\n",
              "      <th>m3</th>\n",
              "      <th>m4</th>\n",
              "      <th>m5</th>\n",
              "      <th>m6</th>\n",
              "      <th>m7</th>\n",
              "      <th>m8</th>\n",
              "      <th>m9</th>\n",
              "      <th>m10</th>\n",
              "      <th>m11</th>\n",
              "      <th>m12</th>\n",
              "      <th>source_Y</th>\n",
              "      <th>source_Z</th>\n",
              "      <th>financial_institution_Browning-Hart</th>\n",
              "      <th>financial_institution_Chapman-Mcmahon</th>\n",
              "      <th>financial_institution_Cole, Brooks and Vincent</th>\n",
              "      <th>financial_institution_Edwards-Hoffman</th>\n",
              "      <th>financial_institution_Martinez, Duffy and Bird</th>\n",
              "      <th>financial_institution_Miller, Mcclure and Allen</th>\n",
              "      <th>financial_institution_Nicholson Group</th>\n",
              "      <th>financial_institution_OTHER</th>\n",
              "      <th>financial_institution_Richards-Walters</th>\n",
              "      <th>financial_institution_Richardson Ltd</th>\n",
              "      <th>financial_institution_Romero, Woods and Johnson</th>\n",
              "      <th>financial_institution_Sanchez, Hays and Wilkerson</th>\n",
              "      <th>financial_institution_Sanchez-Robinson</th>\n",
              "      <th>financial_institution_Suarez Inc</th>\n",
              "      <th>financial_institution_Swanson, Newton and Miller</th>\n",
              "      <th>financial_institution_Taylor, Hunt and Rodriguez</th>\n",
              "      <th>financial_institution_Thornton-Davis</th>\n",
              "      <th>financial_institution_Turner, Baldwin and Rhodes</th>\n",
              "      <th>loan_purpose_B12</th>\n",
              "      <th>loan_purpose_C86</th>\n",
              "    </tr>\n",
              "  </thead>\n",
              "  <tbody>\n",
              "    <tr>\n",
              "      <th>0</th>\n",
              "      <td>4.250</td>\n",
              "      <td>214000</td>\n",
              "      <td>360</td>\n",
              "      <td>95</td>\n",
              "      <td>1</td>\n",
              "      <td>22</td>\n",
              "      <td>694</td>\n",
              "      <td>30</td>\n",
              "      <td>0</td>\n",
              "      <td>0</td>\n",
              "      <td>0</td>\n",
              "      <td>0</td>\n",
              "      <td>0</td>\n",
              "      <td>0</td>\n",
              "      <td>0</td>\n",
              "      <td>0</td>\n",
              "      <td>1</td>\n",
              "      <td>0</td>\n",
              "      <td>0</td>\n",
              "      <td>0</td>\n",
              "      <td>0</td>\n",
              "      <td>0</td>\n",
              "      <td>0</td>\n",
              "      <td>1</td>\n",
              "      <td>0</td>\n",
              "      <td>0</td>\n",
              "      <td>0</td>\n",
              "      <td>0</td>\n",
              "      <td>0</td>\n",
              "      <td>0</td>\n",
              "      <td>0</td>\n",
              "      <td>0</td>\n",
              "      <td>0</td>\n",
              "      <td>0</td>\n",
              "      <td>0</td>\n",
              "      <td>0</td>\n",
              "      <td>0</td>\n",
              "      <td>0</td>\n",
              "      <td>0</td>\n",
              "      <td>0</td>\n",
              "      <td>0</td>\n",
              "      <td>1</td>\n",
              "      <td>0</td>\n",
              "      <td>1</td>\n",
              "    </tr>\n",
              "    <tr>\n",
              "      <th>1</th>\n",
              "      <td>4.875</td>\n",
              "      <td>144000</td>\n",
              "      <td>360</td>\n",
              "      <td>72</td>\n",
              "      <td>1</td>\n",
              "      <td>44</td>\n",
              "      <td>697</td>\n",
              "      <td>0</td>\n",
              "      <td>0</td>\n",
              "      <td>0</td>\n",
              "      <td>0</td>\n",
              "      <td>0</td>\n",
              "      <td>0</td>\n",
              "      <td>0</td>\n",
              "      <td>0</td>\n",
              "      <td>0</td>\n",
              "      <td>0</td>\n",
              "      <td>0</td>\n",
              "      <td>0</td>\n",
              "      <td>0</td>\n",
              "      <td>1</td>\n",
              "      <td>0</td>\n",
              "      <td>1</td>\n",
              "      <td>0</td>\n",
              "      <td>0</td>\n",
              "      <td>0</td>\n",
              "      <td>0</td>\n",
              "      <td>0</td>\n",
              "      <td>0</td>\n",
              "      <td>0</td>\n",
              "      <td>0</td>\n",
              "      <td>0</td>\n",
              "      <td>0</td>\n",
              "      <td>0</td>\n",
              "      <td>0</td>\n",
              "      <td>0</td>\n",
              "      <td>0</td>\n",
              "      <td>0</td>\n",
              "      <td>1</td>\n",
              "      <td>0</td>\n",
              "      <td>0</td>\n",
              "      <td>0</td>\n",
              "      <td>1</td>\n",
              "      <td>0</td>\n",
              "    </tr>\n",
              "    <tr>\n",
              "      <th>2</th>\n",
              "      <td>3.250</td>\n",
              "      <td>366000</td>\n",
              "      <td>180</td>\n",
              "      <td>49</td>\n",
              "      <td>1</td>\n",
              "      <td>33</td>\n",
              "      <td>780</td>\n",
              "      <td>0</td>\n",
              "      <td>0</td>\n",
              "      <td>0</td>\n",
              "      <td>0</td>\n",
              "      <td>0</td>\n",
              "      <td>0</td>\n",
              "      <td>0</td>\n",
              "      <td>0</td>\n",
              "      <td>0</td>\n",
              "      <td>0</td>\n",
              "      <td>0</td>\n",
              "      <td>0</td>\n",
              "      <td>0</td>\n",
              "      <td>0</td>\n",
              "      <td>0</td>\n",
              "      <td>0</td>\n",
              "      <td>1</td>\n",
              "      <td>0</td>\n",
              "      <td>0</td>\n",
              "      <td>0</td>\n",
              "      <td>0</td>\n",
              "      <td>0</td>\n",
              "      <td>0</td>\n",
              "      <td>0</td>\n",
              "      <td>0</td>\n",
              "      <td>0</td>\n",
              "      <td>0</td>\n",
              "      <td>0</td>\n",
              "      <td>0</td>\n",
              "      <td>0</td>\n",
              "      <td>0</td>\n",
              "      <td>0</td>\n",
              "      <td>0</td>\n",
              "      <td>1</td>\n",
              "      <td>0</td>\n",
              "      <td>1</td>\n",
              "      <td>0</td>\n",
              "    </tr>\n",
              "    <tr>\n",
              "      <th>3</th>\n",
              "      <td>4.750</td>\n",
              "      <td>135000</td>\n",
              "      <td>360</td>\n",
              "      <td>46</td>\n",
              "      <td>2</td>\n",
              "      <td>44</td>\n",
              "      <td>633</td>\n",
              "      <td>0</td>\n",
              "      <td>638</td>\n",
              "      <td>0</td>\n",
              "      <td>0</td>\n",
              "      <td>0</td>\n",
              "      <td>0</td>\n",
              "      <td>0</td>\n",
              "      <td>0</td>\n",
              "      <td>0</td>\n",
              "      <td>0</td>\n",
              "      <td>0</td>\n",
              "      <td>1</td>\n",
              "      <td>1</td>\n",
              "      <td>1</td>\n",
              "      <td>1</td>\n",
              "      <td>0</td>\n",
              "      <td>0</td>\n",
              "      <td>0</td>\n",
              "      <td>0</td>\n",
              "      <td>0</td>\n",
              "      <td>0</td>\n",
              "      <td>0</td>\n",
              "      <td>0</td>\n",
              "      <td>0</td>\n",
              "      <td>1</td>\n",
              "      <td>0</td>\n",
              "      <td>0</td>\n",
              "      <td>0</td>\n",
              "      <td>0</td>\n",
              "      <td>0</td>\n",
              "      <td>0</td>\n",
              "      <td>0</td>\n",
              "      <td>0</td>\n",
              "      <td>0</td>\n",
              "      <td>0</td>\n",
              "      <td>1</td>\n",
              "      <td>0</td>\n",
              "    </tr>\n",
              "    <tr>\n",
              "      <th>4</th>\n",
              "      <td>4.750</td>\n",
              "      <td>124000</td>\n",
              "      <td>360</td>\n",
              "      <td>80</td>\n",
              "      <td>1</td>\n",
              "      <td>43</td>\n",
              "      <td>681</td>\n",
              "      <td>0</td>\n",
              "      <td>0</td>\n",
              "      <td>0</td>\n",
              "      <td>0</td>\n",
              "      <td>1</td>\n",
              "      <td>2</td>\n",
              "      <td>3</td>\n",
              "      <td>4</td>\n",
              "      <td>5</td>\n",
              "      <td>6</td>\n",
              "      <td>7</td>\n",
              "      <td>8</td>\n",
              "      <td>9</td>\n",
              "      <td>10</td>\n",
              "      <td>11</td>\n",
              "      <td>0</td>\n",
              "      <td>0</td>\n",
              "      <td>0</td>\n",
              "      <td>0</td>\n",
              "      <td>0</td>\n",
              "      <td>0</td>\n",
              "      <td>0</td>\n",
              "      <td>0</td>\n",
              "      <td>0</td>\n",
              "      <td>1</td>\n",
              "      <td>0</td>\n",
              "      <td>0</td>\n",
              "      <td>0</td>\n",
              "      <td>0</td>\n",
              "      <td>0</td>\n",
              "      <td>0</td>\n",
              "      <td>0</td>\n",
              "      <td>0</td>\n",
              "      <td>0</td>\n",
              "      <td>0</td>\n",
              "      <td>0</td>\n",
              "      <td>1</td>\n",
              "    </tr>\n",
              "  </tbody>\n",
              "</table>\n",
              "</div>"
            ],
            "text/plain": [
              "   interest_rate  unpaid_principal_bal  ...  loan_purpose_B12  loan_purpose_C86\n",
              "0          4.250                214000  ...                 0                 1\n",
              "1          4.875                144000  ...                 1                 0\n",
              "2          3.250                366000  ...                 1                 0\n",
              "3          4.750                135000  ...                 1                 0\n",
              "4          4.750                124000  ...                 0                 1\n",
              "\n",
              "[5 rows x 44 columns]"
            ]
          },
          "metadata": {
            "tags": []
          },
          "execution_count": 34
        }
      ]
    },
    {
      "cell_type": "code",
      "metadata": {
        "id": "piOamW3lqNYy",
        "colab_type": "code",
        "outputId": "3e310d19-77a2-4317-c1ec-171e04e51658",
        "colab": {
          "base_uri": "https://localhost:8080/",
          "height": 68
        }
      },
      "source": [
        "# Using SMOTE for Balancing Data\n",
        "from imblearn.over_sampling import SMOTE\n",
        "sm = SMOTE(random_state=2019)\n",
        "train2, target = sm.fit_sample(train2, target.ravel())\n",
        "print (sum(target==0))\n",
        "print (sum(target==1))\n",
        "sum(target==1)"
      ],
      "execution_count": 35,
      "outputs": [
        {
          "output_type": "stream",
          "text": [
            "115422\n",
            "115422\n"
          ],
          "name": "stdout"
        },
        {
          "output_type": "execute_result",
          "data": {
            "text/plain": [
              "115422"
            ]
          },
          "metadata": {
            "tags": []
          },
          "execution_count": 35
        }
      ]
    },
    {
      "cell_type": "code",
      "metadata": {
        "id": "VVd836hfqlUH",
        "colab_type": "code",
        "outputId": "1b933a01-316a-4b45-e4f5-785724935be1",
        "colab": {
          "base_uri": "https://localhost:8080/",
          "height": 34
        }
      },
      "source": [
        "print(train2.shape, target.shape)"
      ],
      "execution_count": 36,
      "outputs": [
        {
          "output_type": "stream",
          "text": [
            "(230844, 44) (230844,)\n"
          ],
          "name": "stdout"
        }
      ]
    },
    {
      "cell_type": "code",
      "metadata": {
        "id": "8UY5PA3W_jMI",
        "colab_type": "code",
        "colab": {}
      },
      "source": [
        "# Scaling Data\n",
        "scaler = StandardScaler()\n",
        "train2 = scaler.fit_transform(train2)\n",
        "test = scaler.transform(test)\n",
        "\n",
        "# train2 = pd.DataFrame(scaler.fit_transform(train2), columns=train2.columns)\n",
        "# test = pd.DataFrame(scaler.transform(test), columns=test.columns)"
      ],
      "execution_count": 0,
      "outputs": []
    },
    {
      "cell_type": "code",
      "metadata": {
        "id": "SLYmuctNHYhq",
        "colab_type": "code",
        "outputId": "6aa21d97-4597-47d2-f862-10cdac1c7b49",
        "colab": {
          "base_uri": "https://localhost:8080/",
          "height": 34
        }
      },
      "source": [
        "poly = PolynomialFeatures(degree=2)\n",
        "train2 = poly.fit_transform(train2)\n",
        "test = poly.transform(test)\n",
        "poly\n",
        "print(\"train2 shape:\", train2.shape)\n",
        "\n",
        "# # train2 shape: (14272, 44)"
      ],
      "execution_count": 38,
      "outputs": [
        {
          "output_type": "stream",
          "text": [
            "train2 shape: (230844, 1035)\n"
          ],
          "name": "stdout"
        }
      ]
    },
    {
      "cell_type": "code",
      "metadata": {
        "id": "BdtsaO5DIMmp",
        "colab_type": "code",
        "colab": {}
      },
      "source": [
        "pca = PCA(random_state=2019)\n",
        "train2 = pca.fit_transform(train2)\n",
        "test = pca.transform(test)\n",
        "pca"
      ],
      "execution_count": 0,
      "outputs": []
    },
    {
      "cell_type": "code",
      "metadata": {
        "id": "CJU4a8FDIsAo",
        "colab_type": "code",
        "colab": {}
      },
      "source": [
        "train2"
      ],
      "execution_count": 0,
      "outputs": []
    },
    {
      "cell_type": "code",
      "metadata": {
        "id": "Z0C_zsNmzh69",
        "colab_type": "code",
        "colab": {}
      },
      "source": [
        "x_train, x_val, y_train, y_val = train_test_split(train2, target, test_size=0.3, random_state=2019)\n",
        "print(x_train.shape, x_val.shape)"
      ],
      "execution_count": 0,
      "outputs": []
    },
    {
      "cell_type": "code",
      "metadata": {
        "id": "rZTrsJ1Nz10K",
        "colab_type": "code",
        "colab": {}
      },
      "source": [
        "x_train"
      ],
      "execution_count": 0,
      "outputs": []
    },
    {
      "cell_type": "code",
      "metadata": {
        "id": "bC7sshW8z3n1",
        "colab_type": "code",
        "colab": {}
      },
      "source": [
        "x_val"
      ],
      "execution_count": 0,
      "outputs": []
    },
    {
      "cell_type": "code",
      "metadata": {
        "id": "JBh1z4bbz5nU",
        "colab_type": "code",
        "colab": {}
      },
      "source": [
        "y_train"
      ],
      "execution_count": 0,
      "outputs": []
    },
    {
      "cell_type": "code",
      "metadata": {
        "id": "yniag5Oqz7JC",
        "colab_type": "code",
        "colab": {}
      },
      "source": [
        "y_val"
      ],
      "execution_count": 0,
      "outputs": []
    },
    {
      "cell_type": "markdown",
      "metadata": {
        "id": "TWPvOi-p95HV",
        "colab_type": "text"
      },
      "source": [
        "# Machine Learning Algorithms"
      ]
    },
    {
      "cell_type": "code",
      "metadata": {
        "id": "335Ey4zc0Epq",
        "colab_type": "code",
        "colab": {}
      },
      "source": [
        "# # Logistic Regression\n",
        "# for c in [0.1, 1, 5, 100]:\n",
        "#     lr = LogisticRegression(random_state=2019, C=c).fit(x_train, y_train)\n",
        "#     print (\"F1 score for C=%s: %s\" % (c, f1_score(y_val, lr.predict(x_val))))\n",
        "    \n",
        "# # F1 score for C=0.1: 0.9849064315534406\n",
        "# # F1 score for C=1: 0.9893558237603606\n",
        "# # F1 score for C=5: 0.9887545643666622\n",
        "# # F1 score for C=100: 0.9912902101962606"
      ],
      "execution_count": 0,
      "outputs": []
    },
    {
      "cell_type": "code",
      "metadata": {
        "id": "X9L4NqMkz8g7",
        "colab_type": "code",
        "colab": {}
      },
      "source": [
        "# clf_log = LogisticRegression(random_state=2019, C=100).fit(x_train, y_train)\n",
        "# clf_log"
      ],
      "execution_count": 0,
      "outputs": []
    },
    {
      "cell_type": "code",
      "metadata": {
        "id": "zrwGv08a5P4_",
        "colab_type": "code",
        "colab": {}
      },
      "source": [
        "# y_pred_val = clf_log.predict(x_val)\n",
        "# print(f1_score(y_val, y_pred_val))\n",
        "# print(f1_score(y_val, y_pred_val, average='macro'))\n",
        "# print(f1_score(y_val, y_pred_val, average='micro'))\n",
        "# print(f1_score(y_val, y_pred_val, average='weighted'))\n",
        "# # 0.6567901234567902\n",
        "# # 0.8228848738270236\n",
        "# # 0.9786449531418037\n",
        "# # 0.9758124877414203"
      ],
      "execution_count": 0,
      "outputs": []
    },
    {
      "cell_type": "code",
      "metadata": {
        "id": "QxNT5oxz4nlA",
        "colab_type": "code",
        "colab": {}
      },
      "source": [
        "# # Confusion Matrix\n",
        "# cm = confusion_matrix(y_val, y_pred_val).T\n",
        "# cm = cm.astype('float')/cm.sum(axis=0)\n",
        "# ax = sns.heatmap(cm, annot=True, cmap='Blues');\n",
        "# ax.set_xlabel('True Label',size=12)\n",
        "# ax.set_ylabel('Predicted Label',size=12)"
      ],
      "execution_count": 0,
      "outputs": []
    },
    {
      "cell_type": "code",
      "metadata": {
        "id": "pzR9JIZ05r8k",
        "colab_type": "code",
        "colab": {}
      },
      "source": [
        "# #clf_log.fit(train2, target)\n",
        "# y_pred = clf_log.predict(test)\n",
        "# y_pred"
      ],
      "execution_count": 0,
      "outputs": []
    },
    {
      "cell_type": "code",
      "metadata": {
        "id": "wNvlkjc9fRS2",
        "colab_type": "code",
        "colab": {}
      },
      "source": [
        "# Random Forest\n",
        "rf = RandomForestClassifier(n_estimators=100, random_state = 2019).fit(x_train, y_train)\n",
        "rf"
      ],
      "execution_count": 0,
      "outputs": []
    },
    {
      "cell_type": "code",
      "metadata": {
        "id": "n90R_h_nzCV5",
        "colab_type": "code",
        "colab": {}
      },
      "source": [
        "y_val_pred_rf = rf.predict(x_val)\n",
        "print(f1_score(y_val, y_val_pred_rf))\n",
        "print(f1_score(y_val, y_val_pred_rf, average='macro'))\n",
        "print(f1_score(y_val, y_val_pred_rf, average='micro'))\n",
        "print(f1_score(y_val, y_val_pred_rf, average='weighted'))\n",
        "# 0.6886792452830189\n",
        "# 0.8390998639879685\n",
        "# 0.9797235023041475\n",
        "# 0.9775977424084705"
      ],
      "execution_count": 0,
      "outputs": []
    },
    {
      "cell_type": "code",
      "metadata": {
        "id": "9vWx6cJX2z7m",
        "colab_type": "code",
        "colab": {}
      },
      "source": [
        "# Confusion Matrix\n",
        "cm = confusion_matrix(y_val, y_val_pred_rf).T\n",
        "cm = cm.astype('float')/cm.sum(axis=0)\n",
        "ax = sns.heatmap(cm, annot=True, cmap='Blues');\n",
        "ax.set_xlabel('True Label',size=12)\n",
        "ax.set_ylabel('Predicted Label',size=12)"
      ],
      "execution_count": 0,
      "outputs": []
    },
    {
      "cell_type": "code",
      "metadata": {
        "id": "HmFB_wTZGki-",
        "colab_type": "code",
        "colab": {}
      },
      "source": [
        "y_pred_rf = rf.predict(test)\n",
        "y_pred_rf"
      ],
      "execution_count": 0,
      "outputs": []
    },
    {
      "cell_type": "code",
      "metadata": {
        "id": "u4zB3Tbu50HH",
        "colab_type": "code",
        "colab": {}
      },
      "source": [
        "submission = {}\n",
        "submission['loan_id'] = test_loan_ids\n",
        "submission['m13'] = y_pred_rf\n",
        "#submission['m13'] = y_pred\n",
        "submission = pd.DataFrame(submission)\n",
        "submission = submission[['loan_id', 'm13']]\n",
        "submission.to_csv(\"submission.csv\", index=False)\n",
        "print(submission['m13'].value_counts())"
      ],
      "execution_count": 0,
      "outputs": []
    },
    {
      "cell_type": "code",
      "metadata": {
        "id": "k3gYlgH05_So",
        "colab_type": "code",
        "colab": {}
      },
      "source": [
        "!pwd; ls -ltr"
      ],
      "execution_count": 0,
      "outputs": []
    },
    {
      "cell_type": "code",
      "metadata": {
        "id": "qxBGLo3A6E38",
        "colab_type": "code",
        "colab": {}
      },
      "source": [
        "files.download('submission.csv')"
      ],
      "execution_count": 0,
      "outputs": []
    },
    {
      "cell_type": "code",
      "metadata": {
        "id": "vxJ9sSaN6Hhs",
        "colab_type": "code",
        "colab": {}
      },
      "source": [
        "# from sklearn.model_selection import cross_val_score\n",
        "\n",
        "# # Function to calculate mean absolute error\n",
        "# def cross_val(x_train, y_train, model):\n",
        "#     # Applying k-Fold Cross Validation\n",
        "#     accuracies = cross_val_score(estimator = model, X = x_train, y = y_train, cv = 5)\n",
        "#     return accuracies.mean()\n",
        "\n",
        "# # Takes in a model, trains the model, and evaluates the model on the validation set\n",
        "# def fit_and_evaluate(model):\n",
        "    \n",
        "#     # Train the model\n",
        "#     model.fit(x_train, y_train)\n",
        "    \n",
        "#     # Make predictions and evalute\n",
        "#     model_pred = model.predict(x_val)\n",
        "#     model_cross = cross_val(x_train, y_train, model)\n",
        "    \n",
        "#     # Return the performance metric\n",
        "#     return model_cross"
      ],
      "execution_count": 0,
      "outputs": []
    },
    {
      "cell_type": "code",
      "metadata": {
        "id": "pFbHdsf08fVE",
        "colab_type": "code",
        "colab": {}
      },
      "source": [
        "# # Naive Bayes\n",
        "# from sklearn.naive_bayes import GaussianNB\n",
        "# naive = GaussianNB()\n",
        "# naive_cross = fit_and_evaluate(naive)\n",
        "# print('Naive Bayes Performance on validation set: Cross Validation Score = %0.4f' % naive_cross)\n"
      ],
      "execution_count": 0,
      "outputs": []
    },
    {
      "cell_type": "code",
      "metadata": {
        "id": "ax8wEuuM8s2a",
        "colab_type": "code",
        "colab": {}
      },
      "source": [
        "# # Random Forest Classification\n",
        "# random = RandomForestClassifier(n_estimators = 10, criterion = 'entropy')\n",
        "# random_cross = fit_and_evaluate(random)\n",
        "\n",
        "# print('Random Forest Performance on validation set: Cross Validation Score = %0.4f' % random_cross)"
      ],
      "execution_count": 0,
      "outputs": []
    },
    {
      "cell_type": "code",
      "metadata": {
        "id": "lzsiiCl88zjW",
        "colab_type": "code",
        "colab": {}
      },
      "source": [
        "# # Gradiente Boosting Classification\n",
        "# from xgboost import XGBClassifier\n",
        "# #gb = XGBClassifier()\n",
        "# gb = XGBClassifier(objective=\"binary:logistic\", learning_rate=0.03, n_estimators=500, max_depth=1, subsample=0.4, random_state=123)\n",
        "# gb_cross = fit_and_evaluate(gb)\n",
        "\n",
        "# print('Gradiente Boosting Classification Performance on validation set: Cross Validation Score = %0.4f' % gb_cross)\n",
        "# #Gradiente Boosting Classification Performance on validation set: Cross Validation Score = 0.9959"
      ],
      "execution_count": 0,
      "outputs": []
    },
    {
      "cell_type": "code",
      "metadata": {
        "id": "puxPgQ1s83Ci",
        "colab_type": "code",
        "colab": {}
      },
      "source": [
        "# # LogisticRegression\n",
        "# lg = LogisticRegression()\n",
        "# lg_cross = fit_and_evaluate(lg)\n",
        "\n",
        "# print('LogisticRegression Performance on validation set: Cross Validation Score = %0.4f' % lg_cross)"
      ],
      "execution_count": 0,
      "outputs": []
    },
    {
      "cell_type": "code",
      "metadata": {
        "id": "VEaotM6U9Wsr",
        "colab_type": "code",
        "colab": {}
      },
      "source": [
        "# # SVM\n",
        "# from sklearn.svm import SVC\n",
        "# svm = SVC()\n",
        "# svm_cross = fit_and_evaluate(svm)\n",
        "\n",
        "# print('SVM Performance on validation set: Cross Validation Score = %0.4f' % svm_cross)"
      ],
      "execution_count": 0,
      "outputs": []
    },
    {
      "cell_type": "code",
      "metadata": {
        "id": "wnUO8nFT96aT",
        "colab_type": "code",
        "colab": {}
      },
      "source": [
        "# import statsmodels.api as sm\n",
        "# glm = sm.GLM(y_train, x_train, sm.families.Binomial())\n",
        "\n",
        "# results = glm.fit()\n",
        "\n",
        "# print(roc_auc_score(y_val, results.predict(x_val)))"
      ],
      "execution_count": 0,
      "outputs": []
    },
    {
      "cell_type": "code",
      "metadata": {
        "id": "ZrKU--tDOA_D",
        "colab_type": "code",
        "colab": {}
      },
      "source": [
        ""
      ],
      "execution_count": 0,
      "outputs": []
    }
  ]
}